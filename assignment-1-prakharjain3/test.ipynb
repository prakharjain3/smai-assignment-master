{
 "cells": [
  {
   "cell_type": "code",
   "execution_count": 6,
   "metadata": {},
   "outputs": [],
   "source": [
    "import numpy as np\n",
    "from sklearn.datasets import make_multilabel_classification\n",
    "from sklearn.multioutput import MultiOutputClassifier\n",
    "from sklearn.linear_model import LogisticRegression\n",
    "from sklearn.tree import DecisionTreeClassifier\n",
    "X, y = make_multilabel_classification(n_classes=3, random_state=0)"
   ]
  },
  {
   "cell_type": "code",
   "execution_count": 11,
   "metadata": {},
   "outputs": [],
   "source": [
    "# Create an instance of DecisionTreeClassifier\n",
    "base_classifier = DecisionTreeClassifier()\n",
    "\n",
    "# Create an instance of MultiOutputClassifier using the DecisionTreeClassifier\n",
    "multi_output_clf = MultiOutputClassifier(base_classifier)\n",
    "\n",
    "# Fit the multi-output classifier to your data\n",
    "multi_output_clf.fit(X, y)\n",
    "\n",
    "\n",
    "X_test, y_test = make_multilabel_classification(n_classes=3, random_state=1)\n",
    "y_pred = multi_output_clf.predict(X_test)"
   ]
  }
 ],
 "metadata": {
  "kernelspec": {
   "display_name": "base",
   "language": "python",
   "name": "python3"
  },
  "language_info": {
   "codemirror_mode": {
    "name": "ipython",
    "version": 3
   },
   "file_extension": ".py",
   "mimetype": "text/x-python",
   "name": "python",
   "nbconvert_exporter": "python",
   "pygments_lexer": "ipython3",
   "version": "3.8.17"
  },
  "orig_nbformat": 4
 },
 "nbformat": 4,
 "nbformat_minor": 2
}
