{
 "cells": [
  {
   "cell_type": "code",
   "execution_count": null,
   "metadata": {},
   "outputs": [],
   "source": [
    "import numpy as np\n",
    "import matplotlib.pyplot as plt\n",
    "from sklearn.datasets import load_sample_image"
   ]
  },
  {
   "cell_type": "code",
   "execution_count": null,
   "metadata": {},
   "outputs": [],
   "source": [
    "# Load an RGB image dataset (e.g., the \"china\" image)\n",
    "china = load_sample_image(\"china.jpg\")"
   ]
  },
  {
   "cell_type": "code",
   "execution_count": null,
   "metadata": {},
   "outputs": [],
   "source": [
    "height, width, channels = china.shape\n",
    "image_2d = china.reshape(height * width, channels)"
   ]
  },
  {
   "cell_type": "code",
   "execution_count": null,
   "metadata": {},
   "outputs": [],
   "source": [
    "print(\"\\n\")\n",
    "image_2d.shape"
   ]
  },
  {
   "cell_type": "code",
   "execution_count": 23,
   "metadata": {},
   "outputs": [
    {
     "data": {
      "text/plain": [
       "array([144.71968311, 145.46839139, 140.91860729])"
      ]
     },
     "execution_count": 23,
     "metadata": {},
     "output_type": "execute_result"
    }
   ],
   "source": [
    "mean = np.mean(image_2d, axis=0)\n"
   ]
  },
  {
   "cell_type": "code",
   "execution_count": null,
   "metadata": {},
   "outputs": [],
   "source": [
    "import numpy as np\n",
    "import matplotlib.pyplot as plt\n",
    "\n",
    "# Reshape the images into a 2D array where each row represents a flattened image\n",
    "num_images, height, width, channels = X.shape\n",
    "flattened_images = X.reshape(num_images, -1)\n",
    "\n",
    "# Standardize the data (mean centering)\n",
    "mean = np.mean(flattened_images, axis=0)\n",
    "std_dev = np.std(flattened_images, axis=0)\n",
    "standardized_images = (flattened_images - mean) / std_dev\n",
    "\n",
    "# Calculate the covariance matrix\n",
    "covariance_matrix = np.cov(standardized_images, rowvar=False)\n",
    "\n",
    "# Perform eigenvalue decomposition\n",
    "eigenvalues, eigenvectors = np.linalg.eigh(covariance_matrix)\n",
    "\n",
    "# Sort eigenvectors by descending eigenvalues\n",
    "eigenvectors = eigenvectors[:, ::-1]\n",
    "\n",
    "# Select the top k eigenvectors to reduce dimensionality\n",
    "k = 2  # You can choose the number of principal components here\n",
    "top_eigenvectors = eigenvectors[:, :k]\n",
    "\n",
    "# Project the standardized data onto the top k eigenvectors\n",
    "projected_data = standardized_images.dot(top_eigenvectors)\n",
    "\n",
    "# Reconstruct the data from the projected data\n",
    "reconstructed_data = projected_data.dot(top_eigenvectors.T)\n",
    "\n",
    "# Denormalize the reconstructed data\n",
    "denormalized_data = (reconstructed_data * std_dev) + mean\n",
    "\n",
    "# Reshape the denormalized data back to the original image shape\n",
    "reconstructed_images = denormalized_data.reshape(num_images, height, width, channels)\n",
    "\n",
    "# Display the original and reconstructed images\n",
    "plt.figure(figsize=(10, 20))\n",
    "for i in range(5):  # Display the first 5 images\n",
    "    plt.subplot(5, 2, 2 * i + 1)\n",
    "    plt.imshow(X[i])\n",
    "    plt.title('Original Image')\n",
    "\n",
    "    plt.subplot(5, 2, 2 * i + 2)\n",
    "    plt.imshow(reconstructed_images[i].reshape(height, width, channels))\n",
    "    plt.title('Reconstructed Image')\n",
    "\n",
    "plt.tight_layout()\n",
    "plt.show()\n"
   ]
  }
 ],
 "metadata": {
  "kernelspec": {
   "display_name": "base",
   "language": "python",
   "name": "python3"
  },
  "language_info": {
   "codemirror_mode": {
    "name": "ipython",
    "version": 3
   },
   "file_extension": ".py",
   "mimetype": "text/x-python",
   "name": "python",
   "nbconvert_exporter": "python",
   "pygments_lexer": "ipython3",
   "version": "3.8.17"
  },
  "orig_nbformat": 4
 },
 "nbformat": 4,
 "nbformat_minor": 2
}
