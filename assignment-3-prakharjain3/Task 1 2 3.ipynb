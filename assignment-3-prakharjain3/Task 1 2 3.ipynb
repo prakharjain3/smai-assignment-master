{
 "cells": [
  {
   "cell_type": "markdown",
   "metadata": {},
   "source": [
    "# Task 1"
   ]
  },
  {
   "cell_type": "markdown",
   "metadata": {},
   "source": [
    "## Multinomial Logistic Regression\n",
    "\n",
    "Implement a Multinomial logistic regression model from scratch using numpy\n",
    "and pandas. You have to train this model on Wine Quality Dataset to classify\n",
    "a wine’s quality based on the values of its various contents"
   ]
  },
  {
   "cell_type": "code",
   "execution_count": null,
   "metadata": {},
   "outputs": [],
   "source": [
    "import os\n",
    "import wandb\n",
    "import numpy as np\n",
    "import pandas as pd\n",
    "import matplotlib.pyplot as plt\n",
    "import seaborn as sns\n",
    "from sklearn.model_selection import train_test_split\n",
    "from sklearn.decomposition import PCA\n",
    "from sklearn.preprocessing import StandardScaler\n",
    "from sklearn.metrics import accuracy_score\n",
    "from sklearn.metrics import classification_report\n",
    "from sklearn.preprocessing import MinMaxScaler"
   ]
  },
  {
   "cell_type": "markdown",
   "metadata": {},
   "source": [
    "### Task 1.1"
   ]
  },
  {
   "cell_type": "code",
   "execution_count": null,
   "metadata": {},
   "outputs": [],
   "source": [
    "PATH = './dataset/WineQT.csv'\n",
    "df = pd.read_csv(PATH)\n",
    "# drop the Id column\n",
    "df = df.drop('Id', axis=1)\n",
    "df.head()"
   ]
  },
  {
   "cell_type": "code",
   "execution_count": null,
   "metadata": {},
   "outputs": [],
   "source": [
    "# choose man std min and max from df.describe()\n",
    "df.describe().loc[['mean', 'std', 'min', 'max']]"
   ]
  },
  {
   "cell_type": "code",
   "execution_count": null,
   "metadata": {},
   "outputs": [],
   "source": [
    "plt.figure(figsize=(20, 20))\n",
    "plt.subplot(4, 3, 1)\n",
    "for i, col in enumerate(df.columns):\n",
    "    plt.subplot(4, 3, i+1)\n",
    "    sns.histplot(df[col], kde=True, color='blue', edgecolor='black')\n",
    "    plt.title(col).set_color('red')\n"
   ]
  },
  {
   "cell_type": "code",
   "execution_count": null,
   "metadata": {},
   "outputs": [],
   "source": [
    "# check for missing values\n",
    "df.isnull().sum()"
   ]
  },
  {
   "cell_type": "markdown",
   "metadata": {},
   "source": [
    "## No Missing Values"
   ]
  },
  {
   "cell_type": "code",
   "execution_count": null,
   "metadata": {},
   "outputs": [],
   "source": [
    "df.head()"
   ]
  },
  {
   "cell_type": "code",
   "execution_count": null,
   "metadata": {},
   "outputs": [],
   "source": [
    "# scaler = StandardScaler()\n",
    "# df_scaled = scaler.fit_transform(df.drop('quality', axis=1).values)\n",
    "# df_scaled = pd.DataFrame(df_scaled, columns=df.columns[:-1])\n",
    "# # df_scaled[:,:5]\n",
    "\n",
    "\n",
    "# df_scaled.describe()\n"
   ]
  },
  {
   "cell_type": "code",
   "execution_count": null,
   "metadata": {},
   "outputs": [],
   "source": [
    "# standardize the data except the target column 'quality'\n",
    "scaler = StandardScaler()\n",
    "df_scaled = scaler.fit_transform(df.drop('quality', axis=1))\n",
    "df_scaled = pd.DataFrame(df_scaled, columns=df.columns[:-1])\n",
    "\n",
    "quality_min = df['quality'].min()\n",
    "# print(quality_min)\n",
    "df_scaled['quality'] = df['quality'].apply(lambda x: x - quality_min)\n",
    "# df_scaled.head()\n",
    "df_scaled.describe().loc[['mean', 'std', 'min', 'max']]"
   ]
  },
  {
   "cell_type": "code",
   "execution_count": null,
   "metadata": {},
   "outputs": [],
   "source": [
    "plt.figure(figsize=(12, 6))\n",
    "corr = df_scaled.corr()\n",
    "sns.heatmap(corr, annot=True, cmap=plt.cm.Reds)"
   ]
  },
  {
   "cell_type": "code",
   "execution_count": null,
   "metadata": {},
   "outputs": [],
   "source": [
    "# plot the correlation matrix of df_scaled\n"
   ]
  },
  {
   "cell_type": "code",
   "execution_count": null,
   "metadata": {},
   "outputs": [],
   "source": [
    "df_scaled.shape"
   ]
  },
  {
   "cell_type": "code",
   "execution_count": null,
   "metadata": {},
   "outputs": [],
   "source": [
    "pca = PCA(n_components=11)\n",
    "df_pca = pca.fit_transform(df_scaled.drop('quality', axis=1))\n",
    "# df_pca = pca.transform(df_scaled.drop('quality', axis=1))\n",
    "df_pca = pd.DataFrame(df_pca, columns=df.columns[:-1])\n",
    "\n",
    "df_pca['quality'] = df_scaled['quality']\n",
    "\n",
    "# one hot encode the quality column\n",
    "df_pca = pd.get_dummies(df_pca, columns=['quality'])\n",
    "df_pca.head()\n",
    "# print the explained variance ratio\n",
    "print('Explained variance ratio: ', pca.explained_variance_ratio_)"
   ]
  },
  {
   "cell_type": "code",
   "execution_count": null,
   "metadata": {},
   "outputs": [],
   "source": [
    "X = df_pca[['PC1', 'PC2']].values\n",
    "y = df_pca[['quality_0', 'quality_1', 'quality_2', 'quality_3', 'quality_4', 'quality_5']].values\n",
    "X_train, X_test, y_train, y_test = train_test_split(X, y, test_size=0.3, random_state=42)\n",
    "X_test, X_val, y_test, y_val = train_test_split(X_test, y_test, test_size=0.5, random_state=42)"
   ]
  },
  {
   "cell_type": "code",
   "execution_count": null,
   "metadata": {},
   "outputs": [],
   "source": [
    "plt.scatter(X_train[:, 0], X_train[:, 1])"
   ]
  },
  {
   "cell_type": "code",
   "execution_count": null,
   "metadata": {},
   "outputs": [],
   "source": [
    "# X_train[:5]\n",
    "# y_train[:5]\n",
    "# X_test[:5]\n",
    "# y_test[:5]\n",
    "# y_test[y_test[:, 0] == 1].shape"
   ]
  },
  {
   "cell_type": "markdown",
   "metadata": {},
   "source": [
    "$\\mathbf{x^{(i)}} = [x_1^{(i)}, x_2^{(i)}, \\dots, x_f^{(i)}]$\n",
    "\n",
    "*foreach* $\\;\\;\\;\\mathbf{x}^{(i)}\\;\\; \\text{in input}\\;\\; [x^{(1)}, x^{(2)}, ..., x^{(m)}]$\n",
    "\n",
    "$\\;\\;\\;\\;\\;\\;\\;\\;\\;\\;\\;\\;\\;\\;y^{(i)} = \\sigma(w^T x^{(i)} + b)$"
   ]
  },
  {
   "cell_type": "markdown",
   "metadata": {},
   "source": [
    "First, we’ll pack all the input feature vectors for each input $\\mathbf{x^{(i)}}$ into a single input\n",
    "matrix $\\mathbf{X}$, where each row $i$ is a row vector consisting of the feature vector for input example $\\mathbf{x^{(i)}}$\n",
    "Assuming each example has f features and\n",
    "weights, X will therefore be a matrix of shape [m× f ], as follows:\n",
    "\n",
    "$$\n",
    "X =\n",
    "\\begin{bmatrix}\n",
    "x^{(1)}_1 & x^{(1)}_2 & \\ldots & x^{(1)}_f \\\\\n",
    "x^{(2)}_1 & x^{(2)}_2 & \\ldots & x^{(2)}_f \\\\\n",
    "\\vdots & \\vdots & \\ddots & \\vdots \\\\\n",
    "x^{(m)}_1 & x^{(m)}_2 & \\ldots & x^{(m)}_f \\\\\n",
    "\\end{bmatrix}\n",
    "$$\n",
    "\n",
    "Now if we introduce $b$ as a vector of length $m$ which consists of the scalar bias term $b$ repeated $m$ times, $b = [b,b,...,b]$, and $\\hat{y} = [\\hat{y}^{(1)}, \\hat{y}^{(2)},..., \\hat{y}^{(m)}]$ as the vector of outputs (one scalar $\\hat{y}^{(i)}$ for each input $x^{(i)}$ and its feature vector $x^{(i)}$), and represent the weight vector $w$ as a column vector, we can compute all the outputs with a single matrix multiplication and one addition:\n",
    "\n",
    "$$\\hat{y} = Xw + b$$\n",
    "\n",
    "You should convince yourself that Eq. 5.12 computes the same thing as our for-loop in Eq. 5.10. For example $\\hat{y}^{(1)}$, the first entry of the output vector $y$, will correctly be:\n",
    "\n",
    "$$\\hat{y}^{(1)} = [x^{(1)}_1, x^{(1)}_2,...,x^{(1)}_f] \\cdot [w_1,w_2,...,w_f] + b$$"
   ]
  },
  {
   "cell_type": "markdown",
   "metadata": {},
   "source": [
    "### Task 1.2"
   ]
  },
  {
   "cell_type": "markdown",
   "metadata": {},
   "source": [
    "### Using Mini Batch Stochastic Gradient Descent"
   ]
  },
  {
   "cell_type": "code",
   "execution_count": null,
   "metadata": {},
   "outputs": [],
   "source": [
    "class MultiomialLogisticRegression:\n",
    "    def __init__(self, lr=0.01, epochs=2000, batch_size=32):\n",
    "        self.lr = lr\n",
    "        self.epochs = epochs\n",
    "        self.batch_size = batch_size\n",
    "        \n",
    "    def init_params(self, X, y):\n",
    "        self.weights = np.random.randn(y.shape[1], X.shape[1]) # (no of classes, no of features)\n",
    "        self.k = y.shape[1]\n",
    "        self.n = X.shape[0]\n",
    "        self.m = X.shape[1]\n",
    "        \n",
    "    def fit(self, X, y, X_val=None, y_val=None):\n",
    "        X = np.insert(X, 0, 1, axis=1) # insert 1 for bias\n",
    "        \n",
    "        self.init_params(X, y)\n",
    "        \n",
    "        self.loss = []\n",
    "        self.accuracy = []\n",
    "        for i in range(self.epochs):\n",
    "            # Shuffle the data\n",
    "            indices = np.random.permutation(self.n)\n",
    "            X_shuffled = X[indices]\n",
    "            y_shuffled = y[indices]\n",
    "            \n",
    "            # Split the data into batches\n",
    "            for j in range(0, self.n, self.batch_size):\n",
    "                X_batch = X_shuffled[j:j+self.batch_size]\n",
    "                y_batch = y_shuffled[j:j+self.batch_size]\n",
    "                \n",
    "                # Calculate the gradient and update the weights\n",
    "                soft = self.softmax(self.calculate_z(X_batch))\n",
    "                grad = self.gradient(X_batch, y_batch, soft)\n",
    "                self.weights -= self.lr * grad\n",
    "            \n",
    "            # Calculate the loss and store it\n",
    "            soft = self.softmax(self.calculate_z(X))\n",
    "            self.loss.append(self.cross_entropy_loss(y, soft))\n",
    "            # print(f\"Epoch {i+1}: loss = {self.loss[-1]}\")\n",
    "            # print(X_val.shape)\n",
    "            if X_val is not None and y_val is not None:\n",
    "                y_pred = self.predict(X_val)\n",
    "                # print(y_pred[:5])\n",
    "                \n",
    "                # print(y_pred.shape)\n",
    "                self.accuracy.append(accuracy_score(y_true = np.argmax(y_val , axis=1), y_pred= y_pred))\n",
    "                # print(self.accuracy[-1])\n",
    "                # print(classification_report(y_true = np.argmax(y_val , axis=1), y_pred= y_pred, zero_division=1))\n",
    "                \n",
    "        # return self.weights, self.loss\n",
    "    \n",
    "    def softmax(self, z):\n",
    "        z -= np.max(z, axis=1, keepdims=True) # for numerical stability\n",
    "        return np.exp(z) / np.sum(np.exp(z), axis=1, keepdims=True)\n",
    "    \n",
    "    def calculate_z(self, X):\n",
    "        return np.dot(X, self.weights.T)\n",
    "    \n",
    "    def cross_entropy_loss(self, y, y_hat):\n",
    "        loss = -np.sum(y * np.log(y_hat)) / y.shape[0]\n",
    "        return loss\n",
    "    \n",
    "    def gradient(self, X, y, y_hat):\n",
    "        grad = np.dot((y_hat - y).T, X) / X.shape[0]\n",
    "        return grad\n",
    "\n",
    "    def predict(self, X):\n",
    "        X = np.insert(X, 0, 1, axis=1)\n",
    "        z = self.calculate_z(X)\n",
    "        y_pred = np.argmax(self.softmax(z), axis=1)\n",
    "        # print(y_pred.shape)\n",
    "        return y_pred\n",
    "\n",
    "MLR = MultiomialLogisticRegression(epochs=2000)\n",
    "MLR.fit(X_train, y_train, X_val, y_val)\n",
    "# MLR.fit(X_train, y_train)"
   ]
  },
  {
   "cell_type": "code",
   "execution_count": null,
   "metadata": {},
   "outputs": [],
   "source": [
    "sns.set_style('darkgrid')\n",
    "sns.lineplot(x=range(MLR.epochs), y=MLR.loss)\n",
    "plt.title('Loss vs Epochs')\n",
    "plt.xlabel('Epochs')\n",
    "plt.ylabel('Loss')\n",
    "plt.show()"
   ]
  },
  {
   "cell_type": "code",
   "execution_count": null,
   "metadata": {},
   "outputs": [],
   "source": [
    "if len(MLR.accuracy) > 0:\n",
    "    print(\"Maximum Accuracy: \", max(MLR.accuracy)*100)\n",
    "    sns.set_style(\"darkgrid\")\n",
    "    sns.lineplot(x=range(len(MLR.accuracy)), y=np.array(MLR.accuracy)*100)\n",
    "    plt.title(\"Accuracy over Epochs\")\n",
    "    plt.xlabel(\"Epoch\")\n",
    "    plt.ylabel(\"Accuracy\")\n",
    "    # plt.ylim([0, 100])\n",
    "    # plt.savefig(\"accuracy_plot.png\", dpi=300)\n",
    "    plt.show()"
   ]
  },
  {
   "cell_type": "code",
   "execution_count": null,
   "metadata": {},
   "outputs": [],
   "source": []
  },
  {
   "cell_type": "markdown",
   "metadata": {},
   "source": [
    "### Plot the decision boundary"
   ]
  },
  {
   "cell_type": "code",
   "execution_count": null,
   "metadata": {},
   "outputs": [],
   "source": [
    "# get the limits of PC1 and PC2\n",
    "\n",
    "x0_min, x0_max = X[:, 0].min() - 1, X[:, 0].max() + 1\n",
    "x1_min, x1_max = X[:, 1].min() - 1, X[:, 1].max() + 1\n",
    "h = 0.01\n",
    "\n",
    "xx0, xx1 = np.meshgrid(np.arange(x0_min, x0_max, h), np.arange(x1_min, x1_max, h))\n",
    "\n",
    "X_new = np.c_[xx0.ravel(), xx1.ravel()]\n",
    "# X_new.shape\n",
    "y_pred = MLR.predict(X_new)\n",
    "# y_pred.shape\n",
    "# y_pred[:5]\n",
    "# y_pred.reshape(xx0.shape).shape\n",
    "plt.contourf(xx0, xx1, y_pred.reshape(xx0.shape), cmap=plt.cm.Accent, alpha=0.4)\n",
    "scatter = plt.scatter(X_train[:, 0], X_train[:, 1], c=np.argmax(y_train, axis=1)+3, cmap=plt.cm.Accent, s=20)\n",
    "plt.xlim(xx0.min(), xx0.max())\n",
    "plt.ylim(xx1.min(), xx1.max())\n",
    "plt.legend(*scatter.legend_elements())\n",
    "plt.show()"
   ]
  },
  {
   "cell_type": "markdown",
   "metadata": {},
   "source": [
    "### Task 1.3"
   ]
  },
  {
   "cell_type": "code",
   "execution_count": null,
   "metadata": {},
   "outputs": [],
   "source": [
    "hyperparameter_defaults = dict(\n",
    "    lr=[0.01, 0.001, 0.0001],\n",
    "    epochs=[1000, 2000, 3000, 4000, 5000, 6000, 7000, 8000, 9000, 10000],\n",
    ")\n",
    "\n",
    "wandb.init(project=\"multinomial-logistic-regression\", name=\"Task 1 2 3.ipynb\", config=hyperparameter_defaults)\n",
    "\n",
    "config = wandb.config\n",
    "\n",
    "best_accuracy = 0\n",
    "for lr in config.lr:\n",
    "    for epochs in config.epochs:\n",
    "        MLR = MultiomialLogisticRegression(lr=lr, epochs=epochs)\n",
    "        MLR.fit(X_train, y_train, X_val, y_val)\n",
    "        if len(MLR.accuracy) > 0:\n",
    "            accuracy = max(MLR.accuracy)*100\n",
    "            if accuracy > best_accuracy:\n",
    "                best_accuracy = accuracy\n",
    "                best_lr = lr\n",
    "                best_epochs = epochs\n",
    "            wandb.log({\"lr\": lr, \"epochs\": epochs, \"accuracy\": accuracy, \"loss\": MLR.loss[-1]})\n"
   ]
  },
  {
   "cell_type": "code",
   "execution_count": null,
   "metadata": {},
   "outputs": [],
   "source": [
    "mlr = MultiomialLogisticRegression(lr=best_lr, epochs=best_epochs)\n",
    "mlr.fit(X_train, y_train)\n",
    "y_pred = mlr.predict(X_test)\n",
    "print(classification_report(y_true = np.argmax(y_test , axis=1)+3, y_pred= y_pred+3, zero_division=1))\n",
    "print(\"Accuracy: \", accuracy_score(y_true = np.argmax(y_test , axis=1)+3, y_pred= y_pred+3)*100)"
   ]
  },
  {
   "cell_type": "code",
   "execution_count": null,
   "metadata": {},
   "outputs": [],
   "source": [
    "print(np.unique(np.argmax(y_test , axis=1)+3))"
   ]
  },
  {
   "cell_type": "markdown",
   "metadata": {},
   "source": [
    "# Task 2"
   ]
  },
  {
   "cell_type": "code",
   "execution_count": 1,
   "metadata": {
    "notebookRunGroups": {
     "groupValue": "1"
    }
   },
   "outputs": [],
   "source": [
    "import numpy as np\n",
    "import matplotlib.pyplot as plt\n",
    "import pandas as pd\n",
    "from sklearn.preprocessing import StandardScaler\n",
    "from sklearn.model_selection import train_test_split\n",
    "from icecream import ic\n",
    "from sklearn.metrics import confusion_matrix, accuracy_score, mean_squared_error, r2_score"
   ]
  },
  {
   "cell_type": "code",
   "execution_count": 2,
   "metadata": {
    "notebookRunGroups": {
     "groupValue": "1"
    }
   },
   "outputs": [],
   "source": [
    "DEBUG = False"
   ]
  },
  {
   "cell_type": "markdown",
   "metadata": {},
   "source": [
    "# Classes For Activation Functions"
   ]
  },
  {
   "cell_type": "code",
   "execution_count": 3,
   "metadata": {
    "notebookRunGroups": {
     "groupValue": "1"
    }
   },
   "outputs": [],
   "source": [
    "class Sigmoid: # Sigmoid Function:\n",
    "    def __init__(self) -> None:\n",
    "        pass\n",
    "    def sigmoid(self, z):\n",
    "        return 1 / (1 + np.exp(-z))\n",
    "    def activation(self, z):\n",
    "        return self.sigmoid(z)\n",
    "    def activation_derivative(self, s):\n",
    "        # s = self.sigmoid(z)\n",
    "        return s * (1 - s)\n",
    "\n",
    "\n",
    "class Tanh: # Hyperbolic Tangent (Tanh) Function    \n",
    "    def __init__(self) -> None:\n",
    "        pass\n",
    "    def activation(self, z):\n",
    "        return np.tanh(z)\n",
    "    \n",
    "    def activation_derivative(self, t):\n",
    "        # t = np.tanh(z)\n",
    "        return 1 - t**2 \n",
    "\n",
    "        \n",
    "class ReLU: # Rectified Linear Unit (ReLU)\n",
    "    def __init__(self) -> None:\n",
    "        pass\n",
    "    def activation(self, z):\n",
    "        return np.maximum(0, z)\n",
    "    \n",
    "    def activation_derivative(self, z):\n",
    "        return (z > 0)\n",
    "\n",
    "class Identity:\n",
    "    def __init__(self):\n",
    "        pass\n",
    "\n",
    "    def activation(self, z):\n",
    "        # Linear activation function (identity function)\n",
    "        return z\n",
    "\n",
    "    def activation_derivative(self, z):\n",
    "        # Derivative of the linear activation function is always 1\n",
    "        # return np.ones_like(z)\n",
    "        pass\n",
    "    \n",
    "\n",
    "# Used for Classification\n",
    "class Softmax:\n",
    "    def __init__(self) -> None:\n",
    "        pass\n",
    "    def activation(self, z):\n",
    "        # print(z.shape)\n",
    "        exps = np.exp(z - np.max(z))\n",
    "        return exps / np.sum(exps, axis=1, keepdims=True)\n",
    "    \n",
    "    def activation_derivative(self, z):\n",
    "        pass"
   ]
  },
  {
   "cell_type": "markdown",
   "metadata": {},
   "source": [
    "# Classes For Loss Functions"
   ]
  },
  {
   "cell_type": "code",
   "execution_count": 4,
   "metadata": {
    "notebookRunGroups": {
     "groupValue": "1"
    }
   },
   "outputs": [],
   "source": [
    "class CrossEntropyLoss:\n",
    "    def __init__(self, epsilon = 1e-15) -> None:\n",
    "        self.epsilon = epsilon\n",
    "    def loss(self, y_pred, y_true):\n",
    "        epsilon = 1e-10\n",
    "        loss = -np.sum(y_true * np.log(y_pred+epsilon)) / y_true.shape[0]\n",
    "        return loss\n",
    "    def gradient(self, y_pred, y_true):\n",
    "\n",
    "        return ((y_pred - y_true) / y_true.shape[0])\n",
    "    \n",
    "class MSELoss:\n",
    "    def __init__(self):\n",
    "        pass\n",
    "\n",
    "    def loss(self, y_pred, y_true):\n",
    "        # Calculate the squared differences between predicted and true values\n",
    "        squared_errors = (y_pred - y_true) ** 2\n",
    "        # Compute the mean of squared errors\n",
    "        mse = np.mean(squared_errors)\n",
    "        return mse\n",
    "\n",
    "    def gradient(self, y_pred, y_true):\n",
    "        # Compute the gradient of the MSE loss\n",
    "        gradient = 2 * (y_pred - y_true) / len(y_true)\n",
    "        return gradient"
   ]
  },
  {
   "cell_type": "markdown",
   "metadata": {},
   "source": [
    "# Classes For Layers"
   ]
  },
  {
   "cell_type": "markdown",
   "metadata": {},
   "source": [
    "$$a^{(1)} = X$$\n",
    "$$\\hat{y} = a^{(L)} = \\sigma(z^{(L)})$$\n",
    "$$a^{(l) = \\sigma(z^{(l)})}$$\n",
    "$$z^{(l)} = W^{(l - 1)}$$\n",
    "$$\\delta^{(L)} = \\hat{y} - y$$"
   ]
  },
  {
   "cell_type": "markdown",
   "metadata": {},
   "source": [
    "### Recurrence Relation for $\\delta^{(l)}$\n",
    "\n",
    "$$\\delta^{(l)} = \\delta^{(l + 1)}(W^{(l)})^T \\odot \\sigma'(z^{(l)})$$"
   ]
  },
  {
   "cell_type": "markdown",
   "metadata": {},
   "source": [
    "\n",
    "$$\n",
    "   \\frac{\\partial J}{\\partial W^{(l)}} = \\frac{1}{m} \\delta^{(l + 1)}(a^{(l)})^T\n",
    "$$"
   ]
  },
  {
   "cell_type": "code",
   "execution_count": 5,
   "metadata": {
    "notebookRunGroups": {
     "groupValue": "1"
    }
   },
   "outputs": [],
   "source": [
    "class Layer:\n",
    "    # no_of_neurons is equal to the no_of_output of the layer\n",
    "    def __init__(self, no_of_inputs, no_of_neurons, activation) -> None:\n",
    "        # use xavier initialization\n",
    "        self.weights = np.random.randn(no_of_inputs, no_of_neurons) * np.sqrt(1 / no_of_inputs)\n",
    "        self.bias = np.zeros((1, no_of_neurons))\n",
    "        self.activation = activation\n",
    "        \n",
    "    def forward(self, inputs):\n",
    "        self.inputs = inputs\n",
    "        # self.inputs represents the activations of the previous layer a^{(l)}    \n",
    "\n",
    "        \n",
    "        self.a = self.activation.activation(np.dot(self.inputs, self.weights) + self.bias) \n",
    "        self.f_prime_z = self.activation.activation_derivative(self.a)\n",
    "        return self.a\n",
    "      \n",
    "    \n",
    "    def backward(self, delta, weights):\n",
    "        # Element-wise multiplication for the derivative of the activation function\n",
    "        \n",
    "        # 1/m is already included in the gradient of the loss function\n",
    "        delta = np.dot(delta, weights.T) * self.f_prime_z\n",
    "                \n",
    "        self.dj_dw = np.dot(self.inputs.T, delta)\n",
    "        self.dj_db = np.sum(delta, axis=0, keepdims=True)\n",
    "        \n",
    "        \n",
    "        return delta\n",
    "    \n",
    "    def update_weights(self, learning_rate):\n",
    "        # Update weights and bias\n",
    "        self.weights -= learning_rate * self.dj_dw\n",
    "        self.bias -= learning_rate * self.dj_db\n",
    "    \n",
    "class InputLayer:\n",
    "    def __init__(self, input_size) -> None: # input_size is unnecessary here\n",
    "        self.f_prime_z = None\n",
    "        self.weights = None\n",
    "    def forward(self, inputs):\n",
    "        # Forward pass for the input layer is just passing the input data\n",
    "        return inputs\n",
    "\n",
    "    def backward(self, delta):\n",
    "        # The input layer has no weights, so the gradient is not modified\n",
    "        return delta\n",
    "    def update_weights(self, learning_rate):\n",
    "        pass\n",
    "\n",
    "class OutputLayer:\n",
    "    def __init__(self, no_of_inputs, no_of_neurons, activation) -> None:\n",
    "        self.weights = np.random.randn(no_of_inputs, no_of_neurons) * np.sqrt(1 / no_of_inputs)\n",
    "        self.bias = np.zeros((1, no_of_neurons))\n",
    "        self.f_prime_z = None\n",
    "        self.activation = activation\n",
    "        # ic(activation)\n",
    "        \n",
    "        # ic(self.weights.shape)\n",
    "        \n",
    "        # if no_of_neurons == 1:\n",
    "        #     self.activation = Identity()\n",
    "        # else:\n",
    "        #     self.activation = Softmax()\n",
    "            \n",
    "    def forward(self, inputs):\n",
    "        self.inputs = inputs\n",
    "        # self.z = np.dot(self.inputs, self.weights)\n",
    "        # self.a = self.activation.activation(np.dot(self.inputs, self.weights))\n",
    "        self.a = self.activation.activation(np.dot(self.inputs, self.weights)+self.bias)\n",
    "        return self.a\n",
    "    \n",
    "    def backward(self, delta):\n",
    "        # grad_output is the gradient of the loss function with respect to the output of the layer\n",
    "        # The gradient of the loss with respect to the input of the layer\n",
    "        \n",
    "        # self.dzdW = inputs.T\n",
    "        # basically self.inputs.T is the same as self.dzdW\n",
    "        self.dj_dw = np.dot(self.inputs.T, delta)\n",
    "        self.dj_db = np.sum(delta, axis=0, keepdims=True)\n",
    "        \n",
    "        # grad_weights = np.dot(self.inputs.T, grad_output)\n",
    "        # grad_bias = np.sum(grad_output, axis=0, keepdims=True)\n",
    "\n",
    "        # The gradients of the loss with respect to the parameters of the layer\n",
    "        \n",
    "        # delta last layer\n",
    "        return delta\n",
    "    \n",
    "    def update_weights(self, learning_rate):\n",
    "        # Update weights and bias\n",
    "        self.weights -= learning_rate * self.dj_dw\n",
    "        self.bias -= learning_rate * self.dj_db\n",
    "    \n",
    "    # update will look something like this\n",
    "    # def update(self, learning_rate):\n",
    "    #     # Update weights and bias\n",
    "    #     self.weights -= learning_rate * dj_dw\n",
    "    #     self.bias -= learning_rate * self.grad_bias"
   ]
  },
  {
   "cell_type": "code",
   "execution_count": 27,
   "metadata": {
    "notebookRunGroups": {
     "groupValue": "1"
    }
   },
   "outputs": [],
   "source": [
    "class MLP:\n",
    "    def __init__(self, input_size, hidden_layer_sizes, output_size,\\\n",
    "                 activation_function, output_activation_function, optimizer, loss, learning_rate = 0.001) -> None:\n",
    "        \"\"\"\n",
    "        input_size: number of features in the input\n",
    "        \n",
    "        hidden_layer_sizes: list of number of neurons in each hidden layer\n",
    "        \n",
    "        output_size: number of classes in the output\n",
    "        \n",
    "        activation_function: list of activation function for each layer\n",
    "        \n",
    "        learning_rate: learning rate for gradient \n",
    "        \"\"\"\n",
    "        \n",
    "        self.act_dict = {\n",
    "            \"sigmoid\": Sigmoid(),\n",
    "            \"tanh\": Tanh(),\n",
    "            \"relu\": ReLU(),\n",
    "            \"identity\": Identity(),\n",
    "            \"softmax\": Softmax()\n",
    "        }\n",
    "        \n",
    "        \n",
    "        # # initial plan was to implement classes for the optimizers\n",
    "        # self.opt_dict = {\n",
    "        #     \"sgd\": SGD(),\n",
    "        #     \"bgd\": BGD(),\n",
    "        #     \"mbsgd\" : MBGD()\n",
    "        # }\n",
    "        \n",
    "                \n",
    "        for act in activation_function:\n",
    "            act = act.lower()\n",
    "            \n",
    "        self.optimizer = optimizer\n",
    "        self.output_activation_function = output_activation_function\n",
    "        \n",
    "        self.layers = []\n",
    "        # self.activation_function = []\n",
    "        self.learning_rate = learning_rate\n",
    "        self.loss = loss\n",
    "        \n",
    "        self.train_losses = []\n",
    "        self.val_losses = []\n",
    "        self.train_accuracies = []\n",
    "        self.val_accuracies = []\n",
    "        \n",
    "        self.train_rmse = []\n",
    "        self.val_rmse = []\n",
    "        self.train_mse = []\n",
    "        self.val_mse = []\n",
    "        self.train_r2_score = []\n",
    "        self.val_r2_score = []\n",
    "        \n",
    "        # self.y_pred = None\n",
    "\n",
    "        # initialize the input layer\n",
    "        self.layers.append(InputLayer(input_size))\n",
    "        \n",
    "        hidden_layer_sizes.insert(0, input_size)\n",
    "        # +1 for the ones we are inserting in X\n",
    "        activation_function.insert(0, None)\n",
    "        # ic(hidden_layer_sizes)\n",
    "        \n",
    "        self.hidden_layer_sizes = hidden_layer_sizes\n",
    "        self.activation_function = activation_function\n",
    "        \n",
    "        for i in range(1, len(hidden_layer_sizes)):\n",
    "            ic(i)\n",
    "            self.layers.append(Layer(no_of_inputs=hidden_layer_sizes[i-1],no_of_neurons= hidden_layer_sizes[i], activation=self.act_dict[activation_function[i]]))\n",
    "\n",
    "        self.layers.append(OutputLayer(hidden_layer_sizes[-1], output_size, self.act_dict[output_activation_function]))\n",
    "        # print(len(self.layers))\n",
    "    \n",
    "    def forward_propagation(self, x)-> None:\n",
    "        # Forward propagation\n",
    "        for layer in self.layers:\n",
    "            x = layer.forward(x)\n",
    "        return x\n",
    "        # return Softmax().activation(x)\n",
    "        # return x\n",
    "    \n",
    "    # def backward_propagation(self, x, y)-> None:\n",
    "    \n",
    "    def backward_propagation(self, y_pred, y_true)-> None:\n",
    "        # Forward propagation\n",
    "        # self.forward_propagation(x)\n",
    "        \n",
    "        # calculate the loss gradient with respect to the output of the last layer\n",
    "        # which is basically dj_dz for the output layer\n",
    "        # delta_L represents delta for the last layer\n",
    "        \n",
    "        delta_L = self.loss.gradient(y_pred, y_true)\n",
    "        # print(delta_L)\n",
    "        # grad is dj_dz for the output layer\n",
    "        # Backpropagation\n",
    "        delta = delta_L\n",
    "        # for layer in reversed(self.layers):\n",
    "        #     delta = layer.backward(delta)\n",
    "        # do the backword propagation for output layer explicitly and then the hidden layers and then for the input layer\n",
    "        delta = self.layers[-1].backward(delta)\n",
    "        # do the backword propagation for hidden layers\n",
    "        for i in range(len(self.layers) - 2, 0, -1):\n",
    "            delta = self.layers[i].backward(delta, self.layers[i+1].weights)\n",
    "        # do the backword propagation for input layer\n",
    "        delta = self.layers[0].backward(delta)\n",
    "    \n",
    "    def predict(self, x):\n",
    "        # Forward propagation\n",
    "        return self.forward_propagation(x)\n",
    "    \n",
    "    def update_weights(self):\n",
    "        for layer in self.layers:\n",
    "            layer.update_weights(self.learning_rate)\n",
    "        \n",
    "    \n",
    "    # Working version of train\n",
    "    # def train(self, X_train, y_train, X_val, y_val, epochs, batch_size):\n",
    "    #     self.train_losses = []\n",
    "    #     for epoch in range(epochs):\n",
    "    #         loss = []\n",
    "    #         for i in range(0, X_train.shape[0], batch_size):\n",
    "    #             X_batch = X_train[i:i+batch_size]\n",
    "    #             y_batch = y_train[i:i+batch_size]\n",
    "    #             y_pred = self.forward_propagation(X_batch)\n",
    "    #             self.backward_propagation(y_pred=y_pred, y_true=y_batch)\n",
    "    #             self.update_weights()\n",
    "    #             # calculate the loss\n",
    "    #             loss.append(self.loss.loss(y_pred, y_batch))\n",
    "    #         self.train_losses.append(np.mean(loss))\n",
    "    \n",
    "    def train(self, X_train, y_train, X_val, y_val, epochs, batch_size=None):\n",
    "        if self.optimizer == \"bgd\":\n",
    "            self.train_bgd(X_train, y_train, X_val, y_val, epochs)\n",
    "        if self.optimizer == \"sgd\":\n",
    "            self.train_sgd(X_train, y_train, X_val, y_val, epochs)\n",
    "        if self.optimizer == \"mbgd\":            \n",
    "            self.train_mbgd(X_train, y_train, X_val, y_val, epochs, batch_size)\n",
    "            \n",
    "    def accuracy_helper(self, y_pred, y_true):\n",
    "        return accuracy_score(y_true = np.argmax(y_true , axis=1), y_pred= np.argmax(y_pred, axis=1))\n",
    "        \n",
    "            \n",
    "    def train_sgd(self, X_train, y_train, X_val, y_val, epochs):\n",
    "        for epoch in range(epochs):\n",
    "            # generate a random index\n",
    "            for i in range(X_train.shape[0]):\n",
    "                k = np.random.randint(0, X_train.shape[0])\n",
    "                X_batch = X_train[k:k+1]\n",
    "                y_batch = y_train[k:k+1]\n",
    "                y_pred = self.forward_propagation(X_batch)\n",
    "                self.backward_propagation(y_pred=y_pred, y_true=y_batch)\n",
    "                self.update_weights()\n",
    "            # calculate the loss for the entire training set\n",
    "            y_pred_train = self.forward_propagation(X_train)\n",
    "            \n",
    "            loss_train = self.loss.loss(y_pred_train, y_train)\n",
    "            self.train_losses.append(loss_train)\n",
    "            if self.output_activation_function == \"softmax\":\n",
    "                acc_train = self.accuracy_helper(y_pred_train, y_train)\n",
    "                self.train_accuracies.append(acc_train)\n",
    "            elif self.output_activation_function == \"identity\":\n",
    "                # calculate RMSE MSE and R-Square\n",
    "                self.train_mse(mean_squared_error(y_train, y_pred_train))\n",
    "                self.train_rmse(np.sqrt(mean_squared_error(y_train, y_pred_train)))\n",
    "                self.train_r2_score(r2_score(y_train, y_pred_train))\n",
    "            \n",
    "            if X_val is not None and y_val is not None:\n",
    "                y_pred_val = self.forward_propagation(X_val)\n",
    "                \n",
    "                loss_val = self.loss.loss(y_pred_val, y_val)\n",
    "                self.val_losses.append(loss_val)\n",
    "                if self.output_activation_function == \"softmax\":\n",
    "                    val_acc = self.accuracy_helper(y_pred_val, y_val)\n",
    "                    self.val_accuracies.append(val_acc)\n",
    "                elif self.output_activation_function == \"identity\":\n",
    "                    self.val_mse(mean_squared_error(y_val, y_pred_val))\n",
    "                    self.val_rmse(np.sqrt(mean_squared_error(y_val, y_pred_val)))\n",
    "                    self.vaval_r2_score(r2_score(y_val, y_pred_val))\n",
    "                    \n",
    "        \n",
    "            \n",
    "    def train_bgd(self, X_train, y_train, X_val, y_val, epochs):\n",
    "        for epoch in range(epochs):\n",
    "            y_pred = self.forward_propagation(X_train)\n",
    "            self.backward_propagation(y_pred=y_pred, y_true=y_train)\n",
    "            self.update_weights()\n",
    "            # calculate the loss for the entire training set\n",
    "            y_pred_train = self.forward_propagation(X_train)\n",
    "            \n",
    "            loss_train = self.loss.loss(y_pred_train, y_train)\n",
    "            self.train_losses.append(loss_train)\n",
    "            if self.output_activation_function == \"softmax\":\n",
    "                train_acc = self.accuracy_helper(y_pred_train, y_train)\n",
    "                self.train_accuracies.append(train_acc)\n",
    "            elif self.output_activation_function == \"identity\":\n",
    "                # calculate RMSE MSE and R-Square\n",
    "                self.train_mse(mean_squared_error(y_train, y_pred_train))\n",
    "                self.train_rmse(np.sqrt(mean_squared_error(y_train, y_pred_train)))\n",
    "                self.train_r2_score(r2_score(y_train, y_pred_train))\n",
    "            \n",
    "            if X_val is not None and y_val is not None:\n",
    "                y_pred_val = self.forward_propagation(X_val)\n",
    "                \n",
    "                loss_val = self.loss.loss(y_pred_val, y_val)\n",
    "                self.val_losses.append(loss_val)\n",
    "                if self.output_activation_function == \"softmax\":\n",
    "                    val_acc = self.accuracy_helper(y_pred_val, y_val)\n",
    "                    self.val_accuracies.append(val_acc)\n",
    "                elif self.output_activation_function == \"identity\":\n",
    "                    self.val_mse(mean_squared_error(y_val, y_pred_val))\n",
    "                    self.val_rmse(np.sqrt(mean_squared_error(y_val, y_pred_val)))\n",
    "                    self.val_r2_score(r2_score(y_val, y_pred_val))\n",
    "            \n",
    "    \n",
    "    def train_mbgd(self, X_train, y_train, X_val, y_val, epochs, batch_size):\n",
    "        for epoch in range(epochs):\n",
    "            for i in range(0, X_train.shape[0], batch_size):\n",
    "                X_batch = X_train[i:i+batch_size]\n",
    "                y_batch = y_train[i:i+batch_size]\n",
    "                y_pred = self.forward_propagation(X_batch)\n",
    "                self.backward_propagation(y_pred=y_pred, y_true=y_batch)\n",
    "                self.update_weights()\n",
    "            # calculate the loss for the entire training set\n",
    "            y_pred_train = self.forward_propagation(X_train)\n",
    "            \n",
    "            loss_train = self.loss.loss(y_pred_train, y_train)\n",
    "            self.train_losses.append(loss_train)\n",
    "            if self.output_activation_function == \"softmax\":\n",
    "                train_acc = self.accuracy_helper(y_pred_train, y_train)\n",
    "                self.train_accuracies.append(train_acc)\n",
    "            elif self.output_activation_function == \"identity\":\n",
    "                # calculate RMSE MSE and R-Square\n",
    "                self.train_mse(mean_squared_error(y_train, y_pred_train))\n",
    "                self.train_rmse(np.sqrt(mean_squared_error(y_train, y_pred_train)))\n",
    "                self.train_r2_score(r2_score(y_train, y_pred_train))\n",
    "            \n",
    "            if X_val is not None and y_val is not None:\n",
    "                y_pred_val = self.forward_propagation(X_val)\n",
    "                loss_val = self.loss.loss(y_pred_val, y_val)\n",
    "                self.val_losses.append(loss_val)\n",
    "                if self.output_activation_function == \"softmax\":\n",
    "                    val_acc = self.accuracy_helper(y_pred_val, y_val)\n",
    "                    self.val_accuracies.append(val_acc)           \n",
    "                elif self.output_activation_function == \"identity\":\n",
    "                    self.val_mse(mean_squared_error(y_val, y_pred_val))\n",
    "                    self.val_rmse(np.sqrt(mean_squared_error(y_val, y_pred_val)))\n",
    "                    self.val_r2_score(r2_score(y_val, y_pred_val))\n",
    "            \n",
    "            \n"
   ]
  },
  {
   "cell_type": "code",
   "execution_count": 28,
   "metadata": {
    "notebookRunGroups": {
     "groupValue": "1"
    }
   },
   "outputs": [
    {
     "data": {
      "text/html": [
       "<div>\n",
       "<style scoped>\n",
       "    .dataframe tbody tr th:only-of-type {\n",
       "        vertical-align: middle;\n",
       "    }\n",
       "\n",
       "    .dataframe tbody tr th {\n",
       "        vertical-align: top;\n",
       "    }\n",
       "\n",
       "    .dataframe thead th {\n",
       "        text-align: right;\n",
       "    }\n",
       "</style>\n",
       "<table border=\"1\" class=\"dataframe\">\n",
       "  <thead>\n",
       "    <tr style=\"text-align: right;\">\n",
       "      <th></th>\n",
       "      <th>fixed acidity</th>\n",
       "      <th>volatile acidity</th>\n",
       "      <th>citric acid</th>\n",
       "      <th>residual sugar</th>\n",
       "      <th>chlorides</th>\n",
       "      <th>free sulfur dioxide</th>\n",
       "      <th>total sulfur dioxide</th>\n",
       "      <th>density</th>\n",
       "      <th>pH</th>\n",
       "      <th>sulphates</th>\n",
       "      <th>alcohol</th>\n",
       "      <th>quality</th>\n",
       "    </tr>\n",
       "  </thead>\n",
       "  <tbody>\n",
       "    <tr>\n",
       "      <th>0</th>\n",
       "      <td>7.4</td>\n",
       "      <td>0.70</td>\n",
       "      <td>0.00</td>\n",
       "      <td>1.9</td>\n",
       "      <td>0.076</td>\n",
       "      <td>11.0</td>\n",
       "      <td>34.0</td>\n",
       "      <td>0.9978</td>\n",
       "      <td>3.51</td>\n",
       "      <td>0.56</td>\n",
       "      <td>9.4</td>\n",
       "      <td>5</td>\n",
       "    </tr>\n",
       "    <tr>\n",
       "      <th>1</th>\n",
       "      <td>7.8</td>\n",
       "      <td>0.88</td>\n",
       "      <td>0.00</td>\n",
       "      <td>2.6</td>\n",
       "      <td>0.098</td>\n",
       "      <td>25.0</td>\n",
       "      <td>67.0</td>\n",
       "      <td>0.9968</td>\n",
       "      <td>3.20</td>\n",
       "      <td>0.68</td>\n",
       "      <td>9.8</td>\n",
       "      <td>5</td>\n",
       "    </tr>\n",
       "    <tr>\n",
       "      <th>2</th>\n",
       "      <td>7.8</td>\n",
       "      <td>0.76</td>\n",
       "      <td>0.04</td>\n",
       "      <td>2.3</td>\n",
       "      <td>0.092</td>\n",
       "      <td>15.0</td>\n",
       "      <td>54.0</td>\n",
       "      <td>0.9970</td>\n",
       "      <td>3.26</td>\n",
       "      <td>0.65</td>\n",
       "      <td>9.8</td>\n",
       "      <td>5</td>\n",
       "    </tr>\n",
       "    <tr>\n",
       "      <th>3</th>\n",
       "      <td>11.2</td>\n",
       "      <td>0.28</td>\n",
       "      <td>0.56</td>\n",
       "      <td>1.9</td>\n",
       "      <td>0.075</td>\n",
       "      <td>17.0</td>\n",
       "      <td>60.0</td>\n",
       "      <td>0.9980</td>\n",
       "      <td>3.16</td>\n",
       "      <td>0.58</td>\n",
       "      <td>9.8</td>\n",
       "      <td>6</td>\n",
       "    </tr>\n",
       "    <tr>\n",
       "      <th>4</th>\n",
       "      <td>7.4</td>\n",
       "      <td>0.70</td>\n",
       "      <td>0.00</td>\n",
       "      <td>1.9</td>\n",
       "      <td>0.076</td>\n",
       "      <td>11.0</td>\n",
       "      <td>34.0</td>\n",
       "      <td>0.9978</td>\n",
       "      <td>3.51</td>\n",
       "      <td>0.56</td>\n",
       "      <td>9.4</td>\n",
       "      <td>5</td>\n",
       "    </tr>\n",
       "  </tbody>\n",
       "</table>\n",
       "</div>"
      ],
      "text/plain": [
       "   fixed acidity  volatile acidity  citric acid  residual sugar  chlorides  \\\n",
       "0            7.4              0.70         0.00             1.9      0.076   \n",
       "1            7.8              0.88         0.00             2.6      0.098   \n",
       "2            7.8              0.76         0.04             2.3      0.092   \n",
       "3           11.2              0.28         0.56             1.9      0.075   \n",
       "4            7.4              0.70         0.00             1.9      0.076   \n",
       "\n",
       "   free sulfur dioxide  total sulfur dioxide  density    pH  sulphates  \\\n",
       "0                 11.0                  34.0   0.9978  3.51       0.56   \n",
       "1                 25.0                  67.0   0.9968  3.20       0.68   \n",
       "2                 15.0                  54.0   0.9970  3.26       0.65   \n",
       "3                 17.0                  60.0   0.9980  3.16       0.58   \n",
       "4                 11.0                  34.0   0.9978  3.51       0.56   \n",
       "\n",
       "   alcohol  quality  \n",
       "0      9.4        5  \n",
       "1      9.8        5  \n",
       "2      9.8        5  \n",
       "3      9.8        6  \n",
       "4      9.4        5  "
      ]
     },
     "execution_count": 28,
     "metadata": {},
     "output_type": "execute_result"
    }
   ],
   "source": [
    "PATH = './dataset/WineQT.csv'\n",
    "df = pd.read_csv(PATH)\n",
    "# drop the Id column\n",
    "df = df.drop('Id', axis=1)\n",
    "df.head()"
   ]
  },
  {
   "cell_type": "code",
   "execution_count": 29,
   "metadata": {
    "notebookRunGroups": {
     "groupValue": "1"
    }
   },
   "outputs": [],
   "source": [
    "# standardize the data except the target column 'quality'\n",
    "scaler = StandardScaler()\n",
    "df_scaled = scaler.fit_transform(df.drop('quality', axis=1))\n",
    "df_scaled = pd.DataFrame(df_scaled, columns=df.columns[:-1])\n",
    "\n",
    "quality_min = df['quality'].min()\n",
    "# print(quality_min)\n",
    "df_scaled['quality'] = df['quality'].apply(lambda x: x - quality_min)\n",
    "# df_scaled.head()\n",
    "# df_scaled.describe()"
   ]
  },
  {
   "cell_type": "code",
   "execution_count": 30,
   "metadata": {
    "notebookRunGroups": {
     "groupValue": "1"
    }
   },
   "outputs": [
    {
     "name": "stdout",
     "output_type": "stream",
     "text": [
      "(1143, 11)\n",
      "(1143, 6)\n"
     ]
    }
   ],
   "source": [
    "df_scaled = pd.get_dummies(df_scaled, columns=['quality'])\n",
    "\n",
    "X = df_scaled.drop(['quality_0', 'quality_1', 'quality_2', 'quality_3', \\\n",
    "                    'quality_4', 'quality_5'], axis=1)\\\n",
    "                        .values\n",
    "\n",
    "y = df_scaled[['quality_0', 'quality_1', 'quality_2', 'quality_3',\\\n",
    "    'quality_4', 'quality_5']]\\\n",
    "        .values\n",
    "        \n",
    "print(X.shape)\n",
    "print(y.shape)"
   ]
  },
  {
   "cell_type": "code",
   "execution_count": 31,
   "metadata": {
    "notebookRunGroups": {
     "groupValue": "1"
    }
   },
   "outputs": [],
   "source": [
    "# split x into train, test and val set\n",
    "X_train, X_test, y_train, y_test = train_test_split(X, y, test_size=0.3, random_state=42)\n",
    "X_test, X_val, y_test, y_val = train_test_split(X_test, y_test, test_size=0.5, random_state=42)"
   ]
  },
  {
   "cell_type": "markdown",
   "metadata": {},
   "source": [
    "### For Classification\n",
    "output_size > 1\n",
    "\n",
    "loss function -> cross entropy loss function"
   ]
  },
  {
   "cell_type": "code",
   "execution_count": 33,
   "metadata": {},
   "outputs": [],
   "source": [
    "input_size = X.shape[1]\n",
    "output_size = y.shape[1]"
   ]
  },
  {
   "cell_type": "code",
   "execution_count": 169,
   "metadata": {
    "notebookRunGroups": {
     "groupValue": "1"
    }
   },
   "outputs": [
    {
     "name": "stderr",
     "output_type": "stream",
     "text": [
      "ic| i: 1\n",
      "ic| i: 2\n"
     ]
    },
    {
     "data": {
      "image/png": "[encoded data removed]",
      "text/plain": [
       "<Figure size 640x480 with 1 Axes>"
      ]
     },
     "metadata": {},
     "output_type": "display_data"
    }
   ],
   "source": [
    "\n",
    "\n",
    "# possible values for activation functions = \"tanh\", \"sigmoid\", \"relu\", \"identity\", \"softmax\" \n",
    "#                                                                   for regression , for classification\n",
    "# \n",
    "# possible values for optimizer = \"sgd\", \"bgd\", \"mbgd\"\n",
    "\n",
    "\n",
    "# batch_size is only needed when optimizer is \"mbgd\"\n",
    "\n",
    "# Mini-Batch Gradient Descent\n",
    "# mbgd\n",
    "# mlp = MLP(input_size=input_size, hidden_layer_sizes=[32, 32], output_size=output_size, \\\n",
    "#                     activation_function=[\"relu\", \"relu\"], output_activation_function=\"softmax\",\\\n",
    "#                         optimizer=\"mbgd\", loss=CrossEntropyLoss(), learning_rate=0.01)\n",
    "# mlp.train(X_train, y_train, X_val, y_val, epochs=10000, batch_size=32)\n",
    "\n",
    "# Stochastic Gradient Descent\n",
    "# sgd\n",
    "# mlp = MLP(input_size=input_size, hidden_layer_sizes=[32, 32], output_size=output_size, \\\n",
    "#                     activation_function=[\"relu\", \"relu\"], output_activation_function=\"softmax\",\\\n",
    "#                         optimizer=\"sgd\", loss=CrossEntropyLoss(), learning_rate=0.01)\n",
    "# mlp.train(X_train, y_train, X_val, y_val, epochs=1000)\n",
    "\n",
    "# Batch Gradient Descent\n",
    "# bgd\n",
    "mlp = MLP(input_size=input_size, hidden_layer_sizes=[32, 32], output_size=output_size, \\\n",
    "                    activation_function=[\"relu\", \"relu\"], output_activation_function=\"softmax\",\\\n",
    "                        optimizer=\"bgd\", loss=CrossEntropyLoss(), learning_rate=0.01)\n",
    "mlp.train(X_train, y_train, X_val, y_val, epochs=2000)\n",
    "\n",
    "# print(len(mlp.hidden_layer_sizes))\n",
    "\n",
    "# print(len(mlp.layers))\n",
    "\n",
    "\n",
    "plt.plot(range(1, len(mlp.train_losses) + 1), mlp.train_losses, color='b', label='Training Loss')\n",
    "plt.plot(range(1, len(mlp.val_losses) + 1), mlp.val_losses, color='r', label='Validation Loss')\n",
    "plt.xlabel('Epochs')\n",
    "plt.ylabel('Loss')\n",
    "plt.legend()\n",
    "plt.show()"
   ]
  },
  {
   "cell_type": "markdown",
   "metadata": {},
   "source": [
    "#### Model Tuning and Hyperparameters"
   ]
  },
  {
   "cell_type": "code",
   "execution_count": 15,
   "metadata": {
    "notebookRunGroups": {
     "groupValue": "1"
    }
   },
   "outputs": [
    {
     "data": {
      "text/html": [
       "Finishing last run (ID:mqcmrh1i) before initializing another..."
      ],
      "text/plain": [
       "<IPython.core.display.HTML object>"
      ]
     },
     "metadata": {},
     "output_type": "display_data"
    },
    {
     "data": {
      "text/html": [
       "Waiting for W&B process to finish... <strong style=\"color:green\">(success).</strong>"
      ],
      "text/plain": [
       "<IPython.core.display.HTML object>"
      ]
     },
     "metadata": {},
     "output_type": "display_data"
    },
    {
     "name": "stderr",
     "output_type": "stream",
     "text": [
      "wandb: WARNING Source type is set to 'repo' but some required information is missing from the environment. A job will not be created from this run. See https://docs.wandb.ai/guides/launch/create-job\n"
     ]
    },
    {
     "data": {
      "application/vnd.jupyter.widget-view+json": {
       "model_id": "5420f82a51e6474d8337105a2fa7d23e",
       "version_major": 2,
       "version_minor": 0
      },
      "text/plain": [
       "VBox(children=(Label(value='0.002 MB of 0.006 MB uploaded (0.000 MB deduped)\\r'), FloatProgress(value=0.448441…"
      ]
     },
     "metadata": {},
     "output_type": "display_data"
    },
    {
     "data": {
      "text/html": [
       " View run <strong style=\"color:#cdcd00\">confused-fire-90</strong> at: <a href='https://wandb.ai/prakhar-jain/multi-layer-perceptron/runs/mqcmrh1i' target=\"_blank\">https://wandb.ai/prakhar-jain/multi-layer-perceptron/runs/mqcmrh1i</a><br/>Synced 6 W&B file(s), 0 media file(s), 0 artifact file(s) and 0 other file(s)"
      ],
      "text/plain": [
       "<IPython.core.display.HTML object>"
      ]
     },
     "metadata": {},
     "output_type": "display_data"
    },
    {
     "data": {
      "text/html": [
       "Find logs at: <code>./wandb/run-20231015_230057-mqcmrh1i/logs</code>"
      ],
      "text/plain": [
       "<IPython.core.display.HTML object>"
      ]
     },
     "metadata": {},
     "output_type": "display_data"
    },
    {
     "data": {
      "text/html": [
       "Successfully finished last run (ID:mqcmrh1i). Initializing new run:<br/>"
      ],
      "text/plain": [
       "<IPython.core.display.HTML object>"
      ]
     },
     "metadata": {},
     "output_type": "display_data"
    },
    {
     "data": {
      "application/vnd.jupyter.widget-view+json": {
       "model_id": "1595f202334245b9ae410bedacfd8cdb",
       "version_major": 2,
       "version_minor": 0
      },
      "text/plain": [
       "VBox(children=(Label(value='Waiting for wandb.init()...\\r'), FloatProgress(value=0.011113081055615719, max=1.0…"
      ]
     },
     "metadata": {},
     "output_type": "display_data"
    },
    {
     "data": {
      "text/html": [
       "wandb version 0.15.12 is available!  To upgrade, please run:\n",
       " $ pip install wandb --upgrade"
      ],
      "text/plain": [
       "<IPython.core.display.HTML object>"
      ]
     },
     "metadata": {},
     "output_type": "display_data"
    },
    {
     "data": {
      "text/html": [
       "Tracking run with wandb version 0.15.11"
      ],
      "text/plain": [
       "<IPython.core.display.HTML object>"
      ]
     },
     "metadata": {},
     "output_type": "display_data"
    },
    {
     "data": {
      "text/html": [
       "Run data is saved locally in <code>/home/prakhar/Desktop/assignment-3-prakharjain3/wandb/run-20231015_230119-559ymirm</code>"
      ],
      "text/plain": [
       "<IPython.core.display.HTML object>"
      ]
     },
     "metadata": {},
     "output_type": "display_data"
    },
    {
     "data": {
      "text/html": [
       "Syncing run <strong><a href='https://wandb.ai/prakhar-jain/multi-layer-perceptron/runs/559ymirm' target=\"_blank\">swift-energy-91</a></strong> to <a href='https://wandb.ai/prakhar-jain/multi-layer-perceptron' target=\"_blank\">Weights & Biases</a> (<a href='https://wandb.me/run' target=\"_blank\">docs</a>)<br/>"
      ],
      "text/plain": [
       "<IPython.core.display.HTML object>"
      ]
     },
     "metadata": {},
     "output_type": "display_data"
    },
    {
     "data": {
      "text/html": [
       " View project at <a href='https://wandb.ai/prakhar-jain/multi-layer-perceptron' target=\"_blank\">https://wandb.ai/prakhar-jain/multi-layer-perceptron</a>"
      ],
      "text/plain": [
       "<IPython.core.display.HTML object>"
      ]
     },
     "metadata": {},
     "output_type": "display_data"
    },
    {
     "data": {
      "text/html": [
       " View run at <a href='https://wandb.ai/prakhar-jain/multi-layer-perceptron/runs/559ymirm' target=\"_blank\">https://wandb.ai/prakhar-jain/multi-layer-perceptron/runs/559ymirm</a>"
      ],
      "text/plain": [
       "<IPython.core.display.HTML object>"
      ]
     },
     "metadata": {},
     "output_type": "display_data"
    },
    {
     "name": "stderr",
     "output_type": "stream",
     "text": [
      "ic| i: 1\n",
      "ic| i: 2\n"
     ]
    },
    {
     "data": {
      "text/html": [
       "Waiting for W&B process to finish... <strong style=\"color:green\">(success).</strong>"
      ],
      "text/plain": [
       "<IPython.core.display.HTML object>"
      ]
     },
     "metadata": {},
     "output_type": "display_data"
    },
    {
     "name": "stderr",
     "output_type": "stream",
     "text": [
      "wandb: WARNING Source type is set to 'repo' but some required information is missing from the environment. A job will not be created from this run. See https://docs.wandb.ai/guides/launch/create-job\n"
     ]
    },
    {
     "data": {
      "application/vnd.jupyter.widget-view+json": {
       "model_id": "1f64c81c805d495db04868daa890812c",
       "version_major": 2,
       "version_minor": 0
      },
      "text/plain": [
       "VBox(children=(Label(value='0.003 MB of 0.003 MB uploaded (0.000 MB deduped)\\r'), FloatProgress(value=1.0, max…"
      ]
     },
     "metadata": {},
     "output_type": "display_data"
    },
    {
     "data": {
      "text/html": [
       "<style>\n",
       "    table.wandb td:nth-child(1) { padding: 0 10px; text-align: left ; width: auto;} td:nth-child(2) {text-align: left ; width: 100%}\n",
       "    .wandb-row { display: flex; flex-direction: row; flex-wrap: wrap; justify-content: flex-start; width: 100% }\n",
       "    .wandb-col { display: flex; flex-direction: column; flex-basis: 100%; flex: 1; padding: 10px; }\n",
       "    </style>\n",
       "<div class=\"wandb-row\"><div class=\"wandb-col\"><h3>Run history:</h3><br/><table class=\"wandb\"><tr><td>Training Accuracy</td><td>▁▅▅▅▆▇▇▇▇▇▇▇▇▇▇▇▇▇▇▇▇▇▇▇█▇▇███▇██████▇██</td></tr><tr><td>Training Loss</td><td>█▇▅▄▃▃▃▃▃▃▃▂▂▂▂▂▂▂▂▂▂▂▂▂▂▂▂▂▂▁▁▁▁▁▁▁▁▁▁▁</td></tr><tr><td>Validation Accuracy</td><td>▁▅▃▆▆▇▇▇█▇█████▇▇▇▇▇▆▇▇▇▆▇▇▇▇▆▆▇▇▅▆▆▆▆▆▅</td></tr><tr><td>Validation Loss</td><td>█▇▄▃▂▂▂▂▁▁▁▁▁▁▂▁▁▁▁▁▁▁▁▁▁▁▁▁▁▁▁▁▁▁▁▁▁▁▁▁</td></tr></table><br/></div><div class=\"wandb-col\"><h3>Run summary:</h3><br/><table class=\"wandb\"><tr><td>Training Accuracy</td><td>0.6375</td></tr><tr><td>Training Loss</td><td>0.8671</td></tr><tr><td>Validation Accuracy</td><td>0.59302</td></tr><tr><td>Validation Loss</td><td>0.95303</td></tr></table><br/></div></div>"
      ],
      "text/plain": [
       "<IPython.core.display.HTML object>"
      ]
     },
     "metadata": {},
     "output_type": "display_data"
    },
    {
     "data": {
      "text/html": [
       " View run <strong style=\"color:#cdcd00\">swift-energy-91</strong> at: <a href='https://wandb.ai/prakhar-jain/multi-layer-perceptron/runs/559ymirm' target=\"_blank\">https://wandb.ai/prakhar-jain/multi-layer-perceptron/runs/559ymirm</a><br/>Synced 6 W&B file(s), 0 media file(s), 0 artifact file(s) and 0 other file(s)"
      ],
      "text/plain": [
       "<IPython.core.display.HTML object>"
      ]
     },
     "metadata": {},
     "output_type": "display_data"
    },
    {
     "data": {
      "text/html": [
       "Find logs at: <code>./wandb/run-20231015_230119-559ymirm/logs</code>"
      ],
      "text/plain": [
       "<IPython.core.display.HTML object>"
      ]
     },
     "metadata": {},
     "output_type": "display_data"
    },
    {
     "data": {
      "application/vnd.jupyter.widget-view+json": {
       "model_id": "e2f11cf856094c99a41bb576caac21d8",
       "version_major": 2,
       "version_minor": 0
      },
      "text/plain": [
       "VBox(children=(Label(value='Waiting for wandb.init()...\\r'), FloatProgress(value=0.011113304611030293, max=1.0…"
      ]
     },
     "metadata": {},
     "output_type": "display_data"
    },
    {
     "data": {
      "text/html": [
       "wandb version 0.15.12 is available!  To upgrade, please run:\n",
       " $ pip install wandb --upgrade"
      ],
      "text/plain": [
       "<IPython.core.display.HTML object>"
      ]
     },
     "metadata": {},
     "output_type": "display_data"
    },
    {
     "data": {
      "text/html": [
       "Tracking run with wandb version 0.15.11"
      ],
      "text/plain": [
       "<IPython.core.display.HTML object>"
      ]
     },
     "metadata": {},
     "output_type": "display_data"
    },
    {
     "data": {
      "text/html": [
       "Run data is saved locally in <code>/home/prakhar/Desktop/assignment-3-prakharjain3/wandb/run-20231015_230304-4amv1zqh</code>"
      ],
      "text/plain": [
       "<IPython.core.display.HTML object>"
      ]
     },
     "metadata": {},
     "output_type": "display_data"
    },
    {
     "data": {
      "text/html": [
       "Syncing run <strong><a href='https://wandb.ai/prakhar-jain/multi-layer-perceptron/runs/4amv1zqh' target=\"_blank\">balmy-dragon-92</a></strong> to <a href='https://wandb.ai/prakhar-jain/multi-layer-perceptron' target=\"_blank\">Weights & Biases</a> (<a href='https://wandb.me/run' target=\"_blank\">docs</a>)<br/>"
      ],
      "text/plain": [
       "<IPython.core.display.HTML object>"
      ]
     },
     "metadata": {},
     "output_type": "display_data"
    },
    {
     "data": {
      "text/html": [
       " View project at <a href='https://wandb.ai/prakhar-jain/multi-layer-perceptron' target=\"_blank\">https://wandb.ai/prakhar-jain/multi-layer-perceptron</a>"
      ],
      "text/plain": [
       "<IPython.core.display.HTML object>"
      ]
     },
     "metadata": {},
     "output_type": "display_data"
    },
    {
     "data": {
      "text/html": [
       " View run at <a href='https://wandb.ai/prakhar-jain/multi-layer-perceptron/runs/4amv1zqh' target=\"_blank\">https://wandb.ai/prakhar-jain/multi-layer-perceptron/runs/4amv1zqh</a>"
      ],
      "text/plain": [
       "<IPython.core.display.HTML object>"
      ]
     },
     "metadata": {},
     "output_type": "display_data"
    },
    {
     "name": "stderr",
     "output_type": "stream",
     "text": [
      "ic| i: 1\n",
      "ic| i: 2\n"
     ]
    },
    {
     "data": {
      "text/html": [
       "Waiting for W&B process to finish... <strong style=\"color:green\">(success).</strong>"
      ],
      "text/plain": [
       "<IPython.core.display.HTML object>"
      ]
     },
     "metadata": {},
     "output_type": "display_data"
    },
    {
     "name": "stderr",
     "output_type": "stream",
     "text": [
      "wandb: WARNING Source type is set to 'repo' but some required information is missing from the environment. A job will not be created from this run. See https://docs.wandb.ai/guides/launch/create-job\n"
     ]
    },
    {
     "data": {
      "application/vnd.jupyter.widget-view+json": {
       "model_id": "baa567a8d9fb49f09d08e66b50d2e65e",
       "version_major": 2,
       "version_minor": 0
      },
      "text/plain": [
       "VBox(children=(Label(value='0.003 MB of 0.003 MB uploaded (0.000 MB deduped)\\r'), FloatProgress(value=1.0, max…"
      ]
     },
     "metadata": {},
     "output_type": "display_data"
    },
    {
     "data": {
      "text/html": [
       "<style>\n",
       "    table.wandb td:nth-child(1) { padding: 0 10px; text-align: left ; width: auto;} td:nth-child(2) {text-align: left ; width: 100%}\n",
       "    .wandb-row { display: flex; flex-direction: row; flex-wrap: wrap; justify-content: flex-start; width: 100% }\n",
       "    .wandb-col { display: flex; flex-direction: column; flex-basis: 100%; flex: 1; padding: 10px; }\n",
       "    </style>\n",
       "<div class=\"wandb-row\"><div class=\"wandb-col\"><h3>Run history:</h3><br/><table class=\"wandb\"><tr><td>Training Accuracy</td><td>▁▄▄▅▆▅▆▆▆▆▇▆▆▇▆▆▅▇▆▇▇▇▇█▇▇▇▆▇█▇█▇▇▇█▇███</td></tr><tr><td>Training Loss</td><td>█▆▄▄▄▄▃▃▃▃▃▃▃▃▃▃▃▂▂▂▂▂▂▂▂▂▂▂▂▂▂▂▂▁▁▁▁▁▁▁</td></tr><tr><td>Validation Accuracy</td><td>▁▆▄▇▅▆▇█▆▇▇█▇█▇▇▇▇█▇▇▇▇▆▇▇▇▅▇▆▆▆▇▆▆▇▇▇▅▆</td></tr><tr><td>Validation Loss</td><td>█▅▃▂▂▂▂▂▂▂▁▂▂▁▁▁▂▁▂▁▁▁▁▁▁▁▁▁▁▁▁▁▁▁▁▁▂▂▂▂</td></tr></table><br/></div><div class=\"wandb-col\"><h3>Run summary:</h3><br/><table class=\"wandb\"><tr><td>Training Accuracy</td><td>0.64125</td></tr><tr><td>Training Loss</td><td>0.84735</td></tr><tr><td>Validation Accuracy</td><td>0.59884</td></tr><tr><td>Validation Loss</td><td>0.94509</td></tr></table><br/></div></div>"
      ],
      "text/plain": [
       "<IPython.core.display.HTML object>"
      ]
     },
     "metadata": {},
     "output_type": "display_data"
    },
    {
     "data": {
      "text/html": [
       " View run <strong style=\"color:#cdcd00\">balmy-dragon-92</strong> at: <a href='https://wandb.ai/prakhar-jain/multi-layer-perceptron/runs/4amv1zqh' target=\"_blank\">https://wandb.ai/prakhar-jain/multi-layer-perceptron/runs/4amv1zqh</a><br/>Synced 6 W&B file(s), 0 media file(s), 0 artifact file(s) and 0 other file(s)"
      ],
      "text/plain": [
       "<IPython.core.display.HTML object>"
      ]
     },
     "metadata": {},
     "output_type": "display_data"
    },
    {
     "data": {
      "text/html": [
       "Find logs at: <code>./wandb/run-20231015_230304-4amv1zqh/logs</code>"
      ],
      "text/plain": [
       "<IPython.core.display.HTML object>"
      ]
     },
     "metadata": {},
     "output_type": "display_data"
    },
    {
     "data": {
      "application/vnd.jupyter.widget-view+json": {
       "model_id": "38815c6af41e4c068452413a8bf53c7d",
       "version_major": 2,
       "version_minor": 0
      },
      "text/plain": [
       "VBox(children=(Label(value='Waiting for wandb.init()...\\r'), FloatProgress(value=0.01111337721118212, max=1.0)…"
      ]
     },
     "metadata": {},
     "output_type": "display_data"
    },
    {
     "data": {
      "text/html": [
       "wandb version 0.15.12 is available!  To upgrade, please run:\n",
       " $ pip install wandb --upgrade"
      ],
      "text/plain": [
       "<IPython.core.display.HTML object>"
      ]
     },
     "metadata": {},
     "output_type": "display_data"
    },
    {
     "data": {
      "text/html": [
       "Tracking run with wandb version 0.15.11"
      ],
      "text/plain": [
       "<IPython.core.display.HTML object>"
      ]
     },
     "metadata": {},
     "output_type": "display_data"
    },
    {
     "data": {
      "text/html": [
       "Run data is saved locally in <code>/home/prakhar/Desktop/assignment-3-prakharjain3/wandb/run-20231015_230452-6t13juq0</code>"
      ],
      "text/plain": [
       "<IPython.core.display.HTML object>"
      ]
     },
     "metadata": {},
     "output_type": "display_data"
    },
    {
     "data": {
      "text/html": [
       "Syncing run <strong><a href='https://wandb.ai/prakhar-jain/multi-layer-perceptron/runs/6t13juq0' target=\"_blank\">prime-sunset-93</a></strong> to <a href='https://wandb.ai/prakhar-jain/multi-layer-perceptron' target=\"_blank\">Weights & Biases</a> (<a href='https://wandb.me/run' target=\"_blank\">docs</a>)<br/>"
      ],
      "text/plain": [
       "<IPython.core.display.HTML object>"
      ]
     },
     "metadata": {},
     "output_type": "display_data"
    },
    {
     "data": {
      "text/html": [
       " View project at <a href='https://wandb.ai/prakhar-jain/multi-layer-perceptron' target=\"_blank\">https://wandb.ai/prakhar-jain/multi-layer-perceptron</a>"
      ],
      "text/plain": [
       "<IPython.core.display.HTML object>"
      ]
     },
     "metadata": {},
     "output_type": "display_data"
    },
    {
     "data": {
      "text/html": [
       " View run at <a href='https://wandb.ai/prakhar-jain/multi-layer-perceptron/runs/6t13juq0' target=\"_blank\">https://wandb.ai/prakhar-jain/multi-layer-perceptron/runs/6t13juq0</a>"
      ],
      "text/plain": [
       "<IPython.core.display.HTML object>"
      ]
     },
     "metadata": {},
     "output_type": "display_data"
    },
    {
     "name": "stderr",
     "output_type": "stream",
     "text": [
      "ic| i: 1\n",
      "ic| i: 2\n"
     ]
    },
    {
     "data": {
      "text/html": [
       "Waiting for W&B process to finish... <strong style=\"color:green\">(success).</strong>"
      ],
      "text/plain": [
       "<IPython.core.display.HTML object>"
      ]
     },
     "metadata": {},
     "output_type": "display_data"
    },
    {
     "data": {
      "application/vnd.jupyter.widget-view+json": {
       "model_id": "e0112bd38fb6473088fcce60b55b83f8",
       "version_major": 2,
       "version_minor": 0
      },
      "text/plain": [
       "VBox(children=(Label(value='0.003 MB of 0.003 MB uploaded (0.000 MB deduped)\\r'), FloatProgress(value=1.0, max…"
      ]
     },
     "metadata": {},
     "output_type": "display_data"
    },
    {
     "name": "stderr",
     "output_type": "stream",
     "text": [
      "wandb: WARNING Source type is set to 'repo' but some required information is missing from the environment. A job will not be created from this run. See https://docs.wandb.ai/guides/launch/create-job\n"
     ]
    },
    {
     "data": {
      "text/html": [
       "<style>\n",
       "    table.wandb td:nth-child(1) { padding: 0 10px; text-align: left ; width: auto;} td:nth-child(2) {text-align: left ; width: 100%}\n",
       "    .wandb-row { display: flex; flex-direction: row; flex-wrap: wrap; justify-content: flex-start; width: 100% }\n",
       "    .wandb-col { display: flex; flex-direction: column; flex-basis: 100%; flex: 1; padding: 10px; }\n",
       "    </style>\n",
       "<div class=\"wandb-row\"><div class=\"wandb-col\"><h3>Run history:</h3><br/><table class=\"wandb\"><tr><td>Training Accuracy</td><td>▁▅▅▆▇▇▇▇▇▇▇▇▇██▇▇▇█▇█▇█▇██▇██▇██████████</td></tr><tr><td>Training Loss</td><td>█▆▅▄▃▃▃▃▃▃▃▃▃▂▂▂▂▂▂▂▂▂▂▂▂▂▂▂▂▂▁▁▁▁▁▁▁▁▁▁</td></tr><tr><td>Validation Accuracy</td><td>▁▄▅▇▆▆▇▇▇▇▇▆▇▇▇█▇▇▇▆▇█▇▆▇▇▇▆▇▇▇▇▇█▆▇▇▆▇▆</td></tr><tr><td>Validation Loss</td><td>█▅▃▂▂▂▂▂▁▂▂▁▁▁▁▂▁▂▁▁▁▁▁▁▁▁▁▁▁▁▁▁▁▂▁▁▁▁▁▁</td></tr></table><br/></div><div class=\"wandb-col\"><h3>Run summary:</h3><br/><table class=\"wandb\"><tr><td>Training Accuracy</td><td>0.63875</td></tr><tr><td>Training Loss</td><td>0.85153</td></tr><tr><td>Validation Accuracy</td><td>0.59302</td></tr><tr><td>Validation Loss</td><td>0.93998</td></tr></table><br/></div></div>"
      ],
      "text/plain": [
       "<IPython.core.display.HTML object>"
      ]
     },
     "metadata": {},
     "output_type": "display_data"
    },
    {
     "data": {
      "text/html": [
       " View run <strong style=\"color:#cdcd00\">prime-sunset-93</strong> at: <a href='https://wandb.ai/prakhar-jain/multi-layer-perceptron/runs/6t13juq0' target=\"_blank\">https://wandb.ai/prakhar-jain/multi-layer-perceptron/runs/6t13juq0</a><br/>Synced 6 W&B file(s), 0 media file(s), 0 artifact file(s) and 0 other file(s)"
      ],
      "text/plain": [
       "<IPython.core.display.HTML object>"
      ]
     },
     "metadata": {},
     "output_type": "display_data"
    },
    {
     "data": {
      "text/html": [
       "Find logs at: <code>./wandb/run-20231015_230452-6t13juq0/logs</code>"
      ],
      "text/plain": [
       "<IPython.core.display.HTML object>"
      ]
     },
     "metadata": {},
     "output_type": "display_data"
    },
    {
     "data": {
      "application/vnd.jupyter.widget-view+json": {
       "model_id": "f7556624024c4cc18f7598de29ba9c1c",
       "version_major": 2,
       "version_minor": 0
      },
      "text/plain": [
       "VBox(children=(Label(value='Waiting for wandb.init()...\\r'), FloatProgress(value=0.011112721744413849, max=1.0…"
      ]
     },
     "metadata": {},
     "output_type": "display_data"
    },
    {
     "data": {
      "text/html": [
       "wandb version 0.15.12 is available!  To upgrade, please run:\n",
       " $ pip install wandb --upgrade"
      ],
      "text/plain": [
       "<IPython.core.display.HTML object>"
      ]
     },
     "metadata": {},
     "output_type": "display_data"
    },
    {
     "data": {
      "text/html": [
       "Tracking run with wandb version 0.15.11"
      ],
      "text/plain": [
       "<IPython.core.display.HTML object>"
      ]
     },
     "metadata": {},
     "output_type": "display_data"
    },
    {
     "data": {
      "text/html": [
       "Run data is saved locally in <code>/home/prakhar/Desktop/assignment-3-prakharjain3/wandb/run-20231015_230636-cttpqd9k</code>"
      ],
      "text/plain": [
       "<IPython.core.display.HTML object>"
      ]
     },
     "metadata": {},
     "output_type": "display_data"
    },
    {
     "data": {
      "text/html": [
       "Syncing run <strong><a href='https://wandb.ai/prakhar-jain/multi-layer-perceptron/runs/cttpqd9k' target=\"_blank\">genial-yogurt-94</a></strong> to <a href='https://wandb.ai/prakhar-jain/multi-layer-perceptron' target=\"_blank\">Weights & Biases</a> (<a href='https://wandb.me/run' target=\"_blank\">docs</a>)<br/>"
      ],
      "text/plain": [
       "<IPython.core.display.HTML object>"
      ]
     },
     "metadata": {},
     "output_type": "display_data"
    },
    {
     "data": {
      "text/html": [
       " View project at <a href='https://wandb.ai/prakhar-jain/multi-layer-perceptron' target=\"_blank\">https://wandb.ai/prakhar-jain/multi-layer-perceptron</a>"
      ],
      "text/plain": [
       "<IPython.core.display.HTML object>"
      ]
     },
     "metadata": {},
     "output_type": "display_data"
    },
    {
     "data": {
      "text/html": [
       " View run at <a href='https://wandb.ai/prakhar-jain/multi-layer-perceptron/runs/cttpqd9k' target=\"_blank\">https://wandb.ai/prakhar-jain/multi-layer-perceptron/runs/cttpqd9k</a>"
      ],
      "text/plain": [
       "<IPython.core.display.HTML object>"
      ]
     },
     "metadata": {},
     "output_type": "display_data"
    },
    {
     "name": "stderr",
     "output_type": "stream",
     "text": [
      "ic| i: 1\n",
      "ic| i: 2\n"
     ]
    },
    {
     "data": {
      "text/html": [
       "Waiting for W&B process to finish... <strong style=\"color:green\">(success).</strong>"
      ],
      "text/plain": [
       "<IPython.core.display.HTML object>"
      ]
     },
     "metadata": {},
     "output_type": "display_data"
    },
    {
     "data": {
      "application/vnd.jupyter.widget-view+json": {
       "model_id": "caf949fa465149859c1513c27a8cc519",
       "version_major": 2,
       "version_minor": 0
      },
      "text/plain": [
       "VBox(children=(Label(value='0.003 MB of 0.003 MB uploaded (0.000 MB deduped)\\r'), FloatProgress(value=1.0, max…"
      ]
     },
     "metadata": {},
     "output_type": "display_data"
    },
    {
     "name": "stderr",
     "output_type": "stream",
     "text": [
      "wandb: WARNING Source type is set to 'repo' but some required information is missing from the environment. A job will not be created from this run. See https://docs.wandb.ai/guides/launch/create-job\n"
     ]
    },
    {
     "data": {
      "text/html": [
       "<style>\n",
       "    table.wandb td:nth-child(1) { padding: 0 10px; text-align: left ; width: auto;} td:nth-child(2) {text-align: left ; width: 100%}\n",
       "    .wandb-row { display: flex; flex-direction: row; flex-wrap: wrap; justify-content: flex-start; width: 100% }\n",
       "    .wandb-col { display: flex; flex-direction: column; flex-basis: 100%; flex: 1; padding: 10px; }\n",
       "    </style>\n",
       "<div class=\"wandb-row\"><div class=\"wandb-col\"><h3>Run history:</h3><br/><table class=\"wandb\"><tr><td>Training Accuracy</td><td>▁▁▃▃▄▃▄▃▃▄▃▃▄▄▄▄▄▄▄▄▄▄▄▄▅▅▅▅▅▆▆▆▇▇█▇██▇█</td></tr><tr><td>Training Loss</td><td>█▅▅▅▅▄▄▄▄▄▄▄▄▄▄▄▄▃▃▃▃▃▃▃▃▃▃▃▃▂▂▂▂▂▂▂▁▁▁▁</td></tr><tr><td>Validation Accuracy</td><td>▁▂▇▇▇▅▆██▆▆▆▆▆▆▅▆▆▆▆▇▆▆█▆▆█▄▅▇██▆▆▆▄▅▆▅▅</td></tr><tr><td>Validation Loss</td><td>█▄▃▃▂▂▂▂▂▂▂▂▂▁▁▁▁▁▁▁▁▁▁▁▁▁▁▁▂▂▂▂▂▃▃▃▃▃▄▄</td></tr></table><br/></div><div class=\"wandb-col\"><h3>Run summary:</h3><br/><table class=\"wandb\"><tr><td>Training Accuracy</td><td>0.70625</td></tr><tr><td>Training Loss</td><td>0.73009</td></tr><tr><td>Validation Accuracy</td><td>0.61047</td></tr><tr><td>Validation Loss</td><td>1.00321</td></tr></table><br/></div></div>"
      ],
      "text/plain": [
       "<IPython.core.display.HTML object>"
      ]
     },
     "metadata": {},
     "output_type": "display_data"
    },
    {
     "data": {
      "text/html": [
       " View run <strong style=\"color:#cdcd00\">genial-yogurt-94</strong> at: <a href='https://wandb.ai/prakhar-jain/multi-layer-perceptron/runs/cttpqd9k' target=\"_blank\">https://wandb.ai/prakhar-jain/multi-layer-perceptron/runs/cttpqd9k</a><br/>Synced 6 W&B file(s), 0 media file(s), 0 artifact file(s) and 0 other file(s)"
      ],
      "text/plain": [
       "<IPython.core.display.HTML object>"
      ]
     },
     "metadata": {},
     "output_type": "display_data"
    },
    {
     "data": {
      "text/html": [
       "Find logs at: <code>./wandb/run-20231015_230636-cttpqd9k/logs</code>"
      ],
      "text/plain": [
       "<IPython.core.display.HTML object>"
      ]
     },
     "metadata": {},
     "output_type": "display_data"
    },
    {
     "data": {
      "application/vnd.jupyter.widget-view+json": {
       "model_id": "24fb499d86a64503af6aeb0b630b25e7",
       "version_major": 2,
       "version_minor": 0
      },
      "text/plain": [
       "VBox(children=(Label(value='Waiting for wandb.init()...\\r'), FloatProgress(value=0.01111289419996966, max=1.0)…"
      ]
     },
     "metadata": {},
     "output_type": "display_data"
    },
    {
     "data": {
      "text/html": [
       "wandb version 0.15.12 is available!  To upgrade, please run:\n",
       " $ pip install wandb --upgrade"
      ],
      "text/plain": [
       "<IPython.core.display.HTML object>"
      ]
     },
     "metadata": {},
     "output_type": "display_data"
    },
    {
     "data": {
      "text/html": [
       "Tracking run with wandb version 0.15.11"
      ],
      "text/plain": [
       "<IPython.core.display.HTML object>"
      ]
     },
     "metadata": {},
     "output_type": "display_data"
    },
    {
     "data": {
      "text/html": [
       "Run data is saved locally in <code>/home/prakhar/Desktop/assignment-3-prakharjain3/wandb/run-20231015_230943-7g9r874p</code>"
      ],
      "text/plain": [
       "<IPython.core.display.HTML object>"
      ]
     },
     "metadata": {},
     "output_type": "display_data"
    },
    {
     "data": {
      "text/html": [
       "Syncing run <strong><a href='https://wandb.ai/prakhar-jain/multi-layer-perceptron/runs/7g9r874p' target=\"_blank\">brisk-violet-95</a></strong> to <a href='https://wandb.ai/prakhar-jain/multi-layer-perceptron' target=\"_blank\">Weights & Biases</a> (<a href='https://wandb.me/run' target=\"_blank\">docs</a>)<br/>"
      ],
      "text/plain": [
       "<IPython.core.display.HTML object>"
      ]
     },
     "metadata": {},
     "output_type": "display_data"
    },
    {
     "data": {
      "text/html": [
       " View project at <a href='https://wandb.ai/prakhar-jain/multi-layer-perceptron' target=\"_blank\">https://wandb.ai/prakhar-jain/multi-layer-perceptron</a>"
      ],
      "text/plain": [
       "<IPython.core.display.HTML object>"
      ]
     },
     "metadata": {},
     "output_type": "display_data"
    },
    {
     "data": {
      "text/html": [
       " View run at <a href='https://wandb.ai/prakhar-jain/multi-layer-perceptron/runs/7g9r874p' target=\"_blank\">https://wandb.ai/prakhar-jain/multi-layer-perceptron/runs/7g9r874p</a>"
      ],
      "text/plain": [
       "<IPython.core.display.HTML object>"
      ]
     },
     "metadata": {},
     "output_type": "display_data"
    },
    {
     "name": "stderr",
     "output_type": "stream",
     "text": [
      "ic| i: 1\n",
      "ic| i: 2\n"
     ]
    },
    {
     "data": {
      "text/html": [
       "Waiting for W&B process to finish... <strong style=\"color:green\">(success).</strong>"
      ],
      "text/plain": [
       "<IPython.core.display.HTML object>"
      ]
     },
     "metadata": {},
     "output_type": "display_data"
    },
    {
     "data": {
      "application/vnd.jupyter.widget-view+json": {
       "model_id": "c6010267a4ed4d26b07b0d043b61da91",
       "version_major": 2,
       "version_minor": 0
      },
      "text/plain": [
       "VBox(children=(Label(value='0.002 MB of 0.002 MB uploaded (0.000 MB deduped)\\r'), FloatProgress(value=1.0, max…"
      ]
     },
     "metadata": {},
     "output_type": "display_data"
    },
    {
     "name": "stderr",
     "output_type": "stream",
     "text": [
      "wandb: WARNING Source type is set to 'repo' but some required information is missing from the environment. A job will not be created from this run. See https://docs.wandb.ai/guides/launch/create-job\n"
     ]
    },
    {
     "data": {
      "text/html": [
       "<style>\n",
       "    table.wandb td:nth-child(1) { padding: 0 10px; text-align: left ; width: auto;} td:nth-child(2) {text-align: left ; width: 100%}\n",
       "    .wandb-row { display: flex; flex-direction: row; flex-wrap: wrap; justify-content: flex-start; width: 100% }\n",
       "    .wandb-col { display: flex; flex-direction: column; flex-basis: 100%; flex: 1; padding: 10px; }\n",
       "    </style>\n",
       "<div class=\"wandb-row\"><div class=\"wandb-col\"><h3>Run history:</h3><br/><table class=\"wandb\"><tr><td>Training Accuracy</td><td>▁▃▄▄▄▄▄▄▄▅▄▅▅▄▅▅▅▅▅▅▅▅▅▅▆▆▆▆▆▆▆▇▇▇▇▇▇███</td></tr><tr><td>Training Loss</td><td>█▆▅▅▅▅▅▅▅▅▄▄▄▄▄▄▄▄▄▄▄▄▄▃▃▃▃▃▃▃▃▃▂▂▂▂▂▁▁▁</td></tr><tr><td>Validation Accuracy</td><td>▁▅▇███▇▆▅▇█▅██▆▅▇▅▇▇█▆▄▅▇▆▆▆▆▄▅▆▆▅▄▄▅▇▄▄</td></tr><tr><td>Validation Loss</td><td>█▄▂▂▂▁▁▁▁▁▁▁▁▂▁▁▂▁▁▁▂▁▂▂▂▂▂▃▃▃▃▄▄▄▅▅▅▅▆▆</td></tr></table><br/></div><div class=\"wandb-col\"><h3>Run summary:</h3><br/><table class=\"wandb\"><tr><td>Training Accuracy</td><td>0.74875</td></tr><tr><td>Training Loss</td><td>0.6655</td></tr><tr><td>Validation Accuracy</td><td>0.57558</td></tr><tr><td>Validation Loss</td><td>1.08074</td></tr></table><br/></div></div>"
      ],
      "text/plain": [
       "<IPython.core.display.HTML object>"
      ]
     },
     "metadata": {},
     "output_type": "display_data"
    },
    {
     "data": {
      "text/html": [
       " View run <strong style=\"color:#cdcd00\">brisk-violet-95</strong> at: <a href='https://wandb.ai/prakhar-jain/multi-layer-perceptron/runs/7g9r874p' target=\"_blank\">https://wandb.ai/prakhar-jain/multi-layer-perceptron/runs/7g9r874p</a><br/>Synced 6 W&B file(s), 0 media file(s), 0 artifact file(s) and 0 other file(s)"
      ],
      "text/plain": [
       "<IPython.core.display.HTML object>"
      ]
     },
     "metadata": {},
     "output_type": "display_data"
    },
    {
     "data": {
      "text/html": [
       "Find logs at: <code>./wandb/run-20231015_230943-7g9r874p/logs</code>"
      ],
      "text/plain": [
       "<IPython.core.display.HTML object>"
      ]
     },
     "metadata": {},
     "output_type": "display_data"
    },
    {
     "data": {
      "application/vnd.jupyter.widget-view+json": {
       "model_id": "71efbd11070549629ab86df391c501f2",
       "version_major": 2,
       "version_minor": 0
      },
      "text/plain": [
       "VBox(children=(Label(value='Waiting for wandb.init()...\\r'), FloatProgress(value=0.011112750510963249, max=1.0…"
      ]
     },
     "metadata": {},
     "output_type": "display_data"
    },
    {
     "data": {
      "text/html": [
       "wandb version 0.15.12 is available!  To upgrade, please run:\n",
       " $ pip install wandb --upgrade"
      ],
      "text/plain": [
       "<IPython.core.display.HTML object>"
      ]
     },
     "metadata": {},
     "output_type": "display_data"
    },
    {
     "data": {
      "text/html": [
       "Tracking run with wandb version 0.15.11"
      ],
      "text/plain": [
       "<IPython.core.display.HTML object>"
      ]
     },
     "metadata": {},
     "output_type": "display_data"
    },
    {
     "data": {
      "text/html": [
       "Run data is saved locally in <code>/home/prakhar/Desktop/assignment-3-prakharjain3/wandb/run-20231015_231309-okas0xkp</code>"
      ],
      "text/plain": [
       "<IPython.core.display.HTML object>"
      ]
     },
     "metadata": {},
     "output_type": "display_data"
    },
    {
     "data": {
      "text/html": [
       "Syncing run <strong><a href='https://wandb.ai/prakhar-jain/multi-layer-perceptron/runs/okas0xkp' target=\"_blank\">rare-water-96</a></strong> to <a href='https://wandb.ai/prakhar-jain/multi-layer-perceptron' target=\"_blank\">Weights & Biases</a> (<a href='https://wandb.me/run' target=\"_blank\">docs</a>)<br/>"
      ],
      "text/plain": [
       "<IPython.core.display.HTML object>"
      ]
     },
     "metadata": {},
     "output_type": "display_data"
    },
    {
     "data": {
      "text/html": [
       " View project at <a href='https://wandb.ai/prakhar-jain/multi-layer-perceptron' target=\"_blank\">https://wandb.ai/prakhar-jain/multi-layer-perceptron</a>"
      ],
      "text/plain": [
       "<IPython.core.display.HTML object>"
      ]
     },
     "metadata": {},
     "output_type": "display_data"
    },
    {
     "data": {
      "text/html": [
       " View run at <a href='https://wandb.ai/prakhar-jain/multi-layer-perceptron/runs/okas0xkp' target=\"_blank\">https://wandb.ai/prakhar-jain/multi-layer-perceptron/runs/okas0xkp</a>"
      ],
      "text/plain": [
       "<IPython.core.display.HTML object>"
      ]
     },
     "metadata": {},
     "output_type": "display_data"
    },
    {
     "name": "stderr",
     "output_type": "stream",
     "text": [
      "ic| i: 1\n",
      "ic| i: 2\n"
     ]
    },
    {
     "data": {
      "text/html": [
       "Waiting for W&B process to finish... <strong style=\"color:green\">(success).</strong>"
      ],
      "text/plain": [
       "<IPython.core.display.HTML object>"
      ]
     },
     "metadata": {},
     "output_type": "display_data"
    },
    {
     "data": {
      "application/vnd.jupyter.widget-view+json": {
       "model_id": "ac90c46d66c94e569051cf90239441cb",
       "version_major": 2,
       "version_minor": 0
      },
      "text/plain": [
       "VBox(children=(Label(value='0.003 MB of 0.003 MB uploaded (0.000 MB deduped)\\r'), FloatProgress(value=1.0, max…"
      ]
     },
     "metadata": {},
     "output_type": "display_data"
    },
    {
     "name": "stderr",
     "output_type": "stream",
     "text": [
      "wandb: WARNING Source type is set to 'repo' but some required information is missing from the environment. A job will not be created from this run. See https://docs.wandb.ai/guides/launch/create-job\n"
     ]
    },
    {
     "data": {
      "text/html": [
       "<style>\n",
       "    table.wandb td:nth-child(1) { padding: 0 10px; text-align: left ; width: auto;} td:nth-child(2) {text-align: left ; width: 100%}\n",
       "    .wandb-row { display: flex; flex-direction: row; flex-wrap: wrap; justify-content: flex-start; width: 100% }\n",
       "    .wandb-col { display: flex; flex-direction: column; flex-basis: 100%; flex: 1; padding: 10px; }\n",
       "    </style>\n",
       "<div class=\"wandb-row\"><div class=\"wandb-col\"><h3>Run history:</h3><br/><table class=\"wandb\"><tr><td>Training Accuracy</td><td>▁▄▄▄▅▄▄▄▄▅▅▄▅▄▅▅▅▅▅▅▅▅▅▅▅▆▆▆▆▆▇▇▇▇█▇▇███</td></tr><tr><td>Training Loss</td><td>█▆▅▅▅▅▅▅▅▅▄▄▄▄▄▄▄▄▄▄▄▃▃▃▃▃▃▃▃▂▂▂▂▂▂▂▁▁▁▁</td></tr><tr><td>Validation Accuracy</td><td>▁▇▅▆▇▆▇█▇█▇▇▄▇▆▇▆▇▇▅▆▆▆▄▆▆▆▆▅▅▅▅▄▄▃▄▃▃▃▄</td></tr><tr><td>Validation Loss</td><td>▆▃▂▂▂▂▁▂▂▁▁▁▁▁▁▁▁▁▁▁▁▁▂▂▂▃▃▃▄▄▅▅▆▆▆▇▇▇██</td></tr></table><br/></div><div class=\"wandb-col\"><h3>Run summary:</h3><br/><table class=\"wandb\"><tr><td>Training Accuracy</td><td>0.7225</td></tr><tr><td>Training Loss</td><td>0.69677</td></tr><tr><td>Validation Accuracy</td><td>0.54651</td></tr><tr><td>Validation Loss</td><td>1.18027</td></tr></table><br/></div></div>"
      ],
      "text/plain": [
       "<IPython.core.display.HTML object>"
      ]
     },
     "metadata": {},
     "output_type": "display_data"
    },
    {
     "data": {
      "text/html": [
       " View run <strong style=\"color:#cdcd00\">rare-water-96</strong> at: <a href='https://wandb.ai/prakhar-jain/multi-layer-perceptron/runs/okas0xkp' target=\"_blank\">https://wandb.ai/prakhar-jain/multi-layer-perceptron/runs/okas0xkp</a><br/>Synced 6 W&B file(s), 0 media file(s), 0 artifact file(s) and 0 other file(s)"
      ],
      "text/plain": [
       "<IPython.core.display.HTML object>"
      ]
     },
     "metadata": {},
     "output_type": "display_data"
    },
    {
     "data": {
      "text/html": [
       "Find logs at: <code>./wandb/run-20231015_231309-okas0xkp/logs</code>"
      ],
      "text/plain": [
       "<IPython.core.display.HTML object>"
      ]
     },
     "metadata": {},
     "output_type": "display_data"
    },
    {
     "data": {
      "application/vnd.jupyter.widget-view+json": {
       "model_id": "bf209aa5321745a2b9fbb9640e7010d3",
       "version_major": 2,
       "version_minor": 0
      },
      "text/plain": [
       "VBox(children=(Label(value='Waiting for wandb.init()...\\r'), FloatProgress(value=0.011112830888952078, max=1.0…"
      ]
     },
     "metadata": {},
     "output_type": "display_data"
    },
    {
     "data": {
      "text/html": [
       "wandb version 0.15.12 is available!  To upgrade, please run:\n",
       " $ pip install wandb --upgrade"
      ],
      "text/plain": [
       "<IPython.core.display.HTML object>"
      ]
     },
     "metadata": {},
     "output_type": "display_data"
    },
    {
     "data": {
      "text/html": [
       "Tracking run with wandb version 0.15.11"
      ],
      "text/plain": [
       "<IPython.core.display.HTML object>"
      ]
     },
     "metadata": {},
     "output_type": "display_data"
    },
    {
     "data": {
      "text/html": [
       "Run data is saved locally in <code>/home/prakhar/Desktop/assignment-3-prakharjain3/wandb/run-20231015_231635-s7j9fiw9</code>"
      ],
      "text/plain": [
       "<IPython.core.display.HTML object>"
      ]
     },
     "metadata": {},
     "output_type": "display_data"
    },
    {
     "data": {
      "text/html": [
       "Syncing run <strong><a href='https://wandb.ai/prakhar-jain/multi-layer-perceptron/runs/s7j9fiw9' target=\"_blank\">lemon-salad-97</a></strong> to <a href='https://wandb.ai/prakhar-jain/multi-layer-perceptron' target=\"_blank\">Weights & Biases</a> (<a href='https://wandb.me/run' target=\"_blank\">docs</a>)<br/>"
      ],
      "text/plain": [
       "<IPython.core.display.HTML object>"
      ]
     },
     "metadata": {},
     "output_type": "display_data"
    },
    {
     "data": {
      "text/html": [
       " View project at <a href='https://wandb.ai/prakhar-jain/multi-layer-perceptron' target=\"_blank\">https://wandb.ai/prakhar-jain/multi-layer-perceptron</a>"
      ],
      "text/plain": [
       "<IPython.core.display.HTML object>"
      ]
     },
     "metadata": {},
     "output_type": "display_data"
    },
    {
     "data": {
      "text/html": [
       " View run at <a href='https://wandb.ai/prakhar-jain/multi-layer-perceptron/runs/s7j9fiw9' target=\"_blank\">https://wandb.ai/prakhar-jain/multi-layer-perceptron/runs/s7j9fiw9</a>"
      ],
      "text/plain": [
       "<IPython.core.display.HTML object>"
      ]
     },
     "metadata": {},
     "output_type": "display_data"
    },
    {
     "name": "stderr",
     "output_type": "stream",
     "text": [
      "ic| i: 1\n",
      "ic| i: 2\n",
      "/home/prakhar/miniconda3/lib/python3.11/site-packages/sklearn/metrics/_classification.py:1344: UndefinedMetricWarning: Recall is ill-defined and being set to 0.0 in labels with no true samples. Use `zero_division` parameter to control this behavior.\n",
      "  _warn_prf(average, modifier, msg_start, len(result))\n"
     ]
    },
    {
     "data": {
      "text/html": [
       "Waiting for W&B process to finish... <strong style=\"color:green\">(success).</strong>"
      ],
      "text/plain": [
       "<IPython.core.display.HTML object>"
      ]
     },
     "metadata": {},
     "output_type": "display_data"
    },
    {
     "name": "stderr",
     "output_type": "stream",
     "text": [
      "wandb: WARNING Source type is set to 'repo' but some required information is missing from the environment. A job will not be created from this run. See https://docs.wandb.ai/guides/launch/create-job\n"
     ]
    },
    {
     "data": {
      "text/html": [
       "<style>\n",
       "    table.wandb td:nth-child(1) { padding: 0 10px; text-align: left ; width: auto;} td:nth-child(2) {text-align: left ; width: 100%}\n",
       "    .wandb-row { display: flex; flex-direction: row; flex-wrap: wrap; justify-content: flex-start; width: 100% }\n",
       "    .wandb-col { display: flex; flex-direction: column; flex-basis: 100%; flex: 1; padding: 10px; }\n",
       "    </style>\n",
       "<div class=\"wandb-row\"><div class=\"wandb-col\"><h3>Run history:</h3><br/><table class=\"wandb\"><tr><td>Training Accuracy</td><td>▁▂▁▂▂▂▃▃▃▃▄▄▄▅▄▅▅▅▆▆▆▇▇▇▇▇██████████████</td></tr><tr><td>Training Loss</td><td>██▇▇▇▇▇▆▆▆▅▅▅▄▄▄▄▃▃▃▃▂▂▂▂▂▂▁▁▁▁▁▁▁▁▁▁▁▁▁</td></tr><tr><td>Validation Accuracy</td><td>▆▆▄▄█▅▆▄▆▄▄▅▄▅▂▃▂▁▁▃▂▂▃▃▃▄▃▂▃▂▃▄▄▄▄▄▃▄▄▃</td></tr><tr><td>Validation Loss</td><td>▁▁▁▁▁▁▁▁▁▁▂▂▂▂▂▂▃▃▃▃▄▄▄▄▅▅▅▆▆▆▆▆▇▇▇▇████</td></tr></table><br/></div><div class=\"wandb-col\"><h3>Run summary:</h3><br/><table class=\"wandb\"><tr><td>Training Accuracy</td><td>0.99875</td></tr><tr><td>Training Loss</td><td>0.02324</td></tr><tr><td>Validation Accuracy</td><td>0.55814</td></tr><tr><td>Validation Loss</td><td>3.5345</td></tr></table><br/></div></div>"
      ],
      "text/plain": [
       "<IPython.core.display.HTML object>"
      ]
     },
     "metadata": {},
     "output_type": "display_data"
    },
    {
     "data": {
      "text/html": [
       " View run <strong style=\"color:#cdcd00\">lemon-salad-97</strong> at: <a href='https://wandb.ai/prakhar-jain/multi-layer-perceptron/runs/s7j9fiw9' target=\"_blank\">https://wandb.ai/prakhar-jain/multi-layer-perceptron/runs/s7j9fiw9</a><br/>Synced 6 W&B file(s), 0 media file(s), 0 artifact file(s) and 0 other file(s)"
      ],
      "text/plain": [
       "<IPython.core.display.HTML object>"
      ]
     },
     "metadata": {},
     "output_type": "display_data"
    },
    {
     "data": {
      "text/html": [
       "Find logs at: <code>./wandb/run-20231015_231635-s7j9fiw9/logs</code>"
      ],
      "text/plain": [
       "<IPython.core.display.HTML object>"
      ]
     },
     "metadata": {},
     "output_type": "display_data"
    },
    {
     "data": {
      "application/vnd.jupyter.widget-view+json": {
       "model_id": "75df532918cb4073a79fc66476e02805",
       "version_major": 2,
       "version_minor": 0
      },
      "text/plain": [
       "VBox(children=(Label(value='Waiting for wandb.init()...\\r'), FloatProgress(value=0.01111320372227864, max=1.0)…"
      ]
     },
     "metadata": {},
     "output_type": "display_data"
    },
    {
     "data": {
      "text/html": [
       "wandb version 0.15.12 is available!  To upgrade, please run:\n",
       " $ pip install wandb --upgrade"
      ],
      "text/plain": [
       "<IPython.core.display.HTML object>"
      ]
     },
     "metadata": {},
     "output_type": "display_data"
    },
    {
     "data": {
      "text/html": [
       "Tracking run with wandb version 0.15.11"
      ],
      "text/plain": [
       "<IPython.core.display.HTML object>"
      ]
     },
     "metadata": {},
     "output_type": "display_data"
    },
    {
     "data": {
      "text/html": [
       "Run data is saved locally in <code>/home/prakhar/Desktop/assignment-3-prakharjain3/wandb/run-20231015_231819-dnk5q7iz</code>"
      ],
      "text/plain": [
       "<IPython.core.display.HTML object>"
      ]
     },
     "metadata": {},
     "output_type": "display_data"
    },
    {
     "data": {
      "text/html": [
       "Syncing run <strong><a href='https://wandb.ai/prakhar-jain/multi-layer-perceptron/runs/dnk5q7iz' target=\"_blank\">vital-bird-98</a></strong> to <a href='https://wandb.ai/prakhar-jain/multi-layer-perceptron' target=\"_blank\">Weights & Biases</a> (<a href='https://wandb.me/run' target=\"_blank\">docs</a>)<br/>"
      ],
      "text/plain": [
       "<IPython.core.display.HTML object>"
      ]
     },
     "metadata": {},
     "output_type": "display_data"
    },
    {
     "data": {
      "text/html": [
       " View project at <a href='https://wandb.ai/prakhar-jain/multi-layer-perceptron' target=\"_blank\">https://wandb.ai/prakhar-jain/multi-layer-perceptron</a>"
      ],
      "text/plain": [
       "<IPython.core.display.HTML object>"
      ]
     },
     "metadata": {},
     "output_type": "display_data"
    },
    {
     "data": {
      "text/html": [
       " View run at <a href='https://wandb.ai/prakhar-jain/multi-layer-perceptron/runs/dnk5q7iz' target=\"_blank\">https://wandb.ai/prakhar-jain/multi-layer-perceptron/runs/dnk5q7iz</a>"
      ],
      "text/plain": [
       "<IPython.core.display.HTML object>"
      ]
     },
     "metadata": {},
     "output_type": "display_data"
    },
    {
     "name": "stderr",
     "output_type": "stream",
     "text": [
      "ic| i: 1\n",
      "ic| i: 2\n",
      "/home/prakhar/miniconda3/lib/python3.11/site-packages/sklearn/metrics/_classification.py:1344: UndefinedMetricWarning: Recall is ill-defined and being set to 0.0 in labels with no true samples. Use `zero_division` parameter to control this behavior.\n",
      "  _warn_prf(average, modifier, msg_start, len(result))\n"
     ]
    },
    {
     "data": {
      "text/html": [
       "Waiting for W&B process to finish... <strong style=\"color:green\">(success).</strong>"
      ],
      "text/plain": [
       "<IPython.core.display.HTML object>"
      ]
     },
     "metadata": {},
     "output_type": "display_data"
    },
    {
     "data": {
      "application/vnd.jupyter.widget-view+json": {
       "model_id": "28f5d11f1a2e46198021dfbeb46b4924",
       "version_major": 2,
       "version_minor": 0
      },
      "text/plain": [
       "VBox(children=(Label(value='0.003 MB of 0.003 MB uploaded (0.000 MB deduped)\\r'), FloatProgress(value=1.0, max…"
      ]
     },
     "metadata": {},
     "output_type": "display_data"
    },
    {
     "name": "stderr",
     "output_type": "stream",
     "text": [
      "wandb: WARNING Source type is set to 'repo' but some required information is missing from the environment. A job will not be created from this run. See https://docs.wandb.ai/guides/launch/create-job\n"
     ]
    },
    {
     "data": {
      "text/html": [
       "<style>\n",
       "    table.wandb td:nth-child(1) { padding: 0 10px; text-align: left ; width: auto;} td:nth-child(2) {text-align: left ; width: 100%}\n",
       "    .wandb-row { display: flex; flex-direction: row; flex-wrap: wrap; justify-content: flex-start; width: 100% }\n",
       "    .wandb-col { display: flex; flex-direction: column; flex-basis: 100%; flex: 1; padding: 10px; }\n",
       "    </style>\n",
       "<div class=\"wandb-row\"><div class=\"wandb-col\"><h3>Run history:</h3><br/><table class=\"wandb\"><tr><td>Training Accuracy</td><td>▁▁▂▁▂▂▂▃▃▃▃▄▅▅▆▆▆▇▇█████████████████████</td></tr><tr><td>Training Loss</td><td>██▇█▇▇▇▆▆▆▅▅▅▄▄▃▃▃▃▂▂▂▂▁▂▁▁▁▁▁▁▁▁▁▁▁▁▁▁▁</td></tr><tr><td>Validation Accuracy</td><td>▄▇▄▁▇▄▅▆▅▃▂▄▄▂▁▄▂▇▅█▅▇▆█▇▆▆▆▆▆▇▆▆▄▆▆▄▅▄▄</td></tr><tr><td>Validation Loss</td><td>▁▁▁▁▁▁▁▁▁▁▁▂▂▂▂▂▃▃▃▄▄▄▄▅▅▅▆▆▆▆▇▇▇▇▇█████</td></tr></table><br/></div><div class=\"wandb-col\"><h3>Run summary:</h3><br/><table class=\"wandb\"><tr><td>Training Accuracy</td><td>0.9975</td></tr><tr><td>Training Loss</td><td>0.00946</td></tr><tr><td>Validation Accuracy</td><td>0.59884</td></tr><tr><td>Validation Loss</td><td>3.51498</td></tr></table><br/></div></div>"
      ],
      "text/plain": [
       "<IPython.core.display.HTML object>"
      ]
     },
     "metadata": {},
     "output_type": "display_data"
    },
    {
     "data": {
      "text/html": [
       " View run <strong style=\"color:#cdcd00\">vital-bird-98</strong> at: <a href='https://wandb.ai/prakhar-jain/multi-layer-perceptron/runs/dnk5q7iz' target=\"_blank\">https://wandb.ai/prakhar-jain/multi-layer-perceptron/runs/dnk5q7iz</a><br/>Synced 6 W&B file(s), 0 media file(s), 0 artifact file(s) and 0 other file(s)"
      ],
      "text/plain": [
       "<IPython.core.display.HTML object>"
      ]
     },
     "metadata": {},
     "output_type": "display_data"
    },
    {
     "data": {
      "text/html": [
       "Find logs at: <code>./wandb/run-20231015_231819-dnk5q7iz/logs</code>"
      ],
      "text/plain": [
       "<IPython.core.display.HTML object>"
      ]
     },
     "metadata": {},
     "output_type": "display_data"
    },
    {
     "data": {
      "application/vnd.jupyter.widget-view+json": {
       "model_id": "29f7ae0a64a0428a81f3d05deeb8f40b",
       "version_major": 2,
       "version_minor": 0
      },
      "text/plain": [
       "VBox(children=(Label(value='Waiting for wandb.init()...\\r'), FloatProgress(value=0.01111245153329542, max=1.0)…"
      ]
     },
     "metadata": {},
     "output_type": "display_data"
    },
    {
     "data": {
      "text/html": [
       "wandb version 0.15.12 is available!  To upgrade, please run:\n",
       " $ pip install wandb --upgrade"
      ],
      "text/plain": [
       "<IPython.core.display.HTML object>"
      ]
     },
     "metadata": {},
     "output_type": "display_data"
    },
    {
     "data": {
      "text/html": [
       "Tracking run with wandb version 0.15.11"
      ],
      "text/plain": [
       "<IPython.core.display.HTML object>"
      ]
     },
     "metadata": {},
     "output_type": "display_data"
    },
    {
     "data": {
      "text/html": [
       "Run data is saved locally in <code>/home/prakhar/Desktop/assignment-3-prakharjain3/wandb/run-20231015_232011-uee9lane</code>"
      ],
      "text/plain": [
       "<IPython.core.display.HTML object>"
      ]
     },
     "metadata": {},
     "output_type": "display_data"
    },
    {
     "data": {
      "text/html": [
       "Syncing run <strong><a href='https://wandb.ai/prakhar-jain/multi-layer-perceptron/runs/uee9lane' target=\"_blank\">misty-vortex-99</a></strong> to <a href='https://wandb.ai/prakhar-jain/multi-layer-perceptron' target=\"_blank\">Weights & Biases</a> (<a href='https://wandb.me/run' target=\"_blank\">docs</a>)<br/>"
      ],
      "text/plain": [
       "<IPython.core.display.HTML object>"
      ]
     },
     "metadata": {},
     "output_type": "display_data"
    },
    {
     "data": {
      "text/html": [
       " View project at <a href='https://wandb.ai/prakhar-jain/multi-layer-perceptron' target=\"_blank\">https://wandb.ai/prakhar-jain/multi-layer-perceptron</a>"
      ],
      "text/plain": [
       "<IPython.core.display.HTML object>"
      ]
     },
     "metadata": {},
     "output_type": "display_data"
    },
    {
     "data": {
      "text/html": [
       " View run at <a href='https://wandb.ai/prakhar-jain/multi-layer-perceptron/runs/uee9lane' target=\"_blank\">https://wandb.ai/prakhar-jain/multi-layer-perceptron/runs/uee9lane</a>"
      ],
      "text/plain": [
       "<IPython.core.display.HTML object>"
      ]
     },
     "metadata": {},
     "output_type": "display_data"
    },
    {
     "name": "stderr",
     "output_type": "stream",
     "text": [
      "ic| i: 1\n",
      "ic| i: 2\n",
      "/home/prakhar/miniconda3/lib/python3.11/site-packages/sklearn/metrics/_classification.py:1344: UndefinedMetricWarning: Recall is ill-defined and being set to 0.0 in labels with no true samples. Use `zero_division` parameter to control this behavior.\n",
      "  _warn_prf(average, modifier, msg_start, len(result))\n"
     ]
    },
    {
     "data": {
      "text/html": [
       "Waiting for W&B process to finish... <strong style=\"color:green\">(success).</strong>"
      ],
      "text/plain": [
       "<IPython.core.display.HTML object>"
      ]
     },
     "metadata": {},
     "output_type": "display_data"
    },
    {
     "data": {
      "application/vnd.jupyter.widget-view+json": {
       "model_id": "5f4656447f62498e8044466bc259ce4f",
       "version_major": 2,
       "version_minor": 0
      },
      "text/plain": [
       "VBox(children=(Label(value='0.003 MB of 0.003 MB uploaded (0.000 MB deduped)\\r'), FloatProgress(value=1.0, max…"
      ]
     },
     "metadata": {},
     "output_type": "display_data"
    },
    {
     "name": "stderr",
     "output_type": "stream",
     "text": [
      "wandb: WARNING Source type is set to 'repo' but some required information is missing from the environment. A job will not be created from this run. See https://docs.wandb.ai/guides/launch/create-job\n"
     ]
    },
    {
     "data": {
      "text/html": [
       "<style>\n",
       "    table.wandb td:nth-child(1) { padding: 0 10px; text-align: left ; width: auto;} td:nth-child(2) {text-align: left ; width: 100%}\n",
       "    .wandb-row { display: flex; flex-direction: row; flex-wrap: wrap; justify-content: flex-start; width: 100% }\n",
       "    .wandb-col { display: flex; flex-direction: column; flex-basis: 100%; flex: 1; padding: 10px; }\n",
       "    </style>\n",
       "<div class=\"wandb-row\"><div class=\"wandb-col\"><h3>Run history:</h3><br/><table class=\"wandb\"><tr><td>Training Accuracy</td><td>▁▂▂▂▂▂▃▃▃▃▄▄▄▅▅▅▆▆▆▇▇▇▇▇████████████████</td></tr><tr><td>Training Loss</td><td>█▇▇▇▇▇▇▆▆▆▅▅▅▄▄▄▃▃▃▂▂▂▂▂▂▁▁▁▁▁▁▁▁▁▁▁▁▁▁▁</td></tr><tr><td>Validation Accuracy</td><td>▆█▇▆█▅▅▅▄▄▄▃▁▃▂▂▂▄▅▄▃▅▃▅▄▅▄▅▄▄▅▄▄▄▄▄▅▄▄▅</td></tr><tr><td>Validation Loss</td><td>▁▁▁▁▁▁▁▁▁▁▁▂▂▂▃▃▃▄▄▄▄▅▅▅▆▆▆▆▇▇▇▇▇▇██████</td></tr></table><br/></div><div class=\"wandb-col\"><h3>Run summary:</h3><br/><table class=\"wandb\"><tr><td>Training Accuracy</td><td>0.99875</td></tr><tr><td>Training Loss</td><td>0.0172</td></tr><tr><td>Validation Accuracy</td><td>0.56977</td></tr><tr><td>Validation Loss</td><td>4.5037</td></tr></table><br/></div></div>"
      ],
      "text/plain": [
       "<IPython.core.display.HTML object>"
      ]
     },
     "metadata": {},
     "output_type": "display_data"
    },
    {
     "data": {
      "text/html": [
       " View run <strong style=\"color:#cdcd00\">misty-vortex-99</strong> at: <a href='https://wandb.ai/prakhar-jain/multi-layer-perceptron/runs/uee9lane' target=\"_blank\">https://wandb.ai/prakhar-jain/multi-layer-perceptron/runs/uee9lane</a><br/>Synced 6 W&B file(s), 0 media file(s), 0 artifact file(s) and 0 other file(s)"
      ],
      "text/plain": [
       "<IPython.core.display.HTML object>"
      ]
     },
     "metadata": {},
     "output_type": "display_data"
    },
    {
     "data": {
      "text/html": [
       "Find logs at: <code>./wandb/run-20231015_232011-uee9lane/logs</code>"
      ],
      "text/plain": [
       "<IPython.core.display.HTML object>"
      ]
     },
     "metadata": {},
     "output_type": "display_data"
    },
    {
     "data": {
      "application/vnd.jupyter.widget-view+json": {
       "model_id": "225bd1d3e74142c49d909df64fc50bc7",
       "version_major": 2,
       "version_minor": 0
      },
      "text/plain": [
       "VBox(children=(Label(value='Waiting for wandb.init()...\\r'), FloatProgress(value=0.011113076811145421, max=1.0…"
      ]
     },
     "metadata": {},
     "output_type": "display_data"
    },
    {
     "data": {
      "text/html": [
       "wandb version 0.15.12 is available!  To upgrade, please run:\n",
       " $ pip install wandb --upgrade"
      ],
      "text/plain": [
       "<IPython.core.display.HTML object>"
      ]
     },
     "metadata": {},
     "output_type": "display_data"
    },
    {
     "data": {
      "text/html": [
       "Tracking run with wandb version 0.15.11"
      ],
      "text/plain": [
       "<IPython.core.display.HTML object>"
      ]
     },
     "metadata": {},
     "output_type": "display_data"
    },
    {
     "data": {
      "text/html": [
       "Run data is saved locally in <code>/home/prakhar/Desktop/assignment-3-prakharjain3/wandb/run-20231015_232200-6qrwl4vj</code>"
      ],
      "text/plain": [
       "<IPython.core.display.HTML object>"
      ]
     },
     "metadata": {},
     "output_type": "display_data"
    },
    {
     "data": {
      "text/html": [
       "Syncing run <strong><a href='https://wandb.ai/prakhar-jain/multi-layer-perceptron/runs/6qrwl4vj' target=\"_blank\">warm-hill-100</a></strong> to <a href='https://wandb.ai/prakhar-jain/multi-layer-perceptron' target=\"_blank\">Weights & Biases</a> (<a href='https://wandb.me/run' target=\"_blank\">docs</a>)<br/>"
      ],
      "text/plain": [
       "<IPython.core.display.HTML object>"
      ]
     },
     "metadata": {},
     "output_type": "display_data"
    },
    {
     "data": {
      "text/html": [
       " View project at <a href='https://wandb.ai/prakhar-jain/multi-layer-perceptron' target=\"_blank\">https://wandb.ai/prakhar-jain/multi-layer-perceptron</a>"
      ],
      "text/plain": [
       "<IPython.core.display.HTML object>"
      ]
     },
     "metadata": {},
     "output_type": "display_data"
    },
    {
     "data": {
      "text/html": [
       " View run at <a href='https://wandb.ai/prakhar-jain/multi-layer-perceptron/runs/6qrwl4vj' target=\"_blank\">https://wandb.ai/prakhar-jain/multi-layer-perceptron/runs/6qrwl4vj</a>"
      ],
      "text/plain": [
       "<IPython.core.display.HTML object>"
      ]
     },
     "metadata": {},
     "output_type": "display_data"
    },
    {
     "name": "stderr",
     "output_type": "stream",
     "text": [
      "ic| i: 1\n",
      "ic| i: 2\n"
     ]
    },
    {
     "data": {
      "text/html": [
       "Waiting for W&B process to finish... <strong style=\"color:green\">(success).</strong>"
      ],
      "text/plain": [
       "<IPython.core.display.HTML object>"
      ]
     },
     "metadata": {},
     "output_type": "display_data"
    },
    {
     "data": {
      "application/vnd.jupyter.widget-view+json": {
       "model_id": "37899fa854b94fd4a1d66bb2e02bd998",
       "version_major": 2,
       "version_minor": 0
      },
      "text/plain": [
       "VBox(children=(Label(value='0.003 MB of 0.003 MB uploaded (0.000 MB deduped)\\r'), FloatProgress(value=1.0, max…"
      ]
     },
     "metadata": {},
     "output_type": "display_data"
    },
    {
     "name": "stderr",
     "output_type": "stream",
     "text": [
      "wandb: WARNING Source type is set to 'repo' but some required information is missing from the environment. A job will not be created from this run. See https://docs.wandb.ai/guides/launch/create-job\n"
     ]
    },
    {
     "data": {
      "text/html": [
       "<style>\n",
       "    table.wandb td:nth-child(1) { padding: 0 10px; text-align: left ; width: auto;} td:nth-child(2) {text-align: left ; width: 100%}\n",
       "    .wandb-row { display: flex; flex-direction: row; flex-wrap: wrap; justify-content: flex-start; width: 100% }\n",
       "    .wandb-col { display: flex; flex-direction: column; flex-basis: 100%; flex: 1; padding: 10px; }\n",
       "    </style>\n",
       "<div class=\"wandb-row\"><div class=\"wandb-col\"><h3>Run history:</h3><br/><table class=\"wandb\"><tr><td>Training Accuracy</td><td>▁▂▂▂▃▃▄▅▆▆▇▇████████████████████████████</td></tr><tr><td>Training Loss</td><td>█▇▇▇▆▆▅▄▃▃▂▂▂▂▁▁▁▁▁▁▁▁▁▁▁▁▁▁▁▁▁▁▁▁▁▁▁▁▁▁</td></tr><tr><td>Validation Accuracy</td><td>█▅▅▆▅▃▅▄▁▂▃▂▃▃▃▃▂▃▃▃▂▃▃▃▃▃▃▃▃▃▃▃▃▃▃▃▃▂▃▂</td></tr><tr><td>Validation Loss</td><td>▁▁▁▁▁▁▂▂▂▃▃▄▄▅▅▅▆▆▆▆▇▇▇▇▇▇▇▇▇▇▇█████████</td></tr></table><br/></div><div class=\"wandb-col\"><h3>Run summary:</h3><br/><table class=\"wandb\"><tr><td>Training Accuracy</td><td>1.0</td></tr><tr><td>Training Loss</td><td>0.00393</td></tr><tr><td>Validation Accuracy</td><td>0.55814</td></tr><tr><td>Validation Loss</td><td>4.77907</td></tr></table><br/></div></div>"
      ],
      "text/plain": [
       "<IPython.core.display.HTML object>"
      ]
     },
     "metadata": {},
     "output_type": "display_data"
    },
    {
     "data": {
      "text/html": [
       " View run <strong style=\"color:#cdcd00\">warm-hill-100</strong> at: <a href='https://wandb.ai/prakhar-jain/multi-layer-perceptron/runs/6qrwl4vj' target=\"_blank\">https://wandb.ai/prakhar-jain/multi-layer-perceptron/runs/6qrwl4vj</a><br/>Synced 6 W&B file(s), 0 media file(s), 0 artifact file(s) and 0 other file(s)"
      ],
      "text/plain": [
       "<IPython.core.display.HTML object>"
      ]
     },
     "metadata": {},
     "output_type": "display_data"
    },
    {
     "data": {
      "text/html": [
       "Find logs at: <code>./wandb/run-20231015_232200-6qrwl4vj/logs</code>"
      ],
      "text/plain": [
       "<IPython.core.display.HTML object>"
      ]
     },
     "metadata": {},
     "output_type": "display_data"
    },
    {
     "data": {
      "application/vnd.jupyter.widget-view+json": {
       "model_id": "5f44f7b47c134895bccdd4f40e6699c1",
       "version_major": 2,
       "version_minor": 0
      },
      "text/plain": [
       "VBox(children=(Label(value='Waiting for wandb.init()...\\r'), FloatProgress(value=0.011112452877892389, max=1.0…"
      ]
     },
     "metadata": {},
     "output_type": "display_data"
    },
    {
     "data": {
      "text/html": [
       "wandb version 0.15.12 is available!  To upgrade, please run:\n",
       " $ pip install wandb --upgrade"
      ],
      "text/plain": [
       "<IPython.core.display.HTML object>"
      ]
     },
     "metadata": {},
     "output_type": "display_data"
    },
    {
     "data": {
      "text/html": [
       "Tracking run with wandb version 0.15.11"
      ],
      "text/plain": [
       "<IPython.core.display.HTML object>"
      ]
     },
     "metadata": {},
     "output_type": "display_data"
    },
    {
     "data": {
      "text/html": [
       "Run data is saved locally in <code>/home/prakhar/Desktop/assignment-3-prakharjain3/wandb/run-20231015_232518-4ln2k3na</code>"
      ],
      "text/plain": [
       "<IPython.core.display.HTML object>"
      ]
     },
     "metadata": {},
     "output_type": "display_data"
    },
    {
     "data": {
      "text/html": [
       "Syncing run <strong><a href='https://wandb.ai/prakhar-jain/multi-layer-perceptron/runs/4ln2k3na' target=\"_blank\">fine-sea-101</a></strong> to <a href='https://wandb.ai/prakhar-jain/multi-layer-perceptron' target=\"_blank\">Weights & Biases</a> (<a href='https://wandb.me/run' target=\"_blank\">docs</a>)<br/>"
      ],
      "text/plain": [
       "<IPython.core.display.HTML object>"
      ]
     },
     "metadata": {},
     "output_type": "display_data"
    },
    {
     "data": {
      "text/html": [
       " View project at <a href='https://wandb.ai/prakhar-jain/multi-layer-perceptron' target=\"_blank\">https://wandb.ai/prakhar-jain/multi-layer-perceptron</a>"
      ],
      "text/plain": [
       "<IPython.core.display.HTML object>"
      ]
     },
     "metadata": {},
     "output_type": "display_data"
    },
    {
     "data": {
      "text/html": [
       " View run at <a href='https://wandb.ai/prakhar-jain/multi-layer-perceptron/runs/4ln2k3na' target=\"_blank\">https://wandb.ai/prakhar-jain/multi-layer-perceptron/runs/4ln2k3na</a>"
      ],
      "text/plain": [
       "<IPython.core.display.HTML object>"
      ]
     },
     "metadata": {},
     "output_type": "display_data"
    },
    {
     "name": "stderr",
     "output_type": "stream",
     "text": [
      "ic| i: 1\n",
      "ic| i: 2\n",
      "/home/prakhar/miniconda3/lib/python3.11/site-packages/sklearn/metrics/_classification.py:1344: UndefinedMetricWarning: Recall is ill-defined and being set to 0.0 in labels with no true samples. Use `zero_division` parameter to control this behavior.\n",
      "  _warn_prf(average, modifier, msg_start, len(result))\n"
     ]
    },
    {
     "data": {
      "text/html": [
       "Waiting for W&B process to finish... <strong style=\"color:green\">(success).</strong>"
      ],
      "text/plain": [
       "<IPython.core.display.HTML object>"
      ]
     },
     "metadata": {},
     "output_type": "display_data"
    },
    {
     "data": {
      "application/vnd.jupyter.widget-view+json": {
       "model_id": "7492ff5109d04a85ae5d8e640d546f01",
       "version_major": 2,
       "version_minor": 0
      },
      "text/plain": [
       "VBox(children=(Label(value='0.003 MB of 0.003 MB uploaded (0.000 MB deduped)\\r'), FloatProgress(value=1.0, max…"
      ]
     },
     "metadata": {},
     "output_type": "display_data"
    },
    {
     "name": "stderr",
     "output_type": "stream",
     "text": [
      "wandb: WARNING Source type is set to 'repo' but some required information is missing from the environment. A job will not be created from this run. See https://docs.wandb.ai/guides/launch/create-job\n"
     ]
    },
    {
     "data": {
      "text/html": [
       "<style>\n",
       "    table.wandb td:nth-child(1) { padding: 0 10px; text-align: left ; width: auto;} td:nth-child(2) {text-align: left ; width: 100%}\n",
       "    .wandb-row { display: flex; flex-direction: row; flex-wrap: wrap; justify-content: flex-start; width: 100% }\n",
       "    .wandb-col { display: flex; flex-direction: column; flex-basis: 100%; flex: 1; padding: 10px; }\n",
       "    </style>\n",
       "<div class=\"wandb-row\"><div class=\"wandb-col\"><h3>Run history:</h3><br/><table class=\"wandb\"><tr><td>Training Accuracy</td><td>▁▁▁▂▂▂▄▅▆▇▇█████████████████████████████</td></tr><tr><td>Training Loss</td><td>██▇▇▇▆▅▄▃▃▂▂▁▁▁▁▁▁▁▁▁▁▁▁▁▁▁▁▁▁▁▁▁▁▁▁▁▁▁▁</td></tr><tr><td>Validation Accuracy</td><td>▆▆▄▅▆▁▄▅▄▅▅▆▆▆▆█▆▆▇▇██▇▇▇▇▇▇▇▇▇▇▇▇▇▇▇▇▇▇</td></tr><tr><td>Validation Loss</td><td>▁▁▁▁▁▂▂▂▂▃▃▄▄▅▅▅▆▆▆▆▆▇▇▇▇▇▇▇▇▇▇█████████</td></tr></table><br/></div><div class=\"wandb-col\"><h3>Run summary:</h3><br/><table class=\"wandb\"><tr><td>Training Accuracy</td><td>1.0</td></tr><tr><td>Training Loss</td><td>0.00176</td></tr><tr><td>Validation Accuracy</td><td>0.63953</td></tr><tr><td>Validation Loss</td><td>3.77145</td></tr></table><br/></div></div>"
      ],
      "text/plain": [
       "<IPython.core.display.HTML object>"
      ]
     },
     "metadata": {},
     "output_type": "display_data"
    },
    {
     "data": {
      "text/html": [
       " View run <strong style=\"color:#cdcd00\">fine-sea-101</strong> at: <a href='https://wandb.ai/prakhar-jain/multi-layer-perceptron/runs/4ln2k3na' target=\"_blank\">https://wandb.ai/prakhar-jain/multi-layer-perceptron/runs/4ln2k3na</a><br/>Synced 6 W&B file(s), 0 media file(s), 0 artifact file(s) and 0 other file(s)"
      ],
      "text/plain": [
       "<IPython.core.display.HTML object>"
      ]
     },
     "metadata": {},
     "output_type": "display_data"
    },
    {
     "data": {
      "text/html": [
       "Find logs at: <code>./wandb/run-20231015_232518-4ln2k3na/logs</code>"
      ],
      "text/plain": [
       "<IPython.core.display.HTML object>"
      ]
     },
     "metadata": {},
     "output_type": "display_data"
    },
    {
     "data": {
      "application/vnd.jupyter.widget-view+json": {
       "model_id": "52170b09d60a42659ca2e20b0e8ae01e",
       "version_major": 2,
       "version_minor": 0
      },
      "text/plain": [
       "VBox(children=(Label(value='Waiting for wandb.init()...\\r'), FloatProgress(value=0.011112665444347334, max=1.0…"
      ]
     },
     "metadata": {},
     "output_type": "display_data"
    },
    {
     "data": {
      "text/html": [
       "wandb version 0.15.12 is available!  To upgrade, please run:\n",
       " $ pip install wandb --upgrade"
      ],
      "text/plain": [
       "<IPython.core.display.HTML object>"
      ]
     },
     "metadata": {},
     "output_type": "display_data"
    },
    {
     "data": {
      "text/html": [
       "Tracking run with wandb version 0.15.11"
      ],
      "text/plain": [
       "<IPython.core.display.HTML object>"
      ]
     },
     "metadata": {},
     "output_type": "display_data"
    },
    {
     "data": {
      "text/html": [
       "Run data is saved locally in <code>/home/prakhar/Desktop/assignment-3-prakharjain3/wandb/run-20231015_232848-lncju7tq</code>"
      ],
      "text/plain": [
       "<IPython.core.display.HTML object>"
      ]
     },
     "metadata": {},
     "output_type": "display_data"
    },
    {
     "data": {
      "text/html": [
       "Syncing run <strong><a href='https://wandb.ai/prakhar-jain/multi-layer-perceptron/runs/lncju7tq' target=\"_blank\">robust-glitter-102</a></strong> to <a href='https://wandb.ai/prakhar-jain/multi-layer-perceptron' target=\"_blank\">Weights & Biases</a> (<a href='https://wandb.me/run' target=\"_blank\">docs</a>)<br/>"
      ],
      "text/plain": [
       "<IPython.core.display.HTML object>"
      ]
     },
     "metadata": {},
     "output_type": "display_data"
    },
    {
     "data": {
      "text/html": [
       " View project at <a href='https://wandb.ai/prakhar-jain/multi-layer-perceptron' target=\"_blank\">https://wandb.ai/prakhar-jain/multi-layer-perceptron</a>"
      ],
      "text/plain": [
       "<IPython.core.display.HTML object>"
      ]
     },
     "metadata": {},
     "output_type": "display_data"
    },
    {
     "data": {
      "text/html": [
       " View run at <a href='https://wandb.ai/prakhar-jain/multi-layer-perceptron/runs/lncju7tq' target=\"_blank\">https://wandb.ai/prakhar-jain/multi-layer-perceptron/runs/lncju7tq</a>"
      ],
      "text/plain": [
       "<IPython.core.display.HTML object>"
      ]
     },
     "metadata": {},
     "output_type": "display_data"
    },
    {
     "name": "stderr",
     "output_type": "stream",
     "text": [
      "ic| i: 1\n",
      "ic| i: 2\n",
      "/home/prakhar/miniconda3/lib/python3.11/site-packages/sklearn/metrics/_classification.py:1344: UndefinedMetricWarning: Recall is ill-defined and being set to 0.0 in labels with no true samples. Use `zero_division` parameter to control this behavior.\n",
      "  _warn_prf(average, modifier, msg_start, len(result))\n"
     ]
    },
    {
     "data": {
      "text/html": [
       "Waiting for W&B process to finish... <strong style=\"color:green\">(success).</strong>"
      ],
      "text/plain": [
       "<IPython.core.display.HTML object>"
      ]
     },
     "metadata": {},
     "output_type": "display_data"
    },
    {
     "name": "stderr",
     "output_type": "stream",
     "text": [
      "wandb: WARNING Source type is set to 'repo' but some required information is missing from the environment. A job will not be created from this run. See https://docs.wandb.ai/guides/launch/create-job\n"
     ]
    },
    {
     "data": {
      "application/vnd.jupyter.widget-view+json": {
       "model_id": "bb17d95e7e984fb18fdceddef3d9e5f8",
       "version_major": 2,
       "version_minor": 0
      },
      "text/plain": [
       "VBox(children=(Label(value='0.003 MB of 0.003 MB uploaded (0.000 MB deduped)\\r'), FloatProgress(value=1.0, max…"
      ]
     },
     "metadata": {},
     "output_type": "display_data"
    },
    {
     "data": {
      "text/html": [
       "<style>\n",
       "    table.wandb td:nth-child(1) { padding: 0 10px; text-align: left ; width: auto;} td:nth-child(2) {text-align: left ; width: 100%}\n",
       "    .wandb-row { display: flex; flex-direction: row; flex-wrap: wrap; justify-content: flex-start; width: 100% }\n",
       "    .wandb-col { display: flex; flex-direction: column; flex-basis: 100%; flex: 1; padding: 10px; }\n",
       "    </style>\n",
       "<div class=\"wandb-row\"><div class=\"wandb-col\"><h3>Run history:</h3><br/><table class=\"wandb\"><tr><td>Training Accuracy</td><td>▁▁▂▂▂▃▄▄▆▆▇▇▇███████████████████████████</td></tr><tr><td>Training Loss</td><td>██▇▇▇▆▅▅▄▃▃▂▂▂▁▁▁▁▁▁▁▁▁▁▁▁▁▁▁▁▁▁▁▁▁▁▁▁▁▁</td></tr><tr><td>Validation Accuracy</td><td>▇█▇▇▆▁▃▃▅▅▅▇▇▆▅▇▆▇▆▆▇▇▆▆▇▆▆▆▇▆▆▇▆▆▇▇▇▇▇▇</td></tr><tr><td>Validation Loss</td><td>▁▁▁▁▁▂▂▂▃▃▃▄▄▅▅▅▆▆▆▆▆▇▇▇▇▇▇▇▇▇██████████</td></tr></table><br/></div><div class=\"wandb-col\"><h3>Run summary:</h3><br/><table class=\"wandb\"><tr><td>Training Accuracy</td><td>1.0</td></tr><tr><td>Training Loss</td><td>0.00319</td></tr><tr><td>Validation Accuracy</td><td>0.59884</td></tr><tr><td>Validation Loss</td><td>4.73555</td></tr></table><br/></div></div>"
      ],
      "text/plain": [
       "<IPython.core.display.HTML object>"
      ]
     },
     "metadata": {},
     "output_type": "display_data"
    },
    {
     "data": {
      "text/html": [
       " View run <strong style=\"color:#cdcd00\">robust-glitter-102</strong> at: <a href='https://wandb.ai/prakhar-jain/multi-layer-perceptron/runs/lncju7tq' target=\"_blank\">https://wandb.ai/prakhar-jain/multi-layer-perceptron/runs/lncju7tq</a><br/>Synced 6 W&B file(s), 0 media file(s), 0 artifact file(s) and 0 other file(s)"
      ],
      "text/plain": [
       "<IPython.core.display.HTML object>"
      ]
     },
     "metadata": {},
     "output_type": "display_data"
    },
    {
     "data": {
      "text/html": [
       "Find logs at: <code>./wandb/run-20231015_232848-lncju7tq/logs</code>"
      ],
      "text/plain": [
       "<IPython.core.display.HTML object>"
      ]
     },
     "metadata": {},
     "output_type": "display_data"
    },
    {
     "data": {
      "application/vnd.jupyter.widget-view+json": {
       "model_id": "421374e2496745c5b848142a57c6e158",
       "version_major": 2,
       "version_minor": 0
      },
      "text/plain": [
       "VBox(children=(Label(value='Waiting for wandb.init()...\\r'), FloatProgress(value=0.011112947622152407, max=1.0…"
      ]
     },
     "metadata": {},
     "output_type": "display_data"
    },
    {
     "data": {
      "text/html": [
       "wandb version 0.15.12 is available!  To upgrade, please run:\n",
       " $ pip install wandb --upgrade"
      ],
      "text/plain": [
       "<IPython.core.display.HTML object>"
      ]
     },
     "metadata": {},
     "output_type": "display_data"
    },
    {
     "data": {
      "text/html": [
       "Tracking run with wandb version 0.15.11"
      ],
      "text/plain": [
       "<IPython.core.display.HTML object>"
      ]
     },
     "metadata": {},
     "output_type": "display_data"
    },
    {
     "data": {
      "text/html": [
       "Run data is saved locally in <code>/home/prakhar/Desktop/assignment-3-prakharjain3/wandb/run-20231015_233211-u006p4hk</code>"
      ],
      "text/plain": [
       "<IPython.core.display.HTML object>"
      ]
     },
     "metadata": {},
     "output_type": "display_data"
    },
    {
     "data": {
      "text/html": [
       "Syncing run <strong><a href='https://wandb.ai/prakhar-jain/multi-layer-perceptron/runs/u006p4hk' target=\"_blank\">genial-fire-103</a></strong> to <a href='https://wandb.ai/prakhar-jain/multi-layer-perceptron' target=\"_blank\">Weights & Biases</a> (<a href='https://wandb.me/run' target=\"_blank\">docs</a>)<br/>"
      ],
      "text/plain": [
       "<IPython.core.display.HTML object>"
      ]
     },
     "metadata": {},
     "output_type": "display_data"
    },
    {
     "data": {
      "text/html": [
       " View project at <a href='https://wandb.ai/prakhar-jain/multi-layer-perceptron' target=\"_blank\">https://wandb.ai/prakhar-jain/multi-layer-perceptron</a>"
      ],
      "text/plain": [
       "<IPython.core.display.HTML object>"
      ]
     },
     "metadata": {},
     "output_type": "display_data"
    },
    {
     "data": {
      "text/html": [
       " View run at <a href='https://wandb.ai/prakhar-jain/multi-layer-perceptron/runs/u006p4hk' target=\"_blank\">https://wandb.ai/prakhar-jain/multi-layer-perceptron/runs/u006p4hk</a>"
      ],
      "text/plain": [
       "<IPython.core.display.HTML object>"
      ]
     },
     "metadata": {},
     "output_type": "display_data"
    },
    {
     "name": "stderr",
     "output_type": "stream",
     "text": [
      "ic| i: 1\n",
      "ic| i: 2\n"
     ]
    },
    {
     "data": {
      "text/html": [
       "Waiting for W&B process to finish... <strong style=\"color:green\">(success).</strong>"
      ],
      "text/plain": [
       "<IPython.core.display.HTML object>"
      ]
     },
     "metadata": {},
     "output_type": "display_data"
    },
    {
     "name": "stderr",
     "output_type": "stream",
     "text": [
      "wandb: WARNING Source type is set to 'repo' but some required information is missing from the environment. A job will not be created from this run. See https://docs.wandb.ai/guides/launch/create-job\n"
     ]
    },
    {
     "data": {
      "application/vnd.jupyter.widget-view+json": {
       "model_id": "913258bcb337461ba9c3a83f75fb3eb6",
       "version_major": 2,
       "version_minor": 0
      },
      "text/plain": [
       "VBox(children=(Label(value='0.003 MB of 0.003 MB uploaded (0.000 MB deduped)\\r'), FloatProgress(value=1.0, max…"
      ]
     },
     "metadata": {},
     "output_type": "display_data"
    },
    {
     "data": {
      "text/html": [
       "<style>\n",
       "    table.wandb td:nth-child(1) { padding: 0 10px; text-align: left ; width: auto;} td:nth-child(2) {text-align: left ; width: 100%}\n",
       "    .wandb-row { display: flex; flex-direction: row; flex-wrap: wrap; justify-content: flex-start; width: 100% }\n",
       "    .wandb-col { display: flex; flex-direction: column; flex-basis: 100%; flex: 1; padding: 10px; }\n",
       "    </style>\n",
       "<div class=\"wandb-row\"><div class=\"wandb-col\"><h3>Run history:</h3><br/><table class=\"wandb\"><tr><td>Training Accuracy</td><td>▁▂▃▅▆▇██████████████████████████████████</td></tr><tr><td>Training Loss</td><td>█▇▆▄▃▂▁▁▁▁▁▁▁▁▁▁▁▁▁▁▁▁▁▁▁▁▁▁▁▁▁▁▁▁▁▁▁▁▁▁</td></tr><tr><td>Validation Accuracy</td><td>▇▆█▅▁▃▄▂▃▄▄▄▃▃▄▄▄▃▃▃▃▃▃▃▃▃▃▃▃▃▄▃▃▂▃▃▃▃▃▃</td></tr><tr><td>Validation Loss</td><td>▁▁▁▂▃▄▅▅▆▆▆▇▇▇▇▇▇▇▇▇▇▇▇█████████████████</td></tr></table><br/></div><div class=\"wandb-col\"><h3>Run summary:</h3><br/><table class=\"wandb\"><tr><td>Training Accuracy</td><td>1.0</td></tr><tr><td>Training Loss</td><td>0.00049</td></tr><tr><td>Validation Accuracy</td><td>0.5407</td></tr><tr><td>Validation Loss</td><td>4.78166</td></tr></table><br/></div></div>"
      ],
      "text/plain": [
       "<IPython.core.display.HTML object>"
      ]
     },
     "metadata": {},
     "output_type": "display_data"
    },
    {
     "data": {
      "text/html": [
       " View run <strong style=\"color:#cdcd00\">genial-fire-103</strong> at: <a href='https://wandb.ai/prakhar-jain/multi-layer-perceptron/runs/u006p4hk' target=\"_blank\">https://wandb.ai/prakhar-jain/multi-layer-perceptron/runs/u006p4hk</a><br/>Synced 6 W&B file(s), 0 media file(s), 0 artifact file(s) and 0 other file(s)"
      ],
      "text/plain": [
       "<IPython.core.display.HTML object>"
      ]
     },
     "metadata": {},
     "output_type": "display_data"
    },
    {
     "data": {
      "text/html": [
       "Find logs at: <code>./wandb/run-20231015_233211-u006p4hk/logs</code>"
      ],
      "text/plain": [
       "<IPython.core.display.HTML object>"
      ]
     },
     "metadata": {},
     "output_type": "display_data"
    },
    {
     "data": {
      "application/vnd.jupyter.widget-view+json": {
       "model_id": "e4c8563892af42bc93b60e40bc445bda",
       "version_major": 2,
       "version_minor": 0
      },
      "text/plain": [
       "VBox(children=(Label(value='Waiting for wandb.init()...\\r'), FloatProgress(value=0.011112596566575424, max=1.0…"
      ]
     },
     "metadata": {},
     "output_type": "display_data"
    },
    {
     "data": {
      "text/html": [
       "wandb version 0.15.12 is available!  To upgrade, please run:\n",
       " $ pip install wandb --upgrade"
      ],
      "text/plain": [
       "<IPython.core.display.HTML object>"
      ]
     },
     "metadata": {},
     "output_type": "display_data"
    },
    {
     "data": {
      "text/html": [
       "Tracking run with wandb version 0.15.11"
      ],
      "text/plain": [
       "<IPython.core.display.HTML object>"
      ]
     },
     "metadata": {},
     "output_type": "display_data"
    },
    {
     "data": {
      "text/html": [
       "Run data is saved locally in <code>/home/prakhar/Desktop/assignment-3-prakharjain3/wandb/run-20231015_233357-h0vzw19b</code>"
      ],
      "text/plain": [
       "<IPython.core.display.HTML object>"
      ]
     },
     "metadata": {},
     "output_type": "display_data"
    },
    {
     "data": {
      "text/html": [
       "Syncing run <strong><a href='https://wandb.ai/prakhar-jain/multi-layer-perceptron/runs/h0vzw19b' target=\"_blank\">dauntless-bird-104</a></strong> to <a href='https://wandb.ai/prakhar-jain/multi-layer-perceptron' target=\"_blank\">Weights & Biases</a> (<a href='https://wandb.me/run' target=\"_blank\">docs</a>)<br/>"
      ],
      "text/plain": [
       "<IPython.core.display.HTML object>"
      ]
     },
     "metadata": {},
     "output_type": "display_data"
    },
    {
     "data": {
      "text/html": [
       " View project at <a href='https://wandb.ai/prakhar-jain/multi-layer-perceptron' target=\"_blank\">https://wandb.ai/prakhar-jain/multi-layer-perceptron</a>"
      ],
      "text/plain": [
       "<IPython.core.display.HTML object>"
      ]
     },
     "metadata": {},
     "output_type": "display_data"
    },
    {
     "data": {
      "text/html": [
       " View run at <a href='https://wandb.ai/prakhar-jain/multi-layer-perceptron/runs/h0vzw19b' target=\"_blank\">https://wandb.ai/prakhar-jain/multi-layer-perceptron/runs/h0vzw19b</a>"
      ],
      "text/plain": [
       "<IPython.core.display.HTML object>"
      ]
     },
     "metadata": {},
     "output_type": "display_data"
    },
    {
     "name": "stderr",
     "output_type": "stream",
     "text": [
      "ic| i: 1\n",
      "ic| i: 2\n",
      "/home/prakhar/miniconda3/lib/python3.11/site-packages/sklearn/metrics/_classification.py:1344: UndefinedMetricWarning: Recall is ill-defined and being set to 0.0 in labels with no true samples. Use `zero_division` parameter to control this behavior.\n",
      "  _warn_prf(average, modifier, msg_start, len(result))\n"
     ]
    },
    {
     "data": {
      "text/html": [
       "Waiting for W&B process to finish... <strong style=\"color:green\">(success).</strong>"
      ],
      "text/plain": [
       "<IPython.core.display.HTML object>"
      ]
     },
     "metadata": {},
     "output_type": "display_data"
    },
    {
     "name": "stderr",
     "output_type": "stream",
     "text": [
      "wandb: WARNING Source type is set to 'repo' but some required information is missing from the environment. A job will not be created from this run. See https://docs.wandb.ai/guides/launch/create-job\n"
     ]
    },
    {
     "data": {
      "application/vnd.jupyter.widget-view+json": {
       "model_id": "ce05cd3be7864353930c6b556c214442",
       "version_major": 2,
       "version_minor": 0
      },
      "text/plain": [
       "VBox(children=(Label(value='0.002 MB of 0.002 MB uploaded (0.000 MB deduped)\\r'), FloatProgress(value=1.0, max…"
      ]
     },
     "metadata": {},
     "output_type": "display_data"
    },
    {
     "data": {
      "text/html": [
       "<style>\n",
       "    table.wandb td:nth-child(1) { padding: 0 10px; text-align: left ; width: auto;} td:nth-child(2) {text-align: left ; width: 100%}\n",
       "    .wandb-row { display: flex; flex-direction: row; flex-wrap: wrap; justify-content: flex-start; width: 100% }\n",
       "    .wandb-col { display: flex; flex-direction: column; flex-basis: 100%; flex: 1; padding: 10px; }\n",
       "    </style>\n",
       "<div class=\"wandb-row\"><div class=\"wandb-col\"><h3>Run history:</h3><br/><table class=\"wandb\"><tr><td>Training Accuracy</td><td>▁▂▃▅▆███████████████████████████████████</td></tr><tr><td>Training Loss</td><td>█▇▆▄▃▁▁▁▁▁▁▁▁▁▁▁▁▁▁▁▁▁▁▁▁▁▁▁▁▁▁▁▁▁▁▁▁▁▁▁</td></tr><tr><td>Validation Accuracy</td><td>▇█▆▇▂▁▆█▅▆▆▆▆▆▆▆▆▅▆▅▅▅▅▅▅▆▆▆▆▅▅▅▇▆▆▅▆▆▇▇</td></tr><tr><td>Validation Loss</td><td>▁▁▁▂▃▄▅▅▆▆▆▆▇▇▇▇▇▇▇▇▇▇▇▇████████████████</td></tr></table><br/></div><div class=\"wandb-col\"><h3>Run summary:</h3><br/><table class=\"wandb\"><tr><td>Training Accuracy</td><td>1.0</td></tr><tr><td>Training Loss</td><td>0.00031</td></tr><tr><td>Validation Accuracy</td><td>0.5814</td></tr><tr><td>Validation Loss</td><td>4.05757</td></tr></table><br/></div></div>"
      ],
      "text/plain": [
       "<IPython.core.display.HTML object>"
      ]
     },
     "metadata": {},
     "output_type": "display_data"
    },
    {
     "data": {
      "text/html": [
       " View run <strong style=\"color:#cdcd00\">dauntless-bird-104</strong> at: <a href='https://wandb.ai/prakhar-jain/multi-layer-perceptron/runs/h0vzw19b' target=\"_blank\">https://wandb.ai/prakhar-jain/multi-layer-perceptron/runs/h0vzw19b</a><br/>Synced 6 W&B file(s), 0 media file(s), 0 artifact file(s) and 0 other file(s)"
      ],
      "text/plain": [
       "<IPython.core.display.HTML object>"
      ]
     },
     "metadata": {},
     "output_type": "display_data"
    },
    {
     "data": {
      "text/html": [
       "Find logs at: <code>./wandb/run-20231015_233357-h0vzw19b/logs</code>"
      ],
      "text/plain": [
       "<IPython.core.display.HTML object>"
      ]
     },
     "metadata": {},
     "output_type": "display_data"
    },
    {
     "data": {
      "application/vnd.jupyter.widget-view+json": {
       "model_id": "b05082d401c041f1b7e1e73ded93ab80",
       "version_major": 2,
       "version_minor": 0
      },
      "text/plain": [
       "VBox(children=(Label(value='Waiting for wandb.init()...\\r'), FloatProgress(value=0.011112954888893809, max=1.0…"
      ]
     },
     "metadata": {},
     "output_type": "display_data"
    },
    {
     "data": {
      "text/html": [
       "wandb version 0.15.12 is available!  To upgrade, please run:\n",
       " $ pip install wandb --upgrade"
      ],
      "text/plain": [
       "<IPython.core.display.HTML object>"
      ]
     },
     "metadata": {},
     "output_type": "display_data"
    },
    {
     "data": {
      "text/html": [
       "Tracking run with wandb version 0.15.11"
      ],
      "text/plain": [
       "<IPython.core.display.HTML object>"
      ]
     },
     "metadata": {},
     "output_type": "display_data"
    },
    {
     "data": {
      "text/html": [
       "Run data is saved locally in <code>/home/prakhar/Desktop/assignment-3-prakharjain3/wandb/run-20231015_233547-j6wbkg1q</code>"
      ],
      "text/plain": [
       "<IPython.core.display.HTML object>"
      ]
     },
     "metadata": {},
     "output_type": "display_data"
    },
    {
     "data": {
      "text/html": [
       "Syncing run <strong><a href='https://wandb.ai/prakhar-jain/multi-layer-perceptron/runs/j6wbkg1q' target=\"_blank\">playful-sea-105</a></strong> to <a href='https://wandb.ai/prakhar-jain/multi-layer-perceptron' target=\"_blank\">Weights & Biases</a> (<a href='https://wandb.me/run' target=\"_blank\">docs</a>)<br/>"
      ],
      "text/plain": [
       "<IPython.core.display.HTML object>"
      ]
     },
     "metadata": {},
     "output_type": "display_data"
    },
    {
     "data": {
      "text/html": [
       " View project at <a href='https://wandb.ai/prakhar-jain/multi-layer-perceptron' target=\"_blank\">https://wandb.ai/prakhar-jain/multi-layer-perceptron</a>"
      ],
      "text/plain": [
       "<IPython.core.display.HTML object>"
      ]
     },
     "metadata": {},
     "output_type": "display_data"
    },
    {
     "data": {
      "text/html": [
       " View run at <a href='https://wandb.ai/prakhar-jain/multi-layer-perceptron/runs/j6wbkg1q' target=\"_blank\">https://wandb.ai/prakhar-jain/multi-layer-perceptron/runs/j6wbkg1q</a>"
      ],
      "text/plain": [
       "<IPython.core.display.HTML object>"
      ]
     },
     "metadata": {},
     "output_type": "display_data"
    },
    {
     "name": "stderr",
     "output_type": "stream",
     "text": [
      "ic| i: 1\n",
      "ic| i: 2\n"
     ]
    },
    {
     "data": {
      "text/html": [
       "Waiting for W&B process to finish... <strong style=\"color:green\">(success).</strong>"
      ],
      "text/plain": [
       "<IPython.core.display.HTML object>"
      ]
     },
     "metadata": {},
     "output_type": "display_data"
    },
    {
     "name": "stderr",
     "output_type": "stream",
     "text": [
      "wandb: WARNING Source type is set to 'repo' but some required information is missing from the environment. A job will not be created from this run. See https://docs.wandb.ai/guides/launch/create-job\n"
     ]
    },
    {
     "data": {
      "application/vnd.jupyter.widget-view+json": {
       "model_id": "564d345c16ea4eaa87c5ad81c2ed0be2",
       "version_major": 2,
       "version_minor": 0
      },
      "text/plain": [
       "VBox(children=(Label(value='0.003 MB of 0.003 MB uploaded (0.000 MB deduped)\\r'), FloatProgress(value=1.0, max…"
      ]
     },
     "metadata": {},
     "output_type": "display_data"
    },
    {
     "data": {
      "text/html": [
       "<style>\n",
       "    table.wandb td:nth-child(1) { padding: 0 10px; text-align: left ; width: auto;} td:nth-child(2) {text-align: left ; width: 100%}\n",
       "    .wandb-row { display: flex; flex-direction: row; flex-wrap: wrap; justify-content: flex-start; width: 100% }\n",
       "    .wandb-col { display: flex; flex-direction: column; flex-basis: 100%; flex: 1; padding: 10px; }\n",
       "    </style>\n",
       "<div class=\"wandb-row\"><div class=\"wandb-col\"><h3>Run history:</h3><br/><table class=\"wandb\"><tr><td>Training Accuracy</td><td>▁▁▂▄▄▆█▇████████████████████████████████</td></tr><tr><td>Training Loss</td><td>█▇▆▅▅▃▂▂▁▁▁▁▁▁▁▁▁▁▁▁▁▁▁▁▁▁▁▁▁▁▁▁▁▁▁▁▁▁▁▁</td></tr><tr><td>Validation Accuracy</td><td>▇▇▇▅▁▆█▆▆▇▇█▇▇▇▆▇▇▇▇▇▇▇▇▇▇▇██▇██████▇▇█▇</td></tr><tr><td>Validation Loss</td><td>▁▁▁▂▃▄▅▅▆▆▆▆▇▇▇▇▇▇▇▇▇▇▇█████████████████</td></tr></table><br/></div><div class=\"wandb-col\"><h3>Run summary:</h3><br/><table class=\"wandb\"><tr><td>Training Accuracy</td><td>1.0</td></tr><tr><td>Training Loss</td><td>0.00043</td></tr><tr><td>Validation Accuracy</td><td>0.61628</td></tr><tr><td>Validation Loss</td><td>4.1383</td></tr></table><br/></div></div>"
      ],
      "text/plain": [
       "<IPython.core.display.HTML object>"
      ]
     },
     "metadata": {},
     "output_type": "display_data"
    },
    {
     "data": {
      "text/html": [
       " View run <strong style=\"color:#cdcd00\">playful-sea-105</strong> at: <a href='https://wandb.ai/prakhar-jain/multi-layer-perceptron/runs/j6wbkg1q' target=\"_blank\">https://wandb.ai/prakhar-jain/multi-layer-perceptron/runs/j6wbkg1q</a><br/>Synced 6 W&B file(s), 0 media file(s), 0 artifact file(s) and 0 other file(s)"
      ],
      "text/plain": [
       "<IPython.core.display.HTML object>"
      ]
     },
     "metadata": {},
     "output_type": "display_data"
    },
    {
     "data": {
      "text/html": [
       "Find logs at: <code>./wandb/run-20231015_233547-j6wbkg1q/logs</code>"
      ],
      "text/plain": [
       "<IPython.core.display.HTML object>"
      ]
     },
     "metadata": {},
     "output_type": "display_data"
    },
    {
     "data": {
      "application/vnd.jupyter.widget-view+json": {
       "model_id": "4cbd4501dfb44bea8168ec883d291f02",
       "version_major": 2,
       "version_minor": 0
      },
      "text/plain": [
       "VBox(children=(Label(value='Waiting for wandb.init()...\\r'), FloatProgress(value=0.011112770288956299, max=1.0…"
      ]
     },
     "metadata": {},
     "output_type": "display_data"
    },
    {
     "data": {
      "text/html": [
       "wandb version 0.15.12 is available!  To upgrade, please run:\n",
       " $ pip install wandb --upgrade"
      ],
      "text/plain": [
       "<IPython.core.display.HTML object>"
      ]
     },
     "metadata": {},
     "output_type": "display_data"
    },
    {
     "data": {
      "text/html": [
       "Tracking run with wandb version 0.15.11"
      ],
      "text/plain": [
       "<IPython.core.display.HTML object>"
      ]
     },
     "metadata": {},
     "output_type": "display_data"
    },
    {
     "data": {
      "text/html": [
       "Run data is saved locally in <code>/home/prakhar/Desktop/assignment-3-prakharjain3/wandb/run-20231015_233734-ej6d1mdl</code>"
      ],
      "text/plain": [
       "<IPython.core.display.HTML object>"
      ]
     },
     "metadata": {},
     "output_type": "display_data"
    },
    {
     "data": {
      "text/html": [
       "Syncing run <strong><a href='https://wandb.ai/prakhar-jain/multi-layer-perceptron/runs/ej6d1mdl' target=\"_blank\">rose-surf-106</a></strong> to <a href='https://wandb.ai/prakhar-jain/multi-layer-perceptron' target=\"_blank\">Weights & Biases</a> (<a href='https://wandb.me/run' target=\"_blank\">docs</a>)<br/>"
      ],
      "text/plain": [
       "<IPython.core.display.HTML object>"
      ]
     },
     "metadata": {},
     "output_type": "display_data"
    },
    {
     "data": {
      "text/html": [
       " View project at <a href='https://wandb.ai/prakhar-jain/multi-layer-perceptron' target=\"_blank\">https://wandb.ai/prakhar-jain/multi-layer-perceptron</a>"
      ],
      "text/plain": [
       "<IPython.core.display.HTML object>"
      ]
     },
     "metadata": {},
     "output_type": "display_data"
    },
    {
     "data": {
      "text/html": [
       " View run at <a href='https://wandb.ai/prakhar-jain/multi-layer-perceptron/runs/ej6d1mdl' target=\"_blank\">https://wandb.ai/prakhar-jain/multi-layer-perceptron/runs/ej6d1mdl</a>"
      ],
      "text/plain": [
       "<IPython.core.display.HTML object>"
      ]
     },
     "metadata": {},
     "output_type": "display_data"
    },
    {
     "name": "stderr",
     "output_type": "stream",
     "text": [
      "ic| i: 1\n",
      "ic| i: 2\n",
      "/home/prakhar/miniconda3/lib/python3.11/site-packages/sklearn/metrics/_classification.py:1344: UndefinedMetricWarning: Recall is ill-defined and being set to 0.0 in labels with no true samples. Use `zero_division` parameter to control this behavior.\n",
      "  _warn_prf(average, modifier, msg_start, len(result))\n"
     ]
    },
    {
     "data": {
      "text/html": [
       "Waiting for W&B process to finish... <strong style=\"color:green\">(success).</strong>"
      ],
      "text/plain": [
       "<IPython.core.display.HTML object>"
      ]
     },
     "metadata": {},
     "output_type": "display_data"
    },
    {
     "data": {
      "application/vnd.jupyter.widget-view+json": {
       "model_id": "a84b125be03749ae908292bb4c2d217e",
       "version_major": 2,
       "version_minor": 0
      },
      "text/plain": [
       "VBox(children=(Label(value='0.003 MB of 0.003 MB uploaded (0.000 MB deduped)\\r'), FloatProgress(value=1.0, max…"
      ]
     },
     "metadata": {},
     "output_type": "display_data"
    },
    {
     "name": "stderr",
     "output_type": "stream",
     "text": [
      "wandb: WARNING Source type is set to 'repo' but some required information is missing from the environment. A job will not be created from this run. See https://docs.wandb.ai/guides/launch/create-job\n"
     ]
    },
    {
     "data": {
      "text/html": [
       "<style>\n",
       "    table.wandb td:nth-child(1) { padding: 0 10px; text-align: left ; width: auto;} td:nth-child(2) {text-align: left ; width: 100%}\n",
       "    .wandb-row { display: flex; flex-direction: row; flex-wrap: wrap; justify-content: flex-start; width: 100% }\n",
       "    .wandb-col { display: flex; flex-direction: column; flex-basis: 100%; flex: 1; padding: 10px; }\n",
       "    </style>\n",
       "<div class=\"wandb-row\"><div class=\"wandb-col\"><h3>Run history:</h3><br/><table class=\"wandb\"><tr><td>Training Accuracy</td><td>▁▃▇█████████████████████████████████████</td></tr><tr><td>Training Loss</td><td>█▆▂▁▁▁▁▁▁▁▁▁▁▁▁▁▁▁▁▁▁▁▁▁▁▁▁▁▁▁▁▁▁▁▁▁▁▁▁▁</td></tr><tr><td>Validation Accuracy</td><td>▁▆█▇▅▅▄▃▃▄▄▅▅▅▄▅▅▅▅▅▅▅▅▅▅▅▄▄▄▄▅▄▄▄▄▄▄▅▅▄</td></tr><tr><td>Validation Loss</td><td>▁▁▃▅▅▆▆▆▇▇▇▇▇▇▇▇▇▇▇▇▇███████████████████</td></tr></table><br/></div><div class=\"wandb-col\"><h3>Run summary:</h3><br/><table class=\"wandb\"><tr><td>Training Accuracy</td><td>1.0</td></tr><tr><td>Training Loss</td><td>0.00023</td></tr><tr><td>Validation Accuracy</td><td>0.59884</td></tr><tr><td>Validation Loss</td><td>4.60822</td></tr></table><br/></div></div>"
      ],
      "text/plain": [
       "<IPython.core.display.HTML object>"
      ]
     },
     "metadata": {},
     "output_type": "display_data"
    },
    {
     "data": {
      "text/html": [
       " View run <strong style=\"color:#cdcd00\">rose-surf-106</strong> at: <a href='https://wandb.ai/prakhar-jain/multi-layer-perceptron/runs/ej6d1mdl' target=\"_blank\">https://wandb.ai/prakhar-jain/multi-layer-perceptron/runs/ej6d1mdl</a><br/>Synced 6 W&B file(s), 0 media file(s), 0 artifact file(s) and 0 other file(s)"
      ],
      "text/plain": [
       "<IPython.core.display.HTML object>"
      ]
     },
     "metadata": {},
     "output_type": "display_data"
    },
    {
     "data": {
      "text/html": [
       "Find logs at: <code>./wandb/run-20231015_233734-ej6d1mdl/logs</code>"
      ],
      "text/plain": [
       "<IPython.core.display.HTML object>"
      ]
     },
     "metadata": {},
     "output_type": "display_data"
    },
    {
     "data": {
      "application/vnd.jupyter.widget-view+json": {
       "model_id": "068d5a665fb447c2a894e879b59a2e46",
       "version_major": 2,
       "version_minor": 0
      },
      "text/plain": [
       "VBox(children=(Label(value='Waiting for wandb.init()...\\r'), FloatProgress(value=0.011112498122222153, max=1.0…"
      ]
     },
     "metadata": {},
     "output_type": "display_data"
    },
    {
     "data": {
      "text/html": [
       "wandb version 0.15.12 is available!  To upgrade, please run:\n",
       " $ pip install wandb --upgrade"
      ],
      "text/plain": [
       "<IPython.core.display.HTML object>"
      ]
     },
     "metadata": {},
     "output_type": "display_data"
    },
    {
     "data": {
      "text/html": [
       "Tracking run with wandb version 0.15.11"
      ],
      "text/plain": [
       "<IPython.core.display.HTML object>"
      ]
     },
     "metadata": {},
     "output_type": "display_data"
    },
    {
     "data": {
      "text/html": [
       "Run data is saved locally in <code>/home/prakhar/Desktop/assignment-3-prakharjain3/wandb/run-20231015_234050-tm43bl8x</code>"
      ],
      "text/plain": [
       "<IPython.core.display.HTML object>"
      ]
     },
     "metadata": {},
     "output_type": "display_data"
    },
    {
     "data": {
      "text/html": [
       "Syncing run <strong><a href='https://wandb.ai/prakhar-jain/multi-layer-perceptron/runs/tm43bl8x' target=\"_blank\">golden-cosmos-107</a></strong> to <a href='https://wandb.ai/prakhar-jain/multi-layer-perceptron' target=\"_blank\">Weights & Biases</a> (<a href='https://wandb.me/run' target=\"_blank\">docs</a>)<br/>"
      ],
      "text/plain": [
       "<IPython.core.display.HTML object>"
      ]
     },
     "metadata": {},
     "output_type": "display_data"
    },
    {
     "data": {
      "text/html": [
       " View project at <a href='https://wandb.ai/prakhar-jain/multi-layer-perceptron' target=\"_blank\">https://wandb.ai/prakhar-jain/multi-layer-perceptron</a>"
      ],
      "text/plain": [
       "<IPython.core.display.HTML object>"
      ]
     },
     "metadata": {},
     "output_type": "display_data"
    },
    {
     "data": {
      "text/html": [
       " View run at <a href='https://wandb.ai/prakhar-jain/multi-layer-perceptron/runs/tm43bl8x' target=\"_blank\">https://wandb.ai/prakhar-jain/multi-layer-perceptron/runs/tm43bl8x</a>"
      ],
      "text/plain": [
       "<IPython.core.display.HTML object>"
      ]
     },
     "metadata": {},
     "output_type": "display_data"
    },
    {
     "name": "stderr",
     "output_type": "stream",
     "text": [
      "ic| i: 1\n",
      "ic| i: 2\n"
     ]
    },
    {
     "data": {
      "text/html": [
       "Waiting for W&B process to finish... <strong style=\"color:green\">(success).</strong>"
      ],
      "text/plain": [
       "<IPython.core.display.HTML object>"
      ]
     },
     "metadata": {},
     "output_type": "display_data"
    },
    {
     "name": "stderr",
     "output_type": "stream",
     "text": [
      "wandb: WARNING Source type is set to 'repo' but some required information is missing from the environment. A job will not be created from this run. See https://docs.wandb.ai/guides/launch/create-job\n"
     ]
    },
    {
     "data": {
      "application/vnd.jupyter.widget-view+json": {
       "model_id": "cb8c18131c5d4c3c893b22ef22ea1d6b",
       "version_major": 2,
       "version_minor": 0
      },
      "text/plain": [
       "VBox(children=(Label(value='0.003 MB of 0.003 MB uploaded (0.000 MB deduped)\\r'), FloatProgress(value=1.0, max…"
      ]
     },
     "metadata": {},
     "output_type": "display_data"
    },
    {
     "data": {
      "text/html": [
       "<style>\n",
       "    table.wandb td:nth-child(1) { padding: 0 10px; text-align: left ; width: auto;} td:nth-child(2) {text-align: left ; width: 100%}\n",
       "    .wandb-row { display: flex; flex-direction: row; flex-wrap: wrap; justify-content: flex-start; width: 100% }\n",
       "    .wandb-col { display: flex; flex-direction: column; flex-basis: 100%; flex: 1; padding: 10px; }\n",
       "    </style>\n",
       "<div class=\"wandb-row\"><div class=\"wandb-col\"><h3>Run history:</h3><br/><table class=\"wandb\"><tr><td>Training Accuracy</td><td>▁▂▇█████████████████████████████████████</td></tr><tr><td>Training Loss</td><td>█▇▂▁▁▁▁▁▁▁▁▁▁▁▁▁▁▁▁▁▁▁▁▁▁▁▁▁▁▁▁▁▁▁▁▁▁▁▁▁</td></tr><tr><td>Validation Accuracy</td><td>▅▁▆▅▆▆▆▆▇▇███████████████████▇█▇▇▇█▇▇▇▇▇</td></tr><tr><td>Validation Loss</td><td>▁▂▃▅▅▆▆▆▆▇▇▇▇▇▇▇▇▇▇▇▇▇██████████████████</td></tr></table><br/></div><div class=\"wandb-col\"><h3>Run summary:</h3><br/><table class=\"wandb\"><tr><td>Training Accuracy</td><td>1.0</td></tr><tr><td>Training Loss</td><td>0.00015</td></tr><tr><td>Validation Accuracy</td><td>0.59884</td></tr><tr><td>Validation Loss</td><td>4.31365</td></tr></table><br/></div></div>"
      ],
      "text/plain": [
       "<IPython.core.display.HTML object>"
      ]
     },
     "metadata": {},
     "output_type": "display_data"
    },
    {
     "data": {
      "text/html": [
       " View run <strong style=\"color:#cdcd00\">golden-cosmos-107</strong> at: <a href='https://wandb.ai/prakhar-jain/multi-layer-perceptron/runs/tm43bl8x' target=\"_blank\">https://wandb.ai/prakhar-jain/multi-layer-perceptron/runs/tm43bl8x</a><br/>Synced 6 W&B file(s), 0 media file(s), 0 artifact file(s) and 0 other file(s)"
      ],
      "text/plain": [
       "<IPython.core.display.HTML object>"
      ]
     },
     "metadata": {},
     "output_type": "display_data"
    },
    {
     "data": {
      "text/html": [
       "Find logs at: <code>./wandb/run-20231015_234050-tm43bl8x/logs</code>"
      ],
      "text/plain": [
       "<IPython.core.display.HTML object>"
      ]
     },
     "metadata": {},
     "output_type": "display_data"
    },
    {
     "data": {
      "application/vnd.jupyter.widget-view+json": {
       "model_id": "3b1d605be51e4742a261ecd5dc485438",
       "version_major": 2,
       "version_minor": 0
      },
      "text/plain": [
       "VBox(children=(Label(value='Waiting for wandb.init()...\\r'), FloatProgress(value=0.011112746555591002, max=1.0…"
      ]
     },
     "metadata": {},
     "output_type": "display_data"
    },
    {
     "data": {
      "text/html": [
       "wandb version 0.15.12 is available!  To upgrade, please run:\n",
       " $ pip install wandb --upgrade"
      ],
      "text/plain": [
       "<IPython.core.display.HTML object>"
      ]
     },
     "metadata": {},
     "output_type": "display_data"
    },
    {
     "data": {
      "text/html": [
       "Tracking run with wandb version 0.15.11"
      ],
      "text/plain": [
       "<IPython.core.display.HTML object>"
      ]
     },
     "metadata": {},
     "output_type": "display_data"
    },
    {
     "data": {
      "text/html": [
       "Run data is saved locally in <code>/home/prakhar/Desktop/assignment-3-prakharjain3/wandb/run-20231015_234421-r2dk13no</code>"
      ],
      "text/plain": [
       "<IPython.core.display.HTML object>"
      ]
     },
     "metadata": {},
     "output_type": "display_data"
    },
    {
     "data": {
      "text/html": [
       "Syncing run <strong><a href='https://wandb.ai/prakhar-jain/multi-layer-perceptron/runs/r2dk13no' target=\"_blank\">smart-elevator-108</a></strong> to <a href='https://wandb.ai/prakhar-jain/multi-layer-perceptron' target=\"_blank\">Weights & Biases</a> (<a href='https://wandb.me/run' target=\"_blank\">docs</a>)<br/>"
      ],
      "text/plain": [
       "<IPython.core.display.HTML object>"
      ]
     },
     "metadata": {},
     "output_type": "display_data"
    },
    {
     "data": {
      "text/html": [
       " View project at <a href='https://wandb.ai/prakhar-jain/multi-layer-perceptron' target=\"_blank\">https://wandb.ai/prakhar-jain/multi-layer-perceptron</a>"
      ],
      "text/plain": [
       "<IPython.core.display.HTML object>"
      ]
     },
     "metadata": {},
     "output_type": "display_data"
    },
    {
     "data": {
      "text/html": [
       " View run at <a href='https://wandb.ai/prakhar-jain/multi-layer-perceptron/runs/r2dk13no' target=\"_blank\">https://wandb.ai/prakhar-jain/multi-layer-perceptron/runs/r2dk13no</a>"
      ],
      "text/plain": [
       "<IPython.core.display.HTML object>"
      ]
     },
     "metadata": {},
     "output_type": "display_data"
    },
    {
     "name": "stderr",
     "output_type": "stream",
     "text": [
      "ic| i: 1\n",
      "ic| i: 2\n"
     ]
    },
    {
     "data": {
      "text/html": [
       "Waiting for W&B process to finish... <strong style=\"color:green\">(success).</strong>"
      ],
      "text/plain": [
       "<IPython.core.display.HTML object>"
      ]
     },
     "metadata": {},
     "output_type": "display_data"
    },
    {
     "data": {
      "application/vnd.jupyter.widget-view+json": {
       "model_id": "df8f3991b0df4191a7f91782e483969a",
       "version_major": 2,
       "version_minor": 0
      },
      "text/plain": [
       "VBox(children=(Label(value='0.003 MB of 0.003 MB uploaded (0.000 MB deduped)\\r'), FloatProgress(value=1.0, max…"
      ]
     },
     "metadata": {},
     "output_type": "display_data"
    },
    {
     "name": "stderr",
     "output_type": "stream",
     "text": [
      "wandb: WARNING Source type is set to 'repo' but some required information is missing from the environment. A job will not be created from this run. See https://docs.wandb.ai/guides/launch/create-job\n"
     ]
    },
    {
     "data": {
      "text/html": [
       "<style>\n",
       "    table.wandb td:nth-child(1) { padding: 0 10px; text-align: left ; width: auto;} td:nth-child(2) {text-align: left ; width: 100%}\n",
       "    .wandb-row { display: flex; flex-direction: row; flex-wrap: wrap; justify-content: flex-start; width: 100% }\n",
       "    .wandb-col { display: flex; flex-direction: column; flex-basis: 100%; flex: 1; padding: 10px; }\n",
       "    </style>\n",
       "<div class=\"wandb-row\"><div class=\"wandb-col\"><h3>Run history:</h3><br/><table class=\"wandb\"><tr><td>Training Accuracy</td><td>▁▃▇█████████████████████████████████████</td></tr><tr><td>Training Loss</td><td>█▆▃▁▁▁▁▁▁▁▁▁▁▁▁▁▁▁▁▁▁▁▁▁▁▁▁▁▁▁▁▁▁▁▁▁▁▁▁▁</td></tr><tr><td>Validation Accuracy</td><td>█▄▁▆▇▅▄▃▃▃▃▃▃▃▃▃▄▃▄▄▄▄▄▄▄▄▄▄▄▄▄▄▄▄▄▄▄▄▄▄</td></tr><tr><td>Validation Loss</td><td>▁▂▃▄▅▆▆▆▆▇▇▇▇▇▇▇▇▇▇▇▇▇██████████████████</td></tr></table><br/></div><div class=\"wandb-col\"><h3>Run summary:</h3><br/><table class=\"wandb\"><tr><td>Training Accuracy</td><td>1.0</td></tr><tr><td>Training Loss</td><td>0.0002</td></tr><tr><td>Validation Accuracy</td><td>0.58721</td></tr><tr><td>Validation Loss</td><td>4.29357</td></tr></table><br/></div></div>"
      ],
      "text/plain": [
       "<IPython.core.display.HTML object>"
      ]
     },
     "metadata": {},
     "output_type": "display_data"
    },
    {
     "data": {
      "text/html": [
       " View run <strong style=\"color:#cdcd00\">smart-elevator-108</strong> at: <a href='https://wandb.ai/prakhar-jain/multi-layer-perceptron/runs/r2dk13no' target=\"_blank\">https://wandb.ai/prakhar-jain/multi-layer-perceptron/runs/r2dk13no</a><br/>Synced 6 W&B file(s), 0 media file(s), 0 artifact file(s) and 0 other file(s)"
      ],
      "text/plain": [
       "<IPython.core.display.HTML object>"
      ]
     },
     "metadata": {},
     "output_type": "display_data"
    },
    {
     "data": {
      "text/html": [
       "Find logs at: <code>./wandb/run-20231015_234421-r2dk13no/logs</code>"
      ],
      "text/plain": [
       "<IPython.core.display.HTML object>"
      ]
     },
     "metadata": {},
     "output_type": "display_data"
    },
    {
     "data": {
      "application/vnd.jupyter.widget-view+json": {
       "model_id": "2ae8c8fa2fad4a9187667c657bc5ed38",
       "version_major": 2,
       "version_minor": 0
      },
      "text/plain": [
       "VBox(children=(Label(value='Waiting for wandb.init()...\\r'), FloatProgress(value=0.011112724744372018, max=1.0…"
      ]
     },
     "metadata": {},
     "output_type": "display_data"
    },
    {
     "data": {
      "text/html": [
       "wandb version 0.15.12 is available!  To upgrade, please run:\n",
       " $ pip install wandb --upgrade"
      ],
      "text/plain": [
       "<IPython.core.display.HTML object>"
      ]
     },
     "metadata": {},
     "output_type": "display_data"
    },
    {
     "data": {
      "text/html": [
       "Tracking run with wandb version 0.15.11"
      ],
      "text/plain": [
       "<IPython.core.display.HTML object>"
      ]
     },
     "metadata": {},
     "output_type": "display_data"
    },
    {
     "data": {
      "text/html": [
       "Run data is saved locally in <code>/home/prakhar/Desktop/assignment-3-prakharjain3/wandb/run-20231015_234743-vctr8oe1</code>"
      ],
      "text/plain": [
       "<IPython.core.display.HTML object>"
      ]
     },
     "metadata": {},
     "output_type": "display_data"
    },
    {
     "data": {
      "text/html": [
       "Syncing run <strong><a href='https://wandb.ai/prakhar-jain/multi-layer-perceptron/runs/vctr8oe1' target=\"_blank\">grateful-waterfall-109</a></strong> to <a href='https://wandb.ai/prakhar-jain/multi-layer-perceptron' target=\"_blank\">Weights & Biases</a> (<a href='https://wandb.me/run' target=\"_blank\">docs</a>)<br/>"
      ],
      "text/plain": [
       "<IPython.core.display.HTML object>"
      ]
     },
     "metadata": {},
     "output_type": "display_data"
    },
    {
     "data": {
      "text/html": [
       " View project at <a href='https://wandb.ai/prakhar-jain/multi-layer-perceptron' target=\"_blank\">https://wandb.ai/prakhar-jain/multi-layer-perceptron</a>"
      ],
      "text/plain": [
       "<IPython.core.display.HTML object>"
      ]
     },
     "metadata": {},
     "output_type": "display_data"
    },
    {
     "data": {
      "text/html": [
       " View run at <a href='https://wandb.ai/prakhar-jain/multi-layer-perceptron/runs/vctr8oe1' target=\"_blank\">https://wandb.ai/prakhar-jain/multi-layer-perceptron/runs/vctr8oe1</a>"
      ],
      "text/plain": [
       "<IPython.core.display.HTML object>"
      ]
     },
     "metadata": {},
     "output_type": "display_data"
    },
    {
     "name": "stderr",
     "output_type": "stream",
     "text": [
      "ic| i: 1\n",
      "ic| i: 2\n"
     ]
    },
    {
     "data": {
      "text/html": [
       "Waiting for W&B process to finish... <strong style=\"color:green\">(success).</strong>"
      ],
      "text/plain": [
       "<IPython.core.display.HTML object>"
      ]
     },
     "metadata": {},
     "output_type": "display_data"
    },
    {
     "name": "stderr",
     "output_type": "stream",
     "text": [
      "wandb: WARNING Source type is set to 'repo' but some required information is missing from the environment. A job will not be created from this run. See https://docs.wandb.ai/guides/launch/create-job\n"
     ]
    },
    {
     "data": {
      "application/vnd.jupyter.widget-view+json": {
       "model_id": "3ed93955795a4d1d900bfb0c3f11f49d",
       "version_major": 2,
       "version_minor": 0
      },
      "text/plain": [
       "VBox(children=(Label(value='0.003 MB of 0.003 MB uploaded (0.000 MB deduped)\\r'), FloatProgress(value=1.0, max…"
      ]
     },
     "metadata": {},
     "output_type": "display_data"
    },
    {
     "data": {
      "text/html": [
       "<style>\n",
       "    table.wandb td:nth-child(1) { padding: 0 10px; text-align: left ; width: auto;} td:nth-child(2) {text-align: left ; width: 100%}\n",
       "    .wandb-row { display: flex; flex-direction: row; flex-wrap: wrap; justify-content: flex-start; width: 100% }\n",
       "    .wandb-col { display: flex; flex-direction: column; flex-basis: 100%; flex: 1; padding: 10px; }\n",
       "    </style>\n",
       "<div class=\"wandb-row\"><div class=\"wandb-col\"><h3>Run history:</h3><br/><table class=\"wandb\"><tr><td>Training Accuracy</td><td>▁▁▁▁▁▁▂▃▆▇▇▇▇▇▇▇▇▇▇▇▇▇▇▇▇▇▇▇▇▇▇██████▇▇▇</td></tr><tr><td>Training Loss</td><td>█▇▇▇▆▆▅▅▅▄▄▄▃▃▃▃▃▃▂▂▂▂▂▂▂▂▂▂▁▁▁▁▁▁▁▁▁▁▁▁</td></tr><tr><td>Validation Accuracy</td><td>▁▁▁▁▁▁▂▃▅▆▆▆▆▆▆▆▆▆▆▆▆▆▆▆▆▆▆▆▇▇▇▇▇▇▇▇▇███</td></tr><tr><td>Validation Loss</td><td>██▇▇▆▆▅▅▅▄▄▄▄▃▃▃▃▃▂▂▂▂▂▂▂▂▂▂▁▁▁▁▁▁▁▁▁▁▁▁</td></tr></table><br/></div><div class=\"wandb-col\"><h3>Run summary:</h3><br/><table class=\"wandb\"><tr><td>Training Accuracy</td><td>0.40875</td></tr><tr><td>Training Loss</td><td>1.28346</td></tr><tr><td>Validation Accuracy</td><td>0.48837</td></tr><tr><td>Validation Loss</td><td>1.2544</td></tr></table><br/></div></div>"
      ],
      "text/plain": [
       "<IPython.core.display.HTML object>"
      ]
     },
     "metadata": {},
     "output_type": "display_data"
    },
    {
     "data": {
      "text/html": [
       " View run <strong style=\"color:#cdcd00\">grateful-waterfall-109</strong> at: <a href='https://wandb.ai/prakhar-jain/multi-layer-perceptron/runs/vctr8oe1' target=\"_blank\">https://wandb.ai/prakhar-jain/multi-layer-perceptron/runs/vctr8oe1</a><br/>Synced 6 W&B file(s), 0 media file(s), 0 artifact file(s) and 0 other file(s)"
      ],
      "text/plain": [
       "<IPython.core.display.HTML object>"
      ]
     },
     "metadata": {},
     "output_type": "display_data"
    },
    {
     "data": {
      "text/html": [
       "Find logs at: <code>./wandb/run-20231015_234743-vctr8oe1/logs</code>"
      ],
      "text/plain": [
       "<IPython.core.display.HTML object>"
      ]
     },
     "metadata": {},
     "output_type": "display_data"
    },
    {
     "data": {
      "application/vnd.jupyter.widget-view+json": {
       "model_id": "adcea4d86fcb482f8bd7f228a4510e74",
       "version_major": 2,
       "version_minor": 0
      },
      "text/plain": [
       "VBox(children=(Label(value='Waiting for wandb.init()...\\r'), FloatProgress(value=0.011112931011141174, max=1.0…"
      ]
     },
     "metadata": {},
     "output_type": "display_data"
    },
    {
     "data": {
      "text/html": [
       "wandb version 0.15.12 is available!  To upgrade, please run:\n",
       " $ pip install wandb --upgrade"
      ],
      "text/plain": [
       "<IPython.core.display.HTML object>"
      ]
     },
     "metadata": {},
     "output_type": "display_data"
    },
    {
     "data": {
      "text/html": [
       "Tracking run with wandb version 0.15.11"
      ],
      "text/plain": [
       "<IPython.core.display.HTML object>"
      ]
     },
     "metadata": {},
     "output_type": "display_data"
    },
    {
     "data": {
      "text/html": [
       "Run data is saved locally in <code>/home/prakhar/Desktop/assignment-3-prakharjain3/wandb/run-20231015_234800-ebtogbgw</code>"
      ],
      "text/plain": [
       "<IPython.core.display.HTML object>"
      ]
     },
     "metadata": {},
     "output_type": "display_data"
    },
    {
     "data": {
      "text/html": [
       "Syncing run <strong><a href='https://wandb.ai/prakhar-jain/multi-layer-perceptron/runs/ebtogbgw' target=\"_blank\">lilac-water-110</a></strong> to <a href='https://wandb.ai/prakhar-jain/multi-layer-perceptron' target=\"_blank\">Weights & Biases</a> (<a href='https://wandb.me/run' target=\"_blank\">docs</a>)<br/>"
      ],
      "text/plain": [
       "<IPython.core.display.HTML object>"
      ]
     },
     "metadata": {},
     "output_type": "display_data"
    },
    {
     "data": {
      "text/html": [
       " View project at <a href='https://wandb.ai/prakhar-jain/multi-layer-perceptron' target=\"_blank\">https://wandb.ai/prakhar-jain/multi-layer-perceptron</a>"
      ],
      "text/plain": [
       "<IPython.core.display.HTML object>"
      ]
     },
     "metadata": {},
     "output_type": "display_data"
    },
    {
     "data": {
      "text/html": [
       " View run at <a href='https://wandb.ai/prakhar-jain/multi-layer-perceptron/runs/ebtogbgw' target=\"_blank\">https://wandb.ai/prakhar-jain/multi-layer-perceptron/runs/ebtogbgw</a>"
      ],
      "text/plain": [
       "<IPython.core.display.HTML object>"
      ]
     },
     "metadata": {},
     "output_type": "display_data"
    },
    {
     "name": "stderr",
     "output_type": "stream",
     "text": [
      "ic| i: 1\n",
      "ic| i: 2\n"
     ]
    },
    {
     "data": {
      "text/html": [
       "Waiting for W&B process to finish... <strong style=\"color:green\">(success).</strong>"
      ],
      "text/plain": [
       "<IPython.core.display.HTML object>"
      ]
     },
     "metadata": {},
     "output_type": "display_data"
    },
    {
     "name": "stderr",
     "output_type": "stream",
     "text": [
      "wandb: WARNING Source type is set to 'repo' but some required information is missing from the environment. A job will not be created from this run. See https://docs.wandb.ai/guides/launch/create-job\n"
     ]
    },
    {
     "data": {
      "application/vnd.jupyter.widget-view+json": {
       "model_id": "ac567cb30acc4728be738317e9d64b14",
       "version_major": 2,
       "version_minor": 0
      },
      "text/plain": [
       "VBox(children=(Label(value='0.003 MB of 0.003 MB uploaded (0.000 MB deduped)\\r'), FloatProgress(value=1.0, max…"
      ]
     },
     "metadata": {},
     "output_type": "display_data"
    },
    {
     "data": {
      "text/html": [
       "<style>\n",
       "    table.wandb td:nth-child(1) { padding: 0 10px; text-align: left ; width: auto;} td:nth-child(2) {text-align: left ; width: 100%}\n",
       "    .wandb-row { display: flex; flex-direction: row; flex-wrap: wrap; justify-content: flex-start; width: 100% }\n",
       "    .wandb-col { display: flex; flex-direction: column; flex-basis: 100%; flex: 1; padding: 10px; }\n",
       "    </style>\n",
       "<div class=\"wandb-row\"><div class=\"wandb-col\"><h3>Run history:</h3><br/><table class=\"wandb\"><tr><td>Training Accuracy</td><td>▁▂▃▇▇▇▇▇▇▇▇▇▇▇▇▇▇▇▇▇▇▇▇▇▇███████████████</td></tr><tr><td>Training Loss</td><td>█▇▆▅▅▄▄▃▃▃▃▂▂▂▂▂▂▂▂▁▁▁▁▁▁▁▁▁▁▁▁▁▁▁▁▁▁▁▁▁</td></tr><tr><td>Validation Accuracy</td><td>▁▁▄▇▇▇▇▇▇▇▇▇▇▇▇▇▇▇▇▇▇▇▇▇██▇▇████████████</td></tr><tr><td>Validation Loss</td><td>█▇▆▆▅▄▄▃▃▃▃▂▂▂▂▂▂▂▂▂▁▁▁▁▁▁▁▁▁▁▁▁▁▁▁▁▁▁▁▁</td></tr></table><br/></div><div class=\"wandb-col\"><h3>Run summary:</h3><br/><table class=\"wandb\"><tr><td>Training Accuracy</td><td>0.495</td></tr><tr><td>Training Loss</td><td>1.21513</td></tr><tr><td>Validation Accuracy</td><td>0.52326</td></tr><tr><td>Validation Loss</td><td>1.17113</td></tr></table><br/></div></div>"
      ],
      "text/plain": [
       "<IPython.core.display.HTML object>"
      ]
     },
     "metadata": {},
     "output_type": "display_data"
    },
    {
     "data": {
      "text/html": [
       " View run <strong style=\"color:#cdcd00\">lilac-water-110</strong> at: <a href='https://wandb.ai/prakhar-jain/multi-layer-perceptron/runs/ebtogbgw' target=\"_blank\">https://wandb.ai/prakhar-jain/multi-layer-perceptron/runs/ebtogbgw</a><br/>Synced 6 W&B file(s), 0 media file(s), 0 artifact file(s) and 0 other file(s)"
      ],
      "text/plain": [
       "<IPython.core.display.HTML object>"
      ]
     },
     "metadata": {},
     "output_type": "display_data"
    },
    {
     "data": {
      "text/html": [
       "Find logs at: <code>./wandb/run-20231015_234800-ebtogbgw/logs</code>"
      ],
      "text/plain": [
       "<IPython.core.display.HTML object>"
      ]
     },
     "metadata": {},
     "output_type": "display_data"
    },
    {
     "data": {
      "application/vnd.jupyter.widget-view+json": {
       "model_id": "1094724408ef446fbec2925f7f711a58",
       "version_major": 2,
       "version_minor": 0
      },
      "text/plain": [
       "VBox(children=(Label(value='Waiting for wandb.init()...\\r'), FloatProgress(value=0.011114576022373512, max=1.0…"
      ]
     },
     "metadata": {},
     "output_type": "display_data"
    },
    {
     "data": {
      "text/html": [
       "wandb version 0.15.12 is available!  To upgrade, please run:\n",
       " $ pip install wandb --upgrade"
      ],
      "text/plain": [
       "<IPython.core.display.HTML object>"
      ]
     },
     "metadata": {},
     "output_type": "display_data"
    },
    {
     "data": {
      "text/html": [
       "Tracking run with wandb version 0.15.11"
      ],
      "text/plain": [
       "<IPython.core.display.HTML object>"
      ]
     },
     "metadata": {},
     "output_type": "display_data"
    },
    {
     "data": {
      "text/html": [
       "Run data is saved locally in <code>/home/prakhar/Desktop/assignment-3-prakharjain3/wandb/run-20231015_234821-15hcj9sr</code>"
      ],
      "text/plain": [
       "<IPython.core.display.HTML object>"
      ]
     },
     "metadata": {},
     "output_type": "display_data"
    },
    {
     "data": {
      "text/html": [
       "Syncing run <strong><a href='https://wandb.ai/prakhar-jain/multi-layer-perceptron/runs/15hcj9sr' target=\"_blank\">ruby-spaceship-111</a></strong> to <a href='https://wandb.ai/prakhar-jain/multi-layer-perceptron' target=\"_blank\">Weights & Biases</a> (<a href='https://wandb.me/run' target=\"_blank\">docs</a>)<br/>"
      ],
      "text/plain": [
       "<IPython.core.display.HTML object>"
      ]
     },
     "metadata": {},
     "output_type": "display_data"
    },
    {
     "data": {
      "text/html": [
       " View project at <a href='https://wandb.ai/prakhar-jain/multi-layer-perceptron' target=\"_blank\">https://wandb.ai/prakhar-jain/multi-layer-perceptron</a>"
      ],
      "text/plain": [
       "<IPython.core.display.HTML object>"
      ]
     },
     "metadata": {},
     "output_type": "display_data"
    },
    {
     "data": {
      "text/html": [
       " View run at <a href='https://wandb.ai/prakhar-jain/multi-layer-perceptron/runs/15hcj9sr' target=\"_blank\">https://wandb.ai/prakhar-jain/multi-layer-perceptron/runs/15hcj9sr</a>"
      ],
      "text/plain": [
       "<IPython.core.display.HTML object>"
      ]
     },
     "metadata": {},
     "output_type": "display_data"
    },
    {
     "name": "stderr",
     "output_type": "stream",
     "text": [
      "ic| i: 1\n",
      "ic| i: 2\n"
     ]
    },
    {
     "data": {
      "text/html": [
       "Waiting for W&B process to finish... <strong style=\"color:green\">(success).</strong>"
      ],
      "text/plain": [
       "<IPython.core.display.HTML object>"
      ]
     },
     "metadata": {},
     "output_type": "display_data"
    },
    {
     "name": "stderr",
     "output_type": "stream",
     "text": [
      "wandb: WARNING Source type is set to 'repo' but some required information is missing from the environment. A job will not be created from this run. See https://docs.wandb.ai/guides/launch/create-job\n"
     ]
    },
    {
     "data": {
      "text/html": [
       "<style>\n",
       "    table.wandb td:nth-child(1) { padding: 0 10px; text-align: left ; width: auto;} td:nth-child(2) {text-align: left ; width: 100%}\n",
       "    .wandb-row { display: flex; flex-direction: row; flex-wrap: wrap; justify-content: flex-start; width: 100% }\n",
       "    .wandb-col { display: flex; flex-direction: column; flex-basis: 100%; flex: 1; padding: 10px; }\n",
       "    </style>\n",
       "<div class=\"wandb-row\"><div class=\"wandb-col\"><h3>Run history:</h3><br/><table class=\"wandb\"><tr><td>Training Accuracy</td><td>▁▁▁▁▁▁▁▁▁▁▁▁▁▁▁▁▁▁▁▁▁▁▁▁▂▅▅▅▅▅▇▇▇▇▇█████</td></tr><tr><td>Training Loss</td><td>█▇▆▆▅▅▄▄▄▃▃▃▃▂▂▂▂▂▂▂▂▂▂▂▁▁▁▁▁▁▁▁▁▁▁▁▁▁▁▁</td></tr><tr><td>Validation Accuracy</td><td>▁▁▁▁▁▁▁▁▁▁▁▁▁▁▁▁▁▁▁▁▁▁▁▁▁▁▁▁▁▁▁▁▁▁▁▁▁▁▁█</td></tr><tr><td>Validation Loss</td><td>█▇▆▆▅▅▄▄▄▃▃▃▃▂▂▂▂▂▂▂▂▂▂▂▁▁▁▁▁▁▁▁▁▁▁▁▁▁▁▁</td></tr></table><br/></div><div class=\"wandb-col\"><h3>Run summary:</h3><br/><table class=\"wandb\"><tr><td>Training Accuracy</td><td>0.43125</td></tr><tr><td>Training Loss</td><td>1.21575</td></tr><tr><td>Validation Accuracy</td><td>0.47674</td></tr><tr><td>Validation Loss</td><td>1.18333</td></tr></table><br/></div></div>"
      ],
      "text/plain": [
       "<IPython.core.display.HTML object>"
      ]
     },
     "metadata": {},
     "output_type": "display_data"
    },
    {
     "data": {
      "text/html": [
       " View run <strong style=\"color:#cdcd00\">ruby-spaceship-111</strong> at: <a href='https://wandb.ai/prakhar-jain/multi-layer-perceptron/runs/15hcj9sr' target=\"_blank\">https://wandb.ai/prakhar-jain/multi-layer-perceptron/runs/15hcj9sr</a><br/>Synced 6 W&B file(s), 0 media file(s), 0 artifact file(s) and 0 other file(s)"
      ],
      "text/plain": [
       "<IPython.core.display.HTML object>"
      ]
     },
     "metadata": {},
     "output_type": "display_data"
    },
    {
     "data": {
      "text/html": [
       "Find logs at: <code>./wandb/run-20231015_234821-15hcj9sr/logs</code>"
      ],
      "text/plain": [
       "<IPython.core.display.HTML object>"
      ]
     },
     "metadata": {},
     "output_type": "display_data"
    },
    {
     "data": {
      "application/vnd.jupyter.widget-view+json": {
       "model_id": "bf37517f752d4cb7922b2882e4c4f06d",
       "version_major": 2,
       "version_minor": 0
      },
      "text/plain": [
       "VBox(children=(Label(value='Waiting for wandb.init()...\\r'), FloatProgress(value=0.011112928322108927, max=1.0…"
      ]
     },
     "metadata": {},
     "output_type": "display_data"
    },
    {
     "data": {
      "text/html": [
       "wandb version 0.15.12 is available!  To upgrade, please run:\n",
       " $ pip install wandb --upgrade"
      ],
      "text/plain": [
       "<IPython.core.display.HTML object>"
      ]
     },
     "metadata": {},
     "output_type": "display_data"
    },
    {
     "data": {
      "text/html": [
       "Tracking run with wandb version 0.15.11"
      ],
      "text/plain": [
       "<IPython.core.display.HTML object>"
      ]
     },
     "metadata": {},
     "output_type": "display_data"
    },
    {
     "data": {
      "text/html": [
       "Run data is saved locally in <code>/home/prakhar/Desktop/assignment-3-prakharjain3/wandb/run-20231015_234841-h4t0fhq5</code>"
      ],
      "text/plain": [
       "<IPython.core.display.HTML object>"
      ]
     },
     "metadata": {},
     "output_type": "display_data"
    },
    {
     "data": {
      "text/html": [
       "Syncing run <strong><a href='https://wandb.ai/prakhar-jain/multi-layer-perceptron/runs/h4t0fhq5' target=\"_blank\">rose-lake-112</a></strong> to <a href='https://wandb.ai/prakhar-jain/multi-layer-perceptron' target=\"_blank\">Weights & Biases</a> (<a href='https://wandb.me/run' target=\"_blank\">docs</a>)<br/>"
      ],
      "text/plain": [
       "<IPython.core.display.HTML object>"
      ]
     },
     "metadata": {},
     "output_type": "display_data"
    },
    {
     "data": {
      "text/html": [
       " View project at <a href='https://wandb.ai/prakhar-jain/multi-layer-perceptron' target=\"_blank\">https://wandb.ai/prakhar-jain/multi-layer-perceptron</a>"
      ],
      "text/plain": [
       "<IPython.core.display.HTML object>"
      ]
     },
     "metadata": {},
     "output_type": "display_data"
    },
    {
     "data": {
      "text/html": [
       " View run at <a href='https://wandb.ai/prakhar-jain/multi-layer-perceptron/runs/h4t0fhq5' target=\"_blank\">https://wandb.ai/prakhar-jain/multi-layer-perceptron/runs/h4t0fhq5</a>"
      ],
      "text/plain": [
       "<IPython.core.display.HTML object>"
      ]
     },
     "metadata": {},
     "output_type": "display_data"
    },
    {
     "name": "stderr",
     "output_type": "stream",
     "text": [
      "ic| i: 1\n",
      "ic| i: 2\n"
     ]
    },
    {
     "data": {
      "text/html": [
       "Waiting for W&B process to finish... <strong style=\"color:green\">(success).</strong>"
      ],
      "text/plain": [
       "<IPython.core.display.HTML object>"
      ]
     },
     "metadata": {},
     "output_type": "display_data"
    },
    {
     "name": "stderr",
     "output_type": "stream",
     "text": [
      "wandb: WARNING Source type is set to 'repo' but some required information is missing from the environment. A job will not be created from this run. See https://docs.wandb.ai/guides/launch/create-job\n"
     ]
    },
    {
     "data": {
      "application/vnd.jupyter.widget-view+json": {
       "model_id": "854638d69aed4b4d9d34c09e85620025",
       "version_major": 2,
       "version_minor": 0
      },
      "text/plain": [
       "VBox(children=(Label(value='0.003 MB of 0.003 MB uploaded (0.000 MB deduped)\\r'), FloatProgress(value=1.0, max…"
      ]
     },
     "metadata": {},
     "output_type": "display_data"
    },
    {
     "data": {
      "text/html": [
       "<style>\n",
       "    table.wandb td:nth-child(1) { padding: 0 10px; text-align: left ; width: auto;} td:nth-child(2) {text-align: left ; width: 100%}\n",
       "    .wandb-row { display: flex; flex-direction: row; flex-wrap: wrap; justify-content: flex-start; width: 100% }\n",
       "    .wandb-col { display: flex; flex-direction: column; flex-basis: 100%; flex: 1; padding: 10px; }\n",
       "    </style>\n",
       "<div class=\"wandb-row\"><div class=\"wandb-col\"><h3>Run history:</h3><br/><table class=\"wandb\"><tr><td>Training Accuracy</td><td>▁▁▁▁▆▆▆▇▇▇████████▇▇▇▇▇▇▇▇▇▇▇▇▇▇▇▇▇▇▇▇▇▇</td></tr><tr><td>Training Loss</td><td>█▇▆▅▅▄▃▃▃▃▂▂▂▂▂▂▂▂▁▁▁▁▁▁▁▁▁▁▁▁▁▁▁▁▁▁▁▁▁▁</td></tr><tr><td>Validation Accuracy</td><td>▁▁▁▁▅▆▆▆▇███████████████████████████████</td></tr><tr><td>Validation Loss</td><td>█▇▆▅▅▄▄▃▃▃▂▂▂▂▂▂▂▂▁▁▁▁▁▁▁▁▁▁▁▁▁▁▁▁▁▁▁▁▁▁</td></tr></table><br/></div><div class=\"wandb-col\"><h3>Run summary:</h3><br/><table class=\"wandb\"><tr><td>Training Accuracy</td><td>0.46625</td></tr><tr><td>Training Loss</td><td>1.2057</td></tr><tr><td>Validation Accuracy</td><td>0.5</td></tr><tr><td>Validation Loss</td><td>1.16428</td></tr></table><br/></div></div>"
      ],
      "text/plain": [
       "<IPython.core.display.HTML object>"
      ]
     },
     "metadata": {},
     "output_type": "display_data"
    },
    {
     "data": {
      "text/html": [
       " View run <strong style=\"color:#cdcd00\">rose-lake-112</strong> at: <a href='https://wandb.ai/prakhar-jain/multi-layer-perceptron/runs/h4t0fhq5' target=\"_blank\">https://wandb.ai/prakhar-jain/multi-layer-perceptron/runs/h4t0fhq5</a><br/>Synced 6 W&B file(s), 0 media file(s), 0 artifact file(s) and 0 other file(s)"
      ],
      "text/plain": [
       "<IPython.core.display.HTML object>"
      ]
     },
     "metadata": {},
     "output_type": "display_data"
    },
    {
     "data": {
      "text/html": [
       "Find logs at: <code>./wandb/run-20231015_234841-h4t0fhq5/logs</code>"
      ],
      "text/plain": [
       "<IPython.core.display.HTML object>"
      ]
     },
     "metadata": {},
     "output_type": "display_data"
    },
    {
     "data": {
      "application/vnd.jupyter.widget-view+json": {
       "model_id": "78821213a0964f208a3c2f2ddb1efc37",
       "version_major": 2,
       "version_minor": 0
      },
      "text/plain": [
       "VBox(children=(Label(value='Waiting for wandb.init()...\\r'), FloatProgress(value=0.011112609933318002, max=1.0…"
      ]
     },
     "metadata": {},
     "output_type": "display_data"
    },
    {
     "data": {
      "text/html": [
       "wandb version 0.15.12 is available!  To upgrade, please run:\n",
       " $ pip install wandb --upgrade"
      ],
      "text/plain": [
       "<IPython.core.display.HTML object>"
      ]
     },
     "metadata": {},
     "output_type": "display_data"
    },
    {
     "data": {
      "text/html": [
       "Tracking run with wandb version 0.15.11"
      ],
      "text/plain": [
       "<IPython.core.display.HTML object>"
      ]
     },
     "metadata": {},
     "output_type": "display_data"
    },
    {
     "data": {
      "text/html": [
       "Run data is saved locally in <code>/home/prakhar/Desktop/assignment-3-prakharjain3/wandb/run-20231015_234904-xjpyn4bz</code>"
      ],
      "text/plain": [
       "<IPython.core.display.HTML object>"
      ]
     },
     "metadata": {},
     "output_type": "display_data"
    },
    {
     "data": {
      "text/html": [
       "Syncing run <strong><a href='https://wandb.ai/prakhar-jain/multi-layer-perceptron/runs/xjpyn4bz' target=\"_blank\">swift-silence-113</a></strong> to <a href='https://wandb.ai/prakhar-jain/multi-layer-perceptron' target=\"_blank\">Weights & Biases</a> (<a href='https://wandb.me/run' target=\"_blank\">docs</a>)<br/>"
      ],
      "text/plain": [
       "<IPython.core.display.HTML object>"
      ]
     },
     "metadata": {},
     "output_type": "display_data"
    },
    {
     "data": {
      "text/html": [
       " View project at <a href='https://wandb.ai/prakhar-jain/multi-layer-perceptron' target=\"_blank\">https://wandb.ai/prakhar-jain/multi-layer-perceptron</a>"
      ],
      "text/plain": [
       "<IPython.core.display.HTML object>"
      ]
     },
     "metadata": {},
     "output_type": "display_data"
    },
    {
     "data": {
      "text/html": [
       " View run at <a href='https://wandb.ai/prakhar-jain/multi-layer-perceptron/runs/xjpyn4bz' target=\"_blank\">https://wandb.ai/prakhar-jain/multi-layer-perceptron/runs/xjpyn4bz</a>"
      ],
      "text/plain": [
       "<IPython.core.display.HTML object>"
      ]
     },
     "metadata": {},
     "output_type": "display_data"
    },
    {
     "name": "stderr",
     "output_type": "stream",
     "text": [
      "ic| i: 1\n",
      "ic| i: 2\n"
     ]
    },
    {
     "data": {
      "text/html": [
       "Waiting for W&B process to finish... <strong style=\"color:green\">(success).</strong>"
      ],
      "text/plain": [
       "<IPython.core.display.HTML object>"
      ]
     },
     "metadata": {},
     "output_type": "display_data"
    },
    {
     "name": "stderr",
     "output_type": "stream",
     "text": [
      "wandb: WARNING Source type is set to 'repo' but some required information is missing from the environment. A job will not be created from this run. See https://docs.wandb.ai/guides/launch/create-job\n"
     ]
    },
    {
     "data": {
      "application/vnd.jupyter.widget-view+json": {
       "model_id": "3307024de2604641b394734b422ca58a",
       "version_major": 2,
       "version_minor": 0
      },
      "text/plain": [
       "VBox(children=(Label(value='0.002 MB of 0.002 MB uploaded (0.000 MB deduped)\\r'), FloatProgress(value=1.0, max…"
      ]
     },
     "metadata": {},
     "output_type": "display_data"
    },
    {
     "data": {
      "text/html": [
       "<style>\n",
       "    table.wandb td:nth-child(1) { padding: 0 10px; text-align: left ; width: auto;} td:nth-child(2) {text-align: left ; width: 100%}\n",
       "    .wandb-row { display: flex; flex-direction: row; flex-wrap: wrap; justify-content: flex-start; width: 100% }\n",
       "    .wandb-col { display: flex; flex-direction: column; flex-basis: 100%; flex: 1; padding: 10px; }\n",
       "    </style>\n",
       "<div class=\"wandb-row\"><div class=\"wandb-col\"><h3>Run history:</h3><br/><table class=\"wandb\"><tr><td>Training Accuracy</td><td>▁▁▁▇▇▇▇▇▇▇▇▇▇▇▇█████████████████████████</td></tr><tr><td>Training Loss</td><td>█▆▅▄▃▃▂▂▂▂▂▂▁▁▁▁▁▁▁▁▁▁▁▁▁▁▁▁▁▁▁▁▁▁▁▁▁▁▁▁</td></tr><tr><td>Validation Accuracy</td><td>▁▁▁██▇▇▇████████████████████████████████</td></tr><tr><td>Validation Loss</td><td>█▆▅▄▃▃▂▂▂▂▂▂▁▁▁▁▁▁▁▁▁▁▁▁▁▁▁▁▁▁▁▁▁▁▁▁▁▁▁▁</td></tr></table><br/></div><div class=\"wandb-col\"><h3>Run summary:</h3><br/><table class=\"wandb\"><tr><td>Training Accuracy</td><td>0.47375</td></tr><tr><td>Training Loss</td><td>1.18995</td></tr><tr><td>Validation Accuracy</td><td>0.5</td></tr><tr><td>Validation Loss</td><td>1.14932</td></tr></table><br/></div></div>"
      ],
      "text/plain": [
       "<IPython.core.display.HTML object>"
      ]
     },
     "metadata": {},
     "output_type": "display_data"
    },
    {
     "data": {
      "text/html": [
       " View run <strong style=\"color:#cdcd00\">swift-silence-113</strong> at: <a href='https://wandb.ai/prakhar-jain/multi-layer-perceptron/runs/xjpyn4bz' target=\"_blank\">https://wandb.ai/prakhar-jain/multi-layer-perceptron/runs/xjpyn4bz</a><br/>Synced 6 W&B file(s), 0 media file(s), 0 artifact file(s) and 0 other file(s)"
      ],
      "text/plain": [
       "<IPython.core.display.HTML object>"
      ]
     },
     "metadata": {},
     "output_type": "display_data"
    },
    {
     "data": {
      "text/html": [
       "Find logs at: <code>./wandb/run-20231015_234904-xjpyn4bz/logs</code>"
      ],
      "text/plain": [
       "<IPython.core.display.HTML object>"
      ]
     },
     "metadata": {},
     "output_type": "display_data"
    },
    {
     "data": {
      "application/vnd.jupyter.widget-view+json": {
       "model_id": "29973ae603b946fe91402671df3b6bfc",
       "version_major": 2,
       "version_minor": 0
      },
      "text/plain": [
       "VBox(children=(Label(value='Waiting for wandb.init()...\\r'), FloatProgress(value=0.011117105311132035, max=1.0…"
      ]
     },
     "metadata": {},
     "output_type": "display_data"
    },
    {
     "data": {
      "text/html": [
       "wandb version 0.15.12 is available!  To upgrade, please run:\n",
       " $ pip install wandb --upgrade"
      ],
      "text/plain": [
       "<IPython.core.display.HTML object>"
      ]
     },
     "metadata": {},
     "output_type": "display_data"
    },
    {
     "data": {
      "text/html": [
       "Tracking run with wandb version 0.15.11"
      ],
      "text/plain": [
       "<IPython.core.display.HTML object>"
      ]
     },
     "metadata": {},
     "output_type": "display_data"
    },
    {
     "data": {
      "text/html": [
       "Run data is saved locally in <code>/home/prakhar/Desktop/assignment-3-prakharjain3/wandb/run-20231015_234934-3v0d4pvx</code>"
      ],
      "text/plain": [
       "<IPython.core.display.HTML object>"
      ]
     },
     "metadata": {},
     "output_type": "display_data"
    },
    {
     "data": {
      "text/html": [
       "Syncing run <strong><a href='https://wandb.ai/prakhar-jain/multi-layer-perceptron/runs/3v0d4pvx' target=\"_blank\">helpful-voice-114</a></strong> to <a href='https://wandb.ai/prakhar-jain/multi-layer-perceptron' target=\"_blank\">Weights & Biases</a> (<a href='https://wandb.me/run' target=\"_blank\">docs</a>)<br/>"
      ],
      "text/plain": [
       "<IPython.core.display.HTML object>"
      ]
     },
     "metadata": {},
     "output_type": "display_data"
    },
    {
     "data": {
      "text/html": [
       " View project at <a href='https://wandb.ai/prakhar-jain/multi-layer-perceptron' target=\"_blank\">https://wandb.ai/prakhar-jain/multi-layer-perceptron</a>"
      ],
      "text/plain": [
       "<IPython.core.display.HTML object>"
      ]
     },
     "metadata": {},
     "output_type": "display_data"
    },
    {
     "data": {
      "text/html": [
       " View run at <a href='https://wandb.ai/prakhar-jain/multi-layer-perceptron/runs/3v0d4pvx' target=\"_blank\">https://wandb.ai/prakhar-jain/multi-layer-perceptron/runs/3v0d4pvx</a>"
      ],
      "text/plain": [
       "<IPython.core.display.HTML object>"
      ]
     },
     "metadata": {},
     "output_type": "display_data"
    },
    {
     "name": "stderr",
     "output_type": "stream",
     "text": [
      "ic| i: 1\n",
      "ic| i: 2\n"
     ]
    },
    {
     "data": {
      "text/html": [
       "Waiting for W&B process to finish... <strong style=\"color:green\">(success).</strong>"
      ],
      "text/plain": [
       "<IPython.core.display.HTML object>"
      ]
     },
     "metadata": {},
     "output_type": "display_data"
    },
    {
     "data": {
      "application/vnd.jupyter.widget-view+json": {
       "model_id": "143b80e7129b4ff68de4c6f60f3db9ef",
       "version_major": 2,
       "version_minor": 0
      },
      "text/plain": [
       "VBox(children=(Label(value='0.003 MB of 0.003 MB uploaded (0.000 MB deduped)\\r'), FloatProgress(value=1.0, max…"
      ]
     },
     "metadata": {},
     "output_type": "display_data"
    },
    {
     "name": "stderr",
     "output_type": "stream",
     "text": [
      "wandb: WARNING Source type is set to 'repo' but some required information is missing from the environment. A job will not be created from this run. See https://docs.wandb.ai/guides/launch/create-job\n"
     ]
    },
    {
     "data": {
      "text/html": [
       "<style>\n",
       "    table.wandb td:nth-child(1) { padding: 0 10px; text-align: left ; width: auto;} td:nth-child(2) {text-align: left ; width: 100%}\n",
       "    .wandb-row { display: flex; flex-direction: row; flex-wrap: wrap; justify-content: flex-start; width: 100% }\n",
       "    .wandb-col { display: flex; flex-direction: column; flex-basis: 100%; flex: 1; padding: 10px; }\n",
       "    </style>\n",
       "<div class=\"wandb-row\"><div class=\"wandb-col\"><h3>Run history:</h3><br/><table class=\"wandb\"><tr><td>Training Accuracy</td><td>▁▁▁▁▁▁▁▁▁▂▅▆█▇▇▇▆▆▆▆▆▆▆▆▆▆▆▆▆▇▇▇▇▇▇▇▇▇▇▇</td></tr><tr><td>Training Loss</td><td>█▆▅▄▃▃▂▂▂▂▂▂▁▁▁▁▁▁▁▁▁▁▁▁▁▁▁▁▁▁▁▁▁▁▁▁▁▁▁▁</td></tr><tr><td>Validation Accuracy</td><td>▁▂▂▂▂▂▂▂▂▁▄▆██▇▇▆▆▇▇▇▇▇▇▇▇▇▇▇▇▇▇▇▇▇▇▇▇▇▇</td></tr><tr><td>Validation Loss</td><td>█▆▅▄▄▃▂▂▂▂▂▂▁▁▁▁▁▁▁▁▁▁▁▁▁▁▁▁▁▁▁▁▁▁▁▁▁▁▁▁</td></tr></table><br/></div><div class=\"wandb-col\"><h3>Run summary:</h3><br/><table class=\"wandb\"><tr><td>Training Accuracy</td><td>0.5</td></tr><tr><td>Training Loss</td><td>1.19073</td></tr><tr><td>Validation Accuracy</td><td>0.52326</td></tr><tr><td>Validation Loss</td><td>1.15246</td></tr></table><br/></div></div>"
      ],
      "text/plain": [
       "<IPython.core.display.HTML object>"
      ]
     },
     "metadata": {},
     "output_type": "display_data"
    },
    {
     "data": {
      "text/html": [
       " View run <strong style=\"color:#cdcd00\">helpful-voice-114</strong> at: <a href='https://wandb.ai/prakhar-jain/multi-layer-perceptron/runs/3v0d4pvx' target=\"_blank\">https://wandb.ai/prakhar-jain/multi-layer-perceptron/runs/3v0d4pvx</a><br/>Synced 6 W&B file(s), 0 media file(s), 0 artifact file(s) and 0 other file(s)"
      ],
      "text/plain": [
       "<IPython.core.display.HTML object>"
      ]
     },
     "metadata": {},
     "output_type": "display_data"
    },
    {
     "data": {
      "text/html": [
       "Find logs at: <code>./wandb/run-20231015_234934-3v0d4pvx/logs</code>"
      ],
      "text/plain": [
       "<IPython.core.display.HTML object>"
      ]
     },
     "metadata": {},
     "output_type": "display_data"
    },
    {
     "data": {
      "application/vnd.jupyter.widget-view+json": {
       "model_id": "44dbb5e490d346d1a3a13c2fea8fafdb",
       "version_major": 2,
       "version_minor": 0
      },
      "text/plain": [
       "VBox(children=(Label(value='Waiting for wandb.init()...\\r'), FloatProgress(value=0.011112774000018059, max=1.0…"
      ]
     },
     "metadata": {},
     "output_type": "display_data"
    },
    {
     "data": {
      "text/html": [
       "wandb version 0.15.12 is available!  To upgrade, please run:\n",
       " $ pip install wandb --upgrade"
      ],
      "text/plain": [
       "<IPython.core.display.HTML object>"
      ]
     },
     "metadata": {},
     "output_type": "display_data"
    },
    {
     "data": {
      "text/html": [
       "Tracking run with wandb version 0.15.11"
      ],
      "text/plain": [
       "<IPython.core.display.HTML object>"
      ]
     },
     "metadata": {},
     "output_type": "display_data"
    },
    {
     "data": {
      "text/html": [
       "Run data is saved locally in <code>/home/prakhar/Desktop/assignment-3-prakharjain3/wandb/run-20231015_235003-f4silhfn</code>"
      ],
      "text/plain": [
       "<IPython.core.display.HTML object>"
      ]
     },
     "metadata": {},
     "output_type": "display_data"
    },
    {
     "data": {
      "text/html": [
       "Syncing run <strong><a href='https://wandb.ai/prakhar-jain/multi-layer-perceptron/runs/f4silhfn' target=\"_blank\">trim-microwave-115</a></strong> to <a href='https://wandb.ai/prakhar-jain/multi-layer-perceptron' target=\"_blank\">Weights & Biases</a> (<a href='https://wandb.me/run' target=\"_blank\">docs</a>)<br/>"
      ],
      "text/plain": [
       "<IPython.core.display.HTML object>"
      ]
     },
     "metadata": {},
     "output_type": "display_data"
    },
    {
     "data": {
      "text/html": [
       " View project at <a href='https://wandb.ai/prakhar-jain/multi-layer-perceptron' target=\"_blank\">https://wandb.ai/prakhar-jain/multi-layer-perceptron</a>"
      ],
      "text/plain": [
       "<IPython.core.display.HTML object>"
      ]
     },
     "metadata": {},
     "output_type": "display_data"
    },
    {
     "data": {
      "text/html": [
       " View run at <a href='https://wandb.ai/prakhar-jain/multi-layer-perceptron/runs/f4silhfn' target=\"_blank\">https://wandb.ai/prakhar-jain/multi-layer-perceptron/runs/f4silhfn</a>"
      ],
      "text/plain": [
       "<IPython.core.display.HTML object>"
      ]
     },
     "metadata": {},
     "output_type": "display_data"
    },
    {
     "name": "stderr",
     "output_type": "stream",
     "text": [
      "ic| i: 1\n",
      "ic| i: 2\n"
     ]
    },
    {
     "data": {
      "text/html": [
       "Waiting for W&B process to finish... <strong style=\"color:green\">(success).</strong>"
      ],
      "text/plain": [
       "<IPython.core.display.HTML object>"
      ]
     },
     "metadata": {},
     "output_type": "display_data"
    },
    {
     "data": {
      "application/vnd.jupyter.widget-view+json": {
       "model_id": "614631aa22224d648bea2d6e6b68997f",
       "version_major": 2,
       "version_minor": 0
      },
      "text/plain": [
       "VBox(children=(Label(value='0.003 MB of 0.003 MB uploaded (0.000 MB deduped)\\r'), FloatProgress(value=1.0, max…"
      ]
     },
     "metadata": {},
     "output_type": "display_data"
    },
    {
     "name": "stderr",
     "output_type": "stream",
     "text": [
      "wandb: WARNING Source type is set to 'repo' but some required information is missing from the environment. A job will not be created from this run. See https://docs.wandb.ai/guides/launch/create-job\n"
     ]
    },
    {
     "data": {
      "text/html": [
       "<style>\n",
       "    table.wandb td:nth-child(1) { padding: 0 10px; text-align: left ; width: auto;} td:nth-child(2) {text-align: left ; width: 100%}\n",
       "    .wandb-row { display: flex; flex-direction: row; flex-wrap: wrap; justify-content: flex-start; width: 100% }\n",
       "    .wandb-col { display: flex; flex-direction: column; flex-basis: 100%; flex: 1; padding: 10px; }\n",
       "    </style>\n",
       "<div class=\"wandb-row\"><div class=\"wandb-col\"><h3>Run history:</h3><br/><table class=\"wandb\"><tr><td>Training Accuracy</td><td>▁▁▁▃▃▃▄▃▄▄▄▅▅▆▅▆▆▆▆▆▆▇▇▇▇▇▇▇▇▇▇▇▇███████</td></tr><tr><td>Training Loss</td><td>█▅▄▃▂▂▂▂▂▂▂▂▂▂▁▁▁▁▁▁▁▁▁▁▁▁▁▁▁▁▁▁▁▁▁▁▁▁▁▁</td></tr><tr><td>Validation Accuracy</td><td>▄▄▄▄▁▃▃▄▄▄▄▄▃▃▃▄▄▄▄▄▄▅▅▅▆▆▆▆▆▆▇▇▇▇▇▇▇███</td></tr><tr><td>Validation Loss</td><td>█▅▄▃▂▂▂▂▂▂▂▂▂▁▁▁▁▁▁▁▁▁▁▁▁▁▁▁▁▁▁▁▁▁▁▁▁▁▁▁</td></tr></table><br/></div><div class=\"wandb-col\"><h3>Run summary:</h3><br/><table class=\"wandb\"><tr><td>Training Accuracy</td><td>0.49625</td></tr><tr><td>Training Loss</td><td>1.16807</td></tr><tr><td>Validation Accuracy</td><td>0.49419</td></tr><tr><td>Validation Loss</td><td>1.13474</td></tr></table><br/></div></div>"
      ],
      "text/plain": [
       "<IPython.core.display.HTML object>"
      ]
     },
     "metadata": {},
     "output_type": "display_data"
    },
    {
     "data": {
      "text/html": [
       " View run <strong style=\"color:#cdcd00\">trim-microwave-115</strong> at: <a href='https://wandb.ai/prakhar-jain/multi-layer-perceptron/runs/f4silhfn' target=\"_blank\">https://wandb.ai/prakhar-jain/multi-layer-perceptron/runs/f4silhfn</a><br/>Synced 6 W&B file(s), 0 media file(s), 0 artifact file(s) and 0 other file(s)"
      ],
      "text/plain": [
       "<IPython.core.display.HTML object>"
      ]
     },
     "metadata": {},
     "output_type": "display_data"
    },
    {
     "data": {
      "text/html": [
       "Find logs at: <code>./wandb/run-20231015_235003-f4silhfn/logs</code>"
      ],
      "text/plain": [
       "<IPython.core.display.HTML object>"
      ]
     },
     "metadata": {},
     "output_type": "display_data"
    },
    {
     "data": {
      "application/vnd.jupyter.widget-view+json": {
       "model_id": "b742452c2d5840ca8d4a2592c915a029",
       "version_major": 2,
       "version_minor": 0
      },
      "text/plain": [
       "VBox(children=(Label(value='Waiting for wandb.init()...\\r'), FloatProgress(value=0.011112766877825682, max=1.0…"
      ]
     },
     "metadata": {},
     "output_type": "display_data"
    },
    {
     "data": {
      "text/html": [
       "wandb version 0.15.12 is available!  To upgrade, please run:\n",
       " $ pip install wandb --upgrade"
      ],
      "text/plain": [
       "<IPython.core.display.HTML object>"
      ]
     },
     "metadata": {},
     "output_type": "display_data"
    },
    {
     "data": {
      "text/html": [
       "Tracking run with wandb version 0.15.11"
      ],
      "text/plain": [
       "<IPython.core.display.HTML object>"
      ]
     },
     "metadata": {},
     "output_type": "display_data"
    },
    {
     "data": {
      "text/html": [
       "Run data is saved locally in <code>/home/prakhar/Desktop/assignment-3-prakharjain3/wandb/run-20231015_235021-b89o3c7w</code>"
      ],
      "text/plain": [
       "<IPython.core.display.HTML object>"
      ]
     },
     "metadata": {},
     "output_type": "display_data"
    },
    {
     "data": {
      "text/html": [
       "Syncing run <strong><a href='https://wandb.ai/prakhar-jain/multi-layer-perceptron/runs/b89o3c7w' target=\"_blank\">wild-bee-116</a></strong> to <a href='https://wandb.ai/prakhar-jain/multi-layer-perceptron' target=\"_blank\">Weights & Biases</a> (<a href='https://wandb.me/run' target=\"_blank\">docs</a>)<br/>"
      ],
      "text/plain": [
       "<IPython.core.display.HTML object>"
      ]
     },
     "metadata": {},
     "output_type": "display_data"
    },
    {
     "data": {
      "text/html": [
       " View project at <a href='https://wandb.ai/prakhar-jain/multi-layer-perceptron' target=\"_blank\">https://wandb.ai/prakhar-jain/multi-layer-perceptron</a>"
      ],
      "text/plain": [
       "<IPython.core.display.HTML object>"
      ]
     },
     "metadata": {},
     "output_type": "display_data"
    },
    {
     "data": {
      "text/html": [
       " View run at <a href='https://wandb.ai/prakhar-jain/multi-layer-perceptron/runs/b89o3c7w' target=\"_blank\">https://wandb.ai/prakhar-jain/multi-layer-perceptron/runs/b89o3c7w</a>"
      ],
      "text/plain": [
       "<IPython.core.display.HTML object>"
      ]
     },
     "metadata": {},
     "output_type": "display_data"
    },
    {
     "name": "stderr",
     "output_type": "stream",
     "text": [
      "ic| i: 1\n",
      "ic| i: 2\n"
     ]
    },
    {
     "data": {
      "text/html": [
       "Waiting for W&B process to finish... <strong style=\"color:green\">(success).</strong>"
      ],
      "text/plain": [
       "<IPython.core.display.HTML object>"
      ]
     },
     "metadata": {},
     "output_type": "display_data"
    },
    {
     "name": "stderr",
     "output_type": "stream",
     "text": [
      "wandb: WARNING Source type is set to 'repo' but some required information is missing from the environment. A job will not be created from this run. See https://docs.wandb.ai/guides/launch/create-job\n"
     ]
    },
    {
     "data": {
      "application/vnd.jupyter.widget-view+json": {
       "model_id": "54c268b637c2495c9b75680d1b590fc0",
       "version_major": 2,
       "version_minor": 0
      },
      "text/plain": [
       "VBox(children=(Label(value='0.003 MB of 0.003 MB uploaded (0.000 MB deduped)\\r'), FloatProgress(value=1.0, max…"
      ]
     },
     "metadata": {},
     "output_type": "display_data"
    },
    {
     "data": {
      "text/html": [
       "<style>\n",
       "    table.wandb td:nth-child(1) { padding: 0 10px; text-align: left ; width: auto;} td:nth-child(2) {text-align: left ; width: 100%}\n",
       "    .wandb-row { display: flex; flex-direction: row; flex-wrap: wrap; justify-content: flex-start; width: 100% }\n",
       "    .wandb-col { display: flex; flex-direction: column; flex-basis: 100%; flex: 1; padding: 10px; }\n",
       "    </style>\n",
       "<div class=\"wandb-row\"><div class=\"wandb-col\"><h3>Run history:</h3><br/><table class=\"wandb\"><tr><td>Training Accuracy</td><td>▁▁▃▃▃▃▄▄▄▄▄▅▅▅▅▅▆▆▆▆▆▇▇▇▇▇▇▇▇▇▇█▇▇██████</td></tr><tr><td>Training Loss</td><td>█▄▃▂▂▂▂▂▂▂▂▂▂▂▂▂▂▂▂▂▂▁▁▁▁▁▁▁▁▁▁▁▁▁▁▁▁▁▁▁</td></tr><tr><td>Validation Accuracy</td><td>▁▁▃▃▃▃▃▃▃▄▄▅▅▅▅▄▄▄▅▅▅▅▆▆▆▆▅▅▆▇▇▇▇▇▇▇████</td></tr><tr><td>Validation Loss</td><td>█▄▃▂▂▂▂▂▂▂▂▂▂▂▂▂▂▂▁▁▁▁▁▁▁▁▁▁▁▁▁▁▁▁▁▁▁▁▁▁</td></tr></table><br/></div><div class=\"wandb-col\"><h3>Run summary:</h3><br/><table class=\"wandb\"><tr><td>Training Accuracy</td><td>0.54875</td></tr><tr><td>Training Loss</td><td>1.13672</td></tr><tr><td>Validation Accuracy</td><td>0.52326</td></tr><tr><td>Validation Loss</td><td>1.1061</td></tr></table><br/></div></div>"
      ],
      "text/plain": [
       "<IPython.core.display.HTML object>"
      ]
     },
     "metadata": {},
     "output_type": "display_data"
    },
    {
     "data": {
      "text/html": [
       " View run <strong style=\"color:#cdcd00\">wild-bee-116</strong> at: <a href='https://wandb.ai/prakhar-jain/multi-layer-perceptron/runs/b89o3c7w' target=\"_blank\">https://wandb.ai/prakhar-jain/multi-layer-perceptron/runs/b89o3c7w</a><br/>Synced 6 W&B file(s), 0 media file(s), 0 artifact file(s) and 0 other file(s)"
      ],
      "text/plain": [
       "<IPython.core.display.HTML object>"
      ]
     },
     "metadata": {},
     "output_type": "display_data"
    },
    {
     "data": {
      "text/html": [
       "Find logs at: <code>./wandb/run-20231015_235021-b89o3c7w/logs</code>"
      ],
      "text/plain": [
       "<IPython.core.display.HTML object>"
      ]
     },
     "metadata": {},
     "output_type": "display_data"
    },
    {
     "data": {
      "application/vnd.jupyter.widget-view+json": {
       "model_id": "a5580596ca364184b6f012bbdd740f6d",
       "version_major": 2,
       "version_minor": 0
      },
      "text/plain": [
       "VBox(children=(Label(value='Waiting for wandb.init()...\\r'), FloatProgress(value=0.011112492011064509, max=1.0…"
      ]
     },
     "metadata": {},
     "output_type": "display_data"
    },
    {
     "data": {
      "text/html": [
       "wandb version 0.15.12 is available!  To upgrade, please run:\n",
       " $ pip install wandb --upgrade"
      ],
      "text/plain": [
       "<IPython.core.display.HTML object>"
      ]
     },
     "metadata": {},
     "output_type": "display_data"
    },
    {
     "data": {
      "text/html": [
       "Tracking run with wandb version 0.15.11"
      ],
      "text/plain": [
       "<IPython.core.display.HTML object>"
      ]
     },
     "metadata": {},
     "output_type": "display_data"
    },
    {
     "data": {
      "text/html": [
       "Run data is saved locally in <code>/home/prakhar/Desktop/assignment-3-prakharjain3/wandb/run-20231015_235043-vnfx6qtg</code>"
      ],
      "text/plain": [
       "<IPython.core.display.HTML object>"
      ]
     },
     "metadata": {},
     "output_type": "display_data"
    },
    {
     "data": {
      "text/html": [
       "Syncing run <strong><a href='https://wandb.ai/prakhar-jain/multi-layer-perceptron/runs/vnfx6qtg' target=\"_blank\">vital-silence-117</a></strong> to <a href='https://wandb.ai/prakhar-jain/multi-layer-perceptron' target=\"_blank\">Weights & Biases</a> (<a href='https://wandb.me/run' target=\"_blank\">docs</a>)<br/>"
      ],
      "text/plain": [
       "<IPython.core.display.HTML object>"
      ]
     },
     "metadata": {},
     "output_type": "display_data"
    },
    {
     "data": {
      "text/html": [
       " View project at <a href='https://wandb.ai/prakhar-jain/multi-layer-perceptron' target=\"_blank\">https://wandb.ai/prakhar-jain/multi-layer-perceptron</a>"
      ],
      "text/plain": [
       "<IPython.core.display.HTML object>"
      ]
     },
     "metadata": {},
     "output_type": "display_data"
    },
    {
     "data": {
      "text/html": [
       " View run at <a href='https://wandb.ai/prakhar-jain/multi-layer-perceptron/runs/vnfx6qtg' target=\"_blank\">https://wandb.ai/prakhar-jain/multi-layer-perceptron/runs/vnfx6qtg</a>"
      ],
      "text/plain": [
       "<IPython.core.display.HTML object>"
      ]
     },
     "metadata": {},
     "output_type": "display_data"
    },
    {
     "name": "stderr",
     "output_type": "stream",
     "text": [
      "ic| i: 1\n",
      "ic| i: 2\n"
     ]
    },
    {
     "data": {
      "text/html": [
       "Waiting for W&B process to finish... <strong style=\"color:green\">(success).</strong>"
      ],
      "text/plain": [
       "<IPython.core.display.HTML object>"
      ]
     },
     "metadata": {},
     "output_type": "display_data"
    },
    {
     "name": "stderr",
     "output_type": "stream",
     "text": [
      "wandb: WARNING Source type is set to 'repo' but some required information is missing from the environment. A job will not be created from this run. See https://docs.wandb.ai/guides/launch/create-job\n"
     ]
    },
    {
     "data": {
      "application/vnd.jupyter.widget-view+json": {
       "model_id": "060c8e6eb123448785d576577000869f",
       "version_major": 2,
       "version_minor": 0
      },
      "text/plain": [
       "VBox(children=(Label(value='0.003 MB of 0.003 MB uploaded (0.000 MB deduped)\\r'), FloatProgress(value=1.0, max…"
      ]
     },
     "metadata": {},
     "output_type": "display_data"
    },
    {
     "data": {
      "text/html": [
       "<style>\n",
       "    table.wandb td:nth-child(1) { padding: 0 10px; text-align: left ; width: auto;} td:nth-child(2) {text-align: left ; width: 100%}\n",
       "    .wandb-row { display: flex; flex-direction: row; flex-wrap: wrap; justify-content: flex-start; width: 100% }\n",
       "    .wandb-col { display: flex; flex-direction: column; flex-basis: 100%; flex: 1; padding: 10px; }\n",
       "    </style>\n",
       "<div class=\"wandb-row\"><div class=\"wandb-col\"><h3>Run history:</h3><br/><table class=\"wandb\"><tr><td>Training Accuracy</td><td>▁▂▂▂▃▂▃▃▃▄▄▄▄▅▅▅▅▆▆▆▆▆▇▇▇▇▇▇▇▇▇█████████</td></tr><tr><td>Training Loss</td><td>█▄▂▂▂▂▂▂▂▁▁▁▁▁▁▁▁▁▁▁▁▁▁▁▁▁▁▁▁▁▁▁▁▁▁▁▁▁▁▁</td></tr><tr><td>Validation Accuracy</td><td>▁▅▅▅▅▆▆▆▆▆▆▆▇▇▇▇▇▇▇▇▇▇▇▇▇▇▇▇████████████</td></tr><tr><td>Validation Loss</td><td>█▄▂▂▂▂▂▂▁▁▁▁▁▁▁▁▁▁▁▁▁▁▁▁▁▁▁▁▁▁▁▁▁▁▁▁▁▁▁▁</td></tr></table><br/></div><div class=\"wandb-col\"><h3>Run summary:</h3><br/><table class=\"wandb\"><tr><td>Training Accuracy</td><td>0.535</td></tr><tr><td>Training Loss</td><td>1.15885</td></tr><tr><td>Validation Accuracy</td><td>0.52326</td></tr><tr><td>Validation Loss</td><td>1.1175</td></tr></table><br/></div></div>"
      ],
      "text/plain": [
       "<IPython.core.display.HTML object>"
      ]
     },
     "metadata": {},
     "output_type": "display_data"
    },
    {
     "data": {
      "text/html": [
       " View run <strong style=\"color:#cdcd00\">vital-silence-117</strong> at: <a href='https://wandb.ai/prakhar-jain/multi-layer-perceptron/runs/vnfx6qtg' target=\"_blank\">https://wandb.ai/prakhar-jain/multi-layer-perceptron/runs/vnfx6qtg</a><br/>Synced 6 W&B file(s), 0 media file(s), 0 artifact file(s) and 0 other file(s)"
      ],
      "text/plain": [
       "<IPython.core.display.HTML object>"
      ]
     },
     "metadata": {},
     "output_type": "display_data"
    },
    {
     "data": {
      "text/html": [
       "Find logs at: <code>./wandb/run-20231015_235043-vnfx6qtg/logs</code>"
      ],
      "text/plain": [
       "<IPython.core.display.HTML object>"
      ]
     },
     "metadata": {},
     "output_type": "display_data"
    },
    {
     "data": {
      "application/vnd.jupyter.widget-view+json": {
       "model_id": "1553518109fa4e72a29857961fd94cc4",
       "version_major": 2,
       "version_minor": 0
      },
      "text/plain": [
       "VBox(children=(Label(value='Waiting for wandb.init()...\\r'), FloatProgress(value=0.011112633910993788, max=1.0…"
      ]
     },
     "metadata": {},
     "output_type": "display_data"
    },
    {
     "data": {
      "text/html": [
       "wandb version 0.15.12 is available!  To upgrade, please run:\n",
       " $ pip install wandb --upgrade"
      ],
      "text/plain": [
       "<IPython.core.display.HTML object>"
      ]
     },
     "metadata": {},
     "output_type": "display_data"
    },
    {
     "data": {
      "text/html": [
       "Tracking run with wandb version 0.15.11"
      ],
      "text/plain": [
       "<IPython.core.display.HTML object>"
      ]
     },
     "metadata": {},
     "output_type": "display_data"
    },
    {
     "data": {
      "text/html": [
       "Run data is saved locally in <code>/home/prakhar/Desktop/assignment-3-prakharjain3/wandb/run-20231015_235101-qqh5p4w9</code>"
      ],
      "text/plain": [
       "<IPython.core.display.HTML object>"
      ]
     },
     "metadata": {},
     "output_type": "display_data"
    },
    {
     "data": {
      "text/html": [
       "Syncing run <strong><a href='https://wandb.ai/prakhar-jain/multi-layer-perceptron/runs/qqh5p4w9' target=\"_blank\">helpful-shadow-118</a></strong> to <a href='https://wandb.ai/prakhar-jain/multi-layer-perceptron' target=\"_blank\">Weights & Biases</a> (<a href='https://wandb.me/run' target=\"_blank\">docs</a>)<br/>"
      ],
      "text/plain": [
       "<IPython.core.display.HTML object>"
      ]
     },
     "metadata": {},
     "output_type": "display_data"
    },
    {
     "data": {
      "text/html": [
       " View project at <a href='https://wandb.ai/prakhar-jain/multi-layer-perceptron' target=\"_blank\">https://wandb.ai/prakhar-jain/multi-layer-perceptron</a>"
      ],
      "text/plain": [
       "<IPython.core.display.HTML object>"
      ]
     },
     "metadata": {},
     "output_type": "display_data"
    },
    {
     "data": {
      "text/html": [
       " View run at <a href='https://wandb.ai/prakhar-jain/multi-layer-perceptron/runs/qqh5p4w9' target=\"_blank\">https://wandb.ai/prakhar-jain/multi-layer-perceptron/runs/qqh5p4w9</a>"
      ],
      "text/plain": [
       "<IPython.core.display.HTML object>"
      ]
     },
     "metadata": {},
     "output_type": "display_data"
    },
    {
     "name": "stderr",
     "output_type": "stream",
     "text": [
      "ic| i: 1\n",
      "ic| i: 2\n"
     ]
    },
    {
     "data": {
      "text/html": [
       "Waiting for W&B process to finish... <strong style=\"color:green\">(success).</strong>"
      ],
      "text/plain": [
       "<IPython.core.display.HTML object>"
      ]
     },
     "metadata": {},
     "output_type": "display_data"
    },
    {
     "name": "stderr",
     "output_type": "stream",
     "text": [
      "wandb: WARNING Source type is set to 'repo' but some required information is missing from the environment. A job will not be created from this run. See https://docs.wandb.ai/guides/launch/create-job\n"
     ]
    },
    {
     "data": {
      "application/vnd.jupyter.widget-view+json": {
       "model_id": "f89cc97371bc4699bb5bdb3d24bd0c2b",
       "version_major": 2,
       "version_minor": 0
      },
      "text/plain": [
       "VBox(children=(Label(value='0.002 MB of 0.002 MB uploaded (0.000 MB deduped)\\r'), FloatProgress(value=1.0, max…"
      ]
     },
     "metadata": {},
     "output_type": "display_data"
    },
    {
     "data": {
      "text/html": [
       "<style>\n",
       "    table.wandb td:nth-child(1) { padding: 0 10px; text-align: left ; width: auto;} td:nth-child(2) {text-align: left ; width: 100%}\n",
       "    .wandb-row { display: flex; flex-direction: row; flex-wrap: wrap; justify-content: flex-start; width: 100% }\n",
       "    .wandb-col { display: flex; flex-direction: column; flex-basis: 100%; flex: 1; padding: 10px; }\n",
       "    </style>\n",
       "<div class=\"wandb-row\"><div class=\"wandb-col\"><h3>Run history:</h3><br/><table class=\"wandb\"><tr><td>Training Accuracy</td><td>▁▁▁▁▂▂▂▂▂▂▃▃▃▃▄▄▄▅▅▅▆▆▆▆▇▇▇▇▇▇▇▇▇▇▇█████</td></tr><tr><td>Training Loss</td><td>█▃▂▂▂▂▂▂▂▂▂▁▁▁▁▁▁▁▁▁▁▁▁▁▁▁▁▁▁▁▁▁▁▁▁▁▁▁▁▁</td></tr><tr><td>Validation Accuracy</td><td>▃▃▃▃▄▄▃▃▃▂▂▁▁▁▂▂▃▅▆▇▇▅▅▆▆▇▇▇▇▇▇▇▇▇▇▇▇███</td></tr><tr><td>Validation Loss</td><td>█▃▂▂▂▂▂▂▂▂▁▁▁▁▁▁▁▁▁▁▁▁▁▁▁▁▁▁▁▁▁▁▁▁▁▁▁▁▁▁</td></tr></table><br/></div><div class=\"wandb-col\"><h3>Run summary:</h3><br/><table class=\"wandb\"><tr><td>Training Accuracy</td><td>0.55375</td></tr><tr><td>Training Loss</td><td>1.15178</td></tr><tr><td>Validation Accuracy</td><td>0.51744</td></tr><tr><td>Validation Loss</td><td>1.11985</td></tr></table><br/></div></div>"
      ],
      "text/plain": [
       "<IPython.core.display.HTML object>"
      ]
     },
     "metadata": {},
     "output_type": "display_data"
    },
    {
     "data": {
      "text/html": [
       " View run <strong style=\"color:#cdcd00\">helpful-shadow-118</strong> at: <a href='https://wandb.ai/prakhar-jain/multi-layer-perceptron/runs/qqh5p4w9' target=\"_blank\">https://wandb.ai/prakhar-jain/multi-layer-perceptron/runs/qqh5p4w9</a><br/>Synced 6 W&B file(s), 0 media file(s), 0 artifact file(s) and 0 other file(s)"
      ],
      "text/plain": [
       "<IPython.core.display.HTML object>"
      ]
     },
     "metadata": {},
     "output_type": "display_data"
    },
    {
     "data": {
      "text/html": [
       "Find logs at: <code>./wandb/run-20231015_235101-qqh5p4w9/logs</code>"
      ],
      "text/plain": [
       "<IPython.core.display.HTML object>"
      ]
     },
     "metadata": {},
     "output_type": "display_data"
    },
    {
     "data": {
      "application/vnd.jupyter.widget-view+json": {
       "model_id": "86e90c466f364756b013409681a0112d",
       "version_major": 2,
       "version_minor": 0
      },
      "text/plain": [
       "VBox(children=(Label(value='Waiting for wandb.init()...\\r'), FloatProgress(value=0.011112916222191415, max=1.0…"
      ]
     },
     "metadata": {},
     "output_type": "display_data"
    },
    {
     "data": {
      "text/html": [
       "wandb version 0.15.12 is available!  To upgrade, please run:\n",
       " $ pip install wandb --upgrade"
      ],
      "text/plain": [
       "<IPython.core.display.HTML object>"
      ]
     },
     "metadata": {},
     "output_type": "display_data"
    },
    {
     "data": {
      "text/html": [
       "Tracking run with wandb version 0.15.11"
      ],
      "text/plain": [
       "<IPython.core.display.HTML object>"
      ]
     },
     "metadata": {},
     "output_type": "display_data"
    },
    {
     "data": {
      "text/html": [
       "Run data is saved locally in <code>/home/prakhar/Desktop/assignment-3-prakharjain3/wandb/run-20231015_235126-sionh7lo</code>"
      ],
      "text/plain": [
       "<IPython.core.display.HTML object>"
      ]
     },
     "metadata": {},
     "output_type": "display_data"
    },
    {
     "data": {
      "text/html": [
       "Syncing run <strong><a href='https://wandb.ai/prakhar-jain/multi-layer-perceptron/runs/sionh7lo' target=\"_blank\">astral-deluge-119</a></strong> to <a href='https://wandb.ai/prakhar-jain/multi-layer-perceptron' target=\"_blank\">Weights & Biases</a> (<a href='https://wandb.me/run' target=\"_blank\">docs</a>)<br/>"
      ],
      "text/plain": [
       "<IPython.core.display.HTML object>"
      ]
     },
     "metadata": {},
     "output_type": "display_data"
    },
    {
     "data": {
      "text/html": [
       " View project at <a href='https://wandb.ai/prakhar-jain/multi-layer-perceptron' target=\"_blank\">https://wandb.ai/prakhar-jain/multi-layer-perceptron</a>"
      ],
      "text/plain": [
       "<IPython.core.display.HTML object>"
      ]
     },
     "metadata": {},
     "output_type": "display_data"
    },
    {
     "data": {
      "text/html": [
       " View run at <a href='https://wandb.ai/prakhar-jain/multi-layer-perceptron/runs/sionh7lo' target=\"_blank\">https://wandb.ai/prakhar-jain/multi-layer-perceptron/runs/sionh7lo</a>"
      ],
      "text/plain": [
       "<IPython.core.display.HTML object>"
      ]
     },
     "metadata": {},
     "output_type": "display_data"
    },
    {
     "name": "stderr",
     "output_type": "stream",
     "text": [
      "ic| i: 1\n",
      "ic| i: 2\n"
     ]
    },
    {
     "data": {
      "text/html": [
       "Waiting for W&B process to finish... <strong style=\"color:green\">(success).</strong>"
      ],
      "text/plain": [
       "<IPython.core.display.HTML object>"
      ]
     },
     "metadata": {},
     "output_type": "display_data"
    },
    {
     "data": {
      "application/vnd.jupyter.widget-view+json": {
       "model_id": "67b3e6a04ccf4c26b4f8b0c836d8519e",
       "version_major": 2,
       "version_minor": 0
      },
      "text/plain": [
       "VBox(children=(Label(value='0.003 MB of 0.003 MB uploaded (0.000 MB deduped)\\r'), FloatProgress(value=1.0, max…"
      ]
     },
     "metadata": {},
     "output_type": "display_data"
    },
    {
     "name": "stderr",
     "output_type": "stream",
     "text": [
      "wandb: WARNING Source type is set to 'repo' but some required information is missing from the environment. A job will not be created from this run. See https://docs.wandb.ai/guides/launch/create-job\n"
     ]
    },
    {
     "data": {
      "text/html": [
       "<style>\n",
       "    table.wandb td:nth-child(1) { padding: 0 10px; text-align: left ; width: auto;} td:nth-child(2) {text-align: left ; width: 100%}\n",
       "    .wandb-row { display: flex; flex-direction: row; flex-wrap: wrap; justify-content: flex-start; width: 100% }\n",
       "    .wandb-col { display: flex; flex-direction: column; flex-basis: 100%; flex: 1; padding: 10px; }\n",
       "    </style>\n",
       "<div class=\"wandb-row\"><div class=\"wandb-col\"><h3>Run history:</h3><br/><table class=\"wandb\"><tr><td>Training Accuracy</td><td>▁▄▄▄▄▅▅▅▆▆▆▆▆▆▆▆▆▆▆▆▇▇▇▇▇▇▇█████████████</td></tr><tr><td>Training Loss</td><td>█▄▃▃▃▃▃▃▃▃▃▃▃▂▂▂▂▂▂▂▂▂▂▂▂▂▂▂▂▂▂▁▁▁▁▁▁▁▁▁</td></tr><tr><td>Validation Accuracy</td><td>▁▂▄▅▆▆▅▅▅▅▅▅▅▆▅▅▅▆▇▇▇▆▆▆▆▆▆▆▆▆▇▇▇▇▇▇▇███</td></tr><tr><td>Validation Loss</td><td>█▄▃▃▃▃▃▃▃▃▂▂▂▂▂▂▂▂▂▂▂▂▂▂▂▂▂▂▂▂▁▁▁▁▁▁▁▁▁▁</td></tr></table><br/></div><div class=\"wandb-col\"><h3>Run summary:</h3><br/><table class=\"wandb\"><tr><td>Training Accuracy</td><td>0.55625</td></tr><tr><td>Training Loss</td><td>1.08456</td></tr><tr><td>Validation Accuracy</td><td>0.54651</td></tr><tr><td>Validation Loss</td><td>1.0662</td></tr></table><br/></div></div>"
      ],
      "text/plain": [
       "<IPython.core.display.HTML object>"
      ]
     },
     "metadata": {},
     "output_type": "display_data"
    },
    {
     "data": {
      "text/html": [
       " View run <strong style=\"color:#cdcd00\">astral-deluge-119</strong> at: <a href='https://wandb.ai/prakhar-jain/multi-layer-perceptron/runs/sionh7lo' target=\"_blank\">https://wandb.ai/prakhar-jain/multi-layer-perceptron/runs/sionh7lo</a><br/>Synced 6 W&B file(s), 0 media file(s), 0 artifact file(s) and 0 other file(s)"
      ],
      "text/plain": [
       "<IPython.core.display.HTML object>"
      ]
     },
     "metadata": {},
     "output_type": "display_data"
    },
    {
     "data": {
      "text/html": [
       "Find logs at: <code>./wandb/run-20231015_235126-sionh7lo/logs</code>"
      ],
      "text/plain": [
       "<IPython.core.display.HTML object>"
      ]
     },
     "metadata": {},
     "output_type": "display_data"
    },
    {
     "data": {
      "application/vnd.jupyter.widget-view+json": {
       "model_id": "d95dfd6315484105886b64d4ec363859",
       "version_major": 2,
       "version_minor": 0
      },
      "text/plain": [
       "VBox(children=(Label(value='Waiting for wandb.init()...\\r'), FloatProgress(value=0.011112949377921824, max=1.0…"
      ]
     },
     "metadata": {},
     "output_type": "display_data"
    },
    {
     "data": {
      "text/html": [
       "wandb version 0.15.12 is available!  To upgrade, please run:\n",
       " $ pip install wandb --upgrade"
      ],
      "text/plain": [
       "<IPython.core.display.HTML object>"
      ]
     },
     "metadata": {},
     "output_type": "display_data"
    },
    {
     "data": {
      "text/html": [
       "Tracking run with wandb version 0.15.11"
      ],
      "text/plain": [
       "<IPython.core.display.HTML object>"
      ]
     },
     "metadata": {},
     "output_type": "display_data"
    },
    {
     "data": {
      "text/html": [
       "Run data is saved locally in <code>/home/prakhar/Desktop/assignment-3-prakharjain3/wandb/run-20231015_235200-ke705d0t</code>"
      ],
      "text/plain": [
       "<IPython.core.display.HTML object>"
      ]
     },
     "metadata": {},
     "output_type": "display_data"
    },
    {
     "data": {
      "text/html": [
       "Syncing run <strong><a href='https://wandb.ai/prakhar-jain/multi-layer-perceptron/runs/ke705d0t' target=\"_blank\">stellar-rain-120</a></strong> to <a href='https://wandb.ai/prakhar-jain/multi-layer-perceptron' target=\"_blank\">Weights & Biases</a> (<a href='https://wandb.me/run' target=\"_blank\">docs</a>)<br/>"
      ],
      "text/plain": [
       "<IPython.core.display.HTML object>"
      ]
     },
     "metadata": {},
     "output_type": "display_data"
    },
    {
     "data": {
      "text/html": [
       " View project at <a href='https://wandb.ai/prakhar-jain/multi-layer-perceptron' target=\"_blank\">https://wandb.ai/prakhar-jain/multi-layer-perceptron</a>"
      ],
      "text/plain": [
       "<IPython.core.display.HTML object>"
      ]
     },
     "metadata": {},
     "output_type": "display_data"
    },
    {
     "data": {
      "text/html": [
       " View run at <a href='https://wandb.ai/prakhar-jain/multi-layer-perceptron/runs/ke705d0t' target=\"_blank\">https://wandb.ai/prakhar-jain/multi-layer-perceptron/runs/ke705d0t</a>"
      ],
      "text/plain": [
       "<IPython.core.display.HTML object>"
      ]
     },
     "metadata": {},
     "output_type": "display_data"
    },
    {
     "name": "stderr",
     "output_type": "stream",
     "text": [
      "ic| i: 1\n",
      "ic| i: 2\n"
     ]
    },
    {
     "data": {
      "text/html": [
       "Waiting for W&B process to finish... <strong style=\"color:green\">(success).</strong>"
      ],
      "text/plain": [
       "<IPython.core.display.HTML object>"
      ]
     },
     "metadata": {},
     "output_type": "display_data"
    },
    {
     "data": {
      "application/vnd.jupyter.widget-view+json": {
       "model_id": "07d0f2e8cd2b4ce9808f45854bd3c140",
       "version_major": 2,
       "version_minor": 0
      },
      "text/plain": [
       "VBox(children=(Label(value='0.003 MB of 0.003 MB uploaded (0.000 MB deduped)\\r'), FloatProgress(value=1.0, max…"
      ]
     },
     "metadata": {},
     "output_type": "display_data"
    },
    {
     "name": "stderr",
     "output_type": "stream",
     "text": [
      "wandb: WARNING Source type is set to 'repo' but some required information is missing from the environment. A job will not be created from this run. See https://docs.wandb.ai/guides/launch/create-job\n"
     ]
    },
    {
     "data": {
      "text/html": [
       "<style>\n",
       "    table.wandb td:nth-child(1) { padding: 0 10px; text-align: left ; width: auto;} td:nth-child(2) {text-align: left ; width: 100%}\n",
       "    .wandb-row { display: flex; flex-direction: row; flex-wrap: wrap; justify-content: flex-start; width: 100% }\n",
       "    .wandb-col { display: flex; flex-direction: column; flex-basis: 100%; flex: 1; padding: 10px; }\n",
       "    </style>\n",
       "<div class=\"wandb-row\"><div class=\"wandb-col\"><h3>Run history:</h3><br/><table class=\"wandb\"><tr><td>Training Accuracy</td><td>▁▁▃▃▃▄▄▄▅▅▆▆▆▇▇▇▇▇▇▇▇▇▇▇▇▇▇▇████████████</td></tr><tr><td>Training Loss</td><td>█▃▃▃▃▃▃▂▂▂▂▂▂▂▂▂▂▂▂▂▂▂▂▂▂▂▂▂▂▂▁▁▁▁▁▁▁▁▁▁</td></tr><tr><td>Validation Accuracy</td><td>▂▂▂▂▂▃▁▂▃▃▄▅▆▆▆▆▇▇▇▇▇▇▇▇▇▇▇▇▇▇▇▇▇▇██████</td></tr><tr><td>Validation Loss</td><td>█▃▃▃▂▂▂▂▂▂▂▂▂▂▂▂▂▂▂▂▂▂▂▂▂▂▂▂▁▁▁▁▁▁▁▁▁▁▁▁</td></tr></table><br/></div><div class=\"wandb-col\"><h3>Run summary:</h3><br/><table class=\"wandb\"><tr><td>Training Accuracy</td><td>0.55875</td></tr><tr><td>Training Loss</td><td>1.11495</td></tr><tr><td>Validation Accuracy</td><td>0.56977</td></tr><tr><td>Validation Loss</td><td>1.07937</td></tr></table><br/></div></div>"
      ],
      "text/plain": [
       "<IPython.core.display.HTML object>"
      ]
     },
     "metadata": {},
     "output_type": "display_data"
    },
    {
     "data": {
      "text/html": [
       " View run <strong style=\"color:#cdcd00\">stellar-rain-120</strong> at: <a href='https://wandb.ai/prakhar-jain/multi-layer-perceptron/runs/ke705d0t' target=\"_blank\">https://wandb.ai/prakhar-jain/multi-layer-perceptron/runs/ke705d0t</a><br/>Synced 6 W&B file(s), 0 media file(s), 0 artifact file(s) and 0 other file(s)"
      ],
      "text/plain": [
       "<IPython.core.display.HTML object>"
      ]
     },
     "metadata": {},
     "output_type": "display_data"
    },
    {
     "data": {
      "text/html": [
       "Find logs at: <code>./wandb/run-20231015_235200-ke705d0t/logs</code>"
      ],
      "text/plain": [
       "<IPython.core.display.HTML object>"
      ]
     },
     "metadata": {},
     "output_type": "display_data"
    },
    {
     "data": {
      "application/vnd.jupyter.widget-view+json": {
       "model_id": "072d8d399615481aba9f09658eff92d7",
       "version_major": 2,
       "version_minor": 0
      },
      "text/plain": [
       "VBox(children=(Label(value='Waiting for wandb.init()...\\r'), FloatProgress(value=0.011114561055567011, max=1.0…"
      ]
     },
     "metadata": {},
     "output_type": "display_data"
    },
    {
     "data": {
      "text/html": [
       "wandb version 0.15.12 is available!  To upgrade, please run:\n",
       " $ pip install wandb --upgrade"
      ],
      "text/plain": [
       "<IPython.core.display.HTML object>"
      ]
     },
     "metadata": {},
     "output_type": "display_data"
    },
    {
     "data": {
      "text/html": [
       "Tracking run with wandb version 0.15.11"
      ],
      "text/plain": [
       "<IPython.core.display.HTML object>"
      ]
     },
     "metadata": {},
     "output_type": "display_data"
    },
    {
     "data": {
      "text/html": [
       "Run data is saved locally in <code>/home/prakhar/Desktop/assignment-3-prakharjain3/wandb/run-20231015_235229-hwb4n061</code>"
      ],
      "text/plain": [
       "<IPython.core.display.HTML object>"
      ]
     },
     "metadata": {},
     "output_type": "display_data"
    },
    {
     "data": {
      "text/html": [
       "Syncing run <strong><a href='https://wandb.ai/prakhar-jain/multi-layer-perceptron/runs/hwb4n061' target=\"_blank\">vague-forest-121</a></strong> to <a href='https://wandb.ai/prakhar-jain/multi-layer-perceptron' target=\"_blank\">Weights & Biases</a> (<a href='https://wandb.me/run' target=\"_blank\">docs</a>)<br/>"
      ],
      "text/plain": [
       "<IPython.core.display.HTML object>"
      ]
     },
     "metadata": {},
     "output_type": "display_data"
    },
    {
     "data": {
      "text/html": [
       " View project at <a href='https://wandb.ai/prakhar-jain/multi-layer-perceptron' target=\"_blank\">https://wandb.ai/prakhar-jain/multi-layer-perceptron</a>"
      ],
      "text/plain": [
       "<IPython.core.display.HTML object>"
      ]
     },
     "metadata": {},
     "output_type": "display_data"
    },
    {
     "data": {
      "text/html": [
       " View run at <a href='https://wandb.ai/prakhar-jain/multi-layer-perceptron/runs/hwb4n061' target=\"_blank\">https://wandb.ai/prakhar-jain/multi-layer-perceptron/runs/hwb4n061</a>"
      ],
      "text/plain": [
       "<IPython.core.display.HTML object>"
      ]
     },
     "metadata": {},
     "output_type": "display_data"
    },
    {
     "name": "stderr",
     "output_type": "stream",
     "text": [
      "ic| i: 1\n",
      "ic| i: 2\n"
     ]
    },
    {
     "data": {
      "text/html": [
       "Waiting for W&B process to finish... <strong style=\"color:green\">(success).</strong>"
      ],
      "text/plain": [
       "<IPython.core.display.HTML object>"
      ]
     },
     "metadata": {},
     "output_type": "display_data"
    },
    {
     "name": "stderr",
     "output_type": "stream",
     "text": [
      "wandb: WARNING Source type is set to 'repo' but some required information is missing from the environment. A job will not be created from this run. See https://docs.wandb.ai/guides/launch/create-job\n"
     ]
    },
    {
     "data": {
      "application/vnd.jupyter.widget-view+json": {
       "model_id": "0072bb954c564d6cacf2f223a96edc54",
       "version_major": 2,
       "version_minor": 0
      },
      "text/plain": [
       "VBox(children=(Label(value='0.002 MB of 0.002 MB uploaded (0.000 MB deduped)\\r'), FloatProgress(value=1.0, max…"
      ]
     },
     "metadata": {},
     "output_type": "display_data"
    },
    {
     "data": {
      "text/html": [
       "<style>\n",
       "    table.wandb td:nth-child(1) { padding: 0 10px; text-align: left ; width: auto;} td:nth-child(2) {text-align: left ; width: 100%}\n",
       "    .wandb-row { display: flex; flex-direction: row; flex-wrap: wrap; justify-content: flex-start; width: 100% }\n",
       "    .wandb-col { display: flex; flex-direction: column; flex-basis: 100%; flex: 1; padding: 10px; }\n",
       "    </style>\n",
       "<div class=\"wandb-row\"><div class=\"wandb-col\"><h3>Run history:</h3><br/><table class=\"wandb\"><tr><td>Training Accuracy</td><td>▁▁▂▂▃▄▄▄▄▄▄▄▅▅▅▅▅▆▆▆▆▆▆▆▇▇▇▇▇▇▇█████████</td></tr><tr><td>Training Loss</td><td>█▆▆▆▆▆▅▅▅▄▄▄▃▃▃▃▂▂▂▂▂▂▂▂▂▁▁▁▁▁▁▁▁▁▁▁▁▁▁▁</td></tr><tr><td>Validation Accuracy</td><td>▁▂▂▃▃▃▃▃▄▄▃▃▄▄▄▅▅▅▆▆▆▆▆▇▇▇▇▇▇▇▇▇████████</td></tr><tr><td>Validation Loss</td><td>█▆▆▆▆▅▅▅▅▄▄▄▃▃▃▃▃▂▂▂▂▂▂▂▂▂▁▁▁▁▁▁▁▁▁▁▁▁▁▁</td></tr></table><br/></div><div class=\"wandb-col\"><h3>Run summary:</h3><br/><table class=\"wandb\"><tr><td>Training Accuracy</td><td>0.61625</td></tr><tr><td>Training Loss</td><td>0.96591</td></tr><tr><td>Validation Accuracy</td><td>0.61047</td></tr><tr><td>Validation Loss</td><td>0.9621</td></tr></table><br/></div></div>"
      ],
      "text/plain": [
       "<IPython.core.display.HTML object>"
      ]
     },
     "metadata": {},
     "output_type": "display_data"
    },
    {
     "data": {
      "text/html": [
       " View run <strong style=\"color:#cdcd00\">vague-forest-121</strong> at: <a href='https://wandb.ai/prakhar-jain/multi-layer-perceptron/runs/hwb4n061' target=\"_blank\">https://wandb.ai/prakhar-jain/multi-layer-perceptron/runs/hwb4n061</a><br/>Synced 6 W&B file(s), 0 media file(s), 0 artifact file(s) and 0 other file(s)"
      ],
      "text/plain": [
       "<IPython.core.display.HTML object>"
      ]
     },
     "metadata": {},
     "output_type": "display_data"
    },
    {
     "data": {
      "text/html": [
       "Find logs at: <code>./wandb/run-20231015_235229-hwb4n061/logs</code>"
      ],
      "text/plain": [
       "<IPython.core.display.HTML object>"
      ]
     },
     "metadata": {},
     "output_type": "display_data"
    },
    {
     "data": {
      "application/vnd.jupyter.widget-view+json": {
       "model_id": "f12b950ed7fa42a98bf6b276d74021a2",
       "version_major": 2,
       "version_minor": 0
      },
      "text/plain": [
       "VBox(children=(Label(value='Waiting for wandb.init()...\\r'), FloatProgress(value=0.011112887822188592, max=1.0…"
      ]
     },
     "metadata": {},
     "output_type": "display_data"
    },
    {
     "data": {
      "text/html": [
       "wandb version 0.15.12 is available!  To upgrade, please run:\n",
       " $ pip install wandb --upgrade"
      ],
      "text/plain": [
       "<IPython.core.display.HTML object>"
      ]
     },
     "metadata": {},
     "output_type": "display_data"
    },
    {
     "data": {
      "text/html": [
       "Tracking run with wandb version 0.15.11"
      ],
      "text/plain": [
       "<IPython.core.display.HTML object>"
      ]
     },
     "metadata": {},
     "output_type": "display_data"
    },
    {
     "data": {
      "text/html": [
       "Run data is saved locally in <code>/home/prakhar/Desktop/assignment-3-prakharjain3/wandb/run-20231015_235245-1dgmx7ue</code>"
      ],
      "text/plain": [
       "<IPython.core.display.HTML object>"
      ]
     },
     "metadata": {},
     "output_type": "display_data"
    },
    {
     "data": {
      "text/html": [
       "Syncing run <strong><a href='https://wandb.ai/prakhar-jain/multi-layer-perceptron/runs/1dgmx7ue' target=\"_blank\">scarlet-music-122</a></strong> to <a href='https://wandb.ai/prakhar-jain/multi-layer-perceptron' target=\"_blank\">Weights & Biases</a> (<a href='https://wandb.me/run' target=\"_blank\">docs</a>)<br/>"
      ],
      "text/plain": [
       "<IPython.core.display.HTML object>"
      ]
     },
     "metadata": {},
     "output_type": "display_data"
    },
    {
     "data": {
      "text/html": [
       " View project at <a href='https://wandb.ai/prakhar-jain/multi-layer-perceptron' target=\"_blank\">https://wandb.ai/prakhar-jain/multi-layer-perceptron</a>"
      ],
      "text/plain": [
       "<IPython.core.display.HTML object>"
      ]
     },
     "metadata": {},
     "output_type": "display_data"
    },
    {
     "data": {
      "text/html": [
       " View run at <a href='https://wandb.ai/prakhar-jain/multi-layer-perceptron/runs/1dgmx7ue' target=\"_blank\">https://wandb.ai/prakhar-jain/multi-layer-perceptron/runs/1dgmx7ue</a>"
      ],
      "text/plain": [
       "<IPython.core.display.HTML object>"
      ]
     },
     "metadata": {},
     "output_type": "display_data"
    },
    {
     "name": "stderr",
     "output_type": "stream",
     "text": [
      "ic| i: 1\n",
      "ic| i: 2\n"
     ]
    },
    {
     "data": {
      "text/html": [
       "Waiting for W&B process to finish... <strong style=\"color:green\">(success).</strong>"
      ],
      "text/plain": [
       "<IPython.core.display.HTML object>"
      ]
     },
     "metadata": {},
     "output_type": "display_data"
    },
    {
     "name": "stderr",
     "output_type": "stream",
     "text": [
      "wandb: WARNING Source type is set to 'repo' but some required information is missing from the environment. A job will not be created from this run. See https://docs.wandb.ai/guides/launch/create-job\n"
     ]
    },
    {
     "data": {
      "application/vnd.jupyter.widget-view+json": {
       "model_id": "98724b32d23d4bf799ccf6b1236abce7",
       "version_major": 2,
       "version_minor": 0
      },
      "text/plain": [
       "VBox(children=(Label(value='0.003 MB of 0.003 MB uploaded (0.000 MB deduped)\\r'), FloatProgress(value=1.0, max…"
      ]
     },
     "metadata": {},
     "output_type": "display_data"
    },
    {
     "data": {
      "text/html": [
       "<style>\n",
       "    table.wandb td:nth-child(1) { padding: 0 10px; text-align: left ; width: auto;} td:nth-child(2) {text-align: left ; width: 100%}\n",
       "    .wandb-row { display: flex; flex-direction: row; flex-wrap: wrap; justify-content: flex-start; width: 100% }\n",
       "    .wandb-col { display: flex; flex-direction: column; flex-basis: 100%; flex: 1; padding: 10px; }\n",
       "    </style>\n",
       "<div class=\"wandb-row\"><div class=\"wandb-col\"><h3>Run history:</h3><br/><table class=\"wandb\"><tr><td>Training Accuracy</td><td>▁▃▅▅▅▅▅▅▆▆▆▆▆▇▇▇▇▇▇▇▇███████████████████</td></tr><tr><td>Training Loss</td><td>█▇▇▆▆▅▅▄▄▄▃▃▃▃▂▂▂▂▂▂▂▂▂▂▁▁▁▁▁▁▁▁▁▁▁▁▁▁▁▁</td></tr><tr><td>Validation Accuracy</td><td>▁▃▃▄▅▄▃▃▂▄▅▅▅▆▅▆▆▇▆▇▇▇▇▇▆▆▆▆▆██████▇████</td></tr><tr><td>Validation Loss</td><td>█▇▇▆▆▅▅▄▄▄▃▃▃▂▂▂▂▂▂▂▂▂▂▂▁▁▁▁▁▁▁▁▁▁▁▁▁▁▁▁</td></tr></table><br/></div><div class=\"wandb-col\"><h3>Run summary:</h3><br/><table class=\"wandb\"><tr><td>Training Accuracy</td><td>0.61125</td></tr><tr><td>Training Loss</td><td>0.95233</td></tr><tr><td>Validation Accuracy</td><td>0.62791</td></tr><tr><td>Validation Loss</td><td>0.9457</td></tr></table><br/></div></div>"
      ],
      "text/plain": [
       "<IPython.core.display.HTML object>"
      ]
     },
     "metadata": {},
     "output_type": "display_data"
    },
    {
     "data": {
      "text/html": [
       " View run <strong style=\"color:#cdcd00\">scarlet-music-122</strong> at: <a href='https://wandb.ai/prakhar-jain/multi-layer-perceptron/runs/1dgmx7ue' target=\"_blank\">https://wandb.ai/prakhar-jain/multi-layer-perceptron/runs/1dgmx7ue</a><br/>Synced 6 W&B file(s), 0 media file(s), 0 artifact file(s) and 0 other file(s)"
      ],
      "text/plain": [
       "<IPython.core.display.HTML object>"
      ]
     },
     "metadata": {},
     "output_type": "display_data"
    },
    {
     "data": {
      "text/html": [
       "Find logs at: <code>./wandb/run-20231015_235245-1dgmx7ue/logs</code>"
      ],
      "text/plain": [
       "<IPython.core.display.HTML object>"
      ]
     },
     "metadata": {},
     "output_type": "display_data"
    },
    {
     "data": {
      "application/vnd.jupyter.widget-view+json": {
       "model_id": "ba1e150252f44164ba06bc3f4f43fd71",
       "version_major": 2,
       "version_minor": 0
      },
      "text/plain": [
       "VBox(children=(Label(value='Waiting for wandb.init()...\\r'), FloatProgress(value=0.011112750366575913, max=1.0…"
      ]
     },
     "metadata": {},
     "output_type": "display_data"
    },
    {
     "data": {
      "text/html": [
       "wandb version 0.15.12 is available!  To upgrade, please run:\n",
       " $ pip install wandb --upgrade"
      ],
      "text/plain": [
       "<IPython.core.display.HTML object>"
      ]
     },
     "metadata": {},
     "output_type": "display_data"
    },
    {
     "data": {
      "text/html": [
       "Tracking run with wandb version 0.15.11"
      ],
      "text/plain": [
       "<IPython.core.display.HTML object>"
      ]
     },
     "metadata": {},
     "output_type": "display_data"
    },
    {
     "data": {
      "text/html": [
       "Run data is saved locally in <code>/home/prakhar/Desktop/assignment-3-prakharjain3/wandb/run-20231015_235305-bp0yc7nn</code>"
      ],
      "text/plain": [
       "<IPython.core.display.HTML object>"
      ]
     },
     "metadata": {},
     "output_type": "display_data"
    },
    {
     "data": {
      "text/html": [
       "Syncing run <strong><a href='https://wandb.ai/prakhar-jain/multi-layer-perceptron/runs/bp0yc7nn' target=\"_blank\">playful-wildflower-123</a></strong> to <a href='https://wandb.ai/prakhar-jain/multi-layer-perceptron' target=\"_blank\">Weights & Biases</a> (<a href='https://wandb.me/run' target=\"_blank\">docs</a>)<br/>"
      ],
      "text/plain": [
       "<IPython.core.display.HTML object>"
      ]
     },
     "metadata": {},
     "output_type": "display_data"
    },
    {
     "data": {
      "text/html": [
       " View project at <a href='https://wandb.ai/prakhar-jain/multi-layer-perceptron' target=\"_blank\">https://wandb.ai/prakhar-jain/multi-layer-perceptron</a>"
      ],
      "text/plain": [
       "<IPython.core.display.HTML object>"
      ]
     },
     "metadata": {},
     "output_type": "display_data"
    },
    {
     "data": {
      "text/html": [
       " View run at <a href='https://wandb.ai/prakhar-jain/multi-layer-perceptron/runs/bp0yc7nn' target=\"_blank\">https://wandb.ai/prakhar-jain/multi-layer-perceptron/runs/bp0yc7nn</a>"
      ],
      "text/plain": [
       "<IPython.core.display.HTML object>"
      ]
     },
     "metadata": {},
     "output_type": "display_data"
    },
    {
     "name": "stderr",
     "output_type": "stream",
     "text": [
      "ic| i: 1\n",
      "ic| i: 2\n"
     ]
    },
    {
     "data": {
      "text/html": [
       "Waiting for W&B process to finish... <strong style=\"color:green\">(success).</strong>"
      ],
      "text/plain": [
       "<IPython.core.display.HTML object>"
      ]
     },
     "metadata": {},
     "output_type": "display_data"
    },
    {
     "data": {
      "application/vnd.jupyter.widget-view+json": {
       "model_id": "83ec732a04d8475f90f32cab73b5a431",
       "version_major": 2,
       "version_minor": 0
      },
      "text/plain": [
       "VBox(children=(Label(value='0.003 MB of 0.003 MB uploaded (0.000 MB deduped)\\r'), FloatProgress(value=1.0, max…"
      ]
     },
     "metadata": {},
     "output_type": "display_data"
    },
    {
     "name": "stderr",
     "output_type": "stream",
     "text": [
      "wandb: WARNING Source type is set to 'repo' but some required information is missing from the environment. A job will not be created from this run. See https://docs.wandb.ai/guides/launch/create-job\n"
     ]
    },
    {
     "data": {
      "text/html": [
       "<style>\n",
       "    table.wandb td:nth-child(1) { padding: 0 10px; text-align: left ; width: auto;} td:nth-child(2) {text-align: left ; width: 100%}\n",
       "    .wandb-row { display: flex; flex-direction: row; flex-wrap: wrap; justify-content: flex-start; width: 100% }\n",
       "    .wandb-col { display: flex; flex-direction: column; flex-basis: 100%; flex: 1; padding: 10px; }\n",
       "    </style>\n",
       "<div class=\"wandb-row\"><div class=\"wandb-col\"><h3>Run history:</h3><br/><table class=\"wandb\"><tr><td>Training Accuracy</td><td>▁▂▃▄▅▆▆▆▆▆▆▆▆▆▆▆▆▆▆▆▆▆▆▇▇▇▇▇████████████</td></tr><tr><td>Training Loss</td><td>█▇▇▆▆▆▅▅▅▄▄▄▃▃▃▃▃▂▂▂▂▂▂▂▂▂▁▁▁▁▁▁▁▁▁▁▁▁▁▁</td></tr><tr><td>Validation Accuracy</td><td>▁▂▂▂▃▅▄▄▄▄▅▅▅▅▅▅▅▅▅▆▆▆▆▆▇▇▇███████████▇█</td></tr><tr><td>Validation Loss</td><td>█▇▇▆▆▆▅▅▅▄▄▄▃▃▃▃▃▂▂▂▂▂▂▂▂▂▂▁▁▁▁▁▁▁▁▁▁▁▁▁</td></tr></table><br/></div><div class=\"wandb-col\"><h3>Run summary:</h3><br/><table class=\"wandb\"><tr><td>Training Accuracy</td><td>0.615</td></tr><tr><td>Training Loss</td><td>0.96641</td></tr><tr><td>Validation Accuracy</td><td>0.62791</td></tr><tr><td>Validation Loss</td><td>0.96513</td></tr></table><br/></div></div>"
      ],
      "text/plain": [
       "<IPython.core.display.HTML object>"
      ]
     },
     "metadata": {},
     "output_type": "display_data"
    },
    {
     "data": {
      "text/html": [
       " View run <strong style=\"color:#cdcd00\">playful-wildflower-123</strong> at: <a href='https://wandb.ai/prakhar-jain/multi-layer-perceptron/runs/bp0yc7nn' target=\"_blank\">https://wandb.ai/prakhar-jain/multi-layer-perceptron/runs/bp0yc7nn</a><br/>Synced 6 W&B file(s), 0 media file(s), 0 artifact file(s) and 0 other file(s)"
      ],
      "text/plain": [
       "<IPython.core.display.HTML object>"
      ]
     },
     "metadata": {},
     "output_type": "display_data"
    },
    {
     "data": {
      "text/html": [
       "Find logs at: <code>./wandb/run-20231015_235305-bp0yc7nn/logs</code>"
      ],
      "text/plain": [
       "<IPython.core.display.HTML object>"
      ]
     },
     "metadata": {},
     "output_type": "display_data"
    },
    {
     "data": {
      "application/vnd.jupyter.widget-view+json": {
       "model_id": "ac9b7f6362714d6cb5604377e7a3ac36",
       "version_major": 2,
       "version_minor": 0
      },
      "text/plain": [
       "VBox(children=(Label(value='Waiting for wandb.init()...\\r'), FloatProgress(value=0.011112741722253202, max=1.0…"
      ]
     },
     "metadata": {},
     "output_type": "display_data"
    },
    {
     "data": {
      "text/html": [
       "wandb version 0.15.12 is available!  To upgrade, please run:\n",
       " $ pip install wandb --upgrade"
      ],
      "text/plain": [
       "<IPython.core.display.HTML object>"
      ]
     },
     "metadata": {},
     "output_type": "display_data"
    },
    {
     "data": {
      "text/html": [
       "Tracking run with wandb version 0.15.11"
      ],
      "text/plain": [
       "<IPython.core.display.HTML object>"
      ]
     },
     "metadata": {},
     "output_type": "display_data"
    },
    {
     "data": {
      "text/html": [
       "Run data is saved locally in <code>/home/prakhar/Desktop/assignment-3-prakharjain3/wandb/run-20231015_235324-279ob69m</code>"
      ],
      "text/plain": [
       "<IPython.core.display.HTML object>"
      ]
     },
     "metadata": {},
     "output_type": "display_data"
    },
    {
     "data": {
      "text/html": [
       "Syncing run <strong><a href='https://wandb.ai/prakhar-jain/multi-layer-perceptron/runs/279ob69m' target=\"_blank\">crimson-cherry-124</a></strong> to <a href='https://wandb.ai/prakhar-jain/multi-layer-perceptron' target=\"_blank\">Weights & Biases</a> (<a href='https://wandb.me/run' target=\"_blank\">docs</a>)<br/>"
      ],
      "text/plain": [
       "<IPython.core.display.HTML object>"
      ]
     },
     "metadata": {},
     "output_type": "display_data"
    },
    {
     "data": {
      "text/html": [
       " View project at <a href='https://wandb.ai/prakhar-jain/multi-layer-perceptron' target=\"_blank\">https://wandb.ai/prakhar-jain/multi-layer-perceptron</a>"
      ],
      "text/plain": [
       "<IPython.core.display.HTML object>"
      ]
     },
     "metadata": {},
     "output_type": "display_data"
    },
    {
     "data": {
      "text/html": [
       " View run at <a href='https://wandb.ai/prakhar-jain/multi-layer-perceptron/runs/279ob69m' target=\"_blank\">https://wandb.ai/prakhar-jain/multi-layer-perceptron/runs/279ob69m</a>"
      ],
      "text/plain": [
       "<IPython.core.display.HTML object>"
      ]
     },
     "metadata": {},
     "output_type": "display_data"
    },
    {
     "name": "stderr",
     "output_type": "stream",
     "text": [
      "ic| i: 1\n",
      "ic| i: 2\n"
     ]
    },
    {
     "data": {
      "text/html": [
       "Waiting for W&B process to finish... <strong style=\"color:green\">(success).</strong>"
      ],
      "text/plain": [
       "<IPython.core.display.HTML object>"
      ]
     },
     "metadata": {},
     "output_type": "display_data"
    },
    {
     "data": {
      "application/vnd.jupyter.widget-view+json": {
       "model_id": "b2aac5ccc44b45fa997b392d9e85f480",
       "version_major": 2,
       "version_minor": 0
      },
      "text/plain": [
       "VBox(children=(Label(value='0.003 MB of 0.003 MB uploaded (0.000 MB deduped)\\r'), FloatProgress(value=1.0, max…"
      ]
     },
     "metadata": {},
     "output_type": "display_data"
    },
    {
     "name": "stderr",
     "output_type": "stream",
     "text": [
      "wandb: WARNING Source type is set to 'repo' but some required information is missing from the environment. A job will not be created from this run. See https://docs.wandb.ai/guides/launch/create-job\n"
     ]
    },
    {
     "data": {
      "text/html": [
       "<style>\n",
       "    table.wandb td:nth-child(1) { padding: 0 10px; text-align: left ; width: auto;} td:nth-child(2) {text-align: left ; width: 100%}\n",
       "    .wandb-row { display: flex; flex-direction: row; flex-wrap: wrap; justify-content: flex-start; width: 100% }\n",
       "    .wandb-col { display: flex; flex-direction: column; flex-basis: 100%; flex: 1; padding: 10px; }\n",
       "    </style>\n",
       "<div class=\"wandb-row\"><div class=\"wandb-col\"><h3>Run history:</h3><br/><table class=\"wandb\"><tr><td>Training Accuracy</td><td>▁▃▄▅▆▆▆▆▆▆▆▆▇▇▇▇▇▇██████████████████████</td></tr><tr><td>Training Loss</td><td>█▇▇▆▆▅▅▄▃▃▃▃▂▂▂▂▂▂▂▂▂▂▂▁▁▁▁▁▁▁▁▁▁▁▁▁▁▁▁▁</td></tr><tr><td>Validation Accuracy</td><td>▁▅▄▆██▇▇▆▆▇▇▇▇▇▇█████▇█▇▇▇▇████▇██▇▇▇▇▇▇</td></tr><tr><td>Validation Loss</td><td>█▇▆▆▅▅▄▃▃▃▂▂▂▂▂▂▂▁▁▁▁▁▁▁▁▁▁▁▁▁▁▁▁▁▁▁▁▁▁▁</td></tr></table><br/></div><div class=\"wandb-col\"><h3>Run summary:</h3><br/><table class=\"wandb\"><tr><td>Training Accuracy</td><td>0.625</td></tr><tr><td>Training Loss</td><td>0.94676</td></tr><tr><td>Validation Accuracy</td><td>0.60465</td></tr><tr><td>Validation Loss</td><td>0.94819</td></tr></table><br/></div></div>"
      ],
      "text/plain": [
       "<IPython.core.display.HTML object>"
      ]
     },
     "metadata": {},
     "output_type": "display_data"
    },
    {
     "data": {
      "text/html": [
       " View run <strong style=\"color:#cdcd00\">crimson-cherry-124</strong> at: <a href='https://wandb.ai/prakhar-jain/multi-layer-perceptron/runs/279ob69m' target=\"_blank\">https://wandb.ai/prakhar-jain/multi-layer-perceptron/runs/279ob69m</a><br/>Synced 6 W&B file(s), 0 media file(s), 0 artifact file(s) and 0 other file(s)"
      ],
      "text/plain": [
       "<IPython.core.display.HTML object>"
      ]
     },
     "metadata": {},
     "output_type": "display_data"
    },
    {
     "data": {
      "text/html": [
       "Find logs at: <code>./wandb/run-20231015_235324-279ob69m/logs</code>"
      ],
      "text/plain": [
       "<IPython.core.display.HTML object>"
      ]
     },
     "metadata": {},
     "output_type": "display_data"
    },
    {
     "data": {
      "application/vnd.jupyter.widget-view+json": {
       "model_id": "ae8d59636c99436c9acd6c550ad5757a",
       "version_major": 2,
       "version_minor": 0
      },
      "text/plain": [
       "VBox(children=(Label(value='Waiting for wandb.init()...\\r'), FloatProgress(value=0.011113009344424225, max=1.0…"
      ]
     },
     "metadata": {},
     "output_type": "display_data"
    },
    {
     "data": {
      "text/html": [
       "wandb version 0.15.12 is available!  To upgrade, please run:\n",
       " $ pip install wandb --upgrade"
      ],
      "text/plain": [
       "<IPython.core.display.HTML object>"
      ]
     },
     "metadata": {},
     "output_type": "display_data"
    },
    {
     "data": {
      "text/html": [
       "Tracking run with wandb version 0.15.11"
      ],
      "text/plain": [
       "<IPython.core.display.HTML object>"
      ]
     },
     "metadata": {},
     "output_type": "display_data"
    },
    {
     "data": {
      "text/html": [
       "Run data is saved locally in <code>/home/prakhar/Desktop/assignment-3-prakharjain3/wandb/run-20231015_235349-44zqoput</code>"
      ],
      "text/plain": [
       "<IPython.core.display.HTML object>"
      ]
     },
     "metadata": {},
     "output_type": "display_data"
    },
    {
     "data": {
      "text/html": [
       "Syncing run <strong><a href='https://wandb.ai/prakhar-jain/multi-layer-perceptron/runs/44zqoput' target=\"_blank\">confused-dew-125</a></strong> to <a href='https://wandb.ai/prakhar-jain/multi-layer-perceptron' target=\"_blank\">Weights & Biases</a> (<a href='https://wandb.me/run' target=\"_blank\">docs</a>)<br/>"
      ],
      "text/plain": [
       "<IPython.core.display.HTML object>"
      ]
     },
     "metadata": {},
     "output_type": "display_data"
    },
    {
     "data": {
      "text/html": [
       " View project at <a href='https://wandb.ai/prakhar-jain/multi-layer-perceptron' target=\"_blank\">https://wandb.ai/prakhar-jain/multi-layer-perceptron</a>"
      ],
      "text/plain": [
       "<IPython.core.display.HTML object>"
      ]
     },
     "metadata": {},
     "output_type": "display_data"
    },
    {
     "data": {
      "text/html": [
       " View run at <a href='https://wandb.ai/prakhar-jain/multi-layer-perceptron/runs/44zqoput' target=\"_blank\">https://wandb.ai/prakhar-jain/multi-layer-perceptron/runs/44zqoput</a>"
      ],
      "text/plain": [
       "<IPython.core.display.HTML object>"
      ]
     },
     "metadata": {},
     "output_type": "display_data"
    },
    {
     "name": "stderr",
     "output_type": "stream",
     "text": [
      "ic| i: 1\n",
      "ic| i: 2\n"
     ]
    },
    {
     "data": {
      "text/html": [
       "Waiting for W&B process to finish... <strong style=\"color:green\">(success).</strong>"
      ],
      "text/plain": [
       "<IPython.core.display.HTML object>"
      ]
     },
     "metadata": {},
     "output_type": "display_data"
    },
    {
     "data": {
      "application/vnd.jupyter.widget-view+json": {
       "model_id": "79a81d8a062145ab8aa490c61ed7c258",
       "version_major": 2,
       "version_minor": 0
      },
      "text/plain": [
       "VBox(children=(Label(value='0.003 MB of 0.003 MB uploaded (0.000 MB deduped)\\r'), FloatProgress(value=1.0, max…"
      ]
     },
     "metadata": {},
     "output_type": "display_data"
    },
    {
     "name": "stderr",
     "output_type": "stream",
     "text": [
      "wandb: WARNING Source type is set to 'repo' but some required information is missing from the environment. A job will not be created from this run. See https://docs.wandb.ai/guides/launch/create-job\n"
     ]
    },
    {
     "data": {
      "text/html": [
       "<style>\n",
       "    table.wandb td:nth-child(1) { padding: 0 10px; text-align: left ; width: auto;} td:nth-child(2) {text-align: left ; width: 100%}\n",
       "    .wandb-row { display: flex; flex-direction: row; flex-wrap: wrap; justify-content: flex-start; width: 100% }\n",
       "    .wandb-col { display: flex; flex-direction: column; flex-basis: 100%; flex: 1; padding: 10px; }\n",
       "    </style>\n",
       "<div class=\"wandb-row\"><div class=\"wandb-col\"><h3>Run history:</h3><br/><table class=\"wandb\"><tr><td>Training Accuracy</td><td>▁▅▆▆▆▆▆▆▆▇▇▇▇▇█▇▇▇██████████████████████</td></tr><tr><td>Training Loss</td><td>█▇▆▆▅▄▃▃▃▃▂▂▂▂▂▂▂▂▂▂▂▂▂▂▁▁▁▁▁▁▁▁▁▁▁▁▁▁▁▁</td></tr><tr><td>Validation Accuracy</td><td>▁▅▃▄▅▆▆▆▆▇▇▇▇▇▇▇▇█▇▇██████████▇███████▇▇</td></tr><tr><td>Validation Loss</td><td>█▇▆▅▅▄▃▃▃▂▂▂▂▂▂▂▂▁▁▁▁▁▁▁▁▁▁▁▁▁▁▁▁▁▁▁▁▁▁▁</td></tr></table><br/></div><div class=\"wandb-col\"><h3>Run summary:</h3><br/><table class=\"wandb\"><tr><td>Training Accuracy</td><td>0.625</td></tr><tr><td>Training Loss</td><td>0.93037</td></tr><tr><td>Validation Accuracy</td><td>0.61628</td></tr><tr><td>Validation Loss</td><td>0.93086</td></tr></table><br/></div></div>"
      ],
      "text/plain": [
       "<IPython.core.display.HTML object>"
      ]
     },
     "metadata": {},
     "output_type": "display_data"
    },
    {
     "data": {
      "text/html": [
       " View run <strong style=\"color:#cdcd00\">confused-dew-125</strong> at: <a href='https://wandb.ai/prakhar-jain/multi-layer-perceptron/runs/44zqoput' target=\"_blank\">https://wandb.ai/prakhar-jain/multi-layer-perceptron/runs/44zqoput</a><br/>Synced 6 W&B file(s), 0 media file(s), 0 artifact file(s) and 0 other file(s)"
      ],
      "text/plain": [
       "<IPython.core.display.HTML object>"
      ]
     },
     "metadata": {},
     "output_type": "display_data"
    },
    {
     "data": {
      "text/html": [
       "Find logs at: <code>./wandb/run-20231015_235349-44zqoput/logs</code>"
      ],
      "text/plain": [
       "<IPython.core.display.HTML object>"
      ]
     },
     "metadata": {},
     "output_type": "display_data"
    },
    {
     "data": {
      "application/vnd.jupyter.widget-view+json": {
       "model_id": "bab916db9cf54ceb858a4878c3095157",
       "version_major": 2,
       "version_minor": 0
      },
      "text/plain": [
       "VBox(children=(Label(value='Waiting for wandb.init()...\\r'), FloatProgress(value=0.011112720499901722, max=1.0…"
      ]
     },
     "metadata": {},
     "output_type": "display_data"
    },
    {
     "data": {
      "text/html": [
       "wandb version 0.15.12 is available!  To upgrade, please run:\n",
       " $ pip install wandb --upgrade"
      ],
      "text/plain": [
       "<IPython.core.display.HTML object>"
      ]
     },
     "metadata": {},
     "output_type": "display_data"
    },
    {
     "data": {
      "text/html": [
       "Tracking run with wandb version 0.15.11"
      ],
      "text/plain": [
       "<IPython.core.display.HTML object>"
      ]
     },
     "metadata": {},
     "output_type": "display_data"
    },
    {
     "data": {
      "text/html": [
       "Run data is saved locally in <code>/home/prakhar/Desktop/assignment-3-prakharjain3/wandb/run-20231015_235420-mlsy1y8n</code>"
      ],
      "text/plain": [
       "<IPython.core.display.HTML object>"
      ]
     },
     "metadata": {},
     "output_type": "display_data"
    },
    {
     "data": {
      "text/html": [
       "Syncing run <strong><a href='https://wandb.ai/prakhar-jain/multi-layer-perceptron/runs/mlsy1y8n' target=\"_blank\">zesty-salad-126</a></strong> to <a href='https://wandb.ai/prakhar-jain/multi-layer-perceptron' target=\"_blank\">Weights & Biases</a> (<a href='https://wandb.me/run' target=\"_blank\">docs</a>)<br/>"
      ],
      "text/plain": [
       "<IPython.core.display.HTML object>"
      ]
     },
     "metadata": {},
     "output_type": "display_data"
    },
    {
     "data": {
      "text/html": [
       " View project at <a href='https://wandb.ai/prakhar-jain/multi-layer-perceptron' target=\"_blank\">https://wandb.ai/prakhar-jain/multi-layer-perceptron</a>"
      ],
      "text/plain": [
       "<IPython.core.display.HTML object>"
      ]
     },
     "metadata": {},
     "output_type": "display_data"
    },
    {
     "data": {
      "text/html": [
       " View run at <a href='https://wandb.ai/prakhar-jain/multi-layer-perceptron/runs/mlsy1y8n' target=\"_blank\">https://wandb.ai/prakhar-jain/multi-layer-perceptron/runs/mlsy1y8n</a>"
      ],
      "text/plain": [
       "<IPython.core.display.HTML object>"
      ]
     },
     "metadata": {},
     "output_type": "display_data"
    },
    {
     "name": "stderr",
     "output_type": "stream",
     "text": [
      "ic| i: 1\n",
      "ic| i: 2\n"
     ]
    },
    {
     "data": {
      "text/html": [
       "Waiting for W&B process to finish... <strong style=\"color:green\">(success).</strong>"
      ],
      "text/plain": [
       "<IPython.core.display.HTML object>"
      ]
     },
     "metadata": {},
     "output_type": "display_data"
    },
    {
     "name": "stderr",
     "output_type": "stream",
     "text": [
      "wandb: WARNING Source type is set to 'repo' but some required information is missing from the environment. A job will not be created from this run. See https://docs.wandb.ai/guides/launch/create-job\n"
     ]
    },
    {
     "data": {
      "application/vnd.jupyter.widget-view+json": {
       "model_id": "296406f61bcc4b4983dd31c92d6ea4fb",
       "version_major": 2,
       "version_minor": 0
      },
      "text/plain": [
       "VBox(children=(Label(value='0.003 MB of 0.003 MB uploaded (0.000 MB deduped)\\r'), FloatProgress(value=1.0, max…"
      ]
     },
     "metadata": {},
     "output_type": "display_data"
    },
    {
     "data": {
      "text/html": [
       "<style>\n",
       "    table.wandb td:nth-child(1) { padding: 0 10px; text-align: left ; width: auto;} td:nth-child(2) {text-align: left ; width: 100%}\n",
       "    .wandb-row { display: flex; flex-direction: row; flex-wrap: wrap; justify-content: flex-start; width: 100% }\n",
       "    .wandb-col { display: flex; flex-direction: column; flex-basis: 100%; flex: 1; padding: 10px; }\n",
       "    </style>\n",
       "<div class=\"wandb-row\"><div class=\"wandb-col\"><h3>Run history:</h3><br/><table class=\"wandb\"><tr><td>Training Accuracy</td><td>▁▂▄▅▅▆▆▆▆▆▆▆▇▇▇▇▇███████████████████████</td></tr><tr><td>Training Loss</td><td>█▇▇▇▆▆▅▄▄▃▃▃▂▂▂▂▂▂▂▂▂▂▂▂▂▁▁▁▁▁▁▁▁▁▁▁▁▁▁▁</td></tr><tr><td>Validation Accuracy</td><td>▁▂▃▂▃▅▅▆▆▆▆▇▇▇▇█▇██▇▇▇▇▇▇▇▇▇████████████</td></tr><tr><td>Validation Loss</td><td>█▇▇▆▆▅▄▄▃▃▃▂▂▂▂▂▂▁▁▁▁▁▁▁▁▁▁▁▁▁▁▁▁▁▁▁▁▁▁▁</td></tr></table><br/></div><div class=\"wandb-col\"><h3>Run summary:</h3><br/><table class=\"wandb\"><tr><td>Training Accuracy</td><td>0.6175</td></tr><tr><td>Training Loss</td><td>0.93803</td></tr><tr><td>Validation Accuracy</td><td>0.61047</td></tr><tr><td>Validation Loss</td><td>0.9447</td></tr></table><br/></div></div>"
      ],
      "text/plain": [
       "<IPython.core.display.HTML object>"
      ]
     },
     "metadata": {},
     "output_type": "display_data"
    },
    {
     "data": {
      "text/html": [
       " View run <strong style=\"color:#cdcd00\">zesty-salad-126</strong> at: <a href='https://wandb.ai/prakhar-jain/multi-layer-perceptron/runs/mlsy1y8n' target=\"_blank\">https://wandb.ai/prakhar-jain/multi-layer-perceptron/runs/mlsy1y8n</a><br/>Synced 6 W&B file(s), 0 media file(s), 0 artifact file(s) and 0 other file(s)"
      ],
      "text/plain": [
       "<IPython.core.display.HTML object>"
      ]
     },
     "metadata": {},
     "output_type": "display_data"
    },
    {
     "data": {
      "text/html": [
       "Find logs at: <code>./wandb/run-20231015_235420-mlsy1y8n/logs</code>"
      ],
      "text/plain": [
       "<IPython.core.display.HTML object>"
      ]
     },
     "metadata": {},
     "output_type": "display_data"
    },
    {
     "data": {
      "application/vnd.jupyter.widget-view+json": {
       "model_id": "643c6c37007942e0a5f112667c99989e",
       "version_major": 2,
       "version_minor": 0
      },
      "text/plain": [
       "VBox(children=(Label(value='Waiting for wandb.init()...\\r'), FloatProgress(value=0.011112889555645072, max=1.0…"
      ]
     },
     "metadata": {},
     "output_type": "display_data"
    },
    {
     "data": {
      "text/html": [
       "wandb version 0.15.12 is available!  To upgrade, please run:\n",
       " $ pip install wandb --upgrade"
      ],
      "text/plain": [
       "<IPython.core.display.HTML object>"
      ]
     },
     "metadata": {},
     "output_type": "display_data"
    },
    {
     "data": {
      "text/html": [
       "Tracking run with wandb version 0.15.11"
      ],
      "text/plain": [
       "<IPython.core.display.HTML object>"
      ]
     },
     "metadata": {},
     "output_type": "display_data"
    },
    {
     "data": {
      "text/html": [
       "Run data is saved locally in <code>/home/prakhar/Desktop/assignment-3-prakharjain3/wandb/run-20231015_235449-vc78w9ue</code>"
      ],
      "text/plain": [
       "<IPython.core.display.HTML object>"
      ]
     },
     "metadata": {},
     "output_type": "display_data"
    },
    {
     "data": {
      "text/html": [
       "Syncing run <strong><a href='https://wandb.ai/prakhar-jain/multi-layer-perceptron/runs/vc78w9ue' target=\"_blank\">celestial-surf-127</a></strong> to <a href='https://wandb.ai/prakhar-jain/multi-layer-perceptron' target=\"_blank\">Weights & Biases</a> (<a href='https://wandb.me/run' target=\"_blank\">docs</a>)<br/>"
      ],
      "text/plain": [
       "<IPython.core.display.HTML object>"
      ]
     },
     "metadata": {},
     "output_type": "display_data"
    },
    {
     "data": {
      "text/html": [
       " View project at <a href='https://wandb.ai/prakhar-jain/multi-layer-perceptron' target=\"_blank\">https://wandb.ai/prakhar-jain/multi-layer-perceptron</a>"
      ],
      "text/plain": [
       "<IPython.core.display.HTML object>"
      ]
     },
     "metadata": {},
     "output_type": "display_data"
    },
    {
     "data": {
      "text/html": [
       " View run at <a href='https://wandb.ai/prakhar-jain/multi-layer-perceptron/runs/vc78w9ue' target=\"_blank\">https://wandb.ai/prakhar-jain/multi-layer-perceptron/runs/vc78w9ue</a>"
      ],
      "text/plain": [
       "<IPython.core.display.HTML object>"
      ]
     },
     "metadata": {},
     "output_type": "display_data"
    },
    {
     "name": "stderr",
     "output_type": "stream",
     "text": [
      "ic| i: 1\n",
      "ic| i: 2\n"
     ]
    },
    {
     "ename": "TypeError",
     "evalue": "'NoneType' object cannot be interpreted as an integer",
     "output_type": "error",
     "traceback": [
      "\u001b[0;31m---------------------------------------------------------------------------\u001b[0m",
      "\u001b[0;31mTypeError\u001b[0m                                 Traceback (most recent call last)",
      "\u001b[1;32m/home/prakhar/Desktop/assignment-3-prakharjain3/Task 1 2 3.ipynb Cell 54\u001b[0m line \u001b[0;36m7\n\u001b[1;32m     <a href='vscode-notebook-cell:/home/prakhar/Desktop/assignment-3-prakharjain3/Task%201%202%203.ipynb#Y104sZmlsZQ%3D%3D?line=76'>77</a>\u001b[0m \u001b[39mfor\u001b[39;00m epochs \u001b[39min\u001b[39;00m epochs_values:\n\u001b[1;32m     <a href='vscode-notebook-cell:/home/prakhar/Desktop/assignment-3-prakharjain3/Task%201%202%203.ipynb#Y104sZmlsZQ%3D%3D?line=77'>78</a>\u001b[0m     \u001b[39mfor\u001b[39;00m hidden_layer_neurons \u001b[39min\u001b[39;00m [[\u001b[39m32\u001b[39m, \u001b[39m32\u001b[39m], [\u001b[39m64\u001b[39m, \u001b[39m64\u001b[39m], [\u001b[39m32\u001b[39m, \u001b[39m64\u001b[39m]]:\n\u001b[0;32m---> <a href='vscode-notebook-cell:/home/prakhar/Desktop/assignment-3-prakharjain3/Task%201%202%203.ipynb#Y104sZmlsZQ%3D%3D?line=78'>79</a>\u001b[0m         run_experiment(activation_function, optimizer, learning_rate, epochs, hidden_layer_neurons)\n",
      "\u001b[1;32m/home/prakhar/Desktop/assignment-3-prakharjain3/Task 1 2 3.ipynb Cell 54\u001b[0m line \u001b[0;36m2\n\u001b[1;32m     <a href='vscode-notebook-cell:/home/prakhar/Desktop/assignment-3-prakharjain3/Task%201%202%203.ipynb#Y104sZmlsZQ%3D%3D?line=9'>10</a>\u001b[0m wandb\u001b[39m.\u001b[39minit(project\u001b[39m=\u001b[39m\u001b[39m\"\u001b[39m\u001b[39mmulti-layer-perceptron\u001b[39m\u001b[39m\"\u001b[39m, config\u001b[39m=\u001b[39m{\n\u001b[1;32m     <a href='vscode-notebook-cell:/home/prakhar/Desktop/assignment-3-prakharjain3/Task%201%202%203.ipynb#Y104sZmlsZQ%3D%3D?line=10'>11</a>\u001b[0m     \u001b[39m\"\u001b[39m\u001b[39mactivation_function\u001b[39m\u001b[39m\"\u001b[39m: activation_function,\n\u001b[1;32m     <a href='vscode-notebook-cell:/home/prakhar/Desktop/assignment-3-prakharjain3/Task%201%202%203.ipynb#Y104sZmlsZQ%3D%3D?line=11'>12</a>\u001b[0m     \u001b[39m\"\u001b[39m\u001b[39moptimizer\u001b[39m\u001b[39m\"\u001b[39m: optimizer,\n\u001b[0;32m   (...)\u001b[0m\n\u001b[1;32m     <a href='vscode-notebook-cell:/home/prakhar/Desktop/assignment-3-prakharjain3/Task%201%202%203.ipynb#Y104sZmlsZQ%3D%3D?line=14'>15</a>\u001b[0m     \u001b[39m\"\u001b[39m\u001b[39mhidden_layer_neurons\u001b[39m\u001b[39m\"\u001b[39m: hidden_layer_neurons\n\u001b[1;32m     <a href='vscode-notebook-cell:/home/prakhar/Desktop/assignment-3-prakharjain3/Task%201%202%203.ipynb#Y104sZmlsZQ%3D%3D?line=15'>16</a>\u001b[0m })\n\u001b[1;32m     <a href='vscode-notebook-cell:/home/prakhar/Desktop/assignment-3-prakharjain3/Task%201%202%203.ipynb#Y104sZmlsZQ%3D%3D?line=17'>18</a>\u001b[0m mlp \u001b[39m=\u001b[39m MLP(\\\n\u001b[1;32m     <a href='vscode-notebook-cell:/home/prakhar/Desktop/assignment-3-prakharjain3/Task%201%202%203.ipynb#Y104sZmlsZQ%3D%3D?line=18'>19</a>\u001b[0m     input_size\u001b[39m=\u001b[39minput_size, \\\n\u001b[1;32m     <a href='vscode-notebook-cell:/home/prakhar/Desktop/assignment-3-prakharjain3/Task%201%202%203.ipynb#Y104sZmlsZQ%3D%3D?line=19'>20</a>\u001b[0m         hidden_layer_sizes\u001b[39m=\u001b[39mhidden_layer_neurons, \\\n\u001b[0;32m   (...)\u001b[0m\n\u001b[1;32m     <a href='vscode-notebook-cell:/home/prakhar/Desktop/assignment-3-prakharjain3/Task%201%202%203.ipynb#Y104sZmlsZQ%3D%3D?line=24'>25</a>\u001b[0m                             loss\u001b[39m=\u001b[39mCrossEntropyLoss(), \\\n\u001b[1;32m     <a href='vscode-notebook-cell:/home/prakhar/Desktop/assignment-3-prakharjain3/Task%201%202%203.ipynb#Y104sZmlsZQ%3D%3D?line=25'>26</a>\u001b[0m                                 learning_rate\u001b[39m=\u001b[39mlearning_rate)\n\u001b[0;32m---> <a href='vscode-notebook-cell:/home/prakhar/Desktop/assignment-3-prakharjain3/Task%201%202%203.ipynb#Y104sZmlsZQ%3D%3D?line=27'>28</a>\u001b[0m mlp\u001b[39m.\u001b[39;49mtrain(X_train, y_train, X_val, y_val, epochs\u001b[39m=\u001b[39;49mepochs)\n\u001b[1;32m     <a href='vscode-notebook-cell:/home/prakhar/Desktop/assignment-3-prakharjain3/Task%201%202%203.ipynb#Y104sZmlsZQ%3D%3D?line=29'>30</a>\u001b[0m y_pred_val \u001b[39m=\u001b[39m mlp\u001b[39m.\u001b[39mpredict(X_val)\n\u001b[1;32m     <a href='vscode-notebook-cell:/home/prakhar/Desktop/assignment-3-prakharjain3/Task%201%202%203.ipynb#Y104sZmlsZQ%3D%3D?line=30'>31</a>\u001b[0m y_pred_train \u001b[39m=\u001b[39m mlp\u001b[39m.\u001b[39mpredict(X_train)\n",
      "\u001b[1;32m/home/prakhar/Desktop/assignment-3-prakharjain3/Task 1 2 3.ipynb Cell 54\u001b[0m line \u001b[0;36m1\n\u001b[1;32m    <a href='vscode-notebook-cell:/home/prakhar/Desktop/assignment-3-prakharjain3/Task%201%202%203.ipynb#Y104sZmlsZQ%3D%3D?line=128'>129</a>\u001b[0m     \u001b[39mself\u001b[39m\u001b[39m.\u001b[39mtrain_sgd(X_train, y_train, X_val, y_val, epochs)\n\u001b[1;32m    <a href='vscode-notebook-cell:/home/prakhar/Desktop/assignment-3-prakharjain3/Task%201%202%203.ipynb#Y104sZmlsZQ%3D%3D?line=129'>130</a>\u001b[0m \u001b[39mif\u001b[39;00m \u001b[39mself\u001b[39m\u001b[39m.\u001b[39moptimizer \u001b[39m==\u001b[39m \u001b[39m\"\u001b[39m\u001b[39mmbgd\u001b[39m\u001b[39m\"\u001b[39m:            \n\u001b[0;32m--> <a href='vscode-notebook-cell:/home/prakhar/Desktop/assignment-3-prakharjain3/Task%201%202%203.ipynb#Y104sZmlsZQ%3D%3D?line=130'>131</a>\u001b[0m     \u001b[39mself\u001b[39;49m\u001b[39m.\u001b[39;49mtrain_mbgd(X_train, y_train, X_val, y_val, epochs, batch_size)\n",
      "\u001b[1;32m/home/prakhar/Desktop/assignment-3-prakharjain3/Task 1 2 3.ipynb Cell 54\u001b[0m line \u001b[0;36m1\n\u001b[1;32m    <a href='vscode-notebook-cell:/home/prakhar/Desktop/assignment-3-prakharjain3/Task%201%202%203.ipynb#Y104sZmlsZQ%3D%3D?line=190'>191</a>\u001b[0m \u001b[39mdef\u001b[39;00m \u001b[39mtrain_mbgd\u001b[39m(\u001b[39mself\u001b[39m, X_train, y_train, X_val, y_val, epochs, batch_size):\n\u001b[1;32m    <a href='vscode-notebook-cell:/home/prakhar/Desktop/assignment-3-prakharjain3/Task%201%202%203.ipynb#Y104sZmlsZQ%3D%3D?line=191'>192</a>\u001b[0m     \u001b[39mfor\u001b[39;00m epoch \u001b[39min\u001b[39;00m \u001b[39mrange\u001b[39m(epochs):\n\u001b[0;32m--> <a href='vscode-notebook-cell:/home/prakhar/Desktop/assignment-3-prakharjain3/Task%201%202%203.ipynb#Y104sZmlsZQ%3D%3D?line=192'>193</a>\u001b[0m         \u001b[39mfor\u001b[39;00m i \u001b[39min\u001b[39;00m \u001b[39mrange\u001b[39;49m(\u001b[39m0\u001b[39;49m, X_train\u001b[39m.\u001b[39;49mshape[\u001b[39m0\u001b[39;49m], batch_size):\n\u001b[1;32m    <a href='vscode-notebook-cell:/home/prakhar/Desktop/assignment-3-prakharjain3/Task%201%202%203.ipynb#Y104sZmlsZQ%3D%3D?line=193'>194</a>\u001b[0m             X_batch \u001b[39m=\u001b[39m X_train[i:i\u001b[39m+\u001b[39mbatch_size]\n\u001b[1;32m    <a href='vscode-notebook-cell:/home/prakhar/Desktop/assignment-3-prakharjain3/Task%201%202%203.ipynb#Y104sZmlsZQ%3D%3D?line=194'>195</a>\u001b[0m             y_batch \u001b[39m=\u001b[39m y_train[i:i\u001b[39m+\u001b[39mbatch_size]\n",
      "\u001b[0;31mTypeError\u001b[0m: 'NoneType' object cannot be interpreted as an integer"
     ]
    }
   ],
   "source": [
    "import numpy as np\n",
    "import wandb\n",
    "from sklearn.metrics import f1_score, precision_score, recall_score\n",
    "\n",
    "# Import your custom classes and functions (e.g., MLP, loss functions) here\n",
    "\n",
    "# Define a function to perform an experiment with given hyperparameters\n",
    "def run_experiment(activation_function, optimizer, learning_rate, epochs, hidden_layer_neurons):\n",
    "    # Initialize Weights & Biases for the experiment\n",
    "    wandb.init(project=\"multi-layer-perceptron\", config={\n",
    "        \"activation_function\": activation_function,\n",
    "        \"optimizer\": optimizer,\n",
    "        \"learning_rate\": learning_rate,\n",
    "        \"epochs\": epochs,\n",
    "        \"hidden_layer_neurons\": hidden_layer_neurons\n",
    "    })\n",
    "\n",
    "    mlp = MLP(\\\n",
    "        input_size=input_size, \\\n",
    "            hidden_layer_sizes=hidden_layer_neurons, \\\n",
    "                output_size=output_size, \\\n",
    "                    activation_function=[activation_function, activation_function], \\\n",
    "                        output_activation_function=\"softmax\", \\\n",
    "                            optimizer=optimizer, \\\n",
    "                                loss=CrossEntropyLoss(), \\\n",
    "                                    learning_rate=learning_rate)\n",
    "    \n",
    "    mlp.train(X_train, y_train, X_val, y_val, epochs=epochs)\n",
    "\n",
    "    y_pred_val = mlp.predict(X_val)\n",
    "    y_pred_train = mlp.predict(X_train)\n",
    "    \n",
    "    f1_train = f1_score(y_true = np.argmax(y_train , axis=1), y_pred= np.argmax(y_pred_train, axis=1), average='macro')\n",
    "    precision_train = precision_score(y_true = np.argmax(y_train , axis=1), y_pred= np.argmax(y_pred_train, axis=1), average='macro', zero_division=0)\n",
    "    recall_train = recall_score(y_true = np.argmax(y_train , axis=1), y_pred= np.argmax(y_pred_train, axis=1), average='macro')\n",
    "    \n",
    "    f1_val = f1_score(y_true = np.argmax(y_val , axis=1), y_pred= np.argmax(y_pred_val, axis=1), average='macro')\n",
    "    precision_val = precision_score(y_true = np.argmax(y_val , axis=1), y_pred= np.argmax(y_pred_val, axis  = 1), average='macro', zero_division=0)\n",
    "    recall_val = recall_score(y_true = np.argmax(y_val , axis=1), y_pred= np.argmax(y_pred_val, axis=1), average='macro')\n",
    "    \n",
    "    for epochs in range(len(mlp.train_losses)):\n",
    "        wandb.log({\n",
    "            \"Training Loss\": mlp.train_losses[epochs],\n",
    "            \"Validation Loss\": mlp.val_losses[epochs],\n",
    "            \"Training Accuracy\": mlp.train_accuracies[epochs],\n",
    "            \"Validation Accuracy\": mlp.val_accuracies[epochs],\n",
    "        })\n",
    "    \n",
    "    # Log metrics using W&B\n",
    "    # wandb.log({\n",
    "    #     \"Training Loss\": mlp.train_losses[-1],\n",
    "    #     \"Training Accuracy\": mlp.train_accuracies[-1],\n",
    "    #     \"Validation Loss\": mlp.val_losses[-1],\n",
    "    #     \"Validation Accuracy\": mlp.val_accuracies[-1],\n",
    "    #     \"Training F1 Score\": f1_train,\n",
    "    #     \"Training Precision\": precision_train,\n",
    "    #     \"Training Recall\": recall_train,\n",
    "    #     \"Validation F1 Score\": f1_val,\n",
    "    #     \"Validation Precision\": precision_val,\n",
    "    #     \"Validation Recall\": recall_val\n",
    "    # })\n",
    "\n",
    "    # Finish the W&B run\n",
    "    wandb.finish()\n",
    "\n",
    "# Define hyperparameter search space\n",
    "activation_functions = [\"sigmoid\", \"tanh\", \"relu\"]\n",
    "optimizers = [\"sgd\", \"bgd\", \"mbgd\"]\n",
    "learning_rates = [0.001, 0.01, 0.1]\n",
    "epochs_values = [1000, 2000]\n",
    "# hidden_layer_neurons_values = [[32, 32], [64, 64]]\n",
    "\n",
    "# Loop over hyperparameter combinations\n",
    "for activation_function in activation_functions:\n",
    "    for optimizer in optimizers:\n",
    "        for learning_rate in learning_rates:\n",
    "            for epochs in epochs_values:\n",
    "                for hidden_layer_neurons in [[32, 32], [64, 64], [32, 64]]:\n",
    "                    run_experiment(activation_function, optimizer, learning_rate, epochs, hidden_layer_neurons)"
   ]
  },
  {
   "cell_type": "code",
   "execution_count": 35,
   "metadata": {},
   "outputs": [
    {
     "name": "stderr",
     "output_type": "stream",
     "text": [
      "ic| i: 1\n",
      "ic| i: 2\n"
     ]
    },
    {
     "name": "stdout",
     "output_type": "stream",
     "text": [
      "F1 Score:  0.25998052580331066\n",
      "Precision:  0.23956894169660128\n",
      "Recall:  0.2927120669056153\n"
     ]
    }
   ],
   "source": [
    "mlp = MLP(\\\n",
    "        input_size=input_size, \\\n",
    "            hidden_layer_sizes=[32, 32], \\\n",
    "                output_size=output_size, \\\n",
    "                    activation_function=[\"relu\", \"relu\"], \\\n",
    "                        output_activation_function=\"softmax\", \\\n",
    "                            optimizer=\"bgd\", \\\n",
    "                                loss=CrossEntropyLoss(), \\\n",
    "                                    learning_rate=0.001)\n",
    "    \n",
    "mlp.train(X_train, y_train, X_val, y_val, epochs=2000)\n",
    "\n",
    "# y_pred_val = mlp.predict(X_val)\n",
    "# y_pred_train = mlp.predict(X_train)\n",
    "y_pred_test = mlp.predict(X_test)\n",
    "\n",
    "\n",
    "f1_train = f1_score(y_true = np.argmax(y_test , axis=1), y_pred= np.argmax(y_pred_test, axis=1), average='macro')\n",
    "precision_train = precision_score(y_true = np.argmax(y_test , axis=1), y_pred= np.argmax(y_pred_test, axis=1), average='macro', zero_division=0)\n",
    "recall_train = recall_score(y_true = np.argmax(y_test , axis=1), y_pred= np.argmax(y_pred_test, axis=1), average='macro')\n",
    "\n",
    "print(\"F1 Score: \", f1_train)\n",
    "print(\"Precision: \", precision_train)\n",
    "print(\"Recall: \", recall_train)"
   ]
  },
  {
   "cell_type": "markdown",
   "metadata": {},
   "source": [
    "### For Regression\n",
    "\n",
    "loss function -> mean squared error\n",
    "\n",
    "output_size = 1"
   ]
  },
  {
   "cell_type": "code",
   "execution_count": 7,
   "metadata": {},
   "outputs": [],
   "source": [
    "class MLP:\n",
    "    def __init__(self, input_size, hidden_layer_sizes, output_size,\\\n",
    "                 activation_function, output_activation_function, optimizer, loss, learning_rate = 0.001) -> None:\n",
    "        \"\"\"\n",
    "        input_size: number of features in the input\n",
    "        \n",
    "        hidden_layer_sizes: list of number of neurons in each hidden layer\n",
    "        \n",
    "        output_size: number of classes in the output\n",
    "        \n",
    "        activation_function: list of activation function for each layer\n",
    "        \n",
    "        learning_rate: learning rate for gradient \n",
    "        \"\"\"\n",
    "        \n",
    "        self.act_dict = {\n",
    "            \"sigmoid\": Sigmoid(),\n",
    "            \"tanh\": Tanh(),\n",
    "            \"relu\": ReLU(),\n",
    "            \"identity\": Identity(),\n",
    "            \"softmax\": Softmax()\n",
    "        }\n",
    "        \n",
    "        \n",
    "        # # initial plan was to implement classes for the optimizers\n",
    "        # self.opt_dict = {\n",
    "        #     \"sgd\": SGD(),\n",
    "        #     \"bgd\": BGD(),\n",
    "        #     \"mbsgd\" : MBGD()\n",
    "        # }\n",
    "        \n",
    "                \n",
    "        for act in activation_function:\n",
    "            act = act.lower()\n",
    "            \n",
    "        self.optimizer = optimizer\n",
    "        self.output_activation_function = output_activation_function\n",
    "        \n",
    "        self.layers = []\n",
    "        # self.activation_function = []\n",
    "        self.learning_rate = learning_rate\n",
    "        self.loss = loss\n",
    "        \n",
    "        self.train_losses = []\n",
    "        self.val_losses = []\n",
    "        self.train_accuracies = []\n",
    "        self.val_accuracies = []\n",
    "        \n",
    "        self.train_rmse = []\n",
    "        self.val_rmse = []\n",
    "        self.train_mse = []\n",
    "        self.val_mse = []\n",
    "        self.train_r2_score = []\n",
    "        self.val_r2_score = []\n",
    "        \n",
    "        # self.y_pred = None\n",
    "\n",
    "        # initialize the input layer\n",
    "        self.layers.append(InputLayer(input_size))\n",
    "        \n",
    "        hidden_layer_sizes.insert(0, input_size)\n",
    "        # +1 for the ones we are inserting in X\n",
    "        activation_function.insert(0, None)\n",
    "        # ic(hidden_layer_sizes)\n",
    "        \n",
    "        self.hidden_layer_sizes = hidden_layer_sizes\n",
    "        self.activation_function = activation_function\n",
    "        \n",
    "        for i in range(1, len(hidden_layer_sizes)):\n",
    "            ic(i)\n",
    "            self.layers.append(Layer(no_of_inputs=hidden_layer_sizes[i-1],no_of_neurons= hidden_layer_sizes[i], activation=self.act_dict[activation_function[i]]))\n",
    "\n",
    "        self.layers.append(OutputLayer(hidden_layer_sizes[-1], output_size, self.act_dict[output_activation_function]))\n",
    "        # print(len(self.layers))\n",
    "    \n",
    "    def forward_propagation(self, x)-> None:\n",
    "        # Forward propagation\n",
    "        for layer in self.layers:\n",
    "            x = layer.forward(x)\n",
    "        return x\n",
    "        # return Softmax().activation(x)\n",
    "        # return x\n",
    "    \n",
    "    # def backward_propagation(self, x, y)-> None:\n",
    "    \n",
    "    def backward_propagation(self, y_pred, y_true)-> None:\n",
    "        # Forward propagation\n",
    "        # self.forward_propagation(x)\n",
    "        \n",
    "        # calculate the loss gradient with respect to the output of the last layer\n",
    "        # which is basically dj_dz for the output layer\n",
    "        # delta_L represents delta for the last layer\n",
    "        \n",
    "        delta_L = self.loss.gradient(y_pred, y_true)\n",
    "        # print(delta_L)\n",
    "        # grad is dj_dz for the output layer\n",
    "        # Backpropagation\n",
    "        delta = delta_L\n",
    "        # for layer in reversed(self.layers):\n",
    "        #     delta = layer.backward(delta)\n",
    "        # do the backword propagation for output layer explicitly and then the hidden layers and then for the input layer\n",
    "        delta = self.layers[-1].backward(delta)\n",
    "        # do the backword propagation for hidden layers\n",
    "        for i in range(len(self.layers) - 2, 0, -1):\n",
    "            delta = self.layers[i].backward(delta, self.layers[i+1].weights)\n",
    "        # do the backword propagation for input layer\n",
    "        delta = self.layers[0].backward(delta)\n",
    "    \n",
    "    def predict(self, x):\n",
    "        # Forward propagation\n",
    "        return self.forward_propagation(x)\n",
    "    \n",
    "    def update_weights(self):\n",
    "        for layer in self.layers:\n",
    "            layer.update_weights(self.learning_rate)\n",
    "        \n",
    "    \n",
    "    # Working version of train\n",
    "    # def train(self, X_train, y_train, X_val, y_val, epochs, batch_size):\n",
    "    #     self.train_losses = []\n",
    "    #     for epoch in range(epochs):\n",
    "    #         loss = []\n",
    "    #         for i in range(0, X_train.shape[0], batch_size):\n",
    "    #             X_batch = X_train[i:i+batch_size]\n",
    "    #             y_batch = y_train[i:i+batch_size]\n",
    "    #             y_pred = self.forward_propagation(X_batch)\n",
    "    #             self.backward_propagation(y_pred=y_pred, y_true=y_batch)\n",
    "    #             self.update_weights()\n",
    "    #             # calculate the loss\n",
    "    #             loss.append(self.loss.loss(y_pred, y_batch))\n",
    "    #         self.train_losses.append(np.mean(loss))\n",
    "    \n",
    "    def train(self, X_train, y_train, X_val, y_val, epochs, batch_size=None):\n",
    "        if self.optimizer == \"bgd\":\n",
    "            self.train_bgd(X_train, y_train, X_val, y_val, epochs)\n",
    "        if self.optimizer == \"sgd\":\n",
    "            self.train_sgd(X_train, y_train, X_val, y_val, epochs)\n",
    "        if self.optimizer == \"mbgd\":            \n",
    "            self.train_mbgd(X_train, y_train, X_val, y_val, epochs, batch_size)\n",
    "            \n",
    "    def accuracy_helper(self, y_pred, y_true):\n",
    "        return accuracy_score(y_true = np.argmax(y_true , axis=1), y_pred= np.argmax(y_pred, axis=1))\n",
    "        \n",
    "            \n",
    "    def train_sgd(self, X_train, y_train, X_val, y_val, epochs):\n",
    "        for epoch in range(epochs):\n",
    "            # generate a random index\n",
    "            for i in range(X_train.shape[0]):\n",
    "                k = np.random.randint(0, X_train.shape[0])\n",
    "                X_batch = X_train[k:k+1]\n",
    "                y_batch = y_train[k:k+1]\n",
    "                y_pred = self.forward_propagation(X_batch)\n",
    "                self.backward_propagation(y_pred=y_pred, y_true=y_batch)\n",
    "                self.update_weights()\n",
    "            # calculate the loss for the entire training set\n",
    "            y_pred_train = self.forward_propagation(X_train)\n",
    "            # print(y_pred_train)\n",
    "            \n",
    "            loss_train = self.loss.loss(y_pred_train, y_train)\n",
    "            self.train_losses.append(loss_train)\n",
    "            if self.output_activation_function == \"softmax\":\n",
    "                acc_train = self.accuracy_helper(y_pred_train, y_train)\n",
    "                self.train_accuracies.append(acc_train)\n",
    "            elif self.output_activation_function == \"identity\":\n",
    "                # calculate RMSE MSE and R-Square\n",
    "                # print(y_pred_train)\n",
    "                self.train_mse.append(mean_squared_error(y_train, y_pred_train))\n",
    "                self.train_rmse.append(np.sqrt(mean_squared_error(y_train, y_pred_train)))\n",
    "                self.train_r2_score.append(r2_score(y_train, y_pred_train))\n",
    "            \n",
    "            if X_val is not None and y_val is not None:\n",
    "                y_pred_val = self.forward_propagation(X_val)\n",
    "                \n",
    "                loss_val = self.loss.loss(y_pred_val, y_val)\n",
    "                self.val_losses.append(loss_val)\n",
    "                if self.output_activation_function == \"softmax\":\n",
    "                    val_acc = self.accuracy_helper(y_pred_val, y_val)\n",
    "                    self.val_accuracies.append(val_acc)\n",
    "                elif self.output_activation_function == \"identity\":\n",
    "                    self.val_mse.append(mean_squared_error(y_val, y_pred_val))\n",
    "                    self.val_rmse.append(np.sqrt(mean_squared_error(y_val, y_pred_val)))\n",
    "                    self.val_r2_score.append(r2_score(y_val, y_pred_val))\n",
    "                    \n",
    "        \n",
    "            \n",
    "    def train_bgd(self, X_train, y_train, X_val, y_val, epochs):\n",
    "        for epoch in range(epochs):\n",
    "            y_pred = self.forward_propagation(X_train)\n",
    "            self.backward_propagation(y_pred=y_pred, y_true=y_train)\n",
    "            self.update_weights()\n",
    "            # calculate the loss for the entire training set\n",
    "            y_pred_train = self.forward_propagation(X_train)\n",
    "            \n",
    "            loss_train = self.loss.loss(y_pred_train, y_train)\n",
    "            self.train_losses.append(loss_train)\n",
    "            if self.output_activation_function == \"softmax\":\n",
    "                train_acc = self.accuracy_helper(y_pred_train, y_train)\n",
    "                self.train_accuracies.append(train_acc)\n",
    "            elif self.output_activation_function == \"identity\":\n",
    "                # calculate RMSE MSE and R-Square\n",
    "                self.train_mse.append(mean_squared_error(y_train, y_pred_train))\n",
    "                self.train_rmse.append(np.sqrt(mean_squared_error(y_train, y_pred_train)))\n",
    "                self.train_r2_score.append(r2_score(y_train, y_pred_train))\n",
    "            \n",
    "            if X_val is not None and y_val is not None:\n",
    "                y_pred_val = self.forward_propagation(X_val)\n",
    "                \n",
    "                loss_val = self.loss.loss(y_pred_val, y_val)\n",
    "                self.val_losses.append(loss_val)\n",
    "                if self.output_activation_function == \"softmax\":\n",
    "                    val_acc = self.accuracy_helper(y_pred_val, y_val)\n",
    "                    self.val_accuracies.append(val_acc)\n",
    "                elif self.output_activation_function == \"identity\":\n",
    "                    self.val_mse.append(mean_squared_error(y_val, y_pred_val))\n",
    "                    self.val_rmse.append(np.sqrt(mean_squared_error(y_val, y_pred_val)))\n",
    "                    self.val_r2_score.append(r2_score(y_val, y_pred_val))\n",
    "            \n",
    "    \n",
    "    def train_mbgd(self, X_train, y_train, X_val, y_val, epochs, batch_size):\n",
    "        for epoch in range(epochs):\n",
    "            for i in range(0, X_train.shape[0], batch_size):\n",
    "                X_batch = X_train[i:i+batch_size]\n",
    "                y_batch = y_train[i:i+batch_size]\n",
    "                y_pred = self.forward_propagation(X_batch)\n",
    "                self.backward_propagation(y_pred=y_pred, y_true=y_batch)\n",
    "                self.update_weights()\n",
    "            # calculate the loss for the entire training set\n",
    "            y_pred_train = self.forward_propagation(X_train)\n",
    "            \n",
    "            loss_train = self.loss.loss(y_pred_train, y_train)\n",
    "            self.train_losses.append(loss_train)\n",
    "            if self.output_activation_function == \"softmax\":\n",
    "                train_acc = self.accuracy_helper(y_pred_train, y_train)\n",
    "                self.train_accuracies.append(train_acc)\n",
    "            elif self.output_activation_function == \"identity\":\n",
    "                # calculate RMSE MSE and R-Square\n",
    "                self.train_mse.append(mean_squared_error(y_train, y_pred_train))\n",
    "                self.train_rmse.append(np.sqrt(mean_squared_error(y_train, y_pred_train)))\n",
    "                self.train_r2_score.append(r2_score(y_train, y_pred_train))\n",
    "            \n",
    "            if X_val is not None and y_val is not None:\n",
    "                y_pred_val = self.forward_propagation(X_val)\n",
    "                loss_val = self.loss.loss(y_pred_val, y_val)\n",
    "                self.val_losses.append(loss_val)\n",
    "                if self.output_activation_function == \"softmax\":\n",
    "                    val_acc = self.accuracy_helper(y_pred_val, y_val)\n",
    "                    self.val_accuracies.append(val_acc)           \n",
    "                elif self.output_activation_function == \"identity\":\n",
    "                    self.val_mse.append(mean_squared_error(y_val, y_pred_val))\n",
    "                    self.val_rmse.append(np.sqrt(mean_squared_error(y_val, y_pred_val)))\n",
    "                    self.val_r2_score.append(r2_score(y_val, y_pred_val))\n",
    "            \n",
    "            \n"
   ]
  },
  {
   "cell_type": "code",
   "execution_count": 8,
   "metadata": {},
   "outputs": [],
   "source": [
    "PATH_HOUSING = \"./dataset/HousingData.csv\"\n",
    "df = pd.read_csv(PATH_HOUSING)"
   ]
  },
  {
   "cell_type": "code",
   "execution_count": 9,
   "metadata": {},
   "outputs": [
    {
     "data": {
      "text/plain": [
       "CRIM       20\n",
       "ZN         20\n",
       "INDUS      20\n",
       "CHAS       20\n",
       "NOX         0\n",
       "RM          0\n",
       "AGE        20\n",
       "DIS         0\n",
       "RAD         0\n",
       "TAX         0\n",
       "PTRATIO     0\n",
       "B           0\n",
       "LSTAT      20\n",
       "MEDV        0\n",
       "dtype: int64"
      ]
     },
     "execution_count": 9,
     "metadata": {},
     "output_type": "execute_result"
    }
   ],
   "source": [
    "df.isnull().sum()"
   ]
  },
  {
   "cell_type": "code",
   "execution_count": 10,
   "metadata": {},
   "outputs": [],
   "source": [
    "# fill the nan values \n",
    "# except for the CHAS column it is a categorical variable\n",
    "df[\"CHAS\"] = df.CHAS.fillna(df.CHAS.mode()[0])\n",
    "df = df.fillna(df.mean())"
   ]
  },
  {
   "cell_type": "code",
   "execution_count": 11,
   "metadata": {},
   "outputs": [
    {
     "data": {
      "text/plain": [
       "CRIM       0\n",
       "ZN         0\n",
       "INDUS      0\n",
       "CHAS       0\n",
       "NOX        0\n",
       "RM         0\n",
       "AGE        0\n",
       "DIS        0\n",
       "RAD        0\n",
       "TAX        0\n",
       "PTRATIO    0\n",
       "B          0\n",
       "LSTAT      0\n",
       "MEDV       0\n",
       "dtype: int64"
      ]
     },
     "execution_count": 11,
     "metadata": {},
     "output_type": "execute_result"
    }
   ],
   "source": [
    "df.isnull().sum()"
   ]
  },
  {
   "cell_type": "code",
   "execution_count": 12,
   "metadata": {},
   "outputs": [],
   "source": [
    "# standardize the data except the target column 'MEDV' and \"CHAS\"\n",
    "scaler = StandardScaler()\n",
    "df_scaled = scaler.fit_transform(df.drop(['MEDV', 'CHAS'], axis=1))\n",
    "df_scaled = pd.DataFrame(df_scaled, columns=df.drop([\"CHAS\", \"MEDV\"], axis=1).columns)\n",
    "df_scaled[\"CHAS\"] = df[\"CHAS\"]"
   ]
  },
  {
   "cell_type": "code",
   "execution_count": 13,
   "metadata": {},
   "outputs": [],
   "source": [
    "X = df_scaled.values\n",
    "y = df[\"MEDV\"].values\n",
    "\n",
    "input_size = X.shape[1]\n",
    "\n",
    "# because it's regression\n",
    "output_size = 1"
   ]
  },
  {
   "cell_type": "code",
   "execution_count": 14,
   "metadata": {},
   "outputs": [],
   "source": [
    "# split into train test and validation test\n",
    "X_train, X_test, y_train, y_test = train_test_split(X, y, test_size=0.3)\n",
    "X_test, X_val, y_test, y_val = train_test_split(X_test, y_test, test_size = 0.5)"
   ]
  },
  {
   "cell_type": "code",
   "execution_count": 15,
   "metadata": {},
   "outputs": [
    {
     "data": {
      "text/plain": [
       "((354,), (76,), (76,))"
      ]
     },
     "execution_count": 15,
     "metadata": {},
     "output_type": "execute_result"
    }
   ],
   "source": [
    "y_train.shape, y_test.shape, y_val.shape"
   ]
  },
  {
   "cell_type": "markdown",
   "metadata": {},
   "source": [
    "Add new axis to y_train, y_test and y_val"
   ]
  },
  {
   "cell_type": "code",
   "execution_count": 16,
   "metadata": {},
   "outputs": [],
   "source": [
    "y_test = y_test.reshape(-1, 1)\n",
    "y_train = y_train.reshape(-1, 1)\n",
    "y_val = y_val.reshape(-1, 1)"
   ]
  },
  {
   "cell_type": "code",
   "execution_count": 17,
   "metadata": {},
   "outputs": [
    {
     "data": {
      "text/plain": [
       "((354, 1), (76, 1), (76, 1))"
      ]
     },
     "execution_count": 17,
     "metadata": {},
     "output_type": "execute_result"
    }
   ],
   "source": [
    "y_train.shape, y_test.shape, y_val.shape"
   ]
  },
  {
   "cell_type": "code",
   "execution_count": 18,
   "metadata": {},
   "outputs": [
    {
     "name": "stderr",
     "output_type": "stream",
     "text": [
      "ic| i: 1\n",
      "ic| i: 2\n"
     ]
    }
   ],
   "source": [
    "regression = MLP(\\\n",
    "    input_size=input_size,\\\n",
    "        hidden_layer_sizes=[32, 64],\\\n",
    "            output_size=output_size, activation_function=[\"tanh\", \"tanh\"],\\\n",
    "                output_activation_function=\"identity\",\\\n",
    "                    optimizer=\"sgd\",\\\n",
    "                        loss = MSELoss(),\\\n",
    "                            learning_rate=0.001)\n",
    "\n",
    "regression.train(X_train, y_train, X_val, y_val, epochs = 2000)"
   ]
  },
  {
   "cell_type": "code",
   "execution_count": 19,
   "metadata": {},
   "outputs": [
    {
     "data": {
      "text/plain": [
       "[<matplotlib.lines.Line2D at 0x7fae209b9a50>]"
      ]
     },
     "execution_count": 19,
     "metadata": {},
     "output_type": "execute_result"
    },
    {
     "data": {
      "image/png": "[encoded data removed]",
      "text/plain": [
       "<Figure size 640x480 with 1 Axes>"
      ]
     },
     "metadata": {},
     "output_type": "display_data"
    }
   ],
   "source": [
    "plt.plot(regression.train_losses, label=\"Training Loss\")"
   ]
  },
  {
   "cell_type": "code",
   "execution_count": 20,
   "metadata": {},
   "outputs": [
    {
     "data": {
      "text/html": [
       "Finishing last run (ID:jlma7sjw) before initializing another..."
      ],
      "text/plain": [
       "<IPython.core.display.HTML object>"
      ]
     },
     "metadata": {},
     "output_type": "display_data"
    },
    {
     "data": {
      "text/html": [
       "Waiting for W&B process to finish... <strong style=\"color:green\">(success).</strong>"
      ],
      "text/plain": [
       "<IPython.core.display.HTML object>"
      ]
     },
     "metadata": {},
     "output_type": "display_data"
    },
    {
     "name": "stderr",
     "output_type": "stream",
     "text": [
      "wandb: WARNING Source type is set to 'repo' but some required information is missing from the environment. A job will not be created from this run. See https://docs.wandb.ai/guides/launch/create-job\n"
     ]
    },
    {
     "data": {
      "application/vnd.jupyter.widget-view+json": {
       "model_id": "8191a776c04148d89f3f3ef4b7813eab",
       "version_major": 2,
       "version_minor": 0
      },
      "text/plain": [
       "VBox(children=(Label(value='0.003 MB of 0.006 MB uploaded (0.000 MB deduped)\\r'), FloatProgress(value=0.450815…"
      ]
     },
     "metadata": {},
     "output_type": "display_data"
    },
    {
     "data": {
      "text/html": [
       " View run <strong style=\"color:#cdcd00\">noble-forest-1</strong> at: <a href='https://wandb.ai/prakhar-jain/multi-layer-regression/runs/jlma7sjw' target=\"_blank\">https://wandb.ai/prakhar-jain/multi-layer-regression/runs/jlma7sjw</a><br/>Synced 6 W&B file(s), 0 media file(s), 0 artifact file(s) and 0 other file(s)"
      ],
      "text/plain": [
       "<IPython.core.display.HTML object>"
      ]
     },
     "metadata": {},
     "output_type": "display_data"
    },
    {
     "data": {
      "text/html": [
       "Find logs at: <code>./wandb/run-20231023_004359-jlma7sjw/logs</code>"
      ],
      "text/plain": [
       "<IPython.core.display.HTML object>"
      ]
     },
     "metadata": {},
     "output_type": "display_data"
    },
    {
     "data": {
      "text/html": [
       "Successfully finished last run (ID:jlma7sjw). Initializing new run:<br/>"
      ],
      "text/plain": [
       "<IPython.core.display.HTML object>"
      ]
     },
     "metadata": {},
     "output_type": "display_data"
    },
    {
     "data": {
      "application/vnd.jupyter.widget-view+json": {
       "model_id": "8b961d2b3f5b49ef9821f1fc5eaa020b",
       "version_major": 2,
       "version_minor": 0
      },
      "text/plain": [
       "VBox(children=(Label(value='Waiting for wandb.init()...\\r'), FloatProgress(value=0.011114503911085195, max=1.0…"
      ]
     },
     "metadata": {},
     "output_type": "display_data"
    },
    {
     "data": {
      "text/html": [
       "wandb version 0.15.12 is available!  To upgrade, please run:\n",
       " $ pip install wandb --upgrade"
      ],
      "text/plain": [
       "<IPython.core.display.HTML object>"
      ]
     },
     "metadata": {},
     "output_type": "display_data"
    },
    {
     "data": {
      "text/html": [
       "Tracking run with wandb version 0.15.11"
      ],
      "text/plain": [
       "<IPython.core.display.HTML object>"
      ]
     },
     "metadata": {},
     "output_type": "display_data"
    },
    {
     "data": {
      "text/html": [
       "Run data is saved locally in <code>/home/prakhar/Desktop/assignment-3-prakharjain3/wandb/run-20231023_004619-ofq54rt9</code>"
      ],
      "text/plain": [
       "<IPython.core.display.HTML object>"
      ]
     },
     "metadata": {},
     "output_type": "display_data"
    },
    {
     "data": {
      "text/html": [
       "Syncing run <strong><a href='https://wandb.ai/prakhar-jain/multi-layer-regression/runs/ofq54rt9' target=\"_blank\">dandy-durian-2</a></strong> to <a href='https://wandb.ai/prakhar-jain/multi-layer-regression' target=\"_blank\">Weights & Biases</a> (<a href='https://wandb.me/run' target=\"_blank\">docs</a>)<br/>"
      ],
      "text/plain": [
       "<IPython.core.display.HTML object>"
      ]
     },
     "metadata": {},
     "output_type": "display_data"
    },
    {
     "data": {
      "text/html": [
       " View project at <a href='https://wandb.ai/prakhar-jain/multi-layer-regression' target=\"_blank\">https://wandb.ai/prakhar-jain/multi-layer-regression</a>"
      ],
      "text/plain": [
       "<IPython.core.display.HTML object>"
      ]
     },
     "metadata": {},
     "output_type": "display_data"
    },
    {
     "data": {
      "text/html": [
       " View run at <a href='https://wandb.ai/prakhar-jain/multi-layer-regression/runs/ofq54rt9' target=\"_blank\">https://wandb.ai/prakhar-jain/multi-layer-regression/runs/ofq54rt9</a>"
      ],
      "text/plain": [
       "<IPython.core.display.HTML object>"
      ]
     },
     "metadata": {},
     "output_type": "display_data"
    },
    {
     "name": "stderr",
     "output_type": "stream",
     "text": [
      "ic| i: 1\n",
      "ic| i: 2\n"
     ]
    },
    {
     "data": {
      "text/html": [
       "Waiting for W&B process to finish... <strong style=\"color:green\">(success).</strong>"
      ],
      "text/plain": [
       "<IPython.core.display.HTML object>"
      ]
     },
     "metadata": {},
     "output_type": "display_data"
    },
    {
     "data": {
      "application/vnd.jupyter.widget-view+json": {
       "model_id": "74ae6089a7ce454981ae503fbadf825e",
       "version_major": 2,
       "version_minor": 0
      },
      "text/plain": [
       "VBox(children=(Label(value='0.003 MB of 0.003 MB uploaded (0.000 MB deduped)\\r'), FloatProgress(value=1.0, max…"
      ]
     },
     "metadata": {},
     "output_type": "display_data"
    },
    {
     "name": "stderr",
     "output_type": "stream",
     "text": [
      "wandb: WARNING Source type is set to 'repo' but some required information is missing from the environment. A job will not be created from this run. See https://docs.wandb.ai/guides/launch/create-job\n"
     ]
    },
    {
     "data": {
      "text/html": [
       "<style>\n",
       "    table.wandb td:nth-child(1) { padding: 0 10px; text-align: left ; width: auto;} td:nth-child(2) {text-align: left ; width: 100%}\n",
       "    .wandb-row { display: flex; flex-direction: row; flex-wrap: wrap; justify-content: flex-start; width: 100% }\n",
       "    .wandb-col { display: flex; flex-direction: column; flex-basis: 100%; flex: 1; padding: 10px; }\n",
       "    </style>\n",
       "<div class=\"wandb-row\"><div class=\"wandb-col\"><h3>Run history:</h3><br/><table class=\"wandb\"><tr><td>Validation Loss</td><td>█▅▅▃▃▂▂▂▂▂▂▁▂▁▂▂▁▁▁▁▁▁▁▁▁▁▁▁▁▂▁▁▁▁▁▁▁▁▁▁</td></tr></table><br/></div><div class=\"wandb-col\"><h3>Run summary:</h3><br/><table class=\"wandb\"><tr><td>Validation Loss</td><td>17.90009</td></tr></table><br/></div></div>"
      ],
      "text/plain": [
       "<IPython.core.display.HTML object>"
      ]
     },
     "metadata": {},
     "output_type": "display_data"
    },
    {
     "data": {
      "text/html": [
       " View run <strong style=\"color:#cdcd00\">dandy-durian-2</strong> at: <a href='https://wandb.ai/prakhar-jain/multi-layer-regression/runs/ofq54rt9' target=\"_blank\">https://wandb.ai/prakhar-jain/multi-layer-regression/runs/ofq54rt9</a><br/>Synced 6 W&B file(s), 0 media file(s), 0 artifact file(s) and 0 other file(s)"
      ],
      "text/plain": [
       "<IPython.core.display.HTML object>"
      ]
     },
     "metadata": {},
     "output_type": "display_data"
    },
    {
     "data": {
      "text/html": [
       "Find logs at: <code>./wandb/run-20231023_004619-ofq54rt9/logs</code>"
      ],
      "text/plain": [
       "<IPython.core.display.HTML object>"
      ]
     },
     "metadata": {},
     "output_type": "display_data"
    },
    {
     "data": {
      "application/vnd.jupyter.widget-view+json": {
       "model_id": "25cfdbce52334291b33d6de8838bc042",
       "version_major": 2,
       "version_minor": 0
      },
      "text/plain": [
       "VBox(children=(Label(value='Waiting for wandb.init()...\\r'), FloatProgress(value=0.011113354555547832, max=1.0…"
      ]
     },
     "metadata": {},
     "output_type": "display_data"
    },
    {
     "data": {
      "text/html": [
       "wandb version 0.15.12 is available!  To upgrade, please run:\n",
       " $ pip install wandb --upgrade"
      ],
      "text/plain": [
       "<IPython.core.display.HTML object>"
      ]
     },
     "metadata": {},
     "output_type": "display_data"
    },
    {
     "data": {
      "text/html": [
       "Tracking run with wandb version 0.15.11"
      ],
      "text/plain": [
       "<IPython.core.display.HTML object>"
      ]
     },
     "metadata": {},
     "output_type": "display_data"
    },
    {
     "data": {
      "text/html": [
       "Run data is saved locally in <code>/home/prakhar/Desktop/assignment-3-prakharjain3/wandb/run-20231023_004723-lso4fgo4</code>"
      ],
      "text/plain": [
       "<IPython.core.display.HTML object>"
      ]
     },
     "metadata": {},
     "output_type": "display_data"
    },
    {
     "data": {
      "text/html": [
       "Syncing run <strong><a href='https://wandb.ai/prakhar-jain/multi-layer-regression/runs/lso4fgo4' target=\"_blank\">gallant-snowball-3</a></strong> to <a href='https://wandb.ai/prakhar-jain/multi-layer-regression' target=\"_blank\">Weights & Biases</a> (<a href='https://wandb.me/run' target=\"_blank\">docs</a>)<br/>"
      ],
      "text/plain": [
       "<IPython.core.display.HTML object>"
      ]
     },
     "metadata": {},
     "output_type": "display_data"
    },
    {
     "data": {
      "text/html": [
       " View project at <a href='https://wandb.ai/prakhar-jain/multi-layer-regression' target=\"_blank\">https://wandb.ai/prakhar-jain/multi-layer-regression</a>"
      ],
      "text/plain": [
       "<IPython.core.display.HTML object>"
      ]
     },
     "metadata": {},
     "output_type": "display_data"
    },
    {
     "data": {
      "text/html": [
       " View run at <a href='https://wandb.ai/prakhar-jain/multi-layer-regression/runs/lso4fgo4' target=\"_blank\">https://wandb.ai/prakhar-jain/multi-layer-regression/runs/lso4fgo4</a>"
      ],
      "text/plain": [
       "<IPython.core.display.HTML object>"
      ]
     },
     "metadata": {},
     "output_type": "display_data"
    },
    {
     "name": "stderr",
     "output_type": "stream",
     "text": [
      "ic| i: 1\n",
      "ic| i: 2\n"
     ]
    },
    {
     "data": {
      "text/html": [
       "Waiting for W&B process to finish... <strong style=\"color:green\">(success).</strong>"
      ],
      "text/plain": [
       "<IPython.core.display.HTML object>"
      ]
     },
     "metadata": {},
     "output_type": "display_data"
    },
    {
     "data": {
      "application/vnd.jupyter.widget-view+json": {
       "model_id": "cea8f12406fa4813ad06f054880bb989",
       "version_major": 2,
       "version_minor": 0
      },
      "text/plain": [
       "VBox(children=(Label(value='0.003 MB of 0.003 MB uploaded (0.000 MB deduped)\\r'), FloatProgress(value=1.0, max…"
      ]
     },
     "metadata": {},
     "output_type": "display_data"
    },
    {
     "name": "stderr",
     "output_type": "stream",
     "text": [
      "wandb: WARNING Source type is set to 'repo' but some required information is missing from the environment. A job will not be created from this run. See https://docs.wandb.ai/guides/launch/create-job\n"
     ]
    },
    {
     "data": {
      "text/html": [
       "<style>\n",
       "    table.wandb td:nth-child(1) { padding: 0 10px; text-align: left ; width: auto;} td:nth-child(2) {text-align: left ; width: 100%}\n",
       "    .wandb-row { display: flex; flex-direction: row; flex-wrap: wrap; justify-content: flex-start; width: 100% }\n",
       "    .wandb-col { display: flex; flex-direction: column; flex-basis: 100%; flex: 1; padding: 10px; }\n",
       "    </style>\n",
       "<div class=\"wandb-row\"><div class=\"wandb-col\"><h3>Run history:</h3><br/><table class=\"wandb\"><tr><td>Validation Loss</td><td>█▅▄▃▂▃▂▃▂▂▁▁▁▂▁▁▂▁▁▁▁▂▂▂▁▂▂▁▂▂▁▂▂▁▂▁▁▁▂▂</td></tr></table><br/></div><div class=\"wandb-col\"><h3>Run summary:</h3><br/><table class=\"wandb\"><tr><td>Validation Loss</td><td>19.52876</td></tr></table><br/></div></div>"
      ],
      "text/plain": [
       "<IPython.core.display.HTML object>"
      ]
     },
     "metadata": {},
     "output_type": "display_data"
    },
    {
     "data": {
      "text/html": [
       " View run <strong style=\"color:#cdcd00\">gallant-snowball-3</strong> at: <a href='https://wandb.ai/prakhar-jain/multi-layer-regression/runs/lso4fgo4' target=\"_blank\">https://wandb.ai/prakhar-jain/multi-layer-regression/runs/lso4fgo4</a><br/>Synced 6 W&B file(s), 0 media file(s), 0 artifact file(s) and 0 other file(s)"
      ],
      "text/plain": [
       "<IPython.core.display.HTML object>"
      ]
     },
     "metadata": {},
     "output_type": "display_data"
    },
    {
     "data": {
      "text/html": [
       "Find logs at: <code>./wandb/run-20231023_004723-lso4fgo4/logs</code>"
      ],
      "text/plain": [
       "<IPython.core.display.HTML object>"
      ]
     },
     "metadata": {},
     "output_type": "display_data"
    },
    {
     "data": {
      "application/vnd.jupyter.widget-view+json": {
       "model_id": "97e0b4532b5741e586a11ab095938e4c",
       "version_major": 2,
       "version_minor": 0
      },
      "text/plain": [
       "VBox(children=(Label(value='Waiting for wandb.init()...\\r'), FloatProgress(value=0.011112479844450717, max=1.0…"
      ]
     },
     "metadata": {},
     "output_type": "display_data"
    },
    {
     "data": {
      "text/html": [
       "wandb version 0.15.12 is available!  To upgrade, please run:\n",
       " $ pip install wandb --upgrade"
      ],
      "text/plain": [
       "<IPython.core.display.HTML object>"
      ]
     },
     "metadata": {},
     "output_type": "display_data"
    },
    {
     "data": {
      "text/html": [
       "Tracking run with wandb version 0.15.11"
      ],
      "text/plain": [
       "<IPython.core.display.HTML object>"
      ]
     },
     "metadata": {},
     "output_type": "display_data"
    },
    {
     "data": {
      "text/html": [
       "Run data is saved locally in <code>/home/prakhar/Desktop/assignment-3-prakharjain3/wandb/run-20231023_004821-81hk9tdv</code>"
      ],
      "text/plain": [
       "<IPython.core.display.HTML object>"
      ]
     },
     "metadata": {},
     "output_type": "display_data"
    },
    {
     "data": {
      "text/html": [
       "Syncing run <strong><a href='https://wandb.ai/prakhar-jain/multi-layer-regression/runs/81hk9tdv' target=\"_blank\">eager-leaf-4</a></strong> to <a href='https://wandb.ai/prakhar-jain/multi-layer-regression' target=\"_blank\">Weights & Biases</a> (<a href='https://wandb.me/run' target=\"_blank\">docs</a>)<br/>"
      ],
      "text/plain": [
       "<IPython.core.display.HTML object>"
      ]
     },
     "metadata": {},
     "output_type": "display_data"
    },
    {
     "data": {
      "text/html": [
       " View project at <a href='https://wandb.ai/prakhar-jain/multi-layer-regression' target=\"_blank\">https://wandb.ai/prakhar-jain/multi-layer-regression</a>"
      ],
      "text/plain": [
       "<IPython.core.display.HTML object>"
      ]
     },
     "metadata": {},
     "output_type": "display_data"
    },
    {
     "data": {
      "text/html": [
       " View run at <a href='https://wandb.ai/prakhar-jain/multi-layer-regression/runs/81hk9tdv' target=\"_blank\">https://wandb.ai/prakhar-jain/multi-layer-regression/runs/81hk9tdv</a>"
      ],
      "text/plain": [
       "<IPython.core.display.HTML object>"
      ]
     },
     "metadata": {},
     "output_type": "display_data"
    },
    {
     "name": "stderr",
     "output_type": "stream",
     "text": [
      "ic| i: 1\n",
      "ic| i: 2\n"
     ]
    },
    {
     "data": {
      "text/html": [
       "Waiting for W&B process to finish... <strong style=\"color:green\">(success).</strong>"
      ],
      "text/plain": [
       "<IPython.core.display.HTML object>"
      ]
     },
     "metadata": {},
     "output_type": "display_data"
    },
    {
     "data": {
      "application/vnd.jupyter.widget-view+json": {
       "model_id": "315c9f45eea34c26850a5fd0d6497202",
       "version_major": 2,
       "version_minor": 0
      },
      "text/plain": [
       "VBox(children=(Label(value='0.003 MB of 0.003 MB uploaded (0.000 MB deduped)\\r'), FloatProgress(value=1.0, max…"
      ]
     },
     "metadata": {},
     "output_type": "display_data"
    },
    {
     "name": "stderr",
     "output_type": "stream",
     "text": [
      "wandb: WARNING Source type is set to 'repo' but some required information is missing from the environment. A job will not be created from this run. See https://docs.wandb.ai/guides/launch/create-job\n"
     ]
    },
    {
     "data": {
      "text/html": [
       "<style>\n",
       "    table.wandb td:nth-child(1) { padding: 0 10px; text-align: left ; width: auto;} td:nth-child(2) {text-align: left ; width: 100%}\n",
       "    .wandb-row { display: flex; flex-direction: row; flex-wrap: wrap; justify-content: flex-start; width: 100% }\n",
       "    .wandb-col { display: flex; flex-direction: column; flex-basis: 100%; flex: 1; padding: 10px; }\n",
       "    </style>\n",
       "<div class=\"wandb-row\"><div class=\"wandb-col\"><h3>Run history:</h3><br/><table class=\"wandb\"><tr><td>Validation Loss</td><td>█▅▄▃▃▂▂▂▂▁▂▂▂▁▂▁▁▂▂▁▁▁▁▁▂▁▁▁▁▁▁▁▁▁▂▂▂▂▂▂</td></tr></table><br/></div><div class=\"wandb-col\"><h3>Run summary:</h3><br/><table class=\"wandb\"><tr><td>Validation Loss</td><td>20.20855</td></tr></table><br/></div></div>"
      ],
      "text/plain": [
       "<IPython.core.display.HTML object>"
      ]
     },
     "metadata": {},
     "output_type": "display_data"
    },
    {
     "data": {
      "text/html": [
       " View run <strong style=\"color:#cdcd00\">eager-leaf-4</strong> at: <a href='https://wandb.ai/prakhar-jain/multi-layer-regression/runs/81hk9tdv' target=\"_blank\">https://wandb.ai/prakhar-jain/multi-layer-regression/runs/81hk9tdv</a><br/>Synced 6 W&B file(s), 0 media file(s), 0 artifact file(s) and 0 other file(s)"
      ],
      "text/plain": [
       "<IPython.core.display.HTML object>"
      ]
     },
     "metadata": {},
     "output_type": "display_data"
    },
    {
     "data": {
      "text/html": [
       "Find logs at: <code>./wandb/run-20231023_004821-81hk9tdv/logs</code>"
      ],
      "text/plain": [
       "<IPython.core.display.HTML object>"
      ]
     },
     "metadata": {},
     "output_type": "display_data"
    },
    {
     "data": {
      "application/vnd.jupyter.widget-view+json": {
       "model_id": "9183c5abde77469986f15aa16a771435",
       "version_major": 2,
       "version_minor": 0
      },
      "text/plain": [
       "VBox(children=(Label(value='Waiting for wandb.init()...\\r'), FloatProgress(value=0.011112574133302485, max=1.0…"
      ]
     },
     "metadata": {},
     "output_type": "display_data"
    },
    {
     "data": {
      "text/html": [
       "wandb version 0.15.12 is available!  To upgrade, please run:\n",
       " $ pip install wandb --upgrade"
      ],
      "text/plain": [
       "<IPython.core.display.HTML object>"
      ]
     },
     "metadata": {},
     "output_type": "display_data"
    },
    {
     "data": {
      "text/html": [
       "Tracking run with wandb version 0.15.11"
      ],
      "text/plain": [
       "<IPython.core.display.HTML object>"
      ]
     },
     "metadata": {},
     "output_type": "display_data"
    },
    {
     "data": {
      "text/html": [
       "Run data is saved locally in <code>/home/prakhar/Desktop/assignment-3-prakharjain3/wandb/run-20231023_004914-q6bo37jl</code>"
      ],
      "text/plain": [
       "<IPython.core.display.HTML object>"
      ]
     },
     "metadata": {},
     "output_type": "display_data"
    },
    {
     "data": {
      "text/html": [
       "Syncing run <strong><a href='https://wandb.ai/prakhar-jain/multi-layer-regression/runs/q6bo37jl' target=\"_blank\">hopeful-smoke-5</a></strong> to <a href='https://wandb.ai/prakhar-jain/multi-layer-regression' target=\"_blank\">Weights & Biases</a> (<a href='https://wandb.me/run' target=\"_blank\">docs</a>)<br/>"
      ],
      "text/plain": [
       "<IPython.core.display.HTML object>"
      ]
     },
     "metadata": {},
     "output_type": "display_data"
    },
    {
     "data": {
      "text/html": [
       " View project at <a href='https://wandb.ai/prakhar-jain/multi-layer-regression' target=\"_blank\">https://wandb.ai/prakhar-jain/multi-layer-regression</a>"
      ],
      "text/plain": [
       "<IPython.core.display.HTML object>"
      ]
     },
     "metadata": {},
     "output_type": "display_data"
    },
    {
     "data": {
      "text/html": [
       " View run at <a href='https://wandb.ai/prakhar-jain/multi-layer-regression/runs/q6bo37jl' target=\"_blank\">https://wandb.ai/prakhar-jain/multi-layer-regression/runs/q6bo37jl</a>"
      ],
      "text/plain": [
       "<IPython.core.display.HTML object>"
      ]
     },
     "metadata": {},
     "output_type": "display_data"
    },
    {
     "name": "stderr",
     "output_type": "stream",
     "text": [
      "ic| i: 1\n",
      "ic| i: 2\n"
     ]
    },
    {
     "data": {
      "text/html": [
       "Waiting for W&B process to finish... <strong style=\"color:green\">(success).</strong>"
      ],
      "text/plain": [
       "<IPython.core.display.HTML object>"
      ]
     },
     "metadata": {},
     "output_type": "display_data"
    },
    {
     "name": "stderr",
     "output_type": "stream",
     "text": [
      "wandb: WARNING Source type is set to 'repo' but some required information is missing from the environment. A job will not be created from this run. See https://docs.wandb.ai/guides/launch/create-job\n"
     ]
    },
    {
     "data": {
      "application/vnd.jupyter.widget-view+json": {
       "model_id": "38dc25beab8b41c7bf4b975de8d5997e",
       "version_major": 2,
       "version_minor": 0
      },
      "text/plain": [
       "VBox(children=(Label(value='0.002 MB of 0.002 MB uploaded (0.000 MB deduped)\\r'), FloatProgress(value=1.0, max…"
      ]
     },
     "metadata": {},
     "output_type": "display_data"
    },
    {
     "data": {
      "text/html": [
       "<style>\n",
       "    table.wandb td:nth-child(1) { padding: 0 10px; text-align: left ; width: auto;} td:nth-child(2) {text-align: left ; width: 100%}\n",
       "    .wandb-row { display: flex; flex-direction: row; flex-wrap: wrap; justify-content: flex-start; width: 100% }\n",
       "    .wandb-col { display: flex; flex-direction: column; flex-basis: 100%; flex: 1; padding: 10px; }\n",
       "    </style>\n",
       "<div class=\"wandb-row\"><div class=\"wandb-col\"><h3>Run history:</h3><br/><table class=\"wandb\"><tr><td>Validation Loss</td><td>█▅▃▃▃▂▂▂▁▁▁▂▂▃▃▃▄▃▄▄▄▄▄▄▄▄▄▄▄▄▄▄▄▄▄▄▄▄▄▄</td></tr></table><br/></div><div class=\"wandb-col\"><h3>Run summary:</h3><br/><table class=\"wandb\"><tr><td>Validation Loss</td><td>25.84228</td></tr></table><br/></div></div>"
      ],
      "text/plain": [
       "<IPython.core.display.HTML object>"
      ]
     },
     "metadata": {},
     "output_type": "display_data"
    },
    {
     "data": {
      "text/html": [
       " View run <strong style=\"color:#cdcd00\">hopeful-smoke-5</strong> at: <a href='https://wandb.ai/prakhar-jain/multi-layer-regression/runs/q6bo37jl' target=\"_blank\">https://wandb.ai/prakhar-jain/multi-layer-regression/runs/q6bo37jl</a><br/>Synced 6 W&B file(s), 0 media file(s), 0 artifact file(s) and 0 other file(s)"
      ],
      "text/plain": [
       "<IPython.core.display.HTML object>"
      ]
     },
     "metadata": {},
     "output_type": "display_data"
    },
    {
     "data": {
      "text/html": [
       "Find logs at: <code>./wandb/run-20231023_004914-q6bo37jl/logs</code>"
      ],
      "text/plain": [
       "<IPython.core.display.HTML object>"
      ]
     },
     "metadata": {},
     "output_type": "display_data"
    },
    {
     "data": {
      "application/vnd.jupyter.widget-view+json": {
       "model_id": "3a355c1d6fad4e489394384f1c7ad9a9",
       "version_major": 2,
       "version_minor": 0
      },
      "text/plain": [
       "VBox(children=(Label(value='Waiting for wandb.init()...\\r'), FloatProgress(value=0.01111248295556935, max=1.0)…"
      ]
     },
     "metadata": {},
     "output_type": "display_data"
    },
    {
     "data": {
      "text/html": [
       "wandb version 0.15.12 is available!  To upgrade, please run:\n",
       " $ pip install wandb --upgrade"
      ],
      "text/plain": [
       "<IPython.core.display.HTML object>"
      ]
     },
     "metadata": {},
     "output_type": "display_data"
    },
    {
     "data": {
      "text/html": [
       "Tracking run with wandb version 0.15.11"
      ],
      "text/plain": [
       "<IPython.core.display.HTML object>"
      ]
     },
     "metadata": {},
     "output_type": "display_data"
    },
    {
     "data": {
      "text/html": [
       "Run data is saved locally in <code>/home/prakhar/Desktop/assignment-3-prakharjain3/wandb/run-20231023_005049-08n3keu9</code>"
      ],
      "text/plain": [
       "<IPython.core.display.HTML object>"
      ]
     },
     "metadata": {},
     "output_type": "display_data"
    },
    {
     "data": {
      "text/html": [
       "Syncing run <strong><a href='https://wandb.ai/prakhar-jain/multi-layer-regression/runs/08n3keu9' target=\"_blank\">neat-silence-6</a></strong> to <a href='https://wandb.ai/prakhar-jain/multi-layer-regression' target=\"_blank\">Weights & Biases</a> (<a href='https://wandb.me/run' target=\"_blank\">docs</a>)<br/>"
      ],
      "text/plain": [
       "<IPython.core.display.HTML object>"
      ]
     },
     "metadata": {},
     "output_type": "display_data"
    },
    {
     "data": {
      "text/html": [
       " View project at <a href='https://wandb.ai/prakhar-jain/multi-layer-regression' target=\"_blank\">https://wandb.ai/prakhar-jain/multi-layer-regression</a>"
      ],
      "text/plain": [
       "<IPython.core.display.HTML object>"
      ]
     },
     "metadata": {},
     "output_type": "display_data"
    },
    {
     "data": {
      "text/html": [
       " View run at <a href='https://wandb.ai/prakhar-jain/multi-layer-regression/runs/08n3keu9' target=\"_blank\">https://wandb.ai/prakhar-jain/multi-layer-regression/runs/08n3keu9</a>"
      ],
      "text/plain": [
       "<IPython.core.display.HTML object>"
      ]
     },
     "metadata": {},
     "output_type": "display_data"
    },
    {
     "name": "stderr",
     "output_type": "stream",
     "text": [
      "ic| i: 1\n",
      "ic| i: 2\n"
     ]
    },
    {
     "data": {
      "text/html": [
       "Waiting for W&B process to finish... <strong style=\"color:green\">(success).</strong>"
      ],
      "text/plain": [
       "<IPython.core.display.HTML object>"
      ]
     },
     "metadata": {},
     "output_type": "display_data"
    },
    {
     "data": {
      "application/vnd.jupyter.widget-view+json": {
       "model_id": "971403d1b5c14b26a9f3152b28c6f071",
       "version_major": 2,
       "version_minor": 0
      },
      "text/plain": [
       "VBox(children=(Label(value='0.003 MB of 0.003 MB uploaded (0.000 MB deduped)\\r'), FloatProgress(value=1.0, max…"
      ]
     },
     "metadata": {},
     "output_type": "display_data"
    },
    {
     "name": "stderr",
     "output_type": "stream",
     "text": [
      "wandb: WARNING Source type is set to 'repo' but some required information is missing from the environment. A job will not be created from this run. See https://docs.wandb.ai/guides/launch/create-job\n"
     ]
    },
    {
     "data": {
      "text/html": [
       "<style>\n",
       "    table.wandb td:nth-child(1) { padding: 0 10px; text-align: left ; width: auto;} td:nth-child(2) {text-align: left ; width: 100%}\n",
       "    .wandb-row { display: flex; flex-direction: row; flex-wrap: wrap; justify-content: flex-start; width: 100% }\n",
       "    .wandb-col { display: flex; flex-direction: column; flex-basis: 100%; flex: 1; padding: 10px; }\n",
       "    </style>\n",
       "<div class=\"wandb-row\"><div class=\"wandb-col\"><h3>Run history:</h3><br/><table class=\"wandb\"><tr><td>Validation Loss</td><td>█▅▃▅▄▃▂▂▁▁▂▁▂▁▁▂▂▂▂▃▃▄▃▄▄▄▄▄▄▅▅▅▅▅▅▆▆▅▆▆</td></tr></table><br/></div><div class=\"wandb-col\"><h3>Run summary:</h3><br/><table class=\"wandb\"><tr><td>Validation Loss</td><td>26.57557</td></tr></table><br/></div></div>"
      ],
      "text/plain": [
       "<IPython.core.display.HTML object>"
      ]
     },
     "metadata": {},
     "output_type": "display_data"
    },
    {
     "data": {
      "text/html": [
       " View run <strong style=\"color:#cdcd00\">neat-silence-6</strong> at: <a href='https://wandb.ai/prakhar-jain/multi-layer-regression/runs/08n3keu9' target=\"_blank\">https://wandb.ai/prakhar-jain/multi-layer-regression/runs/08n3keu9</a><br/>Synced 6 W&B file(s), 0 media file(s), 0 artifact file(s) and 0 other file(s)"
      ],
      "text/plain": [
       "<IPython.core.display.HTML object>"
      ]
     },
     "metadata": {},
     "output_type": "display_data"
    },
    {
     "data": {
      "text/html": [
       "Find logs at: <code>./wandb/run-20231023_005049-08n3keu9/logs</code>"
      ],
      "text/plain": [
       "<IPython.core.display.HTML object>"
      ]
     },
     "metadata": {},
     "output_type": "display_data"
    },
    {
     "data": {
      "application/vnd.jupyter.widget-view+json": {
       "model_id": "ef8a766524d74ab68aff328a9ce12bfc",
       "version_major": 2,
       "version_minor": 0
      },
      "text/plain": [
       "VBox(children=(Label(value='Waiting for wandb.init()...\\r'), FloatProgress(value=0.011112685511115059, max=1.0…"
      ]
     },
     "metadata": {},
     "output_type": "display_data"
    },
    {
     "data": {
      "text/html": [
       "wandb version 0.15.12 is available!  To upgrade, please run:\n",
       " $ pip install wandb --upgrade"
      ],
      "text/plain": [
       "<IPython.core.display.HTML object>"
      ]
     },
     "metadata": {},
     "output_type": "display_data"
    },
    {
     "data": {
      "text/html": [
       "Tracking run with wandb version 0.15.11"
      ],
      "text/plain": [
       "<IPython.core.display.HTML object>"
      ]
     },
     "metadata": {},
     "output_type": "display_data"
    },
    {
     "data": {
      "text/html": [
       "Run data is saved locally in <code>/home/prakhar/Desktop/assignment-3-prakharjain3/wandb/run-20231023_005232-branbg9p</code>"
      ],
      "text/plain": [
       "<IPython.core.display.HTML object>"
      ]
     },
     "metadata": {},
     "output_type": "display_data"
    },
    {
     "data": {
      "text/html": [
       "Syncing run <strong><a href='https://wandb.ai/prakhar-jain/multi-layer-regression/runs/branbg9p' target=\"_blank\">rich-aardvark-7</a></strong> to <a href='https://wandb.ai/prakhar-jain/multi-layer-regression' target=\"_blank\">Weights & Biases</a> (<a href='https://wandb.me/run' target=\"_blank\">docs</a>)<br/>"
      ],
      "text/plain": [
       "<IPython.core.display.HTML object>"
      ]
     },
     "metadata": {},
     "output_type": "display_data"
    },
    {
     "data": {
      "text/html": [
       " View project at <a href='https://wandb.ai/prakhar-jain/multi-layer-regression' target=\"_blank\">https://wandb.ai/prakhar-jain/multi-layer-regression</a>"
      ],
      "text/plain": [
       "<IPython.core.display.HTML object>"
      ]
     },
     "metadata": {},
     "output_type": "display_data"
    },
    {
     "data": {
      "text/html": [
       " View run at <a href='https://wandb.ai/prakhar-jain/multi-layer-regression/runs/branbg9p' target=\"_blank\">https://wandb.ai/prakhar-jain/multi-layer-regression/runs/branbg9p</a>"
      ],
      "text/plain": [
       "<IPython.core.display.HTML object>"
      ]
     },
     "metadata": {},
     "output_type": "display_data"
    },
    {
     "name": "stderr",
     "output_type": "stream",
     "text": [
      "ic| i: 1\n",
      "ic| i: 2\n"
     ]
    },
    {
     "data": {
      "text/html": [
       "Waiting for W&B process to finish... <strong style=\"color:green\">(success).</strong>"
      ],
      "text/plain": [
       "<IPython.core.display.HTML object>"
      ]
     },
     "metadata": {},
     "output_type": "display_data"
    },
    {
     "data": {
      "application/vnd.jupyter.widget-view+json": {
       "model_id": "740d25ed95854ee69a0be8980cec50bf",
       "version_major": 2,
       "version_minor": 0
      },
      "text/plain": [
       "VBox(children=(Label(value='0.003 MB of 0.003 MB uploaded (0.000 MB deduped)\\r'), FloatProgress(value=1.0, max…"
      ]
     },
     "metadata": {},
     "output_type": "display_data"
    },
    {
     "name": "stderr",
     "output_type": "stream",
     "text": [
      "wandb: WARNING Source type is set to 'repo' but some required information is missing from the environment. A job will not be created from this run. See https://docs.wandb.ai/guides/launch/create-job\n"
     ]
    },
    {
     "data": {
      "text/html": [
       "<style>\n",
       "    table.wandb td:nth-child(1) { padding: 0 10px; text-align: left ; width: auto;} td:nth-child(2) {text-align: left ; width: 100%}\n",
       "    .wandb-row { display: flex; flex-direction: row; flex-wrap: wrap; justify-content: flex-start; width: 100% }\n",
       "    .wandb-col { display: flex; flex-direction: column; flex-basis: 100%; flex: 1; padding: 10px; }\n",
       "    </style>\n",
       "<div class=\"wandb-row\"><div class=\"wandb-col\"><h3>Run history:</h3><br/><table class=\"wandb\"><tr><td>Validation Loss</td><td>█▃▁▂▂▂▂▂▃▂▃▂▂▂▂▂▂▂▃▃▃▃▂▃▃▃▃▃▃▃▃▃▃▃▃▂▃▂▃▂</td></tr></table><br/></div><div class=\"wandb-col\"><h3>Run summary:</h3><br/><table class=\"wandb\"><tr><td>Validation Loss</td><td>22.80357</td></tr></table><br/></div></div>"
      ],
      "text/plain": [
       "<IPython.core.display.HTML object>"
      ]
     },
     "metadata": {},
     "output_type": "display_data"
    },
    {
     "data": {
      "text/html": [
       " View run <strong style=\"color:#cdcd00\">rich-aardvark-7</strong> at: <a href='https://wandb.ai/prakhar-jain/multi-layer-regression/runs/branbg9p' target=\"_blank\">https://wandb.ai/prakhar-jain/multi-layer-regression/runs/branbg9p</a><br/>Synced 6 W&B file(s), 0 media file(s), 0 artifact file(s) and 0 other file(s)"
      ],
      "text/plain": [
       "<IPython.core.display.HTML object>"
      ]
     },
     "metadata": {},
     "output_type": "display_data"
    },
    {
     "data": {
      "text/html": [
       "Find logs at: <code>./wandb/run-20231023_005232-branbg9p/logs</code>"
      ],
      "text/plain": [
       "<IPython.core.display.HTML object>"
      ]
     },
     "metadata": {},
     "output_type": "display_data"
    },
    {
     "data": {
      "application/vnd.jupyter.widget-view+json": {
       "model_id": "90ef5cb827634fa8a99259564f0e2676",
       "version_major": 2,
       "version_minor": 0
      },
      "text/plain": [
       "VBox(children=(Label(value='Waiting for wandb.init()...\\r'), FloatProgress(value=0.011112295022232703, max=1.0…"
      ]
     },
     "metadata": {},
     "output_type": "display_data"
    },
    {
     "data": {
      "text/html": [
       "wandb version 0.15.12 is available!  To upgrade, please run:\n",
       " $ pip install wandb --upgrade"
      ],
      "text/plain": [
       "<IPython.core.display.HTML object>"
      ]
     },
     "metadata": {},
     "output_type": "display_data"
    },
    {
     "data": {
      "text/html": [
       "Tracking run with wandb version 0.15.11"
      ],
      "text/plain": [
       "<IPython.core.display.HTML object>"
      ]
     },
     "metadata": {},
     "output_type": "display_data"
    },
    {
     "data": {
      "text/html": [
       "Run data is saved locally in <code>/home/prakhar/Desktop/assignment-3-prakharjain3/wandb/run-20231023_005409-xsi8wcsy</code>"
      ],
      "text/plain": [
       "<IPython.core.display.HTML object>"
      ]
     },
     "metadata": {},
     "output_type": "display_data"
    },
    {
     "data": {
      "text/html": [
       "Syncing run <strong><a href='https://wandb.ai/prakhar-jain/multi-layer-regression/runs/xsi8wcsy' target=\"_blank\">wild-wave-8</a></strong> to <a href='https://wandb.ai/prakhar-jain/multi-layer-regression' target=\"_blank\">Weights & Biases</a> (<a href='https://wandb.me/run' target=\"_blank\">docs</a>)<br/>"
      ],
      "text/plain": [
       "<IPython.core.display.HTML object>"
      ]
     },
     "metadata": {},
     "output_type": "display_data"
    },
    {
     "data": {
      "text/html": [
       " View project at <a href='https://wandb.ai/prakhar-jain/multi-layer-regression' target=\"_blank\">https://wandb.ai/prakhar-jain/multi-layer-regression</a>"
      ],
      "text/plain": [
       "<IPython.core.display.HTML object>"
      ]
     },
     "metadata": {},
     "output_type": "display_data"
    },
    {
     "data": {
      "text/html": [
       " View run at <a href='https://wandb.ai/prakhar-jain/multi-layer-regression/runs/xsi8wcsy' target=\"_blank\">https://wandb.ai/prakhar-jain/multi-layer-regression/runs/xsi8wcsy</a>"
      ],
      "text/plain": [
       "<IPython.core.display.HTML object>"
      ]
     },
     "metadata": {},
     "output_type": "display_data"
    },
    {
     "name": "stderr",
     "output_type": "stream",
     "text": [
      "ic| i: 1\n",
      "ic| i: 2\n"
     ]
    },
    {
     "data": {
      "text/html": [
       "Waiting for W&B process to finish... <strong style=\"color:green\">(success).</strong>"
      ],
      "text/plain": [
       "<IPython.core.display.HTML object>"
      ]
     },
     "metadata": {},
     "output_type": "display_data"
    },
    {
     "data": {
      "application/vnd.jupyter.widget-view+json": {
       "model_id": "61fc88e5ae09431f8e021c2d35de98a2",
       "version_major": 2,
       "version_minor": 0
      },
      "text/plain": [
       "VBox(children=(Label(value='0.002 MB of 0.002 MB uploaded (0.000 MB deduped)\\r'), FloatProgress(value=1.0, max…"
      ]
     },
     "metadata": {},
     "output_type": "display_data"
    },
    {
     "name": "stderr",
     "output_type": "stream",
     "text": [
      "wandb: WARNING Source type is set to 'repo' but some required information is missing from the environment. A job will not be created from this run. See https://docs.wandb.ai/guides/launch/create-job\n"
     ]
    },
    {
     "data": {
      "text/html": [
       "<style>\n",
       "    table.wandb td:nth-child(1) { padding: 0 10px; text-align: left ; width: auto;} td:nth-child(2) {text-align: left ; width: 100%}\n",
       "    .wandb-row { display: flex; flex-direction: row; flex-wrap: wrap; justify-content: flex-start; width: 100% }\n",
       "    .wandb-col { display: flex; flex-direction: column; flex-basis: 100%; flex: 1; padding: 10px; }\n",
       "    </style>\n",
       "<div class=\"wandb-row\"><div class=\"wandb-col\"><h3>Run history:</h3><br/><table class=\"wandb\"><tr><td>Validation Loss</td><td>█▅▅▆▄▄▃▃▂▂▂▂▁▁▂▂▁▂▂▃▃▃▃▃▃▃▃▃▃▃▃▃▃▃▃▃▃▃▃▃</td></tr></table><br/></div><div class=\"wandb-col\"><h3>Run summary:</h3><br/><table class=\"wandb\"><tr><td>Validation Loss</td><td>27.93359</td></tr></table><br/></div></div>"
      ],
      "text/plain": [
       "<IPython.core.display.HTML object>"
      ]
     },
     "metadata": {},
     "output_type": "display_data"
    },
    {
     "data": {
      "text/html": [
       " View run <strong style=\"color:#cdcd00\">wild-wave-8</strong> at: <a href='https://wandb.ai/prakhar-jain/multi-layer-regression/runs/xsi8wcsy' target=\"_blank\">https://wandb.ai/prakhar-jain/multi-layer-regression/runs/xsi8wcsy</a><br/>Synced 6 W&B file(s), 0 media file(s), 0 artifact file(s) and 0 other file(s)"
      ],
      "text/plain": [
       "<IPython.core.display.HTML object>"
      ]
     },
     "metadata": {},
     "output_type": "display_data"
    },
    {
     "data": {
      "text/html": [
       "Find logs at: <code>./wandb/run-20231023_005409-xsi8wcsy/logs</code>"
      ],
      "text/plain": [
       "<IPython.core.display.HTML object>"
      ]
     },
     "metadata": {},
     "output_type": "display_data"
    },
    {
     "data": {
      "application/vnd.jupyter.widget-view+json": {
       "model_id": "a6be69cca7d249ffaf09fac4e4e5e58b",
       "version_major": 2,
       "version_minor": 0
      },
      "text/plain": [
       "VBox(children=(Label(value='Waiting for wandb.init()...\\r'), FloatProgress(value=0.011112608722194434, max=1.0…"
      ]
     },
     "metadata": {},
     "output_type": "display_data"
    },
    {
     "data": {
      "text/html": [
       "wandb version 0.15.12 is available!  To upgrade, please run:\n",
       " $ pip install wandb --upgrade"
      ],
      "text/plain": [
       "<IPython.core.display.HTML object>"
      ]
     },
     "metadata": {},
     "output_type": "display_data"
    },
    {
     "data": {
      "text/html": [
       "Tracking run with wandb version 0.15.11"
      ],
      "text/plain": [
       "<IPython.core.display.HTML object>"
      ]
     },
     "metadata": {},
     "output_type": "display_data"
    },
    {
     "data": {
      "text/html": [
       "Run data is saved locally in <code>/home/prakhar/Desktop/assignment-3-prakharjain3/wandb/run-20231023_005501-oyor3ab7</code>"
      ],
      "text/plain": [
       "<IPython.core.display.HTML object>"
      ]
     },
     "metadata": {},
     "output_type": "display_data"
    },
    {
     "data": {
      "text/html": [
       "Syncing run <strong><a href='https://wandb.ai/prakhar-jain/multi-layer-regression/runs/oyor3ab7' target=\"_blank\">fluent-field-9</a></strong> to <a href='https://wandb.ai/prakhar-jain/multi-layer-regression' target=\"_blank\">Weights & Biases</a> (<a href='https://wandb.me/run' target=\"_blank\">docs</a>)<br/>"
      ],
      "text/plain": [
       "<IPython.core.display.HTML object>"
      ]
     },
     "metadata": {},
     "output_type": "display_data"
    },
    {
     "data": {
      "text/html": [
       " View project at <a href='https://wandb.ai/prakhar-jain/multi-layer-regression' target=\"_blank\">https://wandb.ai/prakhar-jain/multi-layer-regression</a>"
      ],
      "text/plain": [
       "<IPython.core.display.HTML object>"
      ]
     },
     "metadata": {},
     "output_type": "display_data"
    },
    {
     "data": {
      "text/html": [
       " View run at <a href='https://wandb.ai/prakhar-jain/multi-layer-regression/runs/oyor3ab7' target=\"_blank\">https://wandb.ai/prakhar-jain/multi-layer-regression/runs/oyor3ab7</a>"
      ],
      "text/plain": [
       "<IPython.core.display.HTML object>"
      ]
     },
     "metadata": {},
     "output_type": "display_data"
    },
    {
     "name": "stderr",
     "output_type": "stream",
     "text": [
      "ic| i: 1\n",
      "ic| i: 2\n"
     ]
    },
    {
     "data": {
      "text/html": [
       "Waiting for W&B process to finish... <strong style=\"color:green\">(success).</strong>"
      ],
      "text/plain": [
       "<IPython.core.display.HTML object>"
      ]
     },
     "metadata": {},
     "output_type": "display_data"
    },
    {
     "data": {
      "application/vnd.jupyter.widget-view+json": {
       "model_id": "c799185255b141b69bc333f39569abdb",
       "version_major": 2,
       "version_minor": 0
      },
      "text/plain": [
       "VBox(children=(Label(value='0.003 MB of 0.003 MB uploaded (0.000 MB deduped)\\r'), FloatProgress(value=1.0, max…"
      ]
     },
     "metadata": {},
     "output_type": "display_data"
    },
    {
     "name": "stderr",
     "output_type": "stream",
     "text": [
      "wandb: WARNING Source type is set to 'repo' but some required information is missing from the environment. A job will not be created from this run. See https://docs.wandb.ai/guides/launch/create-job\n"
     ]
    },
    {
     "data": {
      "text/html": [
       "<style>\n",
       "    table.wandb td:nth-child(1) { padding: 0 10px; text-align: left ; width: auto;} td:nth-child(2) {text-align: left ; width: 100%}\n",
       "    .wandb-row { display: flex; flex-direction: row; flex-wrap: wrap; justify-content: flex-start; width: 100% }\n",
       "    .wandb-col { display: flex; flex-direction: column; flex-basis: 100%; flex: 1; padding: 10px; }\n",
       "    </style>\n",
       "<div class=\"wandb-row\"><div class=\"wandb-col\"><h3>Run history:</h3><br/><table class=\"wandb\"><tr><td>Validation Loss</td><td>█▅▄▃▂▂▂▁▁▁▁▂▂▂▂▂▂▂▂▂▂▂▃▂▂▂▂▂▃▃▃▃▂▂▂▂▃▂▂▂</td></tr></table><br/></div><div class=\"wandb-col\"><h3>Run summary:</h3><br/><table class=\"wandb\"><tr><td>Validation Loss</td><td>19.13187</td></tr></table><br/></div></div>"
      ],
      "text/plain": [
       "<IPython.core.display.HTML object>"
      ]
     },
     "metadata": {},
     "output_type": "display_data"
    },
    {
     "data": {
      "text/html": [
       " View run <strong style=\"color:#cdcd00\">fluent-field-9</strong> at: <a href='https://wandb.ai/prakhar-jain/multi-layer-regression/runs/oyor3ab7' target=\"_blank\">https://wandb.ai/prakhar-jain/multi-layer-regression/runs/oyor3ab7</a><br/>Synced 6 W&B file(s), 0 media file(s), 0 artifact file(s) and 0 other file(s)"
      ],
      "text/plain": [
       "<IPython.core.display.HTML object>"
      ]
     },
     "metadata": {},
     "output_type": "display_data"
    },
    {
     "data": {
      "text/html": [
       "Find logs at: <code>./wandb/run-20231023_005501-oyor3ab7/logs</code>"
      ],
      "text/plain": [
       "<IPython.core.display.HTML object>"
      ]
     },
     "metadata": {},
     "output_type": "display_data"
    },
    {
     "data": {
      "application/vnd.jupyter.widget-view+json": {
       "model_id": "418c4ebe3f47429884d9c84c57ed9bc3",
       "version_major": 2,
       "version_minor": 0
      },
      "text/plain": [
       "VBox(children=(Label(value='Waiting for wandb.init()...\\r'), FloatProgress(value=0.011114312666662348, max=1.0…"
      ]
     },
     "metadata": {},
     "output_type": "display_data"
    },
    {
     "data": {
      "text/html": [
       "wandb version 0.15.12 is available!  To upgrade, please run:\n",
       " $ pip install wandb --upgrade"
      ],
      "text/plain": [
       "<IPython.core.display.HTML object>"
      ]
     },
     "metadata": {},
     "output_type": "display_data"
    },
    {
     "data": {
      "text/html": [
       "Tracking run with wandb version 0.15.11"
      ],
      "text/plain": [
       "<IPython.core.display.HTML object>"
      ]
     },
     "metadata": {},
     "output_type": "display_data"
    },
    {
     "data": {
      "text/html": [
       "Run data is saved locally in <code>/home/prakhar/Desktop/assignment-3-prakharjain3/wandb/run-20231023_005604-76i52xtw</code>"
      ],
      "text/plain": [
       "<IPython.core.display.HTML object>"
      ]
     },
     "metadata": {},
     "output_type": "display_data"
    },
    {
     "data": {
      "text/html": [
       "Syncing run <strong><a href='https://wandb.ai/prakhar-jain/multi-layer-regression/runs/76i52xtw' target=\"_blank\">upbeat-river-10</a></strong> to <a href='https://wandb.ai/prakhar-jain/multi-layer-regression' target=\"_blank\">Weights & Biases</a> (<a href='https://wandb.me/run' target=\"_blank\">docs</a>)<br/>"
      ],
      "text/plain": [
       "<IPython.core.display.HTML object>"
      ]
     },
     "metadata": {},
     "output_type": "display_data"
    },
    {
     "data": {
      "text/html": [
       " View project at <a href='https://wandb.ai/prakhar-jain/multi-layer-regression' target=\"_blank\">https://wandb.ai/prakhar-jain/multi-layer-regression</a>"
      ],
      "text/plain": [
       "<IPython.core.display.HTML object>"
      ]
     },
     "metadata": {},
     "output_type": "display_data"
    },
    {
     "data": {
      "text/html": [
       " View run at <a href='https://wandb.ai/prakhar-jain/multi-layer-regression/runs/76i52xtw' target=\"_blank\">https://wandb.ai/prakhar-jain/multi-layer-regression/runs/76i52xtw</a>"
      ],
      "text/plain": [
       "<IPython.core.display.HTML object>"
      ]
     },
     "metadata": {},
     "output_type": "display_data"
    },
    {
     "name": "stderr",
     "output_type": "stream",
     "text": [
      "ic| i: 1\n",
      "ic| i: 2\n"
     ]
    },
    {
     "data": {
      "text/html": [
       "Waiting for W&B process to finish... <strong style=\"color:green\">(success).</strong>"
      ],
      "text/plain": [
       "<IPython.core.display.HTML object>"
      ]
     },
     "metadata": {},
     "output_type": "display_data"
    },
    {
     "data": {
      "application/vnd.jupyter.widget-view+json": {
       "model_id": "2f5f62651c8348c7979479b54c09bb63",
       "version_major": 2,
       "version_minor": 0
      },
      "text/plain": [
       "VBox(children=(Label(value='0.003 MB of 0.003 MB uploaded (0.000 MB deduped)\\r'), FloatProgress(value=1.0, max…"
      ]
     },
     "metadata": {},
     "output_type": "display_data"
    },
    {
     "name": "stderr",
     "output_type": "stream",
     "text": [
      "wandb: WARNING Source type is set to 'repo' but some required information is missing from the environment. A job will not be created from this run. See https://docs.wandb.ai/guides/launch/create-job\n"
     ]
    },
    {
     "data": {
      "text/html": [
       "<style>\n",
       "    table.wandb td:nth-child(1) { padding: 0 10px; text-align: left ; width: auto;} td:nth-child(2) {text-align: left ; width: 100%}\n",
       "    .wandb-row { display: flex; flex-direction: row; flex-wrap: wrap; justify-content: flex-start; width: 100% }\n",
       "    .wandb-col { display: flex; flex-direction: column; flex-basis: 100%; flex: 1; padding: 10px; }\n",
       "    </style>\n",
       "<div class=\"wandb-row\"><div class=\"wandb-col\"><h3>Run history:</h3><br/><table class=\"wandb\"><tr><td>Validation Loss</td><td>█▄▂▃▂▂▂▂▂▁▂▂▁▁▁▁▁▁▁▁▁▁▁▁▁▁▁▁▁▁▁▁▁▁▁▁▁▁▁▁</td></tr></table><br/></div><div class=\"wandb-col\"><h3>Run summary:</h3><br/><table class=\"wandb\"><tr><td>Validation Loss</td><td>18.72893</td></tr></table><br/></div></div>"
      ],
      "text/plain": [
       "<IPython.core.display.HTML object>"
      ]
     },
     "metadata": {},
     "output_type": "display_data"
    },
    {
     "data": {
      "text/html": [
       " View run <strong style=\"color:#cdcd00\">upbeat-river-10</strong> at: <a href='https://wandb.ai/prakhar-jain/multi-layer-regression/runs/76i52xtw' target=\"_blank\">https://wandb.ai/prakhar-jain/multi-layer-regression/runs/76i52xtw</a><br/>Synced 6 W&B file(s), 0 media file(s), 0 artifact file(s) and 0 other file(s)"
      ],
      "text/plain": [
       "<IPython.core.display.HTML object>"
      ]
     },
     "metadata": {},
     "output_type": "display_data"
    },
    {
     "data": {
      "text/html": [
       "Find logs at: <code>./wandb/run-20231023_005604-76i52xtw/logs</code>"
      ],
      "text/plain": [
       "<IPython.core.display.HTML object>"
      ]
     },
     "metadata": {},
     "output_type": "display_data"
    },
    {
     "data": {
      "application/vnd.jupyter.widget-view+json": {
       "model_id": "56d2148dee7a49feb441a38794651cfe",
       "version_major": 2,
       "version_minor": 0
      },
      "text/plain": [
       "VBox(children=(Label(value='Waiting for wandb.init()...\\r'), FloatProgress(value=0.011112611366681652, max=1.0…"
      ]
     },
     "metadata": {},
     "output_type": "display_data"
    },
    {
     "data": {
      "text/html": [
       "wandb version 0.15.12 is available!  To upgrade, please run:\n",
       " $ pip install wandb --upgrade"
      ],
      "text/plain": [
       "<IPython.core.display.HTML object>"
      ]
     },
     "metadata": {},
     "output_type": "display_data"
    },
    {
     "data": {
      "text/html": [
       "Tracking run with wandb version 0.15.11"
      ],
      "text/plain": [
       "<IPython.core.display.HTML object>"
      ]
     },
     "metadata": {},
     "output_type": "display_data"
    },
    {
     "data": {
      "text/html": [
       "Run data is saved locally in <code>/home/prakhar/Desktop/assignment-3-prakharjain3/wandb/run-20231023_005657-94scmgos</code>"
      ],
      "text/plain": [
       "<IPython.core.display.HTML object>"
      ]
     },
     "metadata": {},
     "output_type": "display_data"
    },
    {
     "data": {
      "text/html": [
       "Syncing run <strong><a href='https://wandb.ai/prakhar-jain/multi-layer-regression/runs/94scmgos' target=\"_blank\">fresh-dust-11</a></strong> to <a href='https://wandb.ai/prakhar-jain/multi-layer-regression' target=\"_blank\">Weights & Biases</a> (<a href='https://wandb.me/run' target=\"_blank\">docs</a>)<br/>"
      ],
      "text/plain": [
       "<IPython.core.display.HTML object>"
      ]
     },
     "metadata": {},
     "output_type": "display_data"
    },
    {
     "data": {
      "text/html": [
       " View project at <a href='https://wandb.ai/prakhar-jain/multi-layer-regression' target=\"_blank\">https://wandb.ai/prakhar-jain/multi-layer-regression</a>"
      ],
      "text/plain": [
       "<IPython.core.display.HTML object>"
      ]
     },
     "metadata": {},
     "output_type": "display_data"
    },
    {
     "data": {
      "text/html": [
       " View run at <a href='https://wandb.ai/prakhar-jain/multi-layer-regression/runs/94scmgos' target=\"_blank\">https://wandb.ai/prakhar-jain/multi-layer-regression/runs/94scmgos</a>"
      ],
      "text/plain": [
       "<IPython.core.display.HTML object>"
      ]
     },
     "metadata": {},
     "output_type": "display_data"
    },
    {
     "name": "stderr",
     "output_type": "stream",
     "text": [
      "ic| i: 1\n",
      "ic| i: 2\n"
     ]
    },
    {
     "data": {
      "text/html": [
       "Waiting for W&B process to finish... <strong style=\"color:green\">(success).</strong>"
      ],
      "text/plain": [
       "<IPython.core.display.HTML object>"
      ]
     },
     "metadata": {},
     "output_type": "display_data"
    },
    {
     "data": {
      "application/vnd.jupyter.widget-view+json": {
       "model_id": "80face151a42413b9a21151890013b0a",
       "version_major": 2,
       "version_minor": 0
      },
      "text/plain": [
       "VBox(children=(Label(value='0.002 MB of 0.002 MB uploaded (0.000 MB deduped)\\r'), FloatProgress(value=1.0, max…"
      ]
     },
     "metadata": {},
     "output_type": "display_data"
    },
    {
     "name": "stderr",
     "output_type": "stream",
     "text": [
      "wandb: WARNING Source type is set to 'repo' but some required information is missing from the environment. A job will not be created from this run. See https://docs.wandb.ai/guides/launch/create-job\n"
     ]
    },
    {
     "data": {
      "text/html": [
       "<style>\n",
       "    table.wandb td:nth-child(1) { padding: 0 10px; text-align: left ; width: auto;} td:nth-child(2) {text-align: left ; width: 100%}\n",
       "    .wandb-row { display: flex; flex-direction: row; flex-wrap: wrap; justify-content: flex-start; width: 100% }\n",
       "    .wandb-col { display: flex; flex-direction: column; flex-basis: 100%; flex: 1; padding: 10px; }\n",
       "    </style>\n",
       "<div class=\"wandb-row\"><div class=\"wandb-col\"><h3>Run history:</h3><br/><table class=\"wandb\"><tr><td>Validation Loss</td><td>█▃▄▅▄▅▅▄▄▃▃▃▃▃▃▃▃▂▂▂▂▂▂▂▂▂▂▂▁▂▁▁▁▁▁▁▁▁▁▁</td></tr></table><br/></div><div class=\"wandb-col\"><h3>Run summary:</h3><br/><table class=\"wandb\"><tr><td>Validation Loss</td><td>19.72867</td></tr></table><br/></div></div>"
      ],
      "text/plain": [
       "<IPython.core.display.HTML object>"
      ]
     },
     "metadata": {},
     "output_type": "display_data"
    },
    {
     "data": {
      "text/html": [
       " View run <strong style=\"color:#cdcd00\">fresh-dust-11</strong> at: <a href='https://wandb.ai/prakhar-jain/multi-layer-regression/runs/94scmgos' target=\"_blank\">https://wandb.ai/prakhar-jain/multi-layer-regression/runs/94scmgos</a><br/>Synced 6 W&B file(s), 0 media file(s), 0 artifact file(s) and 0 other file(s)"
      ],
      "text/plain": [
       "<IPython.core.display.HTML object>"
      ]
     },
     "metadata": {},
     "output_type": "display_data"
    },
    {
     "data": {
      "text/html": [
       "Find logs at: <code>./wandb/run-20231023_005657-94scmgos/logs</code>"
      ],
      "text/plain": [
       "<IPython.core.display.HTML object>"
      ]
     },
     "metadata": {},
     "output_type": "display_data"
    },
    {
     "data": {
      "application/vnd.jupyter.widget-view+json": {
       "model_id": "d9c72174e31d4cd8826ed90df7ae40a1",
       "version_major": 2,
       "version_minor": 0
      },
      "text/plain": [
       "VBox(children=(Label(value='Waiting for wandb.init()...\\r'), FloatProgress(value=0.011112695111094379, max=1.0…"
      ]
     },
     "metadata": {},
     "output_type": "display_data"
    },
    {
     "data": {
      "text/html": [
       "wandb version 0.15.12 is available!  To upgrade, please run:\n",
       " $ pip install wandb --upgrade"
      ],
      "text/plain": [
       "<IPython.core.display.HTML object>"
      ]
     },
     "metadata": {},
     "output_type": "display_data"
    },
    {
     "data": {
      "text/html": [
       "Tracking run with wandb version 0.15.11"
      ],
      "text/plain": [
       "<IPython.core.display.HTML object>"
      ]
     },
     "metadata": {},
     "output_type": "display_data"
    },
    {
     "data": {
      "text/html": [
       "Run data is saved locally in <code>/home/prakhar/Desktop/assignment-3-prakharjain3/wandb/run-20231023_005830-b8feqxaq</code>"
      ],
      "text/plain": [
       "<IPython.core.display.HTML object>"
      ]
     },
     "metadata": {},
     "output_type": "display_data"
    },
    {
     "data": {
      "text/html": [
       "Syncing run <strong><a href='https://wandb.ai/prakhar-jain/multi-layer-regression/runs/b8feqxaq' target=\"_blank\">fragrant-surf-12</a></strong> to <a href='https://wandb.ai/prakhar-jain/multi-layer-regression' target=\"_blank\">Weights & Biases</a> (<a href='https://wandb.me/run' target=\"_blank\">docs</a>)<br/>"
      ],
      "text/plain": [
       "<IPython.core.display.HTML object>"
      ]
     },
     "metadata": {},
     "output_type": "display_data"
    },
    {
     "data": {
      "text/html": [
       " View project at <a href='https://wandb.ai/prakhar-jain/multi-layer-regression' target=\"_blank\">https://wandb.ai/prakhar-jain/multi-layer-regression</a>"
      ],
      "text/plain": [
       "<IPython.core.display.HTML object>"
      ]
     },
     "metadata": {},
     "output_type": "display_data"
    },
    {
     "data": {
      "text/html": [
       " View run at <a href='https://wandb.ai/prakhar-jain/multi-layer-regression/runs/b8feqxaq' target=\"_blank\">https://wandb.ai/prakhar-jain/multi-layer-regression/runs/b8feqxaq</a>"
      ],
      "text/plain": [
       "<IPython.core.display.HTML object>"
      ]
     },
     "metadata": {},
     "output_type": "display_data"
    },
    {
     "name": "stderr",
     "output_type": "stream",
     "text": [
      "ic| i: 1\n",
      "ic| i: 2\n"
     ]
    },
    {
     "data": {
      "text/html": [
       "Waiting for W&B process to finish... <strong style=\"color:green\">(success).</strong>"
      ],
      "text/plain": [
       "<IPython.core.display.HTML object>"
      ]
     },
     "metadata": {},
     "output_type": "display_data"
    },
    {
     "data": {
      "application/vnd.jupyter.widget-view+json": {
       "model_id": "cfb931285f4b457da5770db828789538",
       "version_major": 2,
       "version_minor": 0
      },
      "text/plain": [
       "VBox(children=(Label(value='0.003 MB of 0.003 MB uploaded (0.000 MB deduped)\\r'), FloatProgress(value=1.0, max…"
      ]
     },
     "metadata": {},
     "output_type": "display_data"
    },
    {
     "name": "stderr",
     "output_type": "stream",
     "text": [
      "wandb: WARNING Source type is set to 'repo' but some required information is missing from the environment. A job will not be created from this run. See https://docs.wandb.ai/guides/launch/create-job\n"
     ]
    },
    {
     "data": {
      "text/html": [
       "<style>\n",
       "    table.wandb td:nth-child(1) { padding: 0 10px; text-align: left ; width: auto;} td:nth-child(2) {text-align: left ; width: 100%}\n",
       "    .wandb-row { display: flex; flex-direction: row; flex-wrap: wrap; justify-content: flex-start; width: 100% }\n",
       "    .wandb-col { display: flex; flex-direction: column; flex-basis: 100%; flex: 1; padding: 10px; }\n",
       "    </style>\n",
       "<div class=\"wandb-row\"><div class=\"wandb-col\"><h3>Run history:</h3><br/><table class=\"wandb\"><tr><td>Validation Loss</td><td>█▂▁▂▁▂▁▁▁▁▁▁▁▁▁▁▁▁▁▁▁▁▁▁▁▁▁▁▁▁▁▁▁▁▁▁▁▁▁▁</td></tr></table><br/></div><div class=\"wandb-col\"><h3>Run summary:</h3><br/><table class=\"wandb\"><tr><td>Validation Loss</td><td>22.92155</td></tr></table><br/></div></div>"
      ],
      "text/plain": [
       "<IPython.core.display.HTML object>"
      ]
     },
     "metadata": {},
     "output_type": "display_data"
    },
    {
     "data": {
      "text/html": [
       " View run <strong style=\"color:#cdcd00\">fragrant-surf-12</strong> at: <a href='https://wandb.ai/prakhar-jain/multi-layer-regression/runs/b8feqxaq' target=\"_blank\">https://wandb.ai/prakhar-jain/multi-layer-regression/runs/b8feqxaq</a><br/>Synced 6 W&B file(s), 0 media file(s), 0 artifact file(s) and 0 other file(s)"
      ],
      "text/plain": [
       "<IPython.core.display.HTML object>"
      ]
     },
     "metadata": {},
     "output_type": "display_data"
    },
    {
     "data": {
      "text/html": [
       "Find logs at: <code>./wandb/run-20231023_005830-b8feqxaq/logs</code>"
      ],
      "text/plain": [
       "<IPython.core.display.HTML object>"
      ]
     },
     "metadata": {},
     "output_type": "display_data"
    },
    {
     "data": {
      "application/vnd.jupyter.widget-view+json": {
       "model_id": "4b76f15d7c09416096ab17e6cc7974d5",
       "version_major": 2,
       "version_minor": 0
      },
      "text/plain": [
       "VBox(children=(Label(value='Waiting for wandb.init()...\\r'), FloatProgress(value=0.011112656877796528, max=1.0…"
      ]
     },
     "metadata": {},
     "output_type": "display_data"
    },
    {
     "data": {
      "text/html": [
       "wandb version 0.15.12 is available!  To upgrade, please run:\n",
       " $ pip install wandb --upgrade"
      ],
      "text/plain": [
       "<IPython.core.display.HTML object>"
      ]
     },
     "metadata": {},
     "output_type": "display_data"
    },
    {
     "data": {
      "text/html": [
       "Tracking run with wandb version 0.15.11"
      ],
      "text/plain": [
       "<IPython.core.display.HTML object>"
      ]
     },
     "metadata": {},
     "output_type": "display_data"
    },
    {
     "data": {
      "text/html": [
       "Run data is saved locally in <code>/home/prakhar/Desktop/assignment-3-prakharjain3/wandb/run-20231023_010013-mnrv1jud</code>"
      ],
      "text/plain": [
       "<IPython.core.display.HTML object>"
      ]
     },
     "metadata": {},
     "output_type": "display_data"
    },
    {
     "data": {
      "text/html": [
       "Syncing run <strong><a href='https://wandb.ai/prakhar-jain/multi-layer-regression/runs/mnrv1jud' target=\"_blank\">wobbly-smoke-13</a></strong> to <a href='https://wandb.ai/prakhar-jain/multi-layer-regression' target=\"_blank\">Weights & Biases</a> (<a href='https://wandb.me/run' target=\"_blank\">docs</a>)<br/>"
      ],
      "text/plain": [
       "<IPython.core.display.HTML object>"
      ]
     },
     "metadata": {},
     "output_type": "display_data"
    },
    {
     "data": {
      "text/html": [
       " View project at <a href='https://wandb.ai/prakhar-jain/multi-layer-regression' target=\"_blank\">https://wandb.ai/prakhar-jain/multi-layer-regression</a>"
      ],
      "text/plain": [
       "<IPython.core.display.HTML object>"
      ]
     },
     "metadata": {},
     "output_type": "display_data"
    },
    {
     "data": {
      "text/html": [
       " View run at <a href='https://wandb.ai/prakhar-jain/multi-layer-regression/runs/mnrv1jud' target=\"_blank\">https://wandb.ai/prakhar-jain/multi-layer-regression/runs/mnrv1jud</a>"
      ],
      "text/plain": [
       "<IPython.core.display.HTML object>"
      ]
     },
     "metadata": {},
     "output_type": "display_data"
    },
    {
     "name": "stderr",
     "output_type": "stream",
     "text": [
      "ic| i: 1\n",
      "ic| i: 2\n"
     ]
    },
    {
     "data": {
      "text/html": [
       "Waiting for W&B process to finish... <strong style=\"color:green\">(success).</strong>"
      ],
      "text/plain": [
       "<IPython.core.display.HTML object>"
      ]
     },
     "metadata": {},
     "output_type": "display_data"
    },
    {
     "data": {
      "application/vnd.jupyter.widget-view+json": {
       "model_id": "6de0baf7777040a19fef653082911b47",
       "version_major": 2,
       "version_minor": 0
      },
      "text/plain": [
       "VBox(children=(Label(value='0.003 MB of 0.003 MB uploaded (0.000 MB deduped)\\r'), FloatProgress(value=1.0, max…"
      ]
     },
     "metadata": {},
     "output_type": "display_data"
    },
    {
     "name": "stderr",
     "output_type": "stream",
     "text": [
      "wandb: WARNING Source type is set to 'repo' but some required information is missing from the environment. A job will not be created from this run. See https://docs.wandb.ai/guides/launch/create-job\n"
     ]
    },
    {
     "data": {
      "text/html": [
       "<style>\n",
       "    table.wandb td:nth-child(1) { padding: 0 10px; text-align: left ; width: auto;} td:nth-child(2) {text-align: left ; width: 100%}\n",
       "    .wandb-row { display: flex; flex-direction: row; flex-wrap: wrap; justify-content: flex-start; width: 100% }\n",
       "    .wandb-col { display: flex; flex-direction: column; flex-basis: 100%; flex: 1; padding: 10px; }\n",
       "    </style>\n",
       "<div class=\"wandb-row\"><div class=\"wandb-col\"><h3>Run history:</h3><br/><table class=\"wandb\"><tr><td>Validation Loss</td><td>█▁▁▁▁▁▁▂▂▂▃▂▃▃▃▃▃▃▃▃▃▃▃▃▃▃▃▃▃▃▃▃▃▃▃▃▃▃▃▃</td></tr></table><br/></div><div class=\"wandb-col\"><h3>Run summary:</h3><br/><table class=\"wandb\"><tr><td>Validation Loss</td><td>21.04242</td></tr></table><br/></div></div>"
      ],
      "text/plain": [
       "<IPython.core.display.HTML object>"
      ]
     },
     "metadata": {},
     "output_type": "display_data"
    },
    {
     "data": {
      "text/html": [
       " View run <strong style=\"color:#cdcd00\">wobbly-smoke-13</strong> at: <a href='https://wandb.ai/prakhar-jain/multi-layer-regression/runs/mnrv1jud' target=\"_blank\">https://wandb.ai/prakhar-jain/multi-layer-regression/runs/mnrv1jud</a><br/>Synced 6 W&B file(s), 0 media file(s), 0 artifact file(s) and 0 other file(s)"
      ],
      "text/plain": [
       "<IPython.core.display.HTML object>"
      ]
     },
     "metadata": {},
     "output_type": "display_data"
    },
    {
     "data": {
      "text/html": [
       "Find logs at: <code>./wandb/run-20231023_010013-mnrv1jud/logs</code>"
      ],
      "text/plain": [
       "<IPython.core.display.HTML object>"
      ]
     },
     "metadata": {},
     "output_type": "display_data"
    },
    {
     "data": {
      "application/vnd.jupyter.widget-view+json": {
       "model_id": "bbf9b94983da4c67aa08bd60030152fb",
       "version_major": 2,
       "version_minor": 0
      },
      "text/plain": [
       "VBox(children=(Label(value='Waiting for wandb.init()...\\r'), FloatProgress(value=0.011112424377764303, max=1.0…"
      ]
     },
     "metadata": {},
     "output_type": "display_data"
    },
    {
     "data": {
      "text/html": [
       "wandb version 0.15.12 is available!  To upgrade, please run:\n",
       " $ pip install wandb --upgrade"
      ],
      "text/plain": [
       "<IPython.core.display.HTML object>"
      ]
     },
     "metadata": {},
     "output_type": "display_data"
    },
    {
     "data": {
      "text/html": [
       "Tracking run with wandb version 0.15.11"
      ],
      "text/plain": [
       "<IPython.core.display.HTML object>"
      ]
     },
     "metadata": {},
     "output_type": "display_data"
    },
    {
     "data": {
      "text/html": [
       "Run data is saved locally in <code>/home/prakhar/Desktop/assignment-3-prakharjain3/wandb/run-20231023_010154-swwyk6cj</code>"
      ],
      "text/plain": [
       "<IPython.core.display.HTML object>"
      ]
     },
     "metadata": {},
     "output_type": "display_data"
    },
    {
     "data": {
      "text/html": [
       "Syncing run <strong><a href='https://wandb.ai/prakhar-jain/multi-layer-regression/runs/swwyk6cj' target=\"_blank\">zesty-breeze-14</a></strong> to <a href='https://wandb.ai/prakhar-jain/multi-layer-regression' target=\"_blank\">Weights & Biases</a> (<a href='https://wandb.me/run' target=\"_blank\">docs</a>)<br/>"
      ],
      "text/plain": [
       "<IPython.core.display.HTML object>"
      ]
     },
     "metadata": {},
     "output_type": "display_data"
    },
    {
     "data": {
      "text/html": [
       " View project at <a href='https://wandb.ai/prakhar-jain/multi-layer-regression' target=\"_blank\">https://wandb.ai/prakhar-jain/multi-layer-regression</a>"
      ],
      "text/plain": [
       "<IPython.core.display.HTML object>"
      ]
     },
     "metadata": {},
     "output_type": "display_data"
    },
    {
     "data": {
      "text/html": [
       " View run at <a href='https://wandb.ai/prakhar-jain/multi-layer-regression/runs/swwyk6cj' target=\"_blank\">https://wandb.ai/prakhar-jain/multi-layer-regression/runs/swwyk6cj</a>"
      ],
      "text/plain": [
       "<IPython.core.display.HTML object>"
      ]
     },
     "metadata": {},
     "output_type": "display_data"
    },
    {
     "name": "stderr",
     "output_type": "stream",
     "text": [
      "ic| i: 1\n",
      "ic| i: 2\n",
      "/tmp/ipykernel_84218/3803969322.py:5: RuntimeWarning: overflow encountered in exp\n",
      "  return 1 / (1 + np.exp(-z))\n",
      "/tmp/ipykernel_84218/3803969322.py:5: RuntimeWarning: overflow encountered in exp\n",
      "  return 1 / (1 + np.exp(-z))\n",
      "/tmp/ipykernel_84218/3803969322.py:5: RuntimeWarning: overflow encountered in exp\n",
      "  return 1 / (1 + np.exp(-z))\n",
      "/tmp/ipykernel_84218/3803969322.py:5: RuntimeWarning: overflow encountered in exp\n",
      "  return 1 / (1 + np.exp(-z))\n",
      "/tmp/ipykernel_84218/3803969322.py:5: RuntimeWarning: overflow encountered in exp\n",
      "  return 1 / (1 + np.exp(-z))\n",
      "/tmp/ipykernel_84218/3803969322.py:5: RuntimeWarning: overflow encountered in exp\n",
      "  return 1 / (1 + np.exp(-z))\n",
      "/tmp/ipykernel_84218/3803969322.py:5: RuntimeWarning: overflow encountered in exp\n",
      "  return 1 / (1 + np.exp(-z))\n",
      "/tmp/ipykernel_84218/3803969322.py:5: RuntimeWarning: overflow encountered in exp\n",
      "  return 1 / (1 + np.exp(-z))\n",
      "/tmp/ipykernel_84218/3803969322.py:5: RuntimeWarning: overflow encountered in exp\n",
      "  return 1 / (1 + np.exp(-z))\n",
      "/tmp/ipykernel_84218/3803969322.py:5: RuntimeWarning: overflow encountered in exp\n",
      "  return 1 / (1 + np.exp(-z))\n",
      "/tmp/ipykernel_84218/3803969322.py:5: RuntimeWarning: overflow encountered in exp\n",
      "  return 1 / (1 + np.exp(-z))\n",
      "/tmp/ipykernel_84218/3803969322.py:5: RuntimeWarning: overflow encountered in exp\n",
      "  return 1 / (1 + np.exp(-z))\n",
      "/tmp/ipykernel_84218/3803969322.py:5: RuntimeWarning: overflow encountered in exp\n",
      "  return 1 / (1 + np.exp(-z))\n",
      "/tmp/ipykernel_84218/3803969322.py:5: RuntimeWarning: overflow encountered in exp\n",
      "  return 1 / (1 + np.exp(-z))\n",
      "/tmp/ipykernel_84218/3803969322.py:5: RuntimeWarning: overflow encountered in exp\n",
      "  return 1 / (1 + np.exp(-z))\n",
      "/tmp/ipykernel_84218/3803969322.py:5: RuntimeWarning: overflow encountered in exp\n",
      "  return 1 / (1 + np.exp(-z))\n",
      "/tmp/ipykernel_84218/3803969322.py:5: RuntimeWarning: overflow encountered in exp\n",
      "  return 1 / (1 + np.exp(-z))\n",
      "/tmp/ipykernel_84218/3803969322.py:5: RuntimeWarning: overflow encountered in exp\n",
      "  return 1 / (1 + np.exp(-z))\n",
      "/tmp/ipykernel_84218/3803969322.py:5: RuntimeWarning: overflow encountered in exp\n",
      "  return 1 / (1 + np.exp(-z))\n",
      "/tmp/ipykernel_84218/3803969322.py:5: RuntimeWarning: overflow encountered in exp\n",
      "  return 1 / (1 + np.exp(-z))\n",
      "/tmp/ipykernel_84218/3803969322.py:5: RuntimeWarning: overflow encountered in exp\n",
      "  return 1 / (1 + np.exp(-z))\n",
      "/tmp/ipykernel_84218/3803969322.py:5: RuntimeWarning: overflow encountered in exp\n",
      "  return 1 / (1 + np.exp(-z))\n",
      "/tmp/ipykernel_84218/3803969322.py:5: RuntimeWarning: overflow encountered in exp\n",
      "  return 1 / (1 + np.exp(-z))\n",
      "/tmp/ipykernel_84218/3803969322.py:5: RuntimeWarning: overflow encountered in exp\n",
      "  return 1 / (1 + np.exp(-z))\n",
      "/tmp/ipykernel_84218/3803969322.py:5: RuntimeWarning: overflow encountered in exp\n",
      "  return 1 / (1 + np.exp(-z))\n",
      "/tmp/ipykernel_84218/3803969322.py:5: RuntimeWarning: overflow encountered in exp\n",
      "  return 1 / (1 + np.exp(-z))\n",
      "/tmp/ipykernel_84218/3803969322.py:5: RuntimeWarning: overflow encountered in exp\n",
      "  return 1 / (1 + np.exp(-z))\n",
      "/tmp/ipykernel_84218/3803969322.py:5: RuntimeWarning: overflow encountered in exp\n",
      "  return 1 / (1 + np.exp(-z))\n",
      "/tmp/ipykernel_84218/3803969322.py:5: RuntimeWarning: overflow encountered in exp\n",
      "  return 1 / (1 + np.exp(-z))\n",
      "/tmp/ipykernel_84218/3803969322.py:5: RuntimeWarning: overflow encountered in exp\n",
      "  return 1 / (1 + np.exp(-z))\n",
      "/tmp/ipykernel_84218/3803969322.py:5: RuntimeWarning: overflow encountered in exp\n",
      "  return 1 / (1 + np.exp(-z))\n",
      "/tmp/ipykernel_84218/3803969322.py:5: RuntimeWarning: overflow encountered in exp\n",
      "  return 1 / (1 + np.exp(-z))\n",
      "/tmp/ipykernel_84218/3803969322.py:5: RuntimeWarning: overflow encountered in exp\n",
      "  return 1 / (1 + np.exp(-z))\n",
      "/tmp/ipykernel_84218/3803969322.py:5: RuntimeWarning: overflow encountered in exp\n",
      "  return 1 / (1 + np.exp(-z))\n",
      "/tmp/ipykernel_84218/3803969322.py:5: RuntimeWarning: overflow encountered in exp\n",
      "  return 1 / (1 + np.exp(-z))\n",
      "/tmp/ipykernel_84218/3803969322.py:5: RuntimeWarning: overflow encountered in exp\n",
      "  return 1 / (1 + np.exp(-z))\n",
      "/tmp/ipykernel_84218/3803969322.py:5: RuntimeWarning: overflow encountered in exp\n",
      "  return 1 / (1 + np.exp(-z))\n",
      "/tmp/ipykernel_84218/3803969322.py:5: RuntimeWarning: overflow encountered in exp\n",
      "  return 1 / (1 + np.exp(-z))\n",
      "/tmp/ipykernel_84218/3803969322.py:5: RuntimeWarning: overflow encountered in exp\n",
      "  return 1 / (1 + np.exp(-z))\n",
      "/tmp/ipykernel_84218/3803969322.py:5: RuntimeWarning: overflow encountered in exp\n",
      "  return 1 / (1 + np.exp(-z))\n",
      "/tmp/ipykernel_84218/3803969322.py:5: RuntimeWarning: overflow encountered in exp\n",
      "  return 1 / (1 + np.exp(-z))\n",
      "/tmp/ipykernel_84218/3803969322.py:5: RuntimeWarning: overflow encountered in exp\n",
      "  return 1 / (1 + np.exp(-z))\n",
      "/tmp/ipykernel_84218/3803969322.py:5: RuntimeWarning: overflow encountered in exp\n",
      "  return 1 / (1 + np.exp(-z))\n",
      "/tmp/ipykernel_84218/3803969322.py:5: RuntimeWarning: overflow encountered in exp\n",
      "  return 1 / (1 + np.exp(-z))\n",
      "/tmp/ipykernel_84218/3803969322.py:5: RuntimeWarning: overflow encountered in exp\n",
      "  return 1 / (1 + np.exp(-z))\n",
      "/tmp/ipykernel_84218/3803969322.py:5: RuntimeWarning: overflow encountered in exp\n",
      "  return 1 / (1 + np.exp(-z))\n",
      "/tmp/ipykernel_84218/3803969322.py:5: RuntimeWarning: overflow encountered in exp\n",
      "  return 1 / (1 + np.exp(-z))\n",
      "/tmp/ipykernel_84218/3803969322.py:5: RuntimeWarning: overflow encountered in exp\n",
      "  return 1 / (1 + np.exp(-z))\n",
      "/tmp/ipykernel_84218/3803969322.py:5: RuntimeWarning: overflow encountered in exp\n",
      "  return 1 / (1 + np.exp(-z))\n",
      "/tmp/ipykernel_84218/3803969322.py:5: RuntimeWarning: overflow encountered in exp\n",
      "  return 1 / (1 + np.exp(-z))\n",
      "/tmp/ipykernel_84218/3803969322.py:5: RuntimeWarning: overflow encountered in exp\n",
      "  return 1 / (1 + np.exp(-z))\n",
      "/tmp/ipykernel_84218/3803969322.py:5: RuntimeWarning: overflow encountered in exp\n",
      "  return 1 / (1 + np.exp(-z))\n",
      "/tmp/ipykernel_84218/3803969322.py:5: RuntimeWarning: overflow encountered in exp\n",
      "  return 1 / (1 + np.exp(-z))\n",
      "/tmp/ipykernel_84218/3803969322.py:5: RuntimeWarning: overflow encountered in exp\n",
      "  return 1 / (1 + np.exp(-z))\n",
      "/tmp/ipykernel_84218/3803969322.py:5: RuntimeWarning: overflow encountered in exp\n",
      "  return 1 / (1 + np.exp(-z))\n",
      "/tmp/ipykernel_84218/3803969322.py:5: RuntimeWarning: overflow encountered in exp\n",
      "  return 1 / (1 + np.exp(-z))\n",
      "/tmp/ipykernel_84218/3803969322.py:5: RuntimeWarning: overflow encountered in exp\n",
      "  return 1 / (1 + np.exp(-z))\n",
      "/tmp/ipykernel_84218/3803969322.py:5: RuntimeWarning: overflow encountered in exp\n",
      "  return 1 / (1 + np.exp(-z))\n",
      "/tmp/ipykernel_84218/3803969322.py:5: RuntimeWarning: overflow encountered in exp\n",
      "  return 1 / (1 + np.exp(-z))\n",
      "/tmp/ipykernel_84218/3803969322.py:5: RuntimeWarning: overflow encountered in exp\n",
      "  return 1 / (1 + np.exp(-z))\n",
      "/tmp/ipykernel_84218/3803969322.py:5: RuntimeWarning: overflow encountered in exp\n",
      "  return 1 / (1 + np.exp(-z))\n",
      "/tmp/ipykernel_84218/3803969322.py:5: RuntimeWarning: overflow encountered in exp\n",
      "  return 1 / (1 + np.exp(-z))\n",
      "/tmp/ipykernel_84218/3803969322.py:5: RuntimeWarning: overflow encountered in exp\n",
      "  return 1 / (1 + np.exp(-z))\n",
      "/tmp/ipykernel_84218/3803969322.py:5: RuntimeWarning: overflow encountered in exp\n",
      "  return 1 / (1 + np.exp(-z))\n",
      "/tmp/ipykernel_84218/3803969322.py:5: RuntimeWarning: overflow encountered in exp\n",
      "  return 1 / (1 + np.exp(-z))\n",
      "/tmp/ipykernel_84218/3803969322.py:5: RuntimeWarning: overflow encountered in exp\n",
      "  return 1 / (1 + np.exp(-z))\n",
      "/tmp/ipykernel_84218/3803969322.py:5: RuntimeWarning: overflow encountered in exp\n",
      "  return 1 / (1 + np.exp(-z))\n",
      "/tmp/ipykernel_84218/3803969322.py:5: RuntimeWarning: overflow encountered in exp\n",
      "  return 1 / (1 + np.exp(-z))\n",
      "/tmp/ipykernel_84218/3803969322.py:5: RuntimeWarning: overflow encountered in exp\n",
      "  return 1 / (1 + np.exp(-z))\n",
      "/tmp/ipykernel_84218/3803969322.py:5: RuntimeWarning: overflow encountered in exp\n",
      "  return 1 / (1 + np.exp(-z))\n",
      "/tmp/ipykernel_84218/3803969322.py:5: RuntimeWarning: overflow encountered in exp\n",
      "  return 1 / (1 + np.exp(-z))\n",
      "/tmp/ipykernel_84218/3803969322.py:5: RuntimeWarning: overflow encountered in exp\n",
      "  return 1 / (1 + np.exp(-z))\n",
      "/tmp/ipykernel_84218/3803969322.py:5: RuntimeWarning: overflow encountered in exp\n",
      "  return 1 / (1 + np.exp(-z))\n",
      "/tmp/ipykernel_84218/3803969322.py:5: RuntimeWarning: overflow encountered in exp\n",
      "  return 1 / (1 + np.exp(-z))\n",
      "/tmp/ipykernel_84218/3803969322.py:5: RuntimeWarning: overflow encountered in exp\n",
      "  return 1 / (1 + np.exp(-z))\n",
      "/tmp/ipykernel_84218/3803969322.py:5: RuntimeWarning: overflow encountered in exp\n",
      "  return 1 / (1 + np.exp(-z))\n",
      "/tmp/ipykernel_84218/3803969322.py:5: RuntimeWarning: overflow encountered in exp\n",
      "  return 1 / (1 + np.exp(-z))\n",
      "/tmp/ipykernel_84218/3803969322.py:5: RuntimeWarning: overflow encountered in exp\n",
      "  return 1 / (1 + np.exp(-z))\n",
      "/tmp/ipykernel_84218/3803969322.py:5: RuntimeWarning: overflow encountered in exp\n",
      "  return 1 / (1 + np.exp(-z))\n",
      "/tmp/ipykernel_84218/3803969322.py:5: RuntimeWarning: overflow encountered in exp\n",
      "  return 1 / (1 + np.exp(-z))\n",
      "/tmp/ipykernel_84218/3803969322.py:5: RuntimeWarning: overflow encountered in exp\n",
      "  return 1 / (1 + np.exp(-z))\n",
      "/tmp/ipykernel_84218/3803969322.py:5: RuntimeWarning: overflow encountered in exp\n",
      "  return 1 / (1 + np.exp(-z))\n",
      "/tmp/ipykernel_84218/3803969322.py:5: RuntimeWarning: overflow encountered in exp\n",
      "  return 1 / (1 + np.exp(-z))\n",
      "/tmp/ipykernel_84218/3803969322.py:5: RuntimeWarning: overflow encountered in exp\n",
      "  return 1 / (1 + np.exp(-z))\n",
      "/tmp/ipykernel_84218/3803969322.py:5: RuntimeWarning: overflow encountered in exp\n",
      "  return 1 / (1 + np.exp(-z))\n",
      "/tmp/ipykernel_84218/3803969322.py:5: RuntimeWarning: overflow encountered in exp\n",
      "  return 1 / (1 + np.exp(-z))\n",
      "/tmp/ipykernel_84218/3803969322.py:5: RuntimeWarning: overflow encountered in exp\n",
      "  return 1 / (1 + np.exp(-z))\n",
      "/tmp/ipykernel_84218/3803969322.py:5: RuntimeWarning: overflow encountered in exp\n",
      "  return 1 / (1 + np.exp(-z))\n",
      "/tmp/ipykernel_84218/3803969322.py:5: RuntimeWarning: overflow encountered in exp\n",
      "  return 1 / (1 + np.exp(-z))\n",
      "/tmp/ipykernel_84218/3803969322.py:5: RuntimeWarning: overflow encountered in exp\n",
      "  return 1 / (1 + np.exp(-z))\n",
      "/tmp/ipykernel_84218/3803969322.py:5: RuntimeWarning: overflow encountered in exp\n",
      "  return 1 / (1 + np.exp(-z))\n",
      "/tmp/ipykernel_84218/3803969322.py:5: RuntimeWarning: overflow encountered in exp\n",
      "  return 1 / (1 + np.exp(-z))\n",
      "/tmp/ipykernel_84218/3803969322.py:5: RuntimeWarning: overflow encountered in exp\n",
      "  return 1 / (1 + np.exp(-z))\n",
      "/tmp/ipykernel_84218/3803969322.py:5: RuntimeWarning: overflow encountered in exp\n",
      "  return 1 / (1 + np.exp(-z))\n",
      "/tmp/ipykernel_84218/3803969322.py:5: RuntimeWarning: overflow encountered in exp\n",
      "  return 1 / (1 + np.exp(-z))\n",
      "/tmp/ipykernel_84218/3803969322.py:5: RuntimeWarning: overflow encountered in exp\n",
      "  return 1 / (1 + np.exp(-z))\n",
      "/tmp/ipykernel_84218/3803969322.py:5: RuntimeWarning: overflow encountered in exp\n",
      "  return 1 / (1 + np.exp(-z))\n",
      "/tmp/ipykernel_84218/3803969322.py:5: RuntimeWarning: overflow encountered in exp\n",
      "  return 1 / (1 + np.exp(-z))\n",
      "/tmp/ipykernel_84218/3803969322.py:5: RuntimeWarning: overflow encountered in exp\n",
      "  return 1 / (1 + np.exp(-z))\n",
      "/tmp/ipykernel_84218/3803969322.py:5: RuntimeWarning: overflow encountered in exp\n",
      "  return 1 / (1 + np.exp(-z))\n",
      "/tmp/ipykernel_84218/3803969322.py:5: RuntimeWarning: overflow encountered in exp\n",
      "  return 1 / (1 + np.exp(-z))\n",
      "/tmp/ipykernel_84218/3803969322.py:5: RuntimeWarning: overflow encountered in exp\n",
      "  return 1 / (1 + np.exp(-z))\n",
      "/tmp/ipykernel_84218/3803969322.py:5: RuntimeWarning: overflow encountered in exp\n",
      "  return 1 / (1 + np.exp(-z))\n",
      "/tmp/ipykernel_84218/3803969322.py:5: RuntimeWarning: overflow encountered in exp\n",
      "  return 1 / (1 + np.exp(-z))\n",
      "/tmp/ipykernel_84218/3803969322.py:5: RuntimeWarning: overflow encountered in exp\n",
      "  return 1 / (1 + np.exp(-z))\n",
      "/tmp/ipykernel_84218/3803969322.py:5: RuntimeWarning: overflow encountered in exp\n",
      "  return 1 / (1 + np.exp(-z))\n",
      "/tmp/ipykernel_84218/3803969322.py:5: RuntimeWarning: overflow encountered in exp\n",
      "  return 1 / (1 + np.exp(-z))\n",
      "/tmp/ipykernel_84218/3803969322.py:5: RuntimeWarning: overflow encountered in exp\n",
      "  return 1 / (1 + np.exp(-z))\n",
      "/tmp/ipykernel_84218/3803969322.py:5: RuntimeWarning: overflow encountered in exp\n",
      "  return 1 / (1 + np.exp(-z))\n",
      "/tmp/ipykernel_84218/3803969322.py:5: RuntimeWarning: overflow encountered in exp\n",
      "  return 1 / (1 + np.exp(-z))\n",
      "/tmp/ipykernel_84218/3803969322.py:5: RuntimeWarning: overflow encountered in exp\n",
      "  return 1 / (1 + np.exp(-z))\n",
      "/tmp/ipykernel_84218/3803969322.py:5: RuntimeWarning: overflow encountered in exp\n",
      "  return 1 / (1 + np.exp(-z))\n",
      "/tmp/ipykernel_84218/3803969322.py:5: RuntimeWarning: overflow encountered in exp\n",
      "  return 1 / (1 + np.exp(-z))\n",
      "/tmp/ipykernel_84218/3803969322.py:5: RuntimeWarning: overflow encountered in exp\n",
      "  return 1 / (1 + np.exp(-z))\n",
      "/tmp/ipykernel_84218/3803969322.py:5: RuntimeWarning: overflow encountered in exp\n",
      "  return 1 / (1 + np.exp(-z))\n",
      "/tmp/ipykernel_84218/3803969322.py:5: RuntimeWarning: overflow encountered in exp\n",
      "  return 1 / (1 + np.exp(-z))\n",
      "/tmp/ipykernel_84218/3803969322.py:5: RuntimeWarning: overflow encountered in exp\n",
      "  return 1 / (1 + np.exp(-z))\n",
      "/tmp/ipykernel_84218/3803969322.py:5: RuntimeWarning: overflow encountered in exp\n",
      "  return 1 / (1 + np.exp(-z))\n",
      "/tmp/ipykernel_84218/3803969322.py:5: RuntimeWarning: overflow encountered in exp\n",
      "  return 1 / (1 + np.exp(-z))\n",
      "/tmp/ipykernel_84218/3803969322.py:5: RuntimeWarning: overflow encountered in exp\n",
      "  return 1 / (1 + np.exp(-z))\n",
      "/tmp/ipykernel_84218/3803969322.py:5: RuntimeWarning: overflow encountered in exp\n",
      "  return 1 / (1 + np.exp(-z))\n",
      "/tmp/ipykernel_84218/3803969322.py:5: RuntimeWarning: overflow encountered in exp\n",
      "  return 1 / (1 + np.exp(-z))\n",
      "/tmp/ipykernel_84218/3803969322.py:5: RuntimeWarning: overflow encountered in exp\n",
      "  return 1 / (1 + np.exp(-z))\n",
      "/tmp/ipykernel_84218/3803969322.py:5: RuntimeWarning: overflow encountered in exp\n",
      "  return 1 / (1 + np.exp(-z))\n",
      "/tmp/ipykernel_84218/3803969322.py:5: RuntimeWarning: overflow encountered in exp\n",
      "  return 1 / (1 + np.exp(-z))\n",
      "/tmp/ipykernel_84218/3803969322.py:5: RuntimeWarning: overflow encountered in exp\n",
      "  return 1 / (1 + np.exp(-z))\n",
      "/tmp/ipykernel_84218/3803969322.py:5: RuntimeWarning: overflow encountered in exp\n",
      "  return 1 / (1 + np.exp(-z))\n",
      "/tmp/ipykernel_84218/3803969322.py:5: RuntimeWarning: overflow encountered in exp\n",
      "  return 1 / (1 + np.exp(-z))\n",
      "/tmp/ipykernel_84218/3803969322.py:5: RuntimeWarning: overflow encountered in exp\n",
      "  return 1 / (1 + np.exp(-z))\n",
      "/tmp/ipykernel_84218/3803969322.py:5: RuntimeWarning: overflow encountered in exp\n",
      "  return 1 / (1 + np.exp(-z))\n",
      "/tmp/ipykernel_84218/3803969322.py:5: RuntimeWarning: overflow encountered in exp\n",
      "  return 1 / (1 + np.exp(-z))\n",
      "/tmp/ipykernel_84218/3803969322.py:5: RuntimeWarning: overflow encountered in exp\n",
      "  return 1 / (1 + np.exp(-z))\n",
      "/tmp/ipykernel_84218/3803969322.py:5: RuntimeWarning: overflow encountered in exp\n",
      "  return 1 / (1 + np.exp(-z))\n",
      "/tmp/ipykernel_84218/3803969322.py:5: RuntimeWarning: overflow encountered in exp\n",
      "  return 1 / (1 + np.exp(-z))\n",
      "/tmp/ipykernel_84218/3803969322.py:5: RuntimeWarning: overflow encountered in exp\n",
      "  return 1 / (1 + np.exp(-z))\n",
      "/tmp/ipykernel_84218/3803969322.py:5: RuntimeWarning: overflow encountered in exp\n",
      "  return 1 / (1 + np.exp(-z))\n",
      "/tmp/ipykernel_84218/3803969322.py:5: RuntimeWarning: overflow encountered in exp\n",
      "  return 1 / (1 + np.exp(-z))\n",
      "/tmp/ipykernel_84218/3803969322.py:5: RuntimeWarning: overflow encountered in exp\n",
      "  return 1 / (1 + np.exp(-z))\n",
      "/tmp/ipykernel_84218/3803969322.py:5: RuntimeWarning: overflow encountered in exp\n",
      "  return 1 / (1 + np.exp(-z))\n",
      "/tmp/ipykernel_84218/3803969322.py:5: RuntimeWarning: overflow encountered in exp\n",
      "  return 1 / (1 + np.exp(-z))\n",
      "/tmp/ipykernel_84218/3803969322.py:5: RuntimeWarning: overflow encountered in exp\n",
      "  return 1 / (1 + np.exp(-z))\n",
      "/tmp/ipykernel_84218/3803969322.py:5: RuntimeWarning: overflow encountered in exp\n",
      "  return 1 / (1 + np.exp(-z))\n",
      "/tmp/ipykernel_84218/3803969322.py:5: RuntimeWarning: overflow encountered in exp\n",
      "  return 1 / (1 + np.exp(-z))\n",
      "/tmp/ipykernel_84218/3803969322.py:5: RuntimeWarning: overflow encountered in exp\n",
      "  return 1 / (1 + np.exp(-z))\n",
      "/tmp/ipykernel_84218/3803969322.py:5: RuntimeWarning: overflow encountered in exp\n",
      "  return 1 / (1 + np.exp(-z))\n",
      "/tmp/ipykernel_84218/3803969322.py:5: RuntimeWarning: overflow encountered in exp\n",
      "  return 1 / (1 + np.exp(-z))\n",
      "/tmp/ipykernel_84218/3803969322.py:5: RuntimeWarning: overflow encountered in exp\n",
      "  return 1 / (1 + np.exp(-z))\n",
      "/tmp/ipykernel_84218/3803969322.py:5: RuntimeWarning: overflow encountered in exp\n",
      "  return 1 / (1 + np.exp(-z))\n",
      "/tmp/ipykernel_84218/3803969322.py:5: RuntimeWarning: overflow encountered in exp\n",
      "  return 1 / (1 + np.exp(-z))\n",
      "/tmp/ipykernel_84218/3803969322.py:5: RuntimeWarning: overflow encountered in exp\n",
      "  return 1 / (1 + np.exp(-z))\n",
      "/tmp/ipykernel_84218/3803969322.py:5: RuntimeWarning: overflow encountered in exp\n",
      "  return 1 / (1 + np.exp(-z))\n",
      "/tmp/ipykernel_84218/3803969322.py:5: RuntimeWarning: overflow encountered in exp\n",
      "  return 1 / (1 + np.exp(-z))\n",
      "/tmp/ipykernel_84218/3803969322.py:5: RuntimeWarning: overflow encountered in exp\n",
      "  return 1 / (1 + np.exp(-z))\n",
      "/tmp/ipykernel_84218/3803969322.py:5: RuntimeWarning: overflow encountered in exp\n",
      "  return 1 / (1 + np.exp(-z))\n",
      "/tmp/ipykernel_84218/3803969322.py:5: RuntimeWarning: overflow encountered in exp\n",
      "  return 1 / (1 + np.exp(-z))\n",
      "/tmp/ipykernel_84218/3803969322.py:5: RuntimeWarning: overflow encountered in exp\n",
      "  return 1 / (1 + np.exp(-z))\n",
      "/tmp/ipykernel_84218/3803969322.py:5: RuntimeWarning: overflow encountered in exp\n",
      "  return 1 / (1 + np.exp(-z))\n",
      "/tmp/ipykernel_84218/3803969322.py:5: RuntimeWarning: overflow encountered in exp\n",
      "  return 1 / (1 + np.exp(-z))\n",
      "/tmp/ipykernel_84218/3803969322.py:5: RuntimeWarning: overflow encountered in exp\n",
      "  return 1 / (1 + np.exp(-z))\n",
      "/tmp/ipykernel_84218/3803969322.py:5: RuntimeWarning: overflow encountered in exp\n",
      "  return 1 / (1 + np.exp(-z))\n",
      "/tmp/ipykernel_84218/3803969322.py:5: RuntimeWarning: overflow encountered in exp\n",
      "  return 1 / (1 + np.exp(-z))\n",
      "/tmp/ipykernel_84218/3803969322.py:5: RuntimeWarning: overflow encountered in exp\n",
      "  return 1 / (1 + np.exp(-z))\n",
      "/tmp/ipykernel_84218/3803969322.py:5: RuntimeWarning: overflow encountered in exp\n",
      "  return 1 / (1 + np.exp(-z))\n",
      "/tmp/ipykernel_84218/3803969322.py:5: RuntimeWarning: overflow encountered in exp\n",
      "  return 1 / (1 + np.exp(-z))\n",
      "/tmp/ipykernel_84218/3803969322.py:5: RuntimeWarning: overflow encountered in exp\n",
      "  return 1 / (1 + np.exp(-z))\n",
      "/tmp/ipykernel_84218/3803969322.py:5: RuntimeWarning: overflow encountered in exp\n",
      "  return 1 / (1 + np.exp(-z))\n",
      "/tmp/ipykernel_84218/3803969322.py:5: RuntimeWarning: overflow encountered in exp\n",
      "  return 1 / (1 + np.exp(-z))\n",
      "/tmp/ipykernel_84218/3803969322.py:5: RuntimeWarning: overflow encountered in exp\n",
      "  return 1 / (1 + np.exp(-z))\n",
      "/tmp/ipykernel_84218/3803969322.py:5: RuntimeWarning: overflow encountered in exp\n",
      "  return 1 / (1 + np.exp(-z))\n",
      "/tmp/ipykernel_84218/3803969322.py:5: RuntimeWarning: overflow encountered in exp\n",
      "  return 1 / (1 + np.exp(-z))\n",
      "/tmp/ipykernel_84218/3803969322.py:5: RuntimeWarning: overflow encountered in exp\n",
      "  return 1 / (1 + np.exp(-z))\n",
      "/tmp/ipykernel_84218/3803969322.py:5: RuntimeWarning: overflow encountered in exp\n",
      "  return 1 / (1 + np.exp(-z))\n",
      "/tmp/ipykernel_84218/3803969322.py:5: RuntimeWarning: overflow encountered in exp\n",
      "  return 1 / (1 + np.exp(-z))\n",
      "/tmp/ipykernel_84218/3803969322.py:5: RuntimeWarning: overflow encountered in exp\n",
      "  return 1 / (1 + np.exp(-z))\n",
      "/tmp/ipykernel_84218/3803969322.py:5: RuntimeWarning: overflow encountered in exp\n",
      "  return 1 / (1 + np.exp(-z))\n",
      "/tmp/ipykernel_84218/3803969322.py:5: RuntimeWarning: overflow encountered in exp\n",
      "  return 1 / (1 + np.exp(-z))\n",
      "/tmp/ipykernel_84218/3803969322.py:5: RuntimeWarning: overflow encountered in exp\n",
      "  return 1 / (1 + np.exp(-z))\n",
      "/tmp/ipykernel_84218/3803969322.py:5: RuntimeWarning: overflow encountered in exp\n",
      "  return 1 / (1 + np.exp(-z))\n",
      "/tmp/ipykernel_84218/3803969322.py:5: RuntimeWarning: overflow encountered in exp\n",
      "  return 1 / (1 + np.exp(-z))\n",
      "/tmp/ipykernel_84218/3803969322.py:5: RuntimeWarning: overflow encountered in exp\n",
      "  return 1 / (1 + np.exp(-z))\n",
      "/tmp/ipykernel_84218/3803969322.py:5: RuntimeWarning: overflow encountered in exp\n",
      "  return 1 / (1 + np.exp(-z))\n",
      "/tmp/ipykernel_84218/3803969322.py:5: RuntimeWarning: overflow encountered in exp\n",
      "  return 1 / (1 + np.exp(-z))\n",
      "/tmp/ipykernel_84218/3803969322.py:5: RuntimeWarning: overflow encountered in exp\n",
      "  return 1 / (1 + np.exp(-z))\n",
      "/tmp/ipykernel_84218/3803969322.py:5: RuntimeWarning: overflow encountered in exp\n",
      "  return 1 / (1 + np.exp(-z))\n",
      "/tmp/ipykernel_84218/3803969322.py:5: RuntimeWarning: overflow encountered in exp\n",
      "  return 1 / (1 + np.exp(-z))\n",
      "/tmp/ipykernel_84218/3803969322.py:5: RuntimeWarning: overflow encountered in exp\n",
      "  return 1 / (1 + np.exp(-z))\n",
      "/tmp/ipykernel_84218/3803969322.py:5: RuntimeWarning: overflow encountered in exp\n",
      "  return 1 / (1 + np.exp(-z))\n",
      "/tmp/ipykernel_84218/3803969322.py:5: RuntimeWarning: overflow encountered in exp\n",
      "  return 1 / (1 + np.exp(-z))\n",
      "/tmp/ipykernel_84218/3803969322.py:5: RuntimeWarning: overflow encountered in exp\n",
      "  return 1 / (1 + np.exp(-z))\n",
      "/tmp/ipykernel_84218/3803969322.py:5: RuntimeWarning: overflow encountered in exp\n",
      "  return 1 / (1 + np.exp(-z))\n",
      "/tmp/ipykernel_84218/3803969322.py:5: RuntimeWarning: overflow encountered in exp\n",
      "  return 1 / (1 + np.exp(-z))\n",
      "/tmp/ipykernel_84218/3803969322.py:5: RuntimeWarning: overflow encountered in exp\n",
      "  return 1 / (1 + np.exp(-z))\n",
      "/tmp/ipykernel_84218/3803969322.py:5: RuntimeWarning: overflow encountered in exp\n",
      "  return 1 / (1 + np.exp(-z))\n",
      "/tmp/ipykernel_84218/3803969322.py:5: RuntimeWarning: overflow encountered in exp\n",
      "  return 1 / (1 + np.exp(-z))\n",
      "/tmp/ipykernel_84218/3803969322.py:5: RuntimeWarning: overflow encountered in exp\n",
      "  return 1 / (1 + np.exp(-z))\n",
      "/tmp/ipykernel_84218/3803969322.py:5: RuntimeWarning: overflow encountered in exp\n",
      "  return 1 / (1 + np.exp(-z))\n",
      "/tmp/ipykernel_84218/3803969322.py:5: RuntimeWarning: overflow encountered in exp\n",
      "  return 1 / (1 + np.exp(-z))\n",
      "/tmp/ipykernel_84218/3803969322.py:5: RuntimeWarning: overflow encountered in exp\n",
      "  return 1 / (1 + np.exp(-z))\n",
      "/tmp/ipykernel_84218/3803969322.py:5: RuntimeWarning: overflow encountered in exp\n",
      "  return 1 / (1 + np.exp(-z))\n",
      "/tmp/ipykernel_84218/3803969322.py:5: RuntimeWarning: overflow encountered in exp\n",
      "  return 1 / (1 + np.exp(-z))\n",
      "/tmp/ipykernel_84218/3803969322.py:5: RuntimeWarning: overflow encountered in exp\n",
      "  return 1 / (1 + np.exp(-z))\n",
      "/tmp/ipykernel_84218/3803969322.py:5: RuntimeWarning: overflow encountered in exp\n",
      "  return 1 / (1 + np.exp(-z))\n",
      "/tmp/ipykernel_84218/3803969322.py:5: RuntimeWarning: overflow encountered in exp\n",
      "  return 1 / (1 + np.exp(-z))\n",
      "/tmp/ipykernel_84218/3803969322.py:5: RuntimeWarning: overflow encountered in exp\n",
      "  return 1 / (1 + np.exp(-z))\n",
      "/tmp/ipykernel_84218/3803969322.py:5: RuntimeWarning: overflow encountered in exp\n",
      "  return 1 / (1 + np.exp(-z))\n",
      "/tmp/ipykernel_84218/3803969322.py:5: RuntimeWarning: overflow encountered in exp\n",
      "  return 1 / (1 + np.exp(-z))\n",
      "/tmp/ipykernel_84218/3803969322.py:5: RuntimeWarning: overflow encountered in exp\n",
      "  return 1 / (1 + np.exp(-z))\n",
      "/tmp/ipykernel_84218/3803969322.py:5: RuntimeWarning: overflow encountered in exp\n",
      "  return 1 / (1 + np.exp(-z))\n",
      "/tmp/ipykernel_84218/3803969322.py:5: RuntimeWarning: overflow encountered in exp\n",
      "  return 1 / (1 + np.exp(-z))\n",
      "/tmp/ipykernel_84218/3803969322.py:5: RuntimeWarning: overflow encountered in exp\n",
      "  return 1 / (1 + np.exp(-z))\n",
      "/tmp/ipykernel_84218/3803969322.py:5: RuntimeWarning: overflow encountered in exp\n",
      "  return 1 / (1 + np.exp(-z))\n",
      "/tmp/ipykernel_84218/3803969322.py:5: RuntimeWarning: overflow encountered in exp\n",
      "  return 1 / (1 + np.exp(-z))\n",
      "/tmp/ipykernel_84218/3803969322.py:5: RuntimeWarning: overflow encountered in exp\n",
      "  return 1 / (1 + np.exp(-z))\n",
      "/tmp/ipykernel_84218/3803969322.py:5: RuntimeWarning: overflow encountered in exp\n",
      "  return 1 / (1 + np.exp(-z))\n",
      "/tmp/ipykernel_84218/3803969322.py:5: RuntimeWarning: overflow encountered in exp\n",
      "  return 1 / (1 + np.exp(-z))\n",
      "/tmp/ipykernel_84218/3803969322.py:5: RuntimeWarning: overflow encountered in exp\n",
      "  return 1 / (1 + np.exp(-z))\n",
      "/tmp/ipykernel_84218/3803969322.py:5: RuntimeWarning: overflow encountered in exp\n",
      "  return 1 / (1 + np.exp(-z))\n",
      "/tmp/ipykernel_84218/3803969322.py:5: RuntimeWarning: overflow encountered in exp\n",
      "  return 1 / (1 + np.exp(-z))\n",
      "/tmp/ipykernel_84218/3803969322.py:5: RuntimeWarning: overflow encountered in exp\n",
      "  return 1 / (1 + np.exp(-z))\n",
      "/tmp/ipykernel_84218/3803969322.py:5: RuntimeWarning: overflow encountered in exp\n",
      "  return 1 / (1 + np.exp(-z))\n",
      "/tmp/ipykernel_84218/3803969322.py:5: RuntimeWarning: overflow encountered in exp\n",
      "  return 1 / (1 + np.exp(-z))\n",
      "/tmp/ipykernel_84218/3803969322.py:5: RuntimeWarning: overflow encountered in exp\n",
      "  return 1 / (1 + np.exp(-z))\n",
      "/tmp/ipykernel_84218/3803969322.py:5: RuntimeWarning: overflow encountered in exp\n",
      "  return 1 / (1 + np.exp(-z))\n",
      "/tmp/ipykernel_84218/3803969322.py:5: RuntimeWarning: overflow encountered in exp\n",
      "  return 1 / (1 + np.exp(-z))\n",
      "/tmp/ipykernel_84218/3803969322.py:5: RuntimeWarning: overflow encountered in exp\n",
      "  return 1 / (1 + np.exp(-z))\n",
      "/tmp/ipykernel_84218/3803969322.py:5: RuntimeWarning: overflow encountered in exp\n",
      "  return 1 / (1 + np.exp(-z))\n",
      "/tmp/ipykernel_84218/3803969322.py:5: RuntimeWarning: overflow encountered in exp\n",
      "  return 1 / (1 + np.exp(-z))\n",
      "/tmp/ipykernel_84218/3803969322.py:5: RuntimeWarning: overflow encountered in exp\n",
      "  return 1 / (1 + np.exp(-z))\n",
      "/tmp/ipykernel_84218/3803969322.py:5: RuntimeWarning: overflow encountered in exp\n",
      "  return 1 / (1 + np.exp(-z))\n",
      "/tmp/ipykernel_84218/3803969322.py:5: RuntimeWarning: overflow encountered in exp\n",
      "  return 1 / (1 + np.exp(-z))\n",
      "/tmp/ipykernel_84218/3803969322.py:5: RuntimeWarning: overflow encountered in exp\n",
      "  return 1 / (1 + np.exp(-z))\n",
      "/tmp/ipykernel_84218/3803969322.py:5: RuntimeWarning: overflow encountered in exp\n",
      "  return 1 / (1 + np.exp(-z))\n",
      "/tmp/ipykernel_84218/3803969322.py:5: RuntimeWarning: overflow encountered in exp\n",
      "  return 1 / (1 + np.exp(-z))\n",
      "/tmp/ipykernel_84218/3803969322.py:5: RuntimeWarning: overflow encountered in exp\n",
      "  return 1 / (1 + np.exp(-z))\n",
      "/tmp/ipykernel_84218/3803969322.py:5: RuntimeWarning: overflow encountered in exp\n",
      "  return 1 / (1 + np.exp(-z))\n",
      "/tmp/ipykernel_84218/3803969322.py:5: RuntimeWarning: overflow encountered in exp\n",
      "  return 1 / (1 + np.exp(-z))\n",
      "/tmp/ipykernel_84218/3803969322.py:5: RuntimeWarning: overflow encountered in exp\n",
      "  return 1 / (1 + np.exp(-z))\n",
      "/tmp/ipykernel_84218/3803969322.py:5: RuntimeWarning: overflow encountered in exp\n",
      "  return 1 / (1 + np.exp(-z))\n",
      "/tmp/ipykernel_84218/3803969322.py:5: RuntimeWarning: overflow encountered in exp\n",
      "  return 1 / (1 + np.exp(-z))\n",
      "/tmp/ipykernel_84218/3803969322.py:5: RuntimeWarning: overflow encountered in exp\n",
      "  return 1 / (1 + np.exp(-z))\n",
      "/tmp/ipykernel_84218/3803969322.py:5: RuntimeWarning: overflow encountered in exp\n",
      "  return 1 / (1 + np.exp(-z))\n",
      "/tmp/ipykernel_84218/3803969322.py:5: RuntimeWarning: overflow encountered in exp\n",
      "  return 1 / (1 + np.exp(-z))\n",
      "/tmp/ipykernel_84218/3803969322.py:5: RuntimeWarning: overflow encountered in exp\n",
      "  return 1 / (1 + np.exp(-z))\n",
      "/tmp/ipykernel_84218/3803969322.py:5: RuntimeWarning: overflow encountered in exp\n",
      "  return 1 / (1 + np.exp(-z))\n",
      "/tmp/ipykernel_84218/3803969322.py:5: RuntimeWarning: overflow encountered in exp\n",
      "  return 1 / (1 + np.exp(-z))\n",
      "/tmp/ipykernel_84218/3803969322.py:5: RuntimeWarning: overflow encountered in exp\n",
      "  return 1 / (1 + np.exp(-z))\n",
      "/tmp/ipykernel_84218/3803969322.py:5: RuntimeWarning: overflow encountered in exp\n",
      "  return 1 / (1 + np.exp(-z))\n",
      "/tmp/ipykernel_84218/3803969322.py:5: RuntimeWarning: overflow encountered in exp\n",
      "  return 1 / (1 + np.exp(-z))\n",
      "/tmp/ipykernel_84218/3803969322.py:5: RuntimeWarning: overflow encountered in exp\n",
      "  return 1 / (1 + np.exp(-z))\n",
      "/tmp/ipykernel_84218/3803969322.py:5: RuntimeWarning: overflow encountered in exp\n",
      "  return 1 / (1 + np.exp(-z))\n",
      "/tmp/ipykernel_84218/3803969322.py:5: RuntimeWarning: overflow encountered in exp\n",
      "  return 1 / (1 + np.exp(-z))\n",
      "/tmp/ipykernel_84218/3803969322.py:5: RuntimeWarning: overflow encountered in exp\n",
      "  return 1 / (1 + np.exp(-z))\n",
      "/tmp/ipykernel_84218/3803969322.py:5: RuntimeWarning: overflow encountered in exp\n",
      "  return 1 / (1 + np.exp(-z))\n",
      "/tmp/ipykernel_84218/3803969322.py:5: RuntimeWarning: overflow encountered in exp\n",
      "  return 1 / (1 + np.exp(-z))\n",
      "/tmp/ipykernel_84218/3803969322.py:5: RuntimeWarning: overflow encountered in exp\n",
      "  return 1 / (1 + np.exp(-z))\n",
      "/tmp/ipykernel_84218/3803969322.py:5: RuntimeWarning: overflow encountered in exp\n",
      "  return 1 / (1 + np.exp(-z))\n",
      "/tmp/ipykernel_84218/3803969322.py:5: RuntimeWarning: overflow encountered in exp\n",
      "  return 1 / (1 + np.exp(-z))\n",
      "/tmp/ipykernel_84218/3803969322.py:5: RuntimeWarning: overflow encountered in exp\n",
      "  return 1 / (1 + np.exp(-z))\n",
      "/tmp/ipykernel_84218/3803969322.py:5: RuntimeWarning: overflow encountered in exp\n",
      "  return 1 / (1 + np.exp(-z))\n",
      "/tmp/ipykernel_84218/3803969322.py:5: RuntimeWarning: overflow encountered in exp\n",
      "  return 1 / (1 + np.exp(-z))\n",
      "/tmp/ipykernel_84218/3803969322.py:5: RuntimeWarning: overflow encountered in exp\n",
      "  return 1 / (1 + np.exp(-z))\n",
      "/tmp/ipykernel_84218/3803969322.py:5: RuntimeWarning: overflow encountered in exp\n",
      "  return 1 / (1 + np.exp(-z))\n",
      "/tmp/ipykernel_84218/3803969322.py:5: RuntimeWarning: overflow encountered in exp\n",
      "  return 1 / (1 + np.exp(-z))\n",
      "/tmp/ipykernel_84218/3803969322.py:5: RuntimeWarning: overflow encountered in exp\n",
      "  return 1 / (1 + np.exp(-z))\n",
      "/tmp/ipykernel_84218/3803969322.py:5: RuntimeWarning: overflow encountered in exp\n",
      "  return 1 / (1 + np.exp(-z))\n",
      "/tmp/ipykernel_84218/3803969322.py:5: RuntimeWarning: overflow encountered in exp\n",
      "  return 1 / (1 + np.exp(-z))\n",
      "/tmp/ipykernel_84218/3803969322.py:5: RuntimeWarning: overflow encountered in exp\n",
      "  return 1 / (1 + np.exp(-z))\n",
      "/tmp/ipykernel_84218/3803969322.py:5: RuntimeWarning: overflow encountered in exp\n",
      "  return 1 / (1 + np.exp(-z))\n",
      "/tmp/ipykernel_84218/3803969322.py:5: RuntimeWarning: overflow encountered in exp\n",
      "  return 1 / (1 + np.exp(-z))\n",
      "/tmp/ipykernel_84218/3803969322.py:5: RuntimeWarning: overflow encountered in exp\n",
      "  return 1 / (1 + np.exp(-z))\n",
      "/tmp/ipykernel_84218/3803969322.py:5: RuntimeWarning: overflow encountered in exp\n",
      "  return 1 / (1 + np.exp(-z))\n",
      "/tmp/ipykernel_84218/3803969322.py:5: RuntimeWarning: overflow encountered in exp\n",
      "  return 1 / (1 + np.exp(-z))\n",
      "/tmp/ipykernel_84218/3803969322.py:5: RuntimeWarning: overflow encountered in exp\n",
      "  return 1 / (1 + np.exp(-z))\n",
      "/tmp/ipykernel_84218/3803969322.py:5: RuntimeWarning: overflow encountered in exp\n",
      "  return 1 / (1 + np.exp(-z))\n",
      "/tmp/ipykernel_84218/3803969322.py:5: RuntimeWarning: overflow encountered in exp\n",
      "  return 1 / (1 + np.exp(-z))\n",
      "/tmp/ipykernel_84218/3803969322.py:5: RuntimeWarning: overflow encountered in exp\n",
      "  return 1 / (1 + np.exp(-z))\n",
      "/tmp/ipykernel_84218/3803969322.py:5: RuntimeWarning: overflow encountered in exp\n",
      "  return 1 / (1 + np.exp(-z))\n",
      "/tmp/ipykernel_84218/3803969322.py:5: RuntimeWarning: overflow encountered in exp\n",
      "  return 1 / (1 + np.exp(-z))\n",
      "/tmp/ipykernel_84218/3803969322.py:5: RuntimeWarning: overflow encountered in exp\n",
      "  return 1 / (1 + np.exp(-z))\n",
      "/tmp/ipykernel_84218/3803969322.py:5: RuntimeWarning: overflow encountered in exp\n",
      "  return 1 / (1 + np.exp(-z))\n",
      "/tmp/ipykernel_84218/3803969322.py:5: RuntimeWarning: overflow encountered in exp\n",
      "  return 1 / (1 + np.exp(-z))\n",
      "/tmp/ipykernel_84218/3803969322.py:5: RuntimeWarning: overflow encountered in exp\n",
      "  return 1 / (1 + np.exp(-z))\n",
      "/tmp/ipykernel_84218/3803969322.py:5: RuntimeWarning: overflow encountered in exp\n",
      "  return 1 / (1 + np.exp(-z))\n",
      "/tmp/ipykernel_84218/3803969322.py:5: RuntimeWarning: overflow encountered in exp\n",
      "  return 1 / (1 + np.exp(-z))\n",
      "/tmp/ipykernel_84218/3803969322.py:5: RuntimeWarning: overflow encountered in exp\n",
      "  return 1 / (1 + np.exp(-z))\n",
      "/tmp/ipykernel_84218/3803969322.py:5: RuntimeWarning: overflow encountered in exp\n",
      "  return 1 / (1 + np.exp(-z))\n",
      "/tmp/ipykernel_84218/3803969322.py:5: RuntimeWarning: overflow encountered in exp\n",
      "  return 1 / (1 + np.exp(-z))\n",
      "/tmp/ipykernel_84218/3803969322.py:5: RuntimeWarning: overflow encountered in exp\n",
      "  return 1 / (1 + np.exp(-z))\n",
      "/tmp/ipykernel_84218/3803969322.py:5: RuntimeWarning: overflow encountered in exp\n",
      "  return 1 / (1 + np.exp(-z))\n",
      "/tmp/ipykernel_84218/3803969322.py:5: RuntimeWarning: overflow encountered in exp\n",
      "  return 1 / (1 + np.exp(-z))\n",
      "/tmp/ipykernel_84218/3803969322.py:5: RuntimeWarning: overflow encountered in exp\n",
      "  return 1 / (1 + np.exp(-z))\n",
      "/tmp/ipykernel_84218/3803969322.py:5: RuntimeWarning: overflow encountered in exp\n",
      "  return 1 / (1 + np.exp(-z))\n",
      "/tmp/ipykernel_84218/3803969322.py:5: RuntimeWarning: overflow encountered in exp\n",
      "  return 1 / (1 + np.exp(-z))\n",
      "/tmp/ipykernel_84218/3803969322.py:5: RuntimeWarning: overflow encountered in exp\n",
      "  return 1 / (1 + np.exp(-z))\n",
      "/tmp/ipykernel_84218/3803969322.py:5: RuntimeWarning: overflow encountered in exp\n",
      "  return 1 / (1 + np.exp(-z))\n",
      "/tmp/ipykernel_84218/3803969322.py:5: RuntimeWarning: overflow encountered in exp\n",
      "  return 1 / (1 + np.exp(-z))\n",
      "/tmp/ipykernel_84218/3803969322.py:5: RuntimeWarning: overflow encountered in exp\n",
      "  return 1 / (1 + np.exp(-z))\n",
      "/tmp/ipykernel_84218/3803969322.py:5: RuntimeWarning: overflow encountered in exp\n",
      "  return 1 / (1 + np.exp(-z))\n",
      "/tmp/ipykernel_84218/3803969322.py:5: RuntimeWarning: overflow encountered in exp\n",
      "  return 1 / (1 + np.exp(-z))\n",
      "/tmp/ipykernel_84218/3803969322.py:5: RuntimeWarning: overflow encountered in exp\n",
      "  return 1 / (1 + np.exp(-z))\n",
      "/tmp/ipykernel_84218/3803969322.py:5: RuntimeWarning: overflow encountered in exp\n",
      "  return 1 / (1 + np.exp(-z))\n",
      "/tmp/ipykernel_84218/3803969322.py:5: RuntimeWarning: overflow encountered in exp\n",
      "  return 1 / (1 + np.exp(-z))\n",
      "/tmp/ipykernel_84218/3803969322.py:5: RuntimeWarning: overflow encountered in exp\n",
      "  return 1 / (1 + np.exp(-z))\n",
      "/tmp/ipykernel_84218/3803969322.py:5: RuntimeWarning: overflow encountered in exp\n",
      "  return 1 / (1 + np.exp(-z))\n",
      "/tmp/ipykernel_84218/3803969322.py:5: RuntimeWarning: overflow encountered in exp\n",
      "  return 1 / (1 + np.exp(-z))\n",
      "/tmp/ipykernel_84218/3803969322.py:5: RuntimeWarning: overflow encountered in exp\n",
      "  return 1 / (1 + np.exp(-z))\n",
      "/tmp/ipykernel_84218/3803969322.py:5: RuntimeWarning: overflow encountered in exp\n",
      "  return 1 / (1 + np.exp(-z))\n",
      "/tmp/ipykernel_84218/3803969322.py:5: RuntimeWarning: overflow encountered in exp\n",
      "  return 1 / (1 + np.exp(-z))\n",
      "/tmp/ipykernel_84218/3803969322.py:5: RuntimeWarning: overflow encountered in exp\n",
      "  return 1 / (1 + np.exp(-z))\n",
      "/tmp/ipykernel_84218/3803969322.py:5: RuntimeWarning: overflow encountered in exp\n",
      "  return 1 / (1 + np.exp(-z))\n",
      "/tmp/ipykernel_84218/3803969322.py:5: RuntimeWarning: overflow encountered in exp\n",
      "  return 1 / (1 + np.exp(-z))\n",
      "/tmp/ipykernel_84218/3803969322.py:5: RuntimeWarning: overflow encountered in exp\n",
      "  return 1 / (1 + np.exp(-z))\n",
      "/tmp/ipykernel_84218/3803969322.py:5: RuntimeWarning: overflow encountered in exp\n",
      "  return 1 / (1 + np.exp(-z))\n",
      "/tmp/ipykernel_84218/3803969322.py:5: RuntimeWarning: overflow encountered in exp\n",
      "  return 1 / (1 + np.exp(-z))\n",
      "/tmp/ipykernel_84218/3803969322.py:5: RuntimeWarning: overflow encountered in exp\n",
      "  return 1 / (1 + np.exp(-z))\n",
      "/tmp/ipykernel_84218/3803969322.py:5: RuntimeWarning: overflow encountered in exp\n",
      "  return 1 / (1 + np.exp(-z))\n",
      "/tmp/ipykernel_84218/3803969322.py:5: RuntimeWarning: overflow encountered in exp\n",
      "  return 1 / (1 + np.exp(-z))\n",
      "/tmp/ipykernel_84218/3803969322.py:5: RuntimeWarning: overflow encountered in exp\n",
      "  return 1 / (1 + np.exp(-z))\n",
      "/tmp/ipykernel_84218/3803969322.py:5: RuntimeWarning: overflow encountered in exp\n",
      "  return 1 / (1 + np.exp(-z))\n",
      "/tmp/ipykernel_84218/3803969322.py:5: RuntimeWarning: overflow encountered in exp\n",
      "  return 1 / (1 + np.exp(-z))\n",
      "/tmp/ipykernel_84218/3803969322.py:5: RuntimeWarning: overflow encountered in exp\n",
      "  return 1 / (1 + np.exp(-z))\n",
      "/tmp/ipykernel_84218/3803969322.py:5: RuntimeWarning: overflow encountered in exp\n",
      "  return 1 / (1 + np.exp(-z))\n",
      "/tmp/ipykernel_84218/3803969322.py:5: RuntimeWarning: overflow encountered in exp\n",
      "  return 1 / (1 + np.exp(-z))\n",
      "/tmp/ipykernel_84218/3803969322.py:5: RuntimeWarning: overflow encountered in exp\n",
      "  return 1 / (1 + np.exp(-z))\n",
      "/tmp/ipykernel_84218/3803969322.py:5: RuntimeWarning: overflow encountered in exp\n",
      "  return 1 / (1 + np.exp(-z))\n",
      "/tmp/ipykernel_84218/3803969322.py:5: RuntimeWarning: overflow encountered in exp\n",
      "  return 1 / (1 + np.exp(-z))\n",
      "/tmp/ipykernel_84218/3803969322.py:5: RuntimeWarning: overflow encountered in exp\n",
      "  return 1 / (1 + np.exp(-z))\n",
      "/tmp/ipykernel_84218/3803969322.py:5: RuntimeWarning: overflow encountered in exp\n",
      "  return 1 / (1 + np.exp(-z))\n",
      "/tmp/ipykernel_84218/3803969322.py:5: RuntimeWarning: overflow encountered in exp\n",
      "  return 1 / (1 + np.exp(-z))\n",
      "/tmp/ipykernel_84218/3803969322.py:5: RuntimeWarning: overflow encountered in exp\n",
      "  return 1 / (1 + np.exp(-z))\n",
      "/tmp/ipykernel_84218/3803969322.py:5: RuntimeWarning: overflow encountered in exp\n",
      "  return 1 / (1 + np.exp(-z))\n",
      "/tmp/ipykernel_84218/3803969322.py:5: RuntimeWarning: overflow encountered in exp\n",
      "  return 1 / (1 + np.exp(-z))\n",
      "/tmp/ipykernel_84218/3803969322.py:5: RuntimeWarning: overflow encountered in exp\n",
      "  return 1 / (1 + np.exp(-z))\n",
      "/tmp/ipykernel_84218/3803969322.py:5: RuntimeWarning: overflow encountered in exp\n",
      "  return 1 / (1 + np.exp(-z))\n",
      "/tmp/ipykernel_84218/3803969322.py:5: RuntimeWarning: overflow encountered in exp\n",
      "  return 1 / (1 + np.exp(-z))\n",
      "/tmp/ipykernel_84218/3803969322.py:5: RuntimeWarning: overflow encountered in exp\n",
      "  return 1 / (1 + np.exp(-z))\n",
      "/tmp/ipykernel_84218/3803969322.py:5: RuntimeWarning: overflow encountered in exp\n",
      "  return 1 / (1 + np.exp(-z))\n",
      "/tmp/ipykernel_84218/3803969322.py:5: RuntimeWarning: overflow encountered in exp\n",
      "  return 1 / (1 + np.exp(-z))\n",
      "/tmp/ipykernel_84218/3803969322.py:5: RuntimeWarning: overflow encountered in exp\n",
      "  return 1 / (1 + np.exp(-z))\n",
      "/tmp/ipykernel_84218/3803969322.py:5: RuntimeWarning: overflow encountered in exp\n",
      "  return 1 / (1 + np.exp(-z))\n",
      "/tmp/ipykernel_84218/3803969322.py:5: RuntimeWarning: overflow encountered in exp\n",
      "  return 1 / (1 + np.exp(-z))\n",
      "/tmp/ipykernel_84218/3803969322.py:5: RuntimeWarning: overflow encountered in exp\n",
      "  return 1 / (1 + np.exp(-z))\n",
      "/tmp/ipykernel_84218/3803969322.py:5: RuntimeWarning: overflow encountered in exp\n",
      "  return 1 / (1 + np.exp(-z))\n",
      "/tmp/ipykernel_84218/3803969322.py:5: RuntimeWarning: overflow encountered in exp\n",
      "  return 1 / (1 + np.exp(-z))\n",
      "/tmp/ipykernel_84218/3803969322.py:5: RuntimeWarning: overflow encountered in exp\n",
      "  return 1 / (1 + np.exp(-z))\n",
      "/tmp/ipykernel_84218/3803969322.py:5: RuntimeWarning: overflow encountered in exp\n",
      "  return 1 / (1 + np.exp(-z))\n",
      "/tmp/ipykernel_84218/3803969322.py:5: RuntimeWarning: overflow encountered in exp\n",
      "  return 1 / (1 + np.exp(-z))\n",
      "/tmp/ipykernel_84218/3803969322.py:5: RuntimeWarning: overflow encountered in exp\n",
      "  return 1 / (1 + np.exp(-z))\n",
      "/tmp/ipykernel_84218/3803969322.py:5: RuntimeWarning: overflow encountered in exp\n",
      "  return 1 / (1 + np.exp(-z))\n",
      "/tmp/ipykernel_84218/3803969322.py:5: RuntimeWarning: overflow encountered in exp\n",
      "  return 1 / (1 + np.exp(-z))\n",
      "/tmp/ipykernel_84218/3803969322.py:5: RuntimeWarning: overflow encountered in exp\n",
      "  return 1 / (1 + np.exp(-z))\n",
      "/tmp/ipykernel_84218/3803969322.py:5: RuntimeWarning: overflow encountered in exp\n",
      "  return 1 / (1 + np.exp(-z))\n",
      "/tmp/ipykernel_84218/3803969322.py:5: RuntimeWarning: overflow encountered in exp\n",
      "  return 1 / (1 + np.exp(-z))\n",
      "/tmp/ipykernel_84218/3803969322.py:5: RuntimeWarning: overflow encountered in exp\n",
      "  return 1 / (1 + np.exp(-z))\n",
      "/tmp/ipykernel_84218/3803969322.py:5: RuntimeWarning: overflow encountered in exp\n",
      "  return 1 / (1 + np.exp(-z))\n",
      "/tmp/ipykernel_84218/3803969322.py:5: RuntimeWarning: overflow encountered in exp\n",
      "  return 1 / (1 + np.exp(-z))\n",
      "/tmp/ipykernel_84218/3803969322.py:5: RuntimeWarning: overflow encountered in exp\n",
      "  return 1 / (1 + np.exp(-z))\n",
      "/tmp/ipykernel_84218/3803969322.py:5: RuntimeWarning: overflow encountered in exp\n",
      "  return 1 / (1 + np.exp(-z))\n",
      "/tmp/ipykernel_84218/3803969322.py:5: RuntimeWarning: overflow encountered in exp\n",
      "  return 1 / (1 + np.exp(-z))\n",
      "/tmp/ipykernel_84218/3803969322.py:5: RuntimeWarning: overflow encountered in exp\n",
      "  return 1 / (1 + np.exp(-z))\n",
      "/tmp/ipykernel_84218/3803969322.py:5: RuntimeWarning: overflow encountered in exp\n",
      "  return 1 / (1 + np.exp(-z))\n",
      "/tmp/ipykernel_84218/3803969322.py:5: RuntimeWarning: overflow encountered in exp\n",
      "  return 1 / (1 + np.exp(-z))\n",
      "/tmp/ipykernel_84218/3803969322.py:5: RuntimeWarning: overflow encountered in exp\n",
      "  return 1 / (1 + np.exp(-z))\n",
      "/tmp/ipykernel_84218/3803969322.py:5: RuntimeWarning: overflow encountered in exp\n",
      "  return 1 / (1 + np.exp(-z))\n",
      "/tmp/ipykernel_84218/3803969322.py:5: RuntimeWarning: overflow encountered in exp\n",
      "  return 1 / (1 + np.exp(-z))\n",
      "/tmp/ipykernel_84218/3803969322.py:5: RuntimeWarning: overflow encountered in exp\n",
      "  return 1 / (1 + np.exp(-z))\n",
      "/tmp/ipykernel_84218/3803969322.py:5: RuntimeWarning: overflow encountered in exp\n",
      "  return 1 / (1 + np.exp(-z))\n",
      "/tmp/ipykernel_84218/3803969322.py:5: RuntimeWarning: overflow encountered in exp\n",
      "  return 1 / (1 + np.exp(-z))\n",
      "/tmp/ipykernel_84218/3803969322.py:5: RuntimeWarning: overflow encountered in exp\n",
      "  return 1 / (1 + np.exp(-z))\n",
      "/tmp/ipykernel_84218/3803969322.py:5: RuntimeWarning: overflow encountered in exp\n",
      "  return 1 / (1 + np.exp(-z))\n",
      "/tmp/ipykernel_84218/3803969322.py:5: RuntimeWarning: overflow encountered in exp\n",
      "  return 1 / (1 + np.exp(-z))\n",
      "/tmp/ipykernel_84218/3803969322.py:5: RuntimeWarning: overflow encountered in exp\n",
      "  return 1 / (1 + np.exp(-z))\n",
      "/tmp/ipykernel_84218/3803969322.py:5: RuntimeWarning: overflow encountered in exp\n",
      "  return 1 / (1 + np.exp(-z))\n",
      "/tmp/ipykernel_84218/3803969322.py:5: RuntimeWarning: overflow encountered in exp\n",
      "  return 1 / (1 + np.exp(-z))\n",
      "/tmp/ipykernel_84218/3803969322.py:5: RuntimeWarning: overflow encountered in exp\n",
      "  return 1 / (1 + np.exp(-z))\n",
      "/tmp/ipykernel_84218/3803969322.py:5: RuntimeWarning: overflow encountered in exp\n",
      "  return 1 / (1 + np.exp(-z))\n",
      "/tmp/ipykernel_84218/3803969322.py:5: RuntimeWarning: overflow encountered in exp\n",
      "  return 1 / (1 + np.exp(-z))\n",
      "/tmp/ipykernel_84218/3803969322.py:5: RuntimeWarning: overflow encountered in exp\n",
      "  return 1 / (1 + np.exp(-z))\n",
      "/tmp/ipykernel_84218/3803969322.py:5: RuntimeWarning: overflow encountered in exp\n",
      "  return 1 / (1 + np.exp(-z))\n",
      "/tmp/ipykernel_84218/3803969322.py:5: RuntimeWarning: overflow encountered in exp\n",
      "  return 1 / (1 + np.exp(-z))\n",
      "/tmp/ipykernel_84218/3803969322.py:5: RuntimeWarning: overflow encountered in exp\n",
      "  return 1 / (1 + np.exp(-z))\n",
      "/tmp/ipykernel_84218/3803969322.py:5: RuntimeWarning: overflow encountered in exp\n",
      "  return 1 / (1 + np.exp(-z))\n",
      "/tmp/ipykernel_84218/3803969322.py:5: RuntimeWarning: overflow encountered in exp\n",
      "  return 1 / (1 + np.exp(-z))\n",
      "/tmp/ipykernel_84218/3803969322.py:5: RuntimeWarning: overflow encountered in exp\n",
      "  return 1 / (1 + np.exp(-z))\n",
      "/tmp/ipykernel_84218/3803969322.py:5: RuntimeWarning: overflow encountered in exp\n",
      "  return 1 / (1 + np.exp(-z))\n",
      "/tmp/ipykernel_84218/3803969322.py:5: RuntimeWarning: overflow encountered in exp\n",
      "  return 1 / (1 + np.exp(-z))\n",
      "/tmp/ipykernel_84218/3803969322.py:5: RuntimeWarning: overflow encountered in exp\n",
      "  return 1 / (1 + np.exp(-z))\n",
      "/tmp/ipykernel_84218/3803969322.py:5: RuntimeWarning: overflow encountered in exp\n",
      "  return 1 / (1 + np.exp(-z))\n",
      "/tmp/ipykernel_84218/3803969322.py:5: RuntimeWarning: overflow encountered in exp\n",
      "  return 1 / (1 + np.exp(-z))\n",
      "/tmp/ipykernel_84218/3803969322.py:5: RuntimeWarning: overflow encountered in exp\n",
      "  return 1 / (1 + np.exp(-z))\n",
      "/tmp/ipykernel_84218/3803969322.py:5: RuntimeWarning: overflow encountered in exp\n",
      "  return 1 / (1 + np.exp(-z))\n",
      "/tmp/ipykernel_84218/3803969322.py:5: RuntimeWarning: overflow encountered in exp\n",
      "  return 1 / (1 + np.exp(-z))\n",
      "/tmp/ipykernel_84218/3803969322.py:5: RuntimeWarning: overflow encountered in exp\n",
      "  return 1 / (1 + np.exp(-z))\n",
      "/tmp/ipykernel_84218/3803969322.py:5: RuntimeWarning: overflow encountered in exp\n",
      "  return 1 / (1 + np.exp(-z))\n",
      "/tmp/ipykernel_84218/3803969322.py:5: RuntimeWarning: overflow encountered in exp\n",
      "  return 1 / (1 + np.exp(-z))\n",
      "/tmp/ipykernel_84218/3803969322.py:5: RuntimeWarning: overflow encountered in exp\n",
      "  return 1 / (1 + np.exp(-z))\n",
      "/tmp/ipykernel_84218/3803969322.py:5: RuntimeWarning: overflow encountered in exp\n",
      "  return 1 / (1 + np.exp(-z))\n",
      "/tmp/ipykernel_84218/3803969322.py:5: RuntimeWarning: overflow encountered in exp\n",
      "  return 1 / (1 + np.exp(-z))\n",
      "/tmp/ipykernel_84218/3803969322.py:5: RuntimeWarning: overflow encountered in exp\n",
      "  return 1 / (1 + np.exp(-z))\n",
      "/tmp/ipykernel_84218/3803969322.py:5: RuntimeWarning: overflow encountered in exp\n",
      "  return 1 / (1 + np.exp(-z))\n",
      "/tmp/ipykernel_84218/3803969322.py:5: RuntimeWarning: overflow encountered in exp\n",
      "  return 1 / (1 + np.exp(-z))\n",
      "/tmp/ipykernel_84218/3803969322.py:5: RuntimeWarning: overflow encountered in exp\n",
      "  return 1 / (1 + np.exp(-z))\n",
      "/tmp/ipykernel_84218/3803969322.py:5: RuntimeWarning: overflow encountered in exp\n",
      "  return 1 / (1 + np.exp(-z))\n",
      "/tmp/ipykernel_84218/3803969322.py:5: RuntimeWarning: overflow encountered in exp\n",
      "  return 1 / (1 + np.exp(-z))\n",
      "/tmp/ipykernel_84218/3803969322.py:5: RuntimeWarning: overflow encountered in exp\n",
      "  return 1 / (1 + np.exp(-z))\n",
      "/tmp/ipykernel_84218/3803969322.py:5: RuntimeWarning: overflow encountered in exp\n",
      "  return 1 / (1 + np.exp(-z))\n",
      "/tmp/ipykernel_84218/3803969322.py:5: RuntimeWarning: overflow encountered in exp\n",
      "  return 1 / (1 + np.exp(-z))\n",
      "/tmp/ipykernel_84218/3803969322.py:5: RuntimeWarning: overflow encountered in exp\n",
      "  return 1 / (1 + np.exp(-z))\n",
      "/tmp/ipykernel_84218/3803969322.py:5: RuntimeWarning: overflow encountered in exp\n",
      "  return 1 / (1 + np.exp(-z))\n",
      "/tmp/ipykernel_84218/3803969322.py:5: RuntimeWarning: overflow encountered in exp\n",
      "  return 1 / (1 + np.exp(-z))\n",
      "/tmp/ipykernel_84218/3803969322.py:5: RuntimeWarning: overflow encountered in exp\n",
      "  return 1 / (1 + np.exp(-z))\n",
      "/tmp/ipykernel_84218/3803969322.py:5: RuntimeWarning: overflow encountered in exp\n",
      "  return 1 / (1 + np.exp(-z))\n",
      "/tmp/ipykernel_84218/3803969322.py:5: RuntimeWarning: overflow encountered in exp\n",
      "  return 1 / (1 + np.exp(-z))\n",
      "/tmp/ipykernel_84218/3803969322.py:5: RuntimeWarning: overflow encountered in exp\n",
      "  return 1 / (1 + np.exp(-z))\n",
      "/tmp/ipykernel_84218/3803969322.py:5: RuntimeWarning: overflow encountered in exp\n",
      "  return 1 / (1 + np.exp(-z))\n",
      "/tmp/ipykernel_84218/3803969322.py:5: RuntimeWarning: overflow encountered in exp\n",
      "  return 1 / (1 + np.exp(-z))\n",
      "/tmp/ipykernel_84218/3803969322.py:5: RuntimeWarning: overflow encountered in exp\n",
      "  return 1 / (1 + np.exp(-z))\n",
      "/tmp/ipykernel_84218/3803969322.py:5: RuntimeWarning: overflow encountered in exp\n",
      "  return 1 / (1 + np.exp(-z))\n",
      "/tmp/ipykernel_84218/3803969322.py:5: RuntimeWarning: overflow encountered in exp\n",
      "  return 1 / (1 + np.exp(-z))\n",
      "/tmp/ipykernel_84218/3803969322.py:5: RuntimeWarning: overflow encountered in exp\n",
      "  return 1 / (1 + np.exp(-z))\n",
      "/tmp/ipykernel_84218/3803969322.py:5: RuntimeWarning: overflow encountered in exp\n",
      "  return 1 / (1 + np.exp(-z))\n",
      "/tmp/ipykernel_84218/3803969322.py:5: RuntimeWarning: overflow encountered in exp\n",
      "  return 1 / (1 + np.exp(-z))\n",
      "/tmp/ipykernel_84218/3803969322.py:5: RuntimeWarning: overflow encountered in exp\n",
      "  return 1 / (1 + np.exp(-z))\n",
      "/tmp/ipykernel_84218/3803969322.py:5: RuntimeWarning: overflow encountered in exp\n",
      "  return 1 / (1 + np.exp(-z))\n",
      "/tmp/ipykernel_84218/3803969322.py:5: RuntimeWarning: overflow encountered in exp\n",
      "  return 1 / (1 + np.exp(-z))\n",
      "/tmp/ipykernel_84218/3803969322.py:5: RuntimeWarning: overflow encountered in exp\n",
      "  return 1 / (1 + np.exp(-z))\n",
      "/tmp/ipykernel_84218/3803969322.py:5: RuntimeWarning: overflow encountered in exp\n",
      "  return 1 / (1 + np.exp(-z))\n",
      "/tmp/ipykernel_84218/3803969322.py:5: RuntimeWarning: overflow encountered in exp\n",
      "  return 1 / (1 + np.exp(-z))\n",
      "/tmp/ipykernel_84218/3803969322.py:5: RuntimeWarning: overflow encountered in exp\n",
      "  return 1 / (1 + np.exp(-z))\n",
      "/tmp/ipykernel_84218/3803969322.py:5: RuntimeWarning: overflow encountered in exp\n",
      "  return 1 / (1 + np.exp(-z))\n",
      "/tmp/ipykernel_84218/3803969322.py:5: RuntimeWarning: overflow encountered in exp\n",
      "  return 1 / (1 + np.exp(-z))\n",
      "/tmp/ipykernel_84218/3803969322.py:5: RuntimeWarning: overflow encountered in exp\n",
      "  return 1 / (1 + np.exp(-z))\n",
      "/tmp/ipykernel_84218/3803969322.py:5: RuntimeWarning: overflow encountered in exp\n",
      "  return 1 / (1 + np.exp(-z))\n",
      "/tmp/ipykernel_84218/3803969322.py:5: RuntimeWarning: overflow encountered in exp\n",
      "  return 1 / (1 + np.exp(-z))\n",
      "/tmp/ipykernel_84218/3803969322.py:5: RuntimeWarning: overflow encountered in exp\n",
      "  return 1 / (1 + np.exp(-z))\n",
      "/tmp/ipykernel_84218/3803969322.py:5: RuntimeWarning: overflow encountered in exp\n",
      "  return 1 / (1 + np.exp(-z))\n",
      "/tmp/ipykernel_84218/3803969322.py:5: RuntimeWarning: overflow encountered in exp\n",
      "  return 1 / (1 + np.exp(-z))\n",
      "/tmp/ipykernel_84218/3803969322.py:5: RuntimeWarning: overflow encountered in exp\n",
      "  return 1 / (1 + np.exp(-z))\n",
      "/tmp/ipykernel_84218/3803969322.py:5: RuntimeWarning: overflow encountered in exp\n",
      "  return 1 / (1 + np.exp(-z))\n",
      "/tmp/ipykernel_84218/3803969322.py:5: RuntimeWarning: overflow encountered in exp\n",
      "  return 1 / (1 + np.exp(-z))\n",
      "/tmp/ipykernel_84218/3803969322.py:5: RuntimeWarning: overflow encountered in exp\n",
      "  return 1 / (1 + np.exp(-z))\n",
      "/tmp/ipykernel_84218/3803969322.py:5: RuntimeWarning: overflow encountered in exp\n",
      "  return 1 / (1 + np.exp(-z))\n",
      "/tmp/ipykernel_84218/3803969322.py:5: RuntimeWarning: overflow encountered in exp\n",
      "  return 1 / (1 + np.exp(-z))\n",
      "/tmp/ipykernel_84218/3803969322.py:5: RuntimeWarning: overflow encountered in exp\n",
      "  return 1 / (1 + np.exp(-z))\n",
      "/tmp/ipykernel_84218/3803969322.py:5: RuntimeWarning: overflow encountered in exp\n",
      "  return 1 / (1 + np.exp(-z))\n",
      "/tmp/ipykernel_84218/3803969322.py:5: RuntimeWarning: overflow encountered in exp\n",
      "  return 1 / (1 + np.exp(-z))\n",
      "/tmp/ipykernel_84218/3803969322.py:5: RuntimeWarning: overflow encountered in exp\n",
      "  return 1 / (1 + np.exp(-z))\n",
      "/tmp/ipykernel_84218/3803969322.py:5: RuntimeWarning: overflow encountered in exp\n",
      "  return 1 / (1 + np.exp(-z))\n",
      "/tmp/ipykernel_84218/3803969322.py:5: RuntimeWarning: overflow encountered in exp\n",
      "  return 1 / (1 + np.exp(-z))\n",
      "/tmp/ipykernel_84218/3803969322.py:5: RuntimeWarning: overflow encountered in exp\n",
      "  return 1 / (1 + np.exp(-z))\n",
      "/tmp/ipykernel_84218/3803969322.py:5: RuntimeWarning: overflow encountered in exp\n",
      "  return 1 / (1 + np.exp(-z))\n",
      "/tmp/ipykernel_84218/3803969322.py:5: RuntimeWarning: overflow encountered in exp\n",
      "  return 1 / (1 + np.exp(-z))\n",
      "/tmp/ipykernel_84218/3803969322.py:5: RuntimeWarning: overflow encountered in exp\n",
      "  return 1 / (1 + np.exp(-z))\n",
      "/tmp/ipykernel_84218/3803969322.py:5: RuntimeWarning: overflow encountered in exp\n",
      "  return 1 / (1 + np.exp(-z))\n",
      "/tmp/ipykernel_84218/3803969322.py:5: RuntimeWarning: overflow encountered in exp\n",
      "  return 1 / (1 + np.exp(-z))\n",
      "/tmp/ipykernel_84218/3803969322.py:5: RuntimeWarning: overflow encountered in exp\n",
      "  return 1 / (1 + np.exp(-z))\n",
      "/tmp/ipykernel_84218/3803969322.py:5: RuntimeWarning: overflow encountered in exp\n",
      "  return 1 / (1 + np.exp(-z))\n",
      "/tmp/ipykernel_84218/3803969322.py:5: RuntimeWarning: overflow encountered in exp\n",
      "  return 1 / (1 + np.exp(-z))\n",
      "/tmp/ipykernel_84218/3803969322.py:5: RuntimeWarning: overflow encountered in exp\n",
      "  return 1 / (1 + np.exp(-z))\n",
      "/tmp/ipykernel_84218/3803969322.py:5: RuntimeWarning: overflow encountered in exp\n",
      "  return 1 / (1 + np.exp(-z))\n",
      "/tmp/ipykernel_84218/3803969322.py:5: RuntimeWarning: overflow encountered in exp\n",
      "  return 1 / (1 + np.exp(-z))\n",
      "/tmp/ipykernel_84218/3803969322.py:5: RuntimeWarning: overflow encountered in exp\n",
      "  return 1 / (1 + np.exp(-z))\n",
      "/tmp/ipykernel_84218/3803969322.py:5: RuntimeWarning: overflow encountered in exp\n",
      "  return 1 / (1 + np.exp(-z))\n",
      "/tmp/ipykernel_84218/3803969322.py:5: RuntimeWarning: overflow encountered in exp\n",
      "  return 1 / (1 + np.exp(-z))\n",
      "/tmp/ipykernel_84218/3803969322.py:5: RuntimeWarning: overflow encountered in exp\n",
      "  return 1 / (1 + np.exp(-z))\n",
      "/tmp/ipykernel_84218/3803969322.py:5: RuntimeWarning: overflow encountered in exp\n",
      "  return 1 / (1 + np.exp(-z))\n",
      "/tmp/ipykernel_84218/3803969322.py:5: RuntimeWarning: overflow encountered in exp\n",
      "  return 1 / (1 + np.exp(-z))\n",
      "/tmp/ipykernel_84218/3803969322.py:5: RuntimeWarning: overflow encountered in exp\n",
      "  return 1 / (1 + np.exp(-z))\n",
      "/tmp/ipykernel_84218/3803969322.py:5: RuntimeWarning: overflow encountered in exp\n",
      "  return 1 / (1 + np.exp(-z))\n",
      "/tmp/ipykernel_84218/3803969322.py:5: RuntimeWarning: overflow encountered in exp\n",
      "  return 1 / (1 + np.exp(-z))\n",
      "/tmp/ipykernel_84218/3803969322.py:5: RuntimeWarning: overflow encountered in exp\n",
      "  return 1 / (1 + np.exp(-z))\n",
      "/tmp/ipykernel_84218/3803969322.py:5: RuntimeWarning: overflow encountered in exp\n",
      "  return 1 / (1 + np.exp(-z))\n",
      "/tmp/ipykernel_84218/3803969322.py:5: RuntimeWarning: overflow encountered in exp\n",
      "  return 1 / (1 + np.exp(-z))\n",
      "/tmp/ipykernel_84218/3803969322.py:5: RuntimeWarning: overflow encountered in exp\n",
      "  return 1 / (1 + np.exp(-z))\n",
      "/tmp/ipykernel_84218/3803969322.py:5: RuntimeWarning: overflow encountered in exp\n",
      "  return 1 / (1 + np.exp(-z))\n",
      "/tmp/ipykernel_84218/3803969322.py:5: RuntimeWarning: overflow encountered in exp\n",
      "  return 1 / (1 + np.exp(-z))\n",
      "/tmp/ipykernel_84218/3803969322.py:5: RuntimeWarning: overflow encountered in exp\n",
      "  return 1 / (1 + np.exp(-z))\n",
      "/tmp/ipykernel_84218/3803969322.py:5: RuntimeWarning: overflow encountered in exp\n",
      "  return 1 / (1 + np.exp(-z))\n",
      "/tmp/ipykernel_84218/3803969322.py:5: RuntimeWarning: overflow encountered in exp\n",
      "  return 1 / (1 + np.exp(-z))\n",
      "/tmp/ipykernel_84218/3803969322.py:5: RuntimeWarning: overflow encountered in exp\n",
      "  return 1 / (1 + np.exp(-z))\n",
      "/tmp/ipykernel_84218/3803969322.py:5: RuntimeWarning: overflow encountered in exp\n",
      "  return 1 / (1 + np.exp(-z))\n",
      "/tmp/ipykernel_84218/3803969322.py:5: RuntimeWarning: overflow encountered in exp\n",
      "  return 1 / (1 + np.exp(-z))\n",
      "/tmp/ipykernel_84218/3803969322.py:5: RuntimeWarning: overflow encountered in exp\n",
      "  return 1 / (1 + np.exp(-z))\n",
      "/tmp/ipykernel_84218/3803969322.py:5: RuntimeWarning: overflow encountered in exp\n",
      "  return 1 / (1 + np.exp(-z))\n",
      "/tmp/ipykernel_84218/3803969322.py:5: RuntimeWarning: overflow encountered in exp\n",
      "  return 1 / (1 + np.exp(-z))\n",
      "/tmp/ipykernel_84218/3803969322.py:5: RuntimeWarning: overflow encountered in exp\n",
      "  return 1 / (1 + np.exp(-z))\n",
      "/tmp/ipykernel_84218/3803969322.py:5: RuntimeWarning: overflow encountered in exp\n",
      "  return 1 / (1 + np.exp(-z))\n",
      "/tmp/ipykernel_84218/3803969322.py:5: RuntimeWarning: overflow encountered in exp\n",
      "  return 1 / (1 + np.exp(-z))\n",
      "/tmp/ipykernel_84218/3803969322.py:5: RuntimeWarning: overflow encountered in exp\n",
      "  return 1 / (1 + np.exp(-z))\n",
      "/tmp/ipykernel_84218/3803969322.py:5: RuntimeWarning: overflow encountered in exp\n",
      "  return 1 / (1 + np.exp(-z))\n",
      "/tmp/ipykernel_84218/3803969322.py:5: RuntimeWarning: overflow encountered in exp\n",
      "  return 1 / (1 + np.exp(-z))\n",
      "/tmp/ipykernel_84218/3803969322.py:5: RuntimeWarning: overflow encountered in exp\n",
      "  return 1 / (1 + np.exp(-z))\n",
      "/tmp/ipykernel_84218/3803969322.py:5: RuntimeWarning: overflow encountered in exp\n",
      "  return 1 / (1 + np.exp(-z))\n",
      "/tmp/ipykernel_84218/3803969322.py:5: RuntimeWarning: overflow encountered in exp\n",
      "  return 1 / (1 + np.exp(-z))\n",
      "/tmp/ipykernel_84218/3803969322.py:5: RuntimeWarning: overflow encountered in exp\n",
      "  return 1 / (1 + np.exp(-z))\n",
      "/tmp/ipykernel_84218/3803969322.py:5: RuntimeWarning: overflow encountered in exp\n",
      "  return 1 / (1 + np.exp(-z))\n",
      "/tmp/ipykernel_84218/3803969322.py:5: RuntimeWarning: overflow encountered in exp\n",
      "  return 1 / (1 + np.exp(-z))\n",
      "/tmp/ipykernel_84218/3803969322.py:5: RuntimeWarning: overflow encountered in exp\n",
      "  return 1 / (1 + np.exp(-z))\n",
      "/tmp/ipykernel_84218/3803969322.py:5: RuntimeWarning: overflow encountered in exp\n",
      "  return 1 / (1 + np.exp(-z))\n",
      "/tmp/ipykernel_84218/3803969322.py:5: RuntimeWarning: overflow encountered in exp\n",
      "  return 1 / (1 + np.exp(-z))\n",
      "/tmp/ipykernel_84218/3803969322.py:5: RuntimeWarning: overflow encountered in exp\n",
      "  return 1 / (1 + np.exp(-z))\n",
      "/tmp/ipykernel_84218/3803969322.py:5: RuntimeWarning: overflow encountered in exp\n",
      "  return 1 / (1 + np.exp(-z))\n",
      "/tmp/ipykernel_84218/3803969322.py:5: RuntimeWarning: overflow encountered in exp\n",
      "  return 1 / (1 + np.exp(-z))\n",
      "/tmp/ipykernel_84218/3803969322.py:5: RuntimeWarning: overflow encountered in exp\n",
      "  return 1 / (1 + np.exp(-z))\n",
      "/tmp/ipykernel_84218/3803969322.py:5: RuntimeWarning: overflow encountered in exp\n",
      "  return 1 / (1 + np.exp(-z))\n",
      "/tmp/ipykernel_84218/3803969322.py:5: RuntimeWarning: overflow encountered in exp\n",
      "  return 1 / (1 + np.exp(-z))\n",
      "/tmp/ipykernel_84218/3803969322.py:5: RuntimeWarning: overflow encountered in exp\n",
      "  return 1 / (1 + np.exp(-z))\n",
      "/tmp/ipykernel_84218/3803969322.py:5: RuntimeWarning: overflow encountered in exp\n",
      "  return 1 / (1 + np.exp(-z))\n",
      "/tmp/ipykernel_84218/3803969322.py:5: RuntimeWarning: overflow encountered in exp\n",
      "  return 1 / (1 + np.exp(-z))\n",
      "/tmp/ipykernel_84218/3803969322.py:5: RuntimeWarning: overflow encountered in exp\n",
      "  return 1 / (1 + np.exp(-z))\n",
      "/tmp/ipykernel_84218/3803969322.py:5: RuntimeWarning: overflow encountered in exp\n",
      "  return 1 / (1 + np.exp(-z))\n",
      "/tmp/ipykernel_84218/3803969322.py:5: RuntimeWarning: overflow encountered in exp\n",
      "  return 1 / (1 + np.exp(-z))\n",
      "/tmp/ipykernel_84218/3803969322.py:5: RuntimeWarning: overflow encountered in exp\n",
      "  return 1 / (1 + np.exp(-z))\n",
      "/tmp/ipykernel_84218/3803969322.py:5: RuntimeWarning: overflow encountered in exp\n",
      "  return 1 / (1 + np.exp(-z))\n",
      "/tmp/ipykernel_84218/3803969322.py:5: RuntimeWarning: overflow encountered in exp\n",
      "  return 1 / (1 + np.exp(-z))\n",
      "/tmp/ipykernel_84218/3803969322.py:5: RuntimeWarning: overflow encountered in exp\n",
      "  return 1 / (1 + np.exp(-z))\n",
      "/tmp/ipykernel_84218/3803969322.py:5: RuntimeWarning: overflow encountered in exp\n",
      "  return 1 / (1 + np.exp(-z))\n",
      "/tmp/ipykernel_84218/3803969322.py:5: RuntimeWarning: overflow encountered in exp\n",
      "  return 1 / (1 + np.exp(-z))\n",
      "/tmp/ipykernel_84218/3803969322.py:5: RuntimeWarning: overflow encountered in exp\n",
      "  return 1 / (1 + np.exp(-z))\n",
      "/tmp/ipykernel_84218/3803969322.py:5: RuntimeWarning: overflow encountered in exp\n",
      "  return 1 / (1 + np.exp(-z))\n",
      "/tmp/ipykernel_84218/3803969322.py:5: RuntimeWarning: overflow encountered in exp\n",
      "  return 1 / (1 + np.exp(-z))\n",
      "/tmp/ipykernel_84218/3803969322.py:5: RuntimeWarning: overflow encountered in exp\n",
      "  return 1 / (1 + np.exp(-z))\n",
      "/tmp/ipykernel_84218/3803969322.py:5: RuntimeWarning: overflow encountered in exp\n",
      "  return 1 / (1 + np.exp(-z))\n",
      "/tmp/ipykernel_84218/3803969322.py:5: RuntimeWarning: overflow encountered in exp\n",
      "  return 1 / (1 + np.exp(-z))\n",
      "/tmp/ipykernel_84218/3803969322.py:5: RuntimeWarning: overflow encountered in exp\n",
      "  return 1 / (1 + np.exp(-z))\n",
      "/tmp/ipykernel_84218/3803969322.py:5: RuntimeWarning: overflow encountered in exp\n",
      "  return 1 / (1 + np.exp(-z))\n",
      "/tmp/ipykernel_84218/3803969322.py:5: RuntimeWarning: overflow encountered in exp\n",
      "  return 1 / (1 + np.exp(-z))\n",
      "/tmp/ipykernel_84218/3803969322.py:5: RuntimeWarning: overflow encountered in exp\n",
      "  return 1 / (1 + np.exp(-z))\n",
      "/tmp/ipykernel_84218/3803969322.py:5: RuntimeWarning: overflow encountered in exp\n",
      "  return 1 / (1 + np.exp(-z))\n",
      "/tmp/ipykernel_84218/3803969322.py:5: RuntimeWarning: overflow encountered in exp\n",
      "  return 1 / (1 + np.exp(-z))\n",
      "/tmp/ipykernel_84218/3803969322.py:5: RuntimeWarning: overflow encountered in exp\n",
      "  return 1 / (1 + np.exp(-z))\n",
      "/tmp/ipykernel_84218/3803969322.py:5: RuntimeWarning: overflow encountered in exp\n",
      "  return 1 / (1 + np.exp(-z))\n",
      "/tmp/ipykernel_84218/3803969322.py:5: RuntimeWarning: overflow encountered in exp\n",
      "  return 1 / (1 + np.exp(-z))\n",
      "/tmp/ipykernel_84218/3803969322.py:5: RuntimeWarning: overflow encountered in exp\n",
      "  return 1 / (1 + np.exp(-z))\n",
      "/tmp/ipykernel_84218/3803969322.py:5: RuntimeWarning: overflow encountered in exp\n",
      "  return 1 / (1 + np.exp(-z))\n",
      "/tmp/ipykernel_84218/3803969322.py:5: RuntimeWarning: overflow encountered in exp\n",
      "  return 1 / (1 + np.exp(-z))\n",
      "/tmp/ipykernel_84218/3803969322.py:5: RuntimeWarning: overflow encountered in exp\n",
      "  return 1 / (1 + np.exp(-z))\n",
      "/tmp/ipykernel_84218/3803969322.py:5: RuntimeWarning: overflow encountered in exp\n",
      "  return 1 / (1 + np.exp(-z))\n",
      "/tmp/ipykernel_84218/3803969322.py:5: RuntimeWarning: overflow encountered in exp\n",
      "  return 1 / (1 + np.exp(-z))\n",
      "/tmp/ipykernel_84218/3803969322.py:5: RuntimeWarning: overflow encountered in exp\n",
      "  return 1 / (1 + np.exp(-z))\n",
      "/tmp/ipykernel_84218/3803969322.py:5: RuntimeWarning: overflow encountered in exp\n",
      "  return 1 / (1 + np.exp(-z))\n",
      "/tmp/ipykernel_84218/3803969322.py:5: RuntimeWarning: overflow encountered in exp\n",
      "  return 1 / (1 + np.exp(-z))\n",
      "/tmp/ipykernel_84218/3803969322.py:5: RuntimeWarning: overflow encountered in exp\n",
      "  return 1 / (1 + np.exp(-z))\n",
      "/tmp/ipykernel_84218/3803969322.py:5: RuntimeWarning: overflow encountered in exp\n",
      "  return 1 / (1 + np.exp(-z))\n",
      "/tmp/ipykernel_84218/3803969322.py:5: RuntimeWarning: overflow encountered in exp\n",
      "  return 1 / (1 + np.exp(-z))\n",
      "/tmp/ipykernel_84218/3803969322.py:5: RuntimeWarning: overflow encountered in exp\n",
      "  return 1 / (1 + np.exp(-z))\n",
      "/tmp/ipykernel_84218/3803969322.py:5: RuntimeWarning: overflow encountered in exp\n",
      "  return 1 / (1 + np.exp(-z))\n",
      "/tmp/ipykernel_84218/3803969322.py:5: RuntimeWarning: overflow encountered in exp\n",
      "  return 1 / (1 + np.exp(-z))\n",
      "/tmp/ipykernel_84218/3803969322.py:5: RuntimeWarning: overflow encountered in exp\n",
      "  return 1 / (1 + np.exp(-z))\n",
      "/tmp/ipykernel_84218/3803969322.py:5: RuntimeWarning: overflow encountered in exp\n",
      "  return 1 / (1 + np.exp(-z))\n",
      "/tmp/ipykernel_84218/3803969322.py:5: RuntimeWarning: overflow encountered in exp\n",
      "  return 1 / (1 + np.exp(-z))\n",
      "/tmp/ipykernel_84218/3803969322.py:5: RuntimeWarning: overflow encountered in exp\n",
      "  return 1 / (1 + np.exp(-z))\n",
      "/tmp/ipykernel_84218/3803969322.py:5: RuntimeWarning: overflow encountered in exp\n",
      "  return 1 / (1 + np.exp(-z))\n",
      "/tmp/ipykernel_84218/3803969322.py:5: RuntimeWarning: overflow encountered in exp\n",
      "  return 1 / (1 + np.exp(-z))\n",
      "/tmp/ipykernel_84218/3803969322.py:5: RuntimeWarning: overflow encountered in exp\n",
      "  return 1 / (1 + np.exp(-z))\n",
      "/tmp/ipykernel_84218/3803969322.py:5: RuntimeWarning: overflow encountered in exp\n",
      "  return 1 / (1 + np.exp(-z))\n",
      "/tmp/ipykernel_84218/3803969322.py:5: RuntimeWarning: overflow encountered in exp\n",
      "  return 1 / (1 + np.exp(-z))\n",
      "/tmp/ipykernel_84218/3803969322.py:5: RuntimeWarning: overflow encountered in exp\n",
      "  return 1 / (1 + np.exp(-z))\n",
      "/tmp/ipykernel_84218/3803969322.py:5: RuntimeWarning: overflow encountered in exp\n",
      "  return 1 / (1 + np.exp(-z))\n",
      "/tmp/ipykernel_84218/3803969322.py:5: RuntimeWarning: overflow encountered in exp\n",
      "  return 1 / (1 + np.exp(-z))\n",
      "/tmp/ipykernel_84218/3803969322.py:5: RuntimeWarning: overflow encountered in exp\n",
      "  return 1 / (1 + np.exp(-z))\n",
      "/tmp/ipykernel_84218/3803969322.py:5: RuntimeWarning: overflow encountered in exp\n",
      "  return 1 / (1 + np.exp(-z))\n",
      "/tmp/ipykernel_84218/3803969322.py:5: RuntimeWarning: overflow encountered in exp\n",
      "  return 1 / (1 + np.exp(-z))\n",
      "/tmp/ipykernel_84218/3803969322.py:5: RuntimeWarning: overflow encountered in exp\n",
      "  return 1 / (1 + np.exp(-z))\n",
      "/tmp/ipykernel_84218/3803969322.py:5: RuntimeWarning: overflow encountered in exp\n",
      "  return 1 / (1 + np.exp(-z))\n",
      "/tmp/ipykernel_84218/3803969322.py:5: RuntimeWarning: overflow encountered in exp\n",
      "  return 1 / (1 + np.exp(-z))\n",
      "/tmp/ipykernel_84218/3803969322.py:5: RuntimeWarning: overflow encountered in exp\n",
      "  return 1 / (1 + np.exp(-z))\n",
      "/tmp/ipykernel_84218/3803969322.py:5: RuntimeWarning: overflow encountered in exp\n",
      "  return 1 / (1 + np.exp(-z))\n",
      "/tmp/ipykernel_84218/3803969322.py:5: RuntimeWarning: overflow encountered in exp\n",
      "  return 1 / (1 + np.exp(-z))\n",
      "/tmp/ipykernel_84218/3803969322.py:5: RuntimeWarning: overflow encountered in exp\n",
      "  return 1 / (1 + np.exp(-z))\n",
      "/tmp/ipykernel_84218/3803969322.py:5: RuntimeWarning: overflow encountered in exp\n",
      "  return 1 / (1 + np.exp(-z))\n",
      "/tmp/ipykernel_84218/3803969322.py:5: RuntimeWarning: overflow encountered in exp\n",
      "  return 1 / (1 + np.exp(-z))\n",
      "/tmp/ipykernel_84218/3803969322.py:5: RuntimeWarning: overflow encountered in exp\n",
      "  return 1 / (1 + np.exp(-z))\n",
      "/tmp/ipykernel_84218/3803969322.py:5: RuntimeWarning: overflow encountered in exp\n",
      "  return 1 / (1 + np.exp(-z))\n",
      "/tmp/ipykernel_84218/3803969322.py:5: RuntimeWarning: overflow encountered in exp\n",
      "  return 1 / (1 + np.exp(-z))\n",
      "/tmp/ipykernel_84218/3803969322.py:5: RuntimeWarning: overflow encountered in exp\n",
      "  return 1 / (1 + np.exp(-z))\n",
      "/tmp/ipykernel_84218/3803969322.py:5: RuntimeWarning: overflow encountered in exp\n",
      "  return 1 / (1 + np.exp(-z))\n",
      "/tmp/ipykernel_84218/3803969322.py:5: RuntimeWarning: overflow encountered in exp\n",
      "  return 1 / (1 + np.exp(-z))\n",
      "/tmp/ipykernel_84218/3803969322.py:5: RuntimeWarning: overflow encountered in exp\n",
      "  return 1 / (1 + np.exp(-z))\n",
      "/tmp/ipykernel_84218/3803969322.py:5: RuntimeWarning: overflow encountered in exp\n",
      "  return 1 / (1 + np.exp(-z))\n",
      "/tmp/ipykernel_84218/3803969322.py:5: RuntimeWarning: overflow encountered in exp\n",
      "  return 1 / (1 + np.exp(-z))\n",
      "/tmp/ipykernel_84218/3803969322.py:5: RuntimeWarning: overflow encountered in exp\n",
      "  return 1 / (1 + np.exp(-z))\n",
      "/tmp/ipykernel_84218/3803969322.py:5: RuntimeWarning: overflow encountered in exp\n",
      "  return 1 / (1 + np.exp(-z))\n",
      "/tmp/ipykernel_84218/3803969322.py:5: RuntimeWarning: overflow encountered in exp\n",
      "  return 1 / (1 + np.exp(-z))\n",
      "/tmp/ipykernel_84218/3803969322.py:5: RuntimeWarning: overflow encountered in exp\n",
      "  return 1 / (1 + np.exp(-z))\n",
      "/tmp/ipykernel_84218/3803969322.py:5: RuntimeWarning: overflow encountered in exp\n",
      "  return 1 / (1 + np.exp(-z))\n",
      "/tmp/ipykernel_84218/3803969322.py:5: RuntimeWarning: overflow encountered in exp\n",
      "  return 1 / (1 + np.exp(-z))\n",
      "/tmp/ipykernel_84218/3803969322.py:5: RuntimeWarning: overflow encountered in exp\n",
      "  return 1 / (1 + np.exp(-z))\n",
      "/tmp/ipykernel_84218/3803969322.py:5: RuntimeWarning: overflow encountered in exp\n",
      "  return 1 / (1 + np.exp(-z))\n",
      "/tmp/ipykernel_84218/3803969322.py:5: RuntimeWarning: overflow encountered in exp\n",
      "  return 1 / (1 + np.exp(-z))\n",
      "/tmp/ipykernel_84218/3803969322.py:5: RuntimeWarning: overflow encountered in exp\n",
      "  return 1 / (1 + np.exp(-z))\n",
      "/tmp/ipykernel_84218/3803969322.py:5: RuntimeWarning: overflow encountered in exp\n",
      "  return 1 / (1 + np.exp(-z))\n",
      "/tmp/ipykernel_84218/3803969322.py:5: RuntimeWarning: overflow encountered in exp\n",
      "  return 1 / (1 + np.exp(-z))\n",
      "/tmp/ipykernel_84218/3803969322.py:5: RuntimeWarning: overflow encountered in exp\n",
      "  return 1 / (1 + np.exp(-z))\n",
      "/tmp/ipykernel_84218/3803969322.py:5: RuntimeWarning: overflow encountered in exp\n",
      "  return 1 / (1 + np.exp(-z))\n",
      "/tmp/ipykernel_84218/3803969322.py:5: RuntimeWarning: overflow encountered in exp\n",
      "  return 1 / (1 + np.exp(-z))\n",
      "/tmp/ipykernel_84218/3803969322.py:5: RuntimeWarning: overflow encountered in exp\n",
      "  return 1 / (1 + np.exp(-z))\n",
      "/tmp/ipykernel_84218/3803969322.py:5: RuntimeWarning: overflow encountered in exp\n",
      "  return 1 / (1 + np.exp(-z))\n",
      "/tmp/ipykernel_84218/3803969322.py:5: RuntimeWarning: overflow encountered in exp\n",
      "  return 1 / (1 + np.exp(-z))\n",
      "/tmp/ipykernel_84218/3803969322.py:5: RuntimeWarning: overflow encountered in exp\n",
      "  return 1 / (1 + np.exp(-z))\n",
      "/tmp/ipykernel_84218/3803969322.py:5: RuntimeWarning: overflow encountered in exp\n",
      "  return 1 / (1 + np.exp(-z))\n",
      "/tmp/ipykernel_84218/3803969322.py:5: RuntimeWarning: overflow encountered in exp\n",
      "  return 1 / (1 + np.exp(-z))\n",
      "/tmp/ipykernel_84218/3803969322.py:5: RuntimeWarning: overflow encountered in exp\n",
      "  return 1 / (1 + np.exp(-z))\n",
      "/tmp/ipykernel_84218/3803969322.py:5: RuntimeWarning: overflow encountered in exp\n",
      "  return 1 / (1 + np.exp(-z))\n",
      "/tmp/ipykernel_84218/3803969322.py:5: RuntimeWarning: overflow encountered in exp\n",
      "  return 1 / (1 + np.exp(-z))\n",
      "/tmp/ipykernel_84218/3803969322.py:5: RuntimeWarning: overflow encountered in exp\n",
      "  return 1 / (1 + np.exp(-z))\n",
      "/tmp/ipykernel_84218/3803969322.py:5: RuntimeWarning: overflow encountered in exp\n",
      "  return 1 / (1 + np.exp(-z))\n",
      "/tmp/ipykernel_84218/3803969322.py:5: RuntimeWarning: overflow encountered in exp\n",
      "  return 1 / (1 + np.exp(-z))\n",
      "/tmp/ipykernel_84218/3803969322.py:5: RuntimeWarning: overflow encountered in exp\n",
      "  return 1 / (1 + np.exp(-z))\n",
      "/tmp/ipykernel_84218/3803969322.py:5: RuntimeWarning: overflow encountered in exp\n",
      "  return 1 / (1 + np.exp(-z))\n",
      "/tmp/ipykernel_84218/3803969322.py:5: RuntimeWarning: overflow encountered in exp\n",
      "  return 1 / (1 + np.exp(-z))\n",
      "/tmp/ipykernel_84218/3803969322.py:5: RuntimeWarning: overflow encountered in exp\n",
      "  return 1 / (1 + np.exp(-z))\n",
      "/tmp/ipykernel_84218/3803969322.py:5: RuntimeWarning: overflow encountered in exp\n",
      "  return 1 / (1 + np.exp(-z))\n",
      "/tmp/ipykernel_84218/3803969322.py:5: RuntimeWarning: overflow encountered in exp\n",
      "  return 1 / (1 + np.exp(-z))\n",
      "/tmp/ipykernel_84218/3803969322.py:5: RuntimeWarning: overflow encountered in exp\n",
      "  return 1 / (1 + np.exp(-z))\n",
      "/tmp/ipykernel_84218/3803969322.py:5: RuntimeWarning: overflow encountered in exp\n",
      "  return 1 / (1 + np.exp(-z))\n",
      "/tmp/ipykernel_84218/3803969322.py:5: RuntimeWarning: overflow encountered in exp\n",
      "  return 1 / (1 + np.exp(-z))\n",
      "/tmp/ipykernel_84218/3803969322.py:5: RuntimeWarning: overflow encountered in exp\n",
      "  return 1 / (1 + np.exp(-z))\n",
      "/tmp/ipykernel_84218/3803969322.py:5: RuntimeWarning: overflow encountered in exp\n",
      "  return 1 / (1 + np.exp(-z))\n",
      "/tmp/ipykernel_84218/3803969322.py:5: RuntimeWarning: overflow encountered in exp\n",
      "  return 1 / (1 + np.exp(-z))\n",
      "/tmp/ipykernel_84218/3803969322.py:5: RuntimeWarning: overflow encountered in exp\n",
      "  return 1 / (1 + np.exp(-z))\n",
      "/tmp/ipykernel_84218/3803969322.py:5: RuntimeWarning: overflow encountered in exp\n",
      "  return 1 / (1 + np.exp(-z))\n",
      "/tmp/ipykernel_84218/3803969322.py:5: RuntimeWarning: overflow encountered in exp\n",
      "  return 1 / (1 + np.exp(-z))\n",
      "/tmp/ipykernel_84218/3803969322.py:5: RuntimeWarning: overflow encountered in exp\n",
      "  return 1 / (1 + np.exp(-z))\n",
      "/tmp/ipykernel_84218/3803969322.py:5: RuntimeWarning: overflow encountered in exp\n",
      "  return 1 / (1 + np.exp(-z))\n",
      "/tmp/ipykernel_84218/3803969322.py:5: RuntimeWarning: overflow encountered in exp\n",
      "  return 1 / (1 + np.exp(-z))\n",
      "/tmp/ipykernel_84218/3803969322.py:5: RuntimeWarning: overflow encountered in exp\n",
      "  return 1 / (1 + np.exp(-z))\n",
      "/tmp/ipykernel_84218/3803969322.py:5: RuntimeWarning: overflow encountered in exp\n",
      "  return 1 / (1 + np.exp(-z))\n",
      "/tmp/ipykernel_84218/3803969322.py:5: RuntimeWarning: overflow encountered in exp\n",
      "  return 1 / (1 + np.exp(-z))\n",
      "/tmp/ipykernel_84218/3803969322.py:5: RuntimeWarning: overflow encountered in exp\n",
      "  return 1 / (1 + np.exp(-z))\n",
      "/tmp/ipykernel_84218/3803969322.py:5: RuntimeWarning: overflow encountered in exp\n",
      "  return 1 / (1 + np.exp(-z))\n",
      "/tmp/ipykernel_84218/3803969322.py:5: RuntimeWarning: overflow encountered in exp\n",
      "  return 1 / (1 + np.exp(-z))\n",
      "/tmp/ipykernel_84218/3803969322.py:5: RuntimeWarning: overflow encountered in exp\n",
      "  return 1 / (1 + np.exp(-z))\n",
      "/tmp/ipykernel_84218/3803969322.py:5: RuntimeWarning: overflow encountered in exp\n",
      "  return 1 / (1 + np.exp(-z))\n",
      "/tmp/ipykernel_84218/3803969322.py:5: RuntimeWarning: overflow encountered in exp\n",
      "  return 1 / (1 + np.exp(-z))\n",
      "/tmp/ipykernel_84218/3803969322.py:5: RuntimeWarning: overflow encountered in exp\n",
      "  return 1 / (1 + np.exp(-z))\n",
      "/tmp/ipykernel_84218/3803969322.py:5: RuntimeWarning: overflow encountered in exp\n",
      "  return 1 / (1 + np.exp(-z))\n",
      "/tmp/ipykernel_84218/3803969322.py:5: RuntimeWarning: overflow encountered in exp\n",
      "  return 1 / (1 + np.exp(-z))\n",
      "/tmp/ipykernel_84218/3803969322.py:5: RuntimeWarning: overflow encountered in exp\n",
      "  return 1 / (1 + np.exp(-z))\n",
      "/tmp/ipykernel_84218/3803969322.py:5: RuntimeWarning: overflow encountered in exp\n",
      "  return 1 / (1 + np.exp(-z))\n",
      "/tmp/ipykernel_84218/3803969322.py:5: RuntimeWarning: overflow encountered in exp\n",
      "  return 1 / (1 + np.exp(-z))\n",
      "/tmp/ipykernel_84218/3803969322.py:5: RuntimeWarning: overflow encountered in exp\n",
      "  return 1 / (1 + np.exp(-z))\n",
      "/tmp/ipykernel_84218/3803969322.py:5: RuntimeWarning: overflow encountered in exp\n",
      "  return 1 / (1 + np.exp(-z))\n",
      "/tmp/ipykernel_84218/3803969322.py:5: RuntimeWarning: overflow encountered in exp\n",
      "  return 1 / (1 + np.exp(-z))\n",
      "/tmp/ipykernel_84218/3803969322.py:5: RuntimeWarning: overflow encountered in exp\n",
      "  return 1 / (1 + np.exp(-z))\n",
      "/tmp/ipykernel_84218/3803969322.py:5: RuntimeWarning: overflow encountered in exp\n",
      "  return 1 / (1 + np.exp(-z))\n",
      "/tmp/ipykernel_84218/3803969322.py:5: RuntimeWarning: overflow encountered in exp\n",
      "  return 1 / (1 + np.exp(-z))\n",
      "/tmp/ipykernel_84218/3803969322.py:5: RuntimeWarning: overflow encountered in exp\n",
      "  return 1 / (1 + np.exp(-z))\n",
      "/tmp/ipykernel_84218/3803969322.py:5: RuntimeWarning: overflow encountered in exp\n",
      "  return 1 / (1 + np.exp(-z))\n",
      "/tmp/ipykernel_84218/3803969322.py:5: RuntimeWarning: overflow encountered in exp\n",
      "  return 1 / (1 + np.exp(-z))\n",
      "/tmp/ipykernel_84218/3803969322.py:5: RuntimeWarning: overflow encountered in exp\n",
      "  return 1 / (1 + np.exp(-z))\n",
      "/tmp/ipykernel_84218/3803969322.py:5: RuntimeWarning: overflow encountered in exp\n",
      "  return 1 / (1 + np.exp(-z))\n",
      "/tmp/ipykernel_84218/3803969322.py:5: RuntimeWarning: overflow encountered in exp\n",
      "  return 1 / (1 + np.exp(-z))\n",
      "/tmp/ipykernel_84218/3803969322.py:5: RuntimeWarning: overflow encountered in exp\n",
      "  return 1 / (1 + np.exp(-z))\n",
      "/tmp/ipykernel_84218/3803969322.py:5: RuntimeWarning: overflow encountered in exp\n",
      "  return 1 / (1 + np.exp(-z))\n",
      "/tmp/ipykernel_84218/3803969322.py:5: RuntimeWarning: overflow encountered in exp\n",
      "  return 1 / (1 + np.exp(-z))\n",
      "/tmp/ipykernel_84218/3803969322.py:5: RuntimeWarning: overflow encountered in exp\n",
      "  return 1 / (1 + np.exp(-z))\n",
      "/tmp/ipykernel_84218/3803969322.py:5: RuntimeWarning: overflow encountered in exp\n",
      "  return 1 / (1 + np.exp(-z))\n",
      "/tmp/ipykernel_84218/3803969322.py:5: RuntimeWarning: overflow encountered in exp\n",
      "  return 1 / (1 + np.exp(-z))\n",
      "/tmp/ipykernel_84218/3803969322.py:5: RuntimeWarning: overflow encountered in exp\n",
      "  return 1 / (1 + np.exp(-z))\n",
      "/tmp/ipykernel_84218/3803969322.py:5: RuntimeWarning: overflow encountered in exp\n",
      "  return 1 / (1 + np.exp(-z))\n",
      "/tmp/ipykernel_84218/3803969322.py:5: RuntimeWarning: overflow encountered in exp\n",
      "  return 1 / (1 + np.exp(-z))\n",
      "/tmp/ipykernel_84218/3803969322.py:5: RuntimeWarning: overflow encountered in exp\n",
      "  return 1 / (1 + np.exp(-z))\n",
      "/tmp/ipykernel_84218/3803969322.py:5: RuntimeWarning: overflow encountered in exp\n",
      "  return 1 / (1 + np.exp(-z))\n",
      "/tmp/ipykernel_84218/3803969322.py:5: RuntimeWarning: overflow encountered in exp\n",
      "  return 1 / (1 + np.exp(-z))\n",
      "/tmp/ipykernel_84218/3803969322.py:5: RuntimeWarning: overflow encountered in exp\n",
      "  return 1 / (1 + np.exp(-z))\n",
      "/tmp/ipykernel_84218/3803969322.py:5: RuntimeWarning: overflow encountered in exp\n",
      "  return 1 / (1 + np.exp(-z))\n",
      "/tmp/ipykernel_84218/3803969322.py:5: RuntimeWarning: overflow encountered in exp\n",
      "  return 1 / (1 + np.exp(-z))\n",
      "/tmp/ipykernel_84218/3803969322.py:5: RuntimeWarning: overflow encountered in exp\n",
      "  return 1 / (1 + np.exp(-z))\n",
      "/tmp/ipykernel_84218/3803969322.py:5: RuntimeWarning: overflow encountered in exp\n",
      "  return 1 / (1 + np.exp(-z))\n",
      "/tmp/ipykernel_84218/3803969322.py:5: RuntimeWarning: overflow encountered in exp\n",
      "  return 1 / (1 + np.exp(-z))\n",
      "/tmp/ipykernel_84218/3803969322.py:5: RuntimeWarning: overflow encountered in exp\n",
      "  return 1 / (1 + np.exp(-z))\n",
      "/tmp/ipykernel_84218/3803969322.py:5: RuntimeWarning: overflow encountered in exp\n",
      "  return 1 / (1 + np.exp(-z))\n",
      "/tmp/ipykernel_84218/3803969322.py:5: RuntimeWarning: overflow encountered in exp\n",
      "  return 1 / (1 + np.exp(-z))\n",
      "/tmp/ipykernel_84218/3803969322.py:5: RuntimeWarning: overflow encountered in exp\n",
      "  return 1 / (1 + np.exp(-z))\n",
      "/tmp/ipykernel_84218/3803969322.py:5: RuntimeWarning: overflow encountered in exp\n",
      "  return 1 / (1 + np.exp(-z))\n",
      "/tmp/ipykernel_84218/3803969322.py:5: RuntimeWarning: overflow encountered in exp\n",
      "  return 1 / (1 + np.exp(-z))\n",
      "/tmp/ipykernel_84218/3803969322.py:5: RuntimeWarning: overflow encountered in exp\n",
      "  return 1 / (1 + np.exp(-z))\n",
      "/tmp/ipykernel_84218/3803969322.py:5: RuntimeWarning: overflow encountered in exp\n",
      "  return 1 / (1 + np.exp(-z))\n",
      "/tmp/ipykernel_84218/3803969322.py:5: RuntimeWarning: overflow encountered in exp\n",
      "  return 1 / (1 + np.exp(-z))\n",
      "/tmp/ipykernel_84218/3803969322.py:5: RuntimeWarning: overflow encountered in exp\n",
      "  return 1 / (1 + np.exp(-z))\n",
      "/tmp/ipykernel_84218/3803969322.py:5: RuntimeWarning: overflow encountered in exp\n",
      "  return 1 / (1 + np.exp(-z))\n",
      "/tmp/ipykernel_84218/3803969322.py:5: RuntimeWarning: overflow encountered in exp\n",
      "  return 1 / (1 + np.exp(-z))\n",
      "/tmp/ipykernel_84218/3803969322.py:5: RuntimeWarning: overflow encountered in exp\n",
      "  return 1 / (1 + np.exp(-z))\n",
      "/tmp/ipykernel_84218/3803969322.py:5: RuntimeWarning: overflow encountered in exp\n",
      "  return 1 / (1 + np.exp(-z))\n",
      "/tmp/ipykernel_84218/3803969322.py:5: RuntimeWarning: overflow encountered in exp\n",
      "  return 1 / (1 + np.exp(-z))\n",
      "/tmp/ipykernel_84218/3803969322.py:5: RuntimeWarning: overflow encountered in exp\n",
      "  return 1 / (1 + np.exp(-z))\n",
      "/tmp/ipykernel_84218/3803969322.py:5: RuntimeWarning: overflow encountered in exp\n",
      "  return 1 / (1 + np.exp(-z))\n",
      "/tmp/ipykernel_84218/3803969322.py:5: RuntimeWarning: overflow encountered in exp\n",
      "  return 1 / (1 + np.exp(-z))\n",
      "/tmp/ipykernel_84218/3803969322.py:5: RuntimeWarning: overflow encountered in exp\n",
      "  return 1 / (1 + np.exp(-z))\n",
      "/tmp/ipykernel_84218/3803969322.py:5: RuntimeWarning: overflow encountered in exp\n",
      "  return 1 / (1 + np.exp(-z))\n",
      "/tmp/ipykernel_84218/3803969322.py:5: RuntimeWarning: overflow encountered in exp\n",
      "  return 1 / (1 + np.exp(-z))\n",
      "/tmp/ipykernel_84218/3803969322.py:5: RuntimeWarning: overflow encountered in exp\n",
      "  return 1 / (1 + np.exp(-z))\n",
      "/tmp/ipykernel_84218/3803969322.py:5: RuntimeWarning: overflow encountered in exp\n",
      "  return 1 / (1 + np.exp(-z))\n",
      "/tmp/ipykernel_84218/3803969322.py:5: RuntimeWarning: overflow encountered in exp\n",
      "  return 1 / (1 + np.exp(-z))\n",
      "/tmp/ipykernel_84218/3803969322.py:5: RuntimeWarning: overflow encountered in exp\n",
      "  return 1 / (1 + np.exp(-z))\n",
      "/tmp/ipykernel_84218/3803969322.py:5: RuntimeWarning: overflow encountered in exp\n",
      "  return 1 / (1 + np.exp(-z))\n",
      "/tmp/ipykernel_84218/3803969322.py:5: RuntimeWarning: overflow encountered in exp\n",
      "  return 1 / (1 + np.exp(-z))\n",
      "/tmp/ipykernel_84218/3803969322.py:5: RuntimeWarning: overflow encountered in exp\n",
      "  return 1 / (1 + np.exp(-z))\n",
      "/tmp/ipykernel_84218/3803969322.py:5: RuntimeWarning: overflow encountered in exp\n",
      "  return 1 / (1 + np.exp(-z))\n",
      "/tmp/ipykernel_84218/3803969322.py:5: RuntimeWarning: overflow encountered in exp\n",
      "  return 1 / (1 + np.exp(-z))\n",
      "/tmp/ipykernel_84218/3803969322.py:5: RuntimeWarning: overflow encountered in exp\n",
      "  return 1 / (1 + np.exp(-z))\n",
      "/tmp/ipykernel_84218/3803969322.py:5: RuntimeWarning: overflow encountered in exp\n",
      "  return 1 / (1 + np.exp(-z))\n",
      "/tmp/ipykernel_84218/3803969322.py:5: RuntimeWarning: overflow encountered in exp\n",
      "  return 1 / (1 + np.exp(-z))\n",
      "/tmp/ipykernel_84218/3803969322.py:5: RuntimeWarning: overflow encountered in exp\n",
      "  return 1 / (1 + np.exp(-z))\n",
      "/tmp/ipykernel_84218/3803969322.py:5: RuntimeWarning: overflow encountered in exp\n",
      "  return 1 / (1 + np.exp(-z))\n",
      "/tmp/ipykernel_84218/3803969322.py:5: RuntimeWarning: overflow encountered in exp\n",
      "  return 1 / (1 + np.exp(-z))\n",
      "/tmp/ipykernel_84218/3803969322.py:5: RuntimeWarning: overflow encountered in exp\n",
      "  return 1 / (1 + np.exp(-z))\n",
      "/tmp/ipykernel_84218/3803969322.py:5: RuntimeWarning: overflow encountered in exp\n",
      "  return 1 / (1 + np.exp(-z))\n",
      "/tmp/ipykernel_84218/3803969322.py:5: RuntimeWarning: overflow encountered in exp\n",
      "  return 1 / (1 + np.exp(-z))\n",
      "/tmp/ipykernel_84218/3803969322.py:5: RuntimeWarning: overflow encountered in exp\n",
      "  return 1 / (1 + np.exp(-z))\n",
      "/tmp/ipykernel_84218/3803969322.py:5: RuntimeWarning: overflow encountered in exp\n",
      "  return 1 / (1 + np.exp(-z))\n",
      "/tmp/ipykernel_84218/3803969322.py:5: RuntimeWarning: overflow encountered in exp\n",
      "  return 1 / (1 + np.exp(-z))\n",
      "/tmp/ipykernel_84218/3803969322.py:5: RuntimeWarning: overflow encountered in exp\n",
      "  return 1 / (1 + np.exp(-z))\n",
      "/tmp/ipykernel_84218/3803969322.py:5: RuntimeWarning: overflow encountered in exp\n",
      "  return 1 / (1 + np.exp(-z))\n",
      "/tmp/ipykernel_84218/3803969322.py:5: RuntimeWarning: overflow encountered in exp\n",
      "  return 1 / (1 + np.exp(-z))\n",
      "/tmp/ipykernel_84218/3803969322.py:5: RuntimeWarning: overflow encountered in exp\n",
      "  return 1 / (1 + np.exp(-z))\n",
      "/tmp/ipykernel_84218/3803969322.py:5: RuntimeWarning: overflow encountered in exp\n",
      "  return 1 / (1 + np.exp(-z))\n",
      "/tmp/ipykernel_84218/3803969322.py:5: RuntimeWarning: overflow encountered in exp\n",
      "  return 1 / (1 + np.exp(-z))\n",
      "/tmp/ipykernel_84218/3803969322.py:5: RuntimeWarning: overflow encountered in exp\n",
      "  return 1 / (1 + np.exp(-z))\n",
      "/tmp/ipykernel_84218/3803969322.py:5: RuntimeWarning: overflow encountered in exp\n",
      "  return 1 / (1 + np.exp(-z))\n",
      "/tmp/ipykernel_84218/3803969322.py:5: RuntimeWarning: overflow encountered in exp\n",
      "  return 1 / (1 + np.exp(-z))\n",
      "/tmp/ipykernel_84218/3803969322.py:5: RuntimeWarning: overflow encountered in exp\n",
      "  return 1 / (1 + np.exp(-z))\n",
      "/tmp/ipykernel_84218/3803969322.py:5: RuntimeWarning: overflow encountered in exp\n",
      "  return 1 / (1 + np.exp(-z))\n",
      "/tmp/ipykernel_84218/3803969322.py:5: RuntimeWarning: overflow encountered in exp\n",
      "  return 1 / (1 + np.exp(-z))\n",
      "/tmp/ipykernel_84218/3803969322.py:5: RuntimeWarning: overflow encountered in exp\n",
      "  return 1 / (1 + np.exp(-z))\n",
      "/tmp/ipykernel_84218/3803969322.py:5: RuntimeWarning: overflow encountered in exp\n",
      "  return 1 / (1 + np.exp(-z))\n",
      "/tmp/ipykernel_84218/3803969322.py:5: RuntimeWarning: overflow encountered in exp\n",
      "  return 1 / (1 + np.exp(-z))\n",
      "/tmp/ipykernel_84218/3803969322.py:5: RuntimeWarning: overflow encountered in exp\n",
      "  return 1 / (1 + np.exp(-z))\n",
      "/tmp/ipykernel_84218/3803969322.py:5: RuntimeWarning: overflow encountered in exp\n",
      "  return 1 / (1 + np.exp(-z))\n",
      "/tmp/ipykernel_84218/3803969322.py:5: RuntimeWarning: overflow encountered in exp\n",
      "  return 1 / (1 + np.exp(-z))\n",
      "/tmp/ipykernel_84218/3803969322.py:5: RuntimeWarning: overflow encountered in exp\n",
      "  return 1 / (1 + np.exp(-z))\n",
      "/tmp/ipykernel_84218/3803969322.py:5: RuntimeWarning: overflow encountered in exp\n",
      "  return 1 / (1 + np.exp(-z))\n",
      "/tmp/ipykernel_84218/3803969322.py:5: RuntimeWarning: overflow encountered in exp\n",
      "  return 1 / (1 + np.exp(-z))\n",
      "/tmp/ipykernel_84218/3803969322.py:5: RuntimeWarning: overflow encountered in exp\n",
      "  return 1 / (1 + np.exp(-z))\n",
      "/tmp/ipykernel_84218/3803969322.py:5: RuntimeWarning: overflow encountered in exp\n",
      "  return 1 / (1 + np.exp(-z))\n",
      "/tmp/ipykernel_84218/3803969322.py:5: RuntimeWarning: overflow encountered in exp\n",
      "  return 1 / (1 + np.exp(-z))\n",
      "/tmp/ipykernel_84218/3803969322.py:5: RuntimeWarning: overflow encountered in exp\n",
      "  return 1 / (1 + np.exp(-z))\n",
      "/tmp/ipykernel_84218/3803969322.py:5: RuntimeWarning: overflow encountered in exp\n",
      "  return 1 / (1 + np.exp(-z))\n",
      "/tmp/ipykernel_84218/3803969322.py:5: RuntimeWarning: overflow encountered in exp\n",
      "  return 1 / (1 + np.exp(-z))\n",
      "/tmp/ipykernel_84218/3803969322.py:5: RuntimeWarning: overflow encountered in exp\n",
      "  return 1 / (1 + np.exp(-z))\n",
      "/tmp/ipykernel_84218/3803969322.py:5: RuntimeWarning: overflow encountered in exp\n",
      "  return 1 / (1 + np.exp(-z))\n",
      "/tmp/ipykernel_84218/3803969322.py:5: RuntimeWarning: overflow encountered in exp\n",
      "  return 1 / (1 + np.exp(-z))\n",
      "/tmp/ipykernel_84218/3803969322.py:5: RuntimeWarning: overflow encountered in exp\n",
      "  return 1 / (1 + np.exp(-z))\n",
      "/tmp/ipykernel_84218/3803969322.py:5: RuntimeWarning: overflow encountered in exp\n",
      "  return 1 / (1 + np.exp(-z))\n",
      "/tmp/ipykernel_84218/3803969322.py:5: RuntimeWarning: overflow encountered in exp\n",
      "  return 1 / (1 + np.exp(-z))\n",
      "/tmp/ipykernel_84218/3803969322.py:5: RuntimeWarning: overflow encountered in exp\n",
      "  return 1 / (1 + np.exp(-z))\n",
      "/tmp/ipykernel_84218/3803969322.py:5: RuntimeWarning: overflow encountered in exp\n",
      "  return 1 / (1 + np.exp(-z))\n",
      "/tmp/ipykernel_84218/3803969322.py:5: RuntimeWarning: overflow encountered in exp\n",
      "  return 1 / (1 + np.exp(-z))\n",
      "/tmp/ipykernel_84218/3803969322.py:5: RuntimeWarning: overflow encountered in exp\n",
      "  return 1 / (1 + np.exp(-z))\n",
      "/tmp/ipykernel_84218/3803969322.py:5: RuntimeWarning: overflow encountered in exp\n",
      "  return 1 / (1 + np.exp(-z))\n",
      "/tmp/ipykernel_84218/3803969322.py:5: RuntimeWarning: overflow encountered in exp\n",
      "  return 1 / (1 + np.exp(-z))\n",
      "/tmp/ipykernel_84218/3803969322.py:5: RuntimeWarning: overflow encountered in exp\n",
      "  return 1 / (1 + np.exp(-z))\n",
      "/tmp/ipykernel_84218/3803969322.py:5: RuntimeWarning: overflow encountered in exp\n",
      "  return 1 / (1 + np.exp(-z))\n",
      "/tmp/ipykernel_84218/3803969322.py:5: RuntimeWarning: overflow encountered in exp\n",
      "  return 1 / (1 + np.exp(-z))\n",
      "/tmp/ipykernel_84218/3803969322.py:5: RuntimeWarning: overflow encountered in exp\n",
      "  return 1 / (1 + np.exp(-z))\n",
      "/tmp/ipykernel_84218/3803969322.py:5: RuntimeWarning: overflow encountered in exp\n",
      "  return 1 / (1 + np.exp(-z))\n",
      "/tmp/ipykernel_84218/3803969322.py:5: RuntimeWarning: overflow encountered in exp\n",
      "  return 1 / (1 + np.exp(-z))\n",
      "/tmp/ipykernel_84218/3803969322.py:5: RuntimeWarning: overflow encountered in exp\n",
      "  return 1 / (1 + np.exp(-z))\n",
      "/tmp/ipykernel_84218/3803969322.py:5: RuntimeWarning: overflow encountered in exp\n",
      "  return 1 / (1 + np.exp(-z))\n",
      "/tmp/ipykernel_84218/3803969322.py:5: RuntimeWarning: overflow encountered in exp\n",
      "  return 1 / (1 + np.exp(-z))\n",
      "/tmp/ipykernel_84218/3803969322.py:5: RuntimeWarning: overflow encountered in exp\n",
      "  return 1 / (1 + np.exp(-z))\n",
      "/tmp/ipykernel_84218/3803969322.py:5: RuntimeWarning: overflow encountered in exp\n",
      "  return 1 / (1 + np.exp(-z))\n",
      "/tmp/ipykernel_84218/3803969322.py:5: RuntimeWarning: overflow encountered in exp\n",
      "  return 1 / (1 + np.exp(-z))\n",
      "/tmp/ipykernel_84218/3803969322.py:5: RuntimeWarning: overflow encountered in exp\n",
      "  return 1 / (1 + np.exp(-z))\n",
      "/tmp/ipykernel_84218/3803969322.py:5: RuntimeWarning: overflow encountered in exp\n",
      "  return 1 / (1 + np.exp(-z))\n",
      "/tmp/ipykernel_84218/3803969322.py:5: RuntimeWarning: overflow encountered in exp\n",
      "  return 1 / (1 + np.exp(-z))\n",
      "/tmp/ipykernel_84218/3803969322.py:5: RuntimeWarning: overflow encountered in exp\n",
      "  return 1 / (1 + np.exp(-z))\n",
      "/tmp/ipykernel_84218/3803969322.py:5: RuntimeWarning: overflow encountered in exp\n",
      "  return 1 / (1 + np.exp(-z))\n",
      "/tmp/ipykernel_84218/3803969322.py:5: RuntimeWarning: overflow encountered in exp\n",
      "  return 1 / (1 + np.exp(-z))\n",
      "/tmp/ipykernel_84218/3803969322.py:5: RuntimeWarning: overflow encountered in exp\n",
      "  return 1 / (1 + np.exp(-z))\n",
      "/tmp/ipykernel_84218/3803969322.py:5: RuntimeWarning: overflow encountered in exp\n",
      "  return 1 / (1 + np.exp(-z))\n",
      "/tmp/ipykernel_84218/3803969322.py:5: RuntimeWarning: overflow encountered in exp\n",
      "  return 1 / (1 + np.exp(-z))\n",
      "/tmp/ipykernel_84218/3803969322.py:5: RuntimeWarning: overflow encountered in exp\n",
      "  return 1 / (1 + np.exp(-z))\n",
      "/tmp/ipykernel_84218/3803969322.py:5: RuntimeWarning: overflow encountered in exp\n",
      "  return 1 / (1 + np.exp(-z))\n",
      "/tmp/ipykernel_84218/3803969322.py:5: RuntimeWarning: overflow encountered in exp\n",
      "  return 1 / (1 + np.exp(-z))\n",
      "/tmp/ipykernel_84218/3803969322.py:5: RuntimeWarning: overflow encountered in exp\n",
      "  return 1 / (1 + np.exp(-z))\n",
      "/tmp/ipykernel_84218/3803969322.py:5: RuntimeWarning: overflow encountered in exp\n",
      "  return 1 / (1 + np.exp(-z))\n",
      "/tmp/ipykernel_84218/3803969322.py:5: RuntimeWarning: overflow encountered in exp\n",
      "  return 1 / (1 + np.exp(-z))\n",
      "/tmp/ipykernel_84218/3803969322.py:5: RuntimeWarning: overflow encountered in exp\n",
      "  return 1 / (1 + np.exp(-z))\n",
      "/tmp/ipykernel_84218/3803969322.py:5: RuntimeWarning: overflow encountered in exp\n",
      "  return 1 / (1 + np.exp(-z))\n",
      "/tmp/ipykernel_84218/3803969322.py:5: RuntimeWarning: overflow encountered in exp\n",
      "  return 1 / (1 + np.exp(-z))\n",
      "/tmp/ipykernel_84218/3803969322.py:5: RuntimeWarning: overflow encountered in exp\n",
      "  return 1 / (1 + np.exp(-z))\n",
      "/tmp/ipykernel_84218/3803969322.py:5: RuntimeWarning: overflow encountered in exp\n",
      "  return 1 / (1 + np.exp(-z))\n",
      "/tmp/ipykernel_84218/3803969322.py:5: RuntimeWarning: overflow encountered in exp\n",
      "  return 1 / (1 + np.exp(-z))\n",
      "/tmp/ipykernel_84218/3803969322.py:5: RuntimeWarning: overflow encountered in exp\n",
      "  return 1 / (1 + np.exp(-z))\n",
      "/tmp/ipykernel_84218/3803969322.py:5: RuntimeWarning: overflow encountered in exp\n",
      "  return 1 / (1 + np.exp(-z))\n",
      "/tmp/ipykernel_84218/3803969322.py:5: RuntimeWarning: overflow encountered in exp\n",
      "  return 1 / (1 + np.exp(-z))\n",
      "/tmp/ipykernel_84218/3803969322.py:5: RuntimeWarning: overflow encountered in exp\n",
      "  return 1 / (1 + np.exp(-z))\n",
      "/tmp/ipykernel_84218/3803969322.py:5: RuntimeWarning: overflow encountered in exp\n",
      "  return 1 / (1 + np.exp(-z))\n",
      "/tmp/ipykernel_84218/3803969322.py:5: RuntimeWarning: overflow encountered in exp\n",
      "  return 1 / (1 + np.exp(-z))\n",
      "/tmp/ipykernel_84218/3803969322.py:5: RuntimeWarning: overflow encountered in exp\n",
      "  return 1 / (1 + np.exp(-z))\n",
      "/tmp/ipykernel_84218/3803969322.py:5: RuntimeWarning: overflow encountered in exp\n",
      "  return 1 / (1 + np.exp(-z))\n",
      "/tmp/ipykernel_84218/3803969322.py:5: RuntimeWarning: overflow encountered in exp\n",
      "  return 1 / (1 + np.exp(-z))\n",
      "/tmp/ipykernel_84218/3803969322.py:5: RuntimeWarning: overflow encountered in exp\n",
      "  return 1 / (1 + np.exp(-z))\n",
      "/tmp/ipykernel_84218/3803969322.py:5: RuntimeWarning: overflow encountered in exp\n",
      "  return 1 / (1 + np.exp(-z))\n",
      "/tmp/ipykernel_84218/3803969322.py:5: RuntimeWarning: overflow encountered in exp\n",
      "  return 1 / (1 + np.exp(-z))\n",
      "/tmp/ipykernel_84218/3803969322.py:5: RuntimeWarning: overflow encountered in exp\n",
      "  return 1 / (1 + np.exp(-z))\n",
      "/tmp/ipykernel_84218/3803969322.py:5: RuntimeWarning: overflow encountered in exp\n",
      "  return 1 / (1 + np.exp(-z))\n",
      "/tmp/ipykernel_84218/3803969322.py:5: RuntimeWarning: overflow encountered in exp\n",
      "  return 1 / (1 + np.exp(-z))\n",
      "/tmp/ipykernel_84218/3803969322.py:5: RuntimeWarning: overflow encountered in exp\n",
      "  return 1 / (1 + np.exp(-z))\n",
      "/tmp/ipykernel_84218/3803969322.py:5: RuntimeWarning: overflow encountered in exp\n",
      "  return 1 / (1 + np.exp(-z))\n",
      "/tmp/ipykernel_84218/3803969322.py:5: RuntimeWarning: overflow encountered in exp\n",
      "  return 1 / (1 + np.exp(-z))\n",
      "/tmp/ipykernel_84218/3803969322.py:5: RuntimeWarning: overflow encountered in exp\n",
      "  return 1 / (1 + np.exp(-z))\n",
      "/tmp/ipykernel_84218/3803969322.py:5: RuntimeWarning: overflow encountered in exp\n",
      "  return 1 / (1 + np.exp(-z))\n",
      "/tmp/ipykernel_84218/3803969322.py:5: RuntimeWarning: overflow encountered in exp\n",
      "  return 1 / (1 + np.exp(-z))\n",
      "/tmp/ipykernel_84218/3803969322.py:5: RuntimeWarning: overflow encountered in exp\n",
      "  return 1 / (1 + np.exp(-z))\n",
      "/tmp/ipykernel_84218/3803969322.py:5: RuntimeWarning: overflow encountered in exp\n",
      "  return 1 / (1 + np.exp(-z))\n",
      "/tmp/ipykernel_84218/3803969322.py:5: RuntimeWarning: overflow encountered in exp\n",
      "  return 1 / (1 + np.exp(-z))\n",
      "/tmp/ipykernel_84218/3803969322.py:5: RuntimeWarning: overflow encountered in exp\n",
      "  return 1 / (1 + np.exp(-z))\n",
      "/tmp/ipykernel_84218/3803969322.py:5: RuntimeWarning: overflow encountered in exp\n",
      "  return 1 / (1 + np.exp(-z))\n",
      "/tmp/ipykernel_84218/3803969322.py:5: RuntimeWarning: overflow encountered in exp\n",
      "  return 1 / (1 + np.exp(-z))\n",
      "/tmp/ipykernel_84218/3803969322.py:5: RuntimeWarning: overflow encountered in exp\n",
      "  return 1 / (1 + np.exp(-z))\n",
      "/tmp/ipykernel_84218/3803969322.py:5: RuntimeWarning: overflow encountered in exp\n",
      "  return 1 / (1 + np.exp(-z))\n",
      "/tmp/ipykernel_84218/3803969322.py:5: RuntimeWarning: overflow encountered in exp\n",
      "  return 1 / (1 + np.exp(-z))\n",
      "/tmp/ipykernel_84218/3803969322.py:5: RuntimeWarning: overflow encountered in exp\n",
      "  return 1 / (1 + np.exp(-z))\n",
      "/tmp/ipykernel_84218/3803969322.py:5: RuntimeWarning: overflow encountered in exp\n",
      "  return 1 / (1 + np.exp(-z))\n",
      "/tmp/ipykernel_84218/3803969322.py:5: RuntimeWarning: overflow encountered in exp\n",
      "  return 1 / (1 + np.exp(-z))\n",
      "/tmp/ipykernel_84218/3803969322.py:5: RuntimeWarning: overflow encountered in exp\n",
      "  return 1 / (1 + np.exp(-z))\n",
      "/tmp/ipykernel_84218/3803969322.py:5: RuntimeWarning: overflow encountered in exp\n",
      "  return 1 / (1 + np.exp(-z))\n",
      "/tmp/ipykernel_84218/3803969322.py:5: RuntimeWarning: overflow encountered in exp\n",
      "  return 1 / (1 + np.exp(-z))\n",
      "/tmp/ipykernel_84218/3803969322.py:5: RuntimeWarning: overflow encountered in exp\n",
      "  return 1 / (1 + np.exp(-z))\n",
      "/tmp/ipykernel_84218/3803969322.py:5: RuntimeWarning: overflow encountered in exp\n",
      "  return 1 / (1 + np.exp(-z))\n",
      "/tmp/ipykernel_84218/3803969322.py:5: RuntimeWarning: overflow encountered in exp\n",
      "  return 1 / (1 + np.exp(-z))\n",
      "/tmp/ipykernel_84218/3803969322.py:5: RuntimeWarning: overflow encountered in exp\n",
      "  return 1 / (1 + np.exp(-z))\n",
      "/tmp/ipykernel_84218/3803969322.py:5: RuntimeWarning: overflow encountered in exp\n",
      "  return 1 / (1 + np.exp(-z))\n",
      "/tmp/ipykernel_84218/3803969322.py:5: RuntimeWarning: overflow encountered in exp\n",
      "  return 1 / (1 + np.exp(-z))\n",
      "/tmp/ipykernel_84218/3803969322.py:5: RuntimeWarning: overflow encountered in exp\n",
      "  return 1 / (1 + np.exp(-z))\n",
      "/tmp/ipykernel_84218/3803969322.py:5: RuntimeWarning: overflow encountered in exp\n",
      "  return 1 / (1 + np.exp(-z))\n",
      "/tmp/ipykernel_84218/3803969322.py:5: RuntimeWarning: overflow encountered in exp\n",
      "  return 1 / (1 + np.exp(-z))\n",
      "/tmp/ipykernel_84218/3803969322.py:5: RuntimeWarning: overflow encountered in exp\n",
      "  return 1 / (1 + np.exp(-z))\n",
      "/tmp/ipykernel_84218/3803969322.py:5: RuntimeWarning: overflow encountered in exp\n",
      "  return 1 / (1 + np.exp(-z))\n",
      "/tmp/ipykernel_84218/3803969322.py:5: RuntimeWarning: overflow encountered in exp\n",
      "  return 1 / (1 + np.exp(-z))\n",
      "/tmp/ipykernel_84218/3803969322.py:5: RuntimeWarning: overflow encountered in exp\n",
      "  return 1 / (1 + np.exp(-z))\n",
      "/tmp/ipykernel_84218/3803969322.py:5: RuntimeWarning: overflow encountered in exp\n",
      "  return 1 / (1 + np.exp(-z))\n",
      "/tmp/ipykernel_84218/3803969322.py:5: RuntimeWarning: overflow encountered in exp\n",
      "  return 1 / (1 + np.exp(-z))\n",
      "/tmp/ipykernel_84218/3803969322.py:5: RuntimeWarning: overflow encountered in exp\n",
      "  return 1 / (1 + np.exp(-z))\n",
      "/tmp/ipykernel_84218/3803969322.py:5: RuntimeWarning: overflow encountered in exp\n",
      "  return 1 / (1 + np.exp(-z))\n",
      "/tmp/ipykernel_84218/3803969322.py:5: RuntimeWarning: overflow encountered in exp\n",
      "  return 1 / (1 + np.exp(-z))\n",
      "/tmp/ipykernel_84218/3803969322.py:5: RuntimeWarning: overflow encountered in exp\n",
      "  return 1 / (1 + np.exp(-z))\n",
      "/tmp/ipykernel_84218/3803969322.py:5: RuntimeWarning: overflow encountered in exp\n",
      "  return 1 / (1 + np.exp(-z))\n",
      "/tmp/ipykernel_84218/3803969322.py:5: RuntimeWarning: overflow encountered in exp\n",
      "  return 1 / (1 + np.exp(-z))\n",
      "/tmp/ipykernel_84218/3803969322.py:5: RuntimeWarning: overflow encountered in exp\n",
      "  return 1 / (1 + np.exp(-z))\n",
      "/tmp/ipykernel_84218/3803969322.py:5: RuntimeWarning: overflow encountered in exp\n",
      "  return 1 / (1 + np.exp(-z))\n",
      "/tmp/ipykernel_84218/3803969322.py:5: RuntimeWarning: overflow encountered in exp\n",
      "  return 1 / (1 + np.exp(-z))\n",
      "/tmp/ipykernel_84218/3803969322.py:5: RuntimeWarning: overflow encountered in exp\n",
      "  return 1 / (1 + np.exp(-z))\n",
      "/tmp/ipykernel_84218/3803969322.py:5: RuntimeWarning: overflow encountered in exp\n",
      "  return 1 / (1 + np.exp(-z))\n",
      "/tmp/ipykernel_84218/3803969322.py:5: RuntimeWarning: overflow encountered in exp\n",
      "  return 1 / (1 + np.exp(-z))\n",
      "/tmp/ipykernel_84218/3803969322.py:5: RuntimeWarning: overflow encountered in exp\n",
      "  return 1 / (1 + np.exp(-z))\n",
      "/tmp/ipykernel_84218/3803969322.py:5: RuntimeWarning: overflow encountered in exp\n",
      "  return 1 / (1 + np.exp(-z))\n",
      "/tmp/ipykernel_84218/3803969322.py:5: RuntimeWarning: overflow encountered in exp\n",
      "  return 1 / (1 + np.exp(-z))\n",
      "/tmp/ipykernel_84218/3803969322.py:5: RuntimeWarning: overflow encountered in exp\n",
      "  return 1 / (1 + np.exp(-z))\n",
      "/tmp/ipykernel_84218/3803969322.py:5: RuntimeWarning: overflow encountered in exp\n",
      "  return 1 / (1 + np.exp(-z))\n",
      "/tmp/ipykernel_84218/3803969322.py:5: RuntimeWarning: overflow encountered in exp\n",
      "  return 1 / (1 + np.exp(-z))\n",
      "/tmp/ipykernel_84218/3803969322.py:5: RuntimeWarning: overflow encountered in exp\n",
      "  return 1 / (1 + np.exp(-z))\n",
      "/tmp/ipykernel_84218/3803969322.py:5: RuntimeWarning: overflow encountered in exp\n",
      "  return 1 / (1 + np.exp(-z))\n",
      "/tmp/ipykernel_84218/3803969322.py:5: RuntimeWarning: overflow encountered in exp\n",
      "  return 1 / (1 + np.exp(-z))\n",
      "/tmp/ipykernel_84218/3803969322.py:5: RuntimeWarning: overflow encountered in exp\n",
      "  return 1 / (1 + np.exp(-z))\n",
      "/tmp/ipykernel_84218/3803969322.py:5: RuntimeWarning: overflow encountered in exp\n",
      "  return 1 / (1 + np.exp(-z))\n",
      "/tmp/ipykernel_84218/3803969322.py:5: RuntimeWarning: overflow encountered in exp\n",
      "  return 1 / (1 + np.exp(-z))\n",
      "/tmp/ipykernel_84218/3803969322.py:5: RuntimeWarning: overflow encountered in exp\n",
      "  return 1 / (1 + np.exp(-z))\n",
      "/tmp/ipykernel_84218/3803969322.py:5: RuntimeWarning: overflow encountered in exp\n",
      "  return 1 / (1 + np.exp(-z))\n",
      "/tmp/ipykernel_84218/3803969322.py:5: RuntimeWarning: overflow encountered in exp\n",
      "  return 1 / (1 + np.exp(-z))\n",
      "/tmp/ipykernel_84218/3803969322.py:5: RuntimeWarning: overflow encountered in exp\n",
      "  return 1 / (1 + np.exp(-z))\n",
      "/tmp/ipykernel_84218/3803969322.py:5: RuntimeWarning: overflow encountered in exp\n",
      "  return 1 / (1 + np.exp(-z))\n",
      "/tmp/ipykernel_84218/3803969322.py:5: RuntimeWarning: overflow encountered in exp\n",
      "  return 1 / (1 + np.exp(-z))\n",
      "/tmp/ipykernel_84218/3803969322.py:5: RuntimeWarning: overflow encountered in exp\n",
      "  return 1 / (1 + np.exp(-z))\n",
      "/tmp/ipykernel_84218/3803969322.py:5: RuntimeWarning: overflow encountered in exp\n",
      "  return 1 / (1 + np.exp(-z))\n",
      "/tmp/ipykernel_84218/3803969322.py:5: RuntimeWarning: overflow encountered in exp\n",
      "  return 1 / (1 + np.exp(-z))\n",
      "/tmp/ipykernel_84218/3803969322.py:5: RuntimeWarning: overflow encountered in exp\n",
      "  return 1 / (1 + np.exp(-z))\n",
      "/tmp/ipykernel_84218/3803969322.py:5: RuntimeWarning: overflow encountered in exp\n",
      "  return 1 / (1 + np.exp(-z))\n",
      "/tmp/ipykernel_84218/3803969322.py:5: RuntimeWarning: overflow encountered in exp\n",
      "  return 1 / (1 + np.exp(-z))\n",
      "/tmp/ipykernel_84218/3803969322.py:5: RuntimeWarning: overflow encountered in exp\n",
      "  return 1 / (1 + np.exp(-z))\n",
      "/tmp/ipykernel_84218/3803969322.py:5: RuntimeWarning: overflow encountered in exp\n",
      "  return 1 / (1 + np.exp(-z))\n",
      "/tmp/ipykernel_84218/3803969322.py:5: RuntimeWarning: overflow encountered in exp\n",
      "  return 1 / (1 + np.exp(-z))\n",
      "/tmp/ipykernel_84218/3803969322.py:5: RuntimeWarning: overflow encountered in exp\n",
      "  return 1 / (1 + np.exp(-z))\n",
      "/tmp/ipykernel_84218/3803969322.py:5: RuntimeWarning: overflow encountered in exp\n",
      "  return 1 / (1 + np.exp(-z))\n",
      "/tmp/ipykernel_84218/3803969322.py:5: RuntimeWarning: overflow encountered in exp\n",
      "  return 1 / (1 + np.exp(-z))\n",
      "/tmp/ipykernel_84218/3803969322.py:5: RuntimeWarning: overflow encountered in exp\n",
      "  return 1 / (1 + np.exp(-z))\n",
      "/tmp/ipykernel_84218/3803969322.py:5: RuntimeWarning: overflow encountered in exp\n",
      "  return 1 / (1 + np.exp(-z))\n",
      "/tmp/ipykernel_84218/3803969322.py:5: RuntimeWarning: overflow encountered in exp\n",
      "  return 1 / (1 + np.exp(-z))\n",
      "/tmp/ipykernel_84218/3803969322.py:5: RuntimeWarning: overflow encountered in exp\n",
      "  return 1 / (1 + np.exp(-z))\n",
      "/tmp/ipykernel_84218/3803969322.py:5: RuntimeWarning: overflow encountered in exp\n",
      "  return 1 / (1 + np.exp(-z))\n",
      "/tmp/ipykernel_84218/3803969322.py:5: RuntimeWarning: overflow encountered in exp\n",
      "  return 1 / (1 + np.exp(-z))\n",
      "/tmp/ipykernel_84218/3803969322.py:5: RuntimeWarning: overflow encountered in exp\n",
      "  return 1 / (1 + np.exp(-z))\n",
      "/tmp/ipykernel_84218/3803969322.py:5: RuntimeWarning: overflow encountered in exp\n",
      "  return 1 / (1 + np.exp(-z))\n",
      "/tmp/ipykernel_84218/3803969322.py:5: RuntimeWarning: overflow encountered in exp\n",
      "  return 1 / (1 + np.exp(-z))\n",
      "/tmp/ipykernel_84218/3803969322.py:5: RuntimeWarning: overflow encountered in exp\n",
      "  return 1 / (1 + np.exp(-z))\n",
      "/tmp/ipykernel_84218/3803969322.py:5: RuntimeWarning: overflow encountered in exp\n",
      "  return 1 / (1 + np.exp(-z))\n",
      "/tmp/ipykernel_84218/3803969322.py:5: RuntimeWarning: overflow encountered in exp\n",
      "  return 1 / (1 + np.exp(-z))\n",
      "/tmp/ipykernel_84218/3803969322.py:5: RuntimeWarning: overflow encountered in exp\n",
      "  return 1 / (1 + np.exp(-z))\n",
      "/tmp/ipykernel_84218/3803969322.py:5: RuntimeWarning: overflow encountered in exp\n",
      "  return 1 / (1 + np.exp(-z))\n",
      "/tmp/ipykernel_84218/3803969322.py:5: RuntimeWarning: overflow encountered in exp\n",
      "  return 1 / (1 + np.exp(-z))\n",
      "/tmp/ipykernel_84218/3803969322.py:5: RuntimeWarning: overflow encountered in exp\n",
      "  return 1 / (1 + np.exp(-z))\n",
      "/tmp/ipykernel_84218/3803969322.py:5: RuntimeWarning: overflow encountered in exp\n",
      "  return 1 / (1 + np.exp(-z))\n",
      "/tmp/ipykernel_84218/3803969322.py:5: RuntimeWarning: overflow encountered in exp\n",
      "  return 1 / (1 + np.exp(-z))\n",
      "/tmp/ipykernel_84218/3803969322.py:5: RuntimeWarning: overflow encountered in exp\n",
      "  return 1 / (1 + np.exp(-z))\n",
      "/tmp/ipykernel_84218/3803969322.py:5: RuntimeWarning: overflow encountered in exp\n",
      "  return 1 / (1 + np.exp(-z))\n",
      "/tmp/ipykernel_84218/3803969322.py:5: RuntimeWarning: overflow encountered in exp\n",
      "  return 1 / (1 + np.exp(-z))\n",
      "/tmp/ipykernel_84218/3803969322.py:5: RuntimeWarning: overflow encountered in exp\n",
      "  return 1 / (1 + np.exp(-z))\n",
      "/tmp/ipykernel_84218/3803969322.py:5: RuntimeWarning: overflow encountered in exp\n",
      "  return 1 / (1 + np.exp(-z))\n",
      "/tmp/ipykernel_84218/3803969322.py:5: RuntimeWarning: overflow encountered in exp\n",
      "  return 1 / (1 + np.exp(-z))\n",
      "/tmp/ipykernel_84218/3803969322.py:5: RuntimeWarning: overflow encountered in exp\n",
      "  return 1 / (1 + np.exp(-z))\n",
      "/tmp/ipykernel_84218/3803969322.py:5: RuntimeWarning: overflow encountered in exp\n",
      "  return 1 / (1 + np.exp(-z))\n",
      "/tmp/ipykernel_84218/3803969322.py:5: RuntimeWarning: overflow encountered in exp\n",
      "  return 1 / (1 + np.exp(-z))\n",
      "/tmp/ipykernel_84218/3803969322.py:5: RuntimeWarning: overflow encountered in exp\n",
      "  return 1 / (1 + np.exp(-z))\n",
      "/tmp/ipykernel_84218/3803969322.py:5: RuntimeWarning: overflow encountered in exp\n",
      "  return 1 / (1 + np.exp(-z))\n",
      "/tmp/ipykernel_84218/3803969322.py:5: RuntimeWarning: overflow encountered in exp\n",
      "  return 1 / (1 + np.exp(-z))\n",
      "/tmp/ipykernel_84218/3803969322.py:5: RuntimeWarning: overflow encountered in exp\n",
      "  return 1 / (1 + np.exp(-z))\n",
      "/tmp/ipykernel_84218/3803969322.py:5: RuntimeWarning: overflow encountered in exp\n",
      "  return 1 / (1 + np.exp(-z))\n",
      "/tmp/ipykernel_84218/3803969322.py:5: RuntimeWarning: overflow encountered in exp\n",
      "  return 1 / (1 + np.exp(-z))\n",
      "/tmp/ipykernel_84218/3803969322.py:5: RuntimeWarning: overflow encountered in exp\n",
      "  return 1 / (1 + np.exp(-z))\n",
      "/tmp/ipykernel_84218/3803969322.py:5: RuntimeWarning: overflow encountered in exp\n",
      "  return 1 / (1 + np.exp(-z))\n",
      "/tmp/ipykernel_84218/3803969322.py:5: RuntimeWarning: overflow encountered in exp\n",
      "  return 1 / (1 + np.exp(-z))\n",
      "/tmp/ipykernel_84218/3803969322.py:5: RuntimeWarning: overflow encountered in exp\n",
      "  return 1 / (1 + np.exp(-z))\n",
      "/tmp/ipykernel_84218/3803969322.py:5: RuntimeWarning: overflow encountered in exp\n",
      "  return 1 / (1 + np.exp(-z))\n",
      "/tmp/ipykernel_84218/3803969322.py:5: RuntimeWarning: overflow encountered in exp\n",
      "  return 1 / (1 + np.exp(-z))\n",
      "/tmp/ipykernel_84218/3803969322.py:5: RuntimeWarning: overflow encountered in exp\n",
      "  return 1 / (1 + np.exp(-z))\n",
      "/tmp/ipykernel_84218/3803969322.py:5: RuntimeWarning: overflow encountered in exp\n",
      "  return 1 / (1 + np.exp(-z))\n",
      "/tmp/ipykernel_84218/3803969322.py:5: RuntimeWarning: overflow encountered in exp\n",
      "  return 1 / (1 + np.exp(-z))\n",
      "/tmp/ipykernel_84218/3803969322.py:5: RuntimeWarning: overflow encountered in exp\n",
      "  return 1 / (1 + np.exp(-z))\n",
      "/tmp/ipykernel_84218/3803969322.py:5: RuntimeWarning: overflow encountered in exp\n",
      "  return 1 / (1 + np.exp(-z))\n",
      "/tmp/ipykernel_84218/3803969322.py:5: RuntimeWarning: overflow encountered in exp\n",
      "  return 1 / (1 + np.exp(-z))\n",
      "/tmp/ipykernel_84218/3803969322.py:5: RuntimeWarning: overflow encountered in exp\n",
      "  return 1 / (1 + np.exp(-z))\n",
      "/tmp/ipykernel_84218/3803969322.py:5: RuntimeWarning: overflow encountered in exp\n",
      "  return 1 / (1 + np.exp(-z))\n",
      "/tmp/ipykernel_84218/3803969322.py:5: RuntimeWarning: overflow encountered in exp\n",
      "  return 1 / (1 + np.exp(-z))\n",
      "/tmp/ipykernel_84218/3803969322.py:5: RuntimeWarning: overflow encountered in exp\n",
      "  return 1 / (1 + np.exp(-z))\n",
      "/tmp/ipykernel_84218/3803969322.py:5: RuntimeWarning: overflow encountered in exp\n",
      "  return 1 / (1 + np.exp(-z))\n",
      "/tmp/ipykernel_84218/3803969322.py:5: RuntimeWarning: overflow encountered in exp\n",
      "  return 1 / (1 + np.exp(-z))\n",
      "/tmp/ipykernel_84218/3803969322.py:5: RuntimeWarning: overflow encountered in exp\n",
      "  return 1 / (1 + np.exp(-z))\n",
      "/tmp/ipykernel_84218/3803969322.py:5: RuntimeWarning: overflow encountered in exp\n",
      "  return 1 / (1 + np.exp(-z))\n",
      "/tmp/ipykernel_84218/3803969322.py:5: RuntimeWarning: overflow encountered in exp\n",
      "  return 1 / (1 + np.exp(-z))\n",
      "/tmp/ipykernel_84218/3803969322.py:5: RuntimeWarning: overflow encountered in exp\n",
      "  return 1 / (1 + np.exp(-z))\n",
      "/tmp/ipykernel_84218/3803969322.py:5: RuntimeWarning: overflow encountered in exp\n",
      "  return 1 / (1 + np.exp(-z))\n",
      "/tmp/ipykernel_84218/3803969322.py:5: RuntimeWarning: overflow encountered in exp\n",
      "  return 1 / (1 + np.exp(-z))\n",
      "/tmp/ipykernel_84218/3803969322.py:5: RuntimeWarning: overflow encountered in exp\n",
      "  return 1 / (1 + np.exp(-z))\n",
      "/tmp/ipykernel_84218/3803969322.py:5: RuntimeWarning: overflow encountered in exp\n",
      "  return 1 / (1 + np.exp(-z))\n",
      "/tmp/ipykernel_84218/3803969322.py:5: RuntimeWarning: overflow encountered in exp\n",
      "  return 1 / (1 + np.exp(-z))\n",
      "/tmp/ipykernel_84218/3803969322.py:5: RuntimeWarning: overflow encountered in exp\n",
      "  return 1 / (1 + np.exp(-z))\n",
      "/tmp/ipykernel_84218/3803969322.py:5: RuntimeWarning: overflow encountered in exp\n",
      "  return 1 / (1 + np.exp(-z))\n",
      "/tmp/ipykernel_84218/3803969322.py:5: RuntimeWarning: overflow encountered in exp\n",
      "  return 1 / (1 + np.exp(-z))\n",
      "/tmp/ipykernel_84218/3803969322.py:5: RuntimeWarning: overflow encountered in exp\n",
      "  return 1 / (1 + np.exp(-z))\n",
      "/tmp/ipykernel_84218/3803969322.py:5: RuntimeWarning: overflow encountered in exp\n",
      "  return 1 / (1 + np.exp(-z))\n",
      "/tmp/ipykernel_84218/3803969322.py:5: RuntimeWarning: overflow encountered in exp\n",
      "  return 1 / (1 + np.exp(-z))\n",
      "/tmp/ipykernel_84218/3803969322.py:5: RuntimeWarning: overflow encountered in exp\n",
      "  return 1 / (1 + np.exp(-z))\n",
      "/tmp/ipykernel_84218/3803969322.py:5: RuntimeWarning: overflow encountered in exp\n",
      "  return 1 / (1 + np.exp(-z))\n",
      "/tmp/ipykernel_84218/3803969322.py:5: RuntimeWarning: overflow encountered in exp\n",
      "  return 1 / (1 + np.exp(-z))\n",
      "/tmp/ipykernel_84218/3803969322.py:5: RuntimeWarning: overflow encountered in exp\n",
      "  return 1 / (1 + np.exp(-z))\n"
     ]
    },
    {
     "data": {
      "text/html": [
       "Waiting for W&B process to finish... <strong style=\"color:green\">(success).</strong>"
      ],
      "text/plain": [
       "<IPython.core.display.HTML object>"
      ]
     },
     "metadata": {},
     "output_type": "display_data"
    },
    {
     "name": "stderr",
     "output_type": "stream",
     "text": [
      "wandb: WARNING Source type is set to 'repo' but some required information is missing from the environment. A job will not be created from this run. See https://docs.wandb.ai/guides/launch/create-job\n"
     ]
    },
    {
     "data": {
      "text/html": [
       "<style>\n",
       "    table.wandb td:nth-child(1) { padding: 0 10px; text-align: left ; width: auto;} td:nth-child(2) {text-align: left ; width: 100%}\n",
       "    .wandb-row { display: flex; flex-direction: row; flex-wrap: wrap; justify-content: flex-start; width: 100% }\n",
       "    .wandb-col { display: flex; flex-direction: column; flex-basis: 100%; flex: 1; padding: 10px; }\n",
       "    </style>\n",
       "<div class=\"wandb-row\"><div class=\"wandb-col\"><h3>Run history:</h3><br/><table class=\"wandb\"><tr><td>Validation Loss</td><td>▅▂▃▁▁▃▅▅▅▆▆▄▅▅▅▄▅▆▆▅▅▅▅▄▅▅▅▄▆▅▅▅▅▆▅▅█▅▄▅</td></tr></table><br/></div><div class=\"wandb-col\"><h3>Run summary:</h3><br/><table class=\"wandb\"><tr><td>Validation Loss</td><td>123.3553</td></tr></table><br/></div></div>"
      ],
      "text/plain": [
       "<IPython.core.display.HTML object>"
      ]
     },
     "metadata": {},
     "output_type": "display_data"
    },
    {
     "data": {
      "text/html": [
       " View run <strong style=\"color:#cdcd00\">zesty-breeze-14</strong> at: <a href='https://wandb.ai/prakhar-jain/multi-layer-regression/runs/swwyk6cj' target=\"_blank\">https://wandb.ai/prakhar-jain/multi-layer-regression/runs/swwyk6cj</a><br/>Synced 6 W&B file(s), 0 media file(s), 0 artifact file(s) and 0 other file(s)"
      ],
      "text/plain": [
       "<IPython.core.display.HTML object>"
      ]
     },
     "metadata": {},
     "output_type": "display_data"
    },
    {
     "data": {
      "text/html": [
       "Find logs at: <code>./wandb/run-20231023_010154-swwyk6cj/logs</code>"
      ],
      "text/plain": [
       "<IPython.core.display.HTML object>"
      ]
     },
     "metadata": {},
     "output_type": "display_data"
    },
    {
     "data": {
      "application/vnd.jupyter.widget-view+json": {
       "model_id": "969dc2b242d64382864bf0c033ee9368",
       "version_major": 2,
       "version_minor": 0
      },
      "text/plain": [
       "VBox(children=(Label(value='Waiting for wandb.init()...\\r'), FloatProgress(value=0.011114720266656756, max=1.0…"
      ]
     },
     "metadata": {},
     "output_type": "display_data"
    },
    {
     "data": {
      "text/html": [
       "wandb version 0.15.12 is available!  To upgrade, please run:\n",
       " $ pip install wandb --upgrade"
      ],
      "text/plain": [
       "<IPython.core.display.HTML object>"
      ]
     },
     "metadata": {},
     "output_type": "display_data"
    },
    {
     "data": {
      "text/html": [
       "Tracking run with wandb version 0.15.11"
      ],
      "text/plain": [
       "<IPython.core.display.HTML object>"
      ]
     },
     "metadata": {},
     "output_type": "display_data"
    },
    {
     "data": {
      "text/html": [
       "Run data is saved locally in <code>/home/prakhar/Desktop/assignment-3-prakharjain3/wandb/run-20231023_010300-wc87im04</code>"
      ],
      "text/plain": [
       "<IPython.core.display.HTML object>"
      ]
     },
     "metadata": {},
     "output_type": "display_data"
    },
    {
     "data": {
      "text/html": [
       "Syncing run <strong><a href='https://wandb.ai/prakhar-jain/multi-layer-regression/runs/wc87im04' target=\"_blank\">hardy-night-15</a></strong> to <a href='https://wandb.ai/prakhar-jain/multi-layer-regression' target=\"_blank\">Weights & Biases</a> (<a href='https://wandb.me/run' target=\"_blank\">docs</a>)<br/>"
      ],
      "text/plain": [
       "<IPython.core.display.HTML object>"
      ]
     },
     "metadata": {},
     "output_type": "display_data"
    },
    {
     "data": {
      "text/html": [
       " View project at <a href='https://wandb.ai/prakhar-jain/multi-layer-regression' target=\"_blank\">https://wandb.ai/prakhar-jain/multi-layer-regression</a>"
      ],
      "text/plain": [
       "<IPython.core.display.HTML object>"
      ]
     },
     "metadata": {},
     "output_type": "display_data"
    },
    {
     "data": {
      "text/html": [
       " View run at <a href='https://wandb.ai/prakhar-jain/multi-layer-regression/runs/wc87im04' target=\"_blank\">https://wandb.ai/prakhar-jain/multi-layer-regression/runs/wc87im04</a>"
      ],
      "text/plain": [
       "<IPython.core.display.HTML object>"
      ]
     },
     "metadata": {},
     "output_type": "display_data"
    },
    {
     "name": "stderr",
     "output_type": "stream",
     "text": [
      "ic| i: 1\n",
      "ic| i: 2\n",
      "/tmp/ipykernel_84218/3803969322.py:5: RuntimeWarning: overflow encountered in exp\n",
      "  return 1 / (1 + np.exp(-z))\n",
      "/tmp/ipykernel_84218/3803969322.py:5: RuntimeWarning: overflow encountered in exp\n",
      "  return 1 / (1 + np.exp(-z))\n",
      "/tmp/ipykernel_84218/3803969322.py:5: RuntimeWarning: overflow encountered in exp\n",
      "  return 1 / (1 + np.exp(-z))\n",
      "/tmp/ipykernel_84218/3803969322.py:5: RuntimeWarning: overflow encountered in exp\n",
      "  return 1 / (1 + np.exp(-z))\n",
      "/tmp/ipykernel_84218/3803969322.py:5: RuntimeWarning: overflow encountered in exp\n",
      "  return 1 / (1 + np.exp(-z))\n",
      "/tmp/ipykernel_84218/3803969322.py:5: RuntimeWarning: overflow encountered in exp\n",
      "  return 1 / (1 + np.exp(-z))\n",
      "/tmp/ipykernel_84218/3803969322.py:5: RuntimeWarning: overflow encountered in exp\n",
      "  return 1 / (1 + np.exp(-z))\n",
      "/tmp/ipykernel_84218/3803969322.py:5: RuntimeWarning: overflow encountered in exp\n",
      "  return 1 / (1 + np.exp(-z))\n",
      "/tmp/ipykernel_84218/3803969322.py:5: RuntimeWarning: overflow encountered in exp\n",
      "  return 1 / (1 + np.exp(-z))\n",
      "/tmp/ipykernel_84218/3803969322.py:5: RuntimeWarning: overflow encountered in exp\n",
      "  return 1 / (1 + np.exp(-z))\n",
      "/tmp/ipykernel_84218/3803969322.py:5: RuntimeWarning: overflow encountered in exp\n",
      "  return 1 / (1 + np.exp(-z))\n",
      "/tmp/ipykernel_84218/3803969322.py:5: RuntimeWarning: overflow encountered in exp\n",
      "  return 1 / (1 + np.exp(-z))\n",
      "/tmp/ipykernel_84218/3803969322.py:5: RuntimeWarning: overflow encountered in exp\n",
      "  return 1 / (1 + np.exp(-z))\n",
      "/tmp/ipykernel_84218/3803969322.py:5: RuntimeWarning: overflow encountered in exp\n",
      "  return 1 / (1 + np.exp(-z))\n",
      "/tmp/ipykernel_84218/3803969322.py:5: RuntimeWarning: overflow encountered in exp\n",
      "  return 1 / (1 + np.exp(-z))\n",
      "/tmp/ipykernel_84218/3803969322.py:5: RuntimeWarning: overflow encountered in exp\n",
      "  return 1 / (1 + np.exp(-z))\n",
      "/tmp/ipykernel_84218/3803969322.py:5: RuntimeWarning: overflow encountered in exp\n",
      "  return 1 / (1 + np.exp(-z))\n",
      "/tmp/ipykernel_84218/3803969322.py:5: RuntimeWarning: overflow encountered in exp\n",
      "  return 1 / (1 + np.exp(-z))\n",
      "/tmp/ipykernel_84218/3803969322.py:5: RuntimeWarning: overflow encountered in exp\n",
      "  return 1 / (1 + np.exp(-z))\n",
      "/tmp/ipykernel_84218/3803969322.py:5: RuntimeWarning: overflow encountered in exp\n",
      "  return 1 / (1 + np.exp(-z))\n",
      "/tmp/ipykernel_84218/3803969322.py:5: RuntimeWarning: overflow encountered in exp\n",
      "  return 1 / (1 + np.exp(-z))\n",
      "/tmp/ipykernel_84218/3803969322.py:5: RuntimeWarning: overflow encountered in exp\n",
      "  return 1 / (1 + np.exp(-z))\n",
      "/tmp/ipykernel_84218/3803969322.py:5: RuntimeWarning: overflow encountered in exp\n",
      "  return 1 / (1 + np.exp(-z))\n",
      "/tmp/ipykernel_84218/3803969322.py:5: RuntimeWarning: overflow encountered in exp\n",
      "  return 1 / (1 + np.exp(-z))\n",
      "/tmp/ipykernel_84218/3803969322.py:5: RuntimeWarning: overflow encountered in exp\n",
      "  return 1 / (1 + np.exp(-z))\n",
      "/tmp/ipykernel_84218/3803969322.py:5: RuntimeWarning: overflow encountered in exp\n",
      "  return 1 / (1 + np.exp(-z))\n",
      "/tmp/ipykernel_84218/3803969322.py:5: RuntimeWarning: overflow encountered in exp\n",
      "  return 1 / (1 + np.exp(-z))\n",
      "/tmp/ipykernel_84218/3803969322.py:5: RuntimeWarning: overflow encountered in exp\n",
      "  return 1 / (1 + np.exp(-z))\n",
      "/tmp/ipykernel_84218/3803969322.py:5: RuntimeWarning: overflow encountered in exp\n",
      "  return 1 / (1 + np.exp(-z))\n",
      "/tmp/ipykernel_84218/3803969322.py:5: RuntimeWarning: overflow encountered in exp\n",
      "  return 1 / (1 + np.exp(-z))\n",
      "/tmp/ipykernel_84218/3803969322.py:5: RuntimeWarning: overflow encountered in exp\n",
      "  return 1 / (1 + np.exp(-z))\n",
      "/tmp/ipykernel_84218/3803969322.py:5: RuntimeWarning: overflow encountered in exp\n",
      "  return 1 / (1 + np.exp(-z))\n",
      "/tmp/ipykernel_84218/3803969322.py:5: RuntimeWarning: overflow encountered in exp\n",
      "  return 1 / (1 + np.exp(-z))\n",
      "/tmp/ipykernel_84218/3803969322.py:5: RuntimeWarning: overflow encountered in exp\n",
      "  return 1 / (1 + np.exp(-z))\n",
      "/tmp/ipykernel_84218/3803969322.py:5: RuntimeWarning: overflow encountered in exp\n",
      "  return 1 / (1 + np.exp(-z))\n",
      "/tmp/ipykernel_84218/3803969322.py:5: RuntimeWarning: overflow encountered in exp\n",
      "  return 1 / (1 + np.exp(-z))\n",
      "/tmp/ipykernel_84218/3803969322.py:5: RuntimeWarning: overflow encountered in exp\n",
      "  return 1 / (1 + np.exp(-z))\n",
      "/tmp/ipykernel_84218/3803969322.py:5: RuntimeWarning: overflow encountered in exp\n",
      "  return 1 / (1 + np.exp(-z))\n",
      "/tmp/ipykernel_84218/3803969322.py:5: RuntimeWarning: overflow encountered in exp\n",
      "  return 1 / (1 + np.exp(-z))\n",
      "/tmp/ipykernel_84218/3803969322.py:5: RuntimeWarning: overflow encountered in exp\n",
      "  return 1 / (1 + np.exp(-z))\n",
      "/tmp/ipykernel_84218/3803969322.py:5: RuntimeWarning: overflow encountered in exp\n",
      "  return 1 / (1 + np.exp(-z))\n",
      "/tmp/ipykernel_84218/3803969322.py:5: RuntimeWarning: overflow encountered in exp\n",
      "  return 1 / (1 + np.exp(-z))\n",
      "/tmp/ipykernel_84218/3803969322.py:5: RuntimeWarning: overflow encountered in exp\n",
      "  return 1 / (1 + np.exp(-z))\n",
      "/tmp/ipykernel_84218/3803969322.py:5: RuntimeWarning: overflow encountered in exp\n",
      "  return 1 / (1 + np.exp(-z))\n",
      "/tmp/ipykernel_84218/3803969322.py:5: RuntimeWarning: overflow encountered in exp\n",
      "  return 1 / (1 + np.exp(-z))\n",
      "/tmp/ipykernel_84218/3803969322.py:5: RuntimeWarning: overflow encountered in exp\n",
      "  return 1 / (1 + np.exp(-z))\n",
      "/tmp/ipykernel_84218/3803969322.py:5: RuntimeWarning: overflow encountered in exp\n",
      "  return 1 / (1 + np.exp(-z))\n",
      "/tmp/ipykernel_84218/3803969322.py:5: RuntimeWarning: overflow encountered in exp\n",
      "  return 1 / (1 + np.exp(-z))\n",
      "/tmp/ipykernel_84218/3803969322.py:5: RuntimeWarning: overflow encountered in exp\n",
      "  return 1 / (1 + np.exp(-z))\n",
      "/tmp/ipykernel_84218/3803969322.py:5: RuntimeWarning: overflow encountered in exp\n",
      "  return 1 / (1 + np.exp(-z))\n",
      "/tmp/ipykernel_84218/3803969322.py:5: RuntimeWarning: overflow encountered in exp\n",
      "  return 1 / (1 + np.exp(-z))\n",
      "/tmp/ipykernel_84218/3803969322.py:5: RuntimeWarning: overflow encountered in exp\n",
      "  return 1 / (1 + np.exp(-z))\n",
      "/tmp/ipykernel_84218/3803969322.py:5: RuntimeWarning: overflow encountered in exp\n",
      "  return 1 / (1 + np.exp(-z))\n",
      "/tmp/ipykernel_84218/3803969322.py:5: RuntimeWarning: overflow encountered in exp\n",
      "  return 1 / (1 + np.exp(-z))\n",
      "/tmp/ipykernel_84218/3803969322.py:5: RuntimeWarning: overflow encountered in exp\n",
      "  return 1 / (1 + np.exp(-z))\n",
      "/tmp/ipykernel_84218/3803969322.py:5: RuntimeWarning: overflow encountered in exp\n",
      "  return 1 / (1 + np.exp(-z))\n",
      "/tmp/ipykernel_84218/3803969322.py:5: RuntimeWarning: overflow encountered in exp\n",
      "  return 1 / (1 + np.exp(-z))\n",
      "/tmp/ipykernel_84218/3803969322.py:5: RuntimeWarning: overflow encountered in exp\n",
      "  return 1 / (1 + np.exp(-z))\n",
      "/tmp/ipykernel_84218/3803969322.py:5: RuntimeWarning: overflow encountered in exp\n",
      "  return 1 / (1 + np.exp(-z))\n",
      "/tmp/ipykernel_84218/3803969322.py:5: RuntimeWarning: overflow encountered in exp\n",
      "  return 1 / (1 + np.exp(-z))\n",
      "/tmp/ipykernel_84218/3803969322.py:5: RuntimeWarning: overflow encountered in exp\n",
      "  return 1 / (1 + np.exp(-z))\n",
      "/tmp/ipykernel_84218/3803969322.py:5: RuntimeWarning: overflow encountered in exp\n",
      "  return 1 / (1 + np.exp(-z))\n",
      "/tmp/ipykernel_84218/3803969322.py:5: RuntimeWarning: overflow encountered in exp\n",
      "  return 1 / (1 + np.exp(-z))\n",
      "/tmp/ipykernel_84218/3803969322.py:5: RuntimeWarning: overflow encountered in exp\n",
      "  return 1 / (1 + np.exp(-z))\n",
      "/tmp/ipykernel_84218/3803969322.py:5: RuntimeWarning: overflow encountered in exp\n",
      "  return 1 / (1 + np.exp(-z))\n",
      "/tmp/ipykernel_84218/3803969322.py:5: RuntimeWarning: overflow encountered in exp\n",
      "  return 1 / (1 + np.exp(-z))\n",
      "/tmp/ipykernel_84218/3803969322.py:5: RuntimeWarning: overflow encountered in exp\n",
      "  return 1 / (1 + np.exp(-z))\n",
      "/tmp/ipykernel_84218/3803969322.py:5: RuntimeWarning: overflow encountered in exp\n",
      "  return 1 / (1 + np.exp(-z))\n",
      "/tmp/ipykernel_84218/3803969322.py:5: RuntimeWarning: overflow encountered in exp\n",
      "  return 1 / (1 + np.exp(-z))\n",
      "/tmp/ipykernel_84218/3803969322.py:5: RuntimeWarning: overflow encountered in exp\n",
      "  return 1 / (1 + np.exp(-z))\n",
      "/tmp/ipykernel_84218/3803969322.py:5: RuntimeWarning: overflow encountered in exp\n",
      "  return 1 / (1 + np.exp(-z))\n",
      "/tmp/ipykernel_84218/3803969322.py:5: RuntimeWarning: overflow encountered in exp\n",
      "  return 1 / (1 + np.exp(-z))\n",
      "/tmp/ipykernel_84218/3803969322.py:5: RuntimeWarning: overflow encountered in exp\n",
      "  return 1 / (1 + np.exp(-z))\n",
      "/tmp/ipykernel_84218/3803969322.py:5: RuntimeWarning: overflow encountered in exp\n",
      "  return 1 / (1 + np.exp(-z))\n",
      "/tmp/ipykernel_84218/3803969322.py:5: RuntimeWarning: overflow encountered in exp\n",
      "  return 1 / (1 + np.exp(-z))\n",
      "/tmp/ipykernel_84218/3803969322.py:5: RuntimeWarning: overflow encountered in exp\n",
      "  return 1 / (1 + np.exp(-z))\n",
      "/tmp/ipykernel_84218/3803969322.py:5: RuntimeWarning: overflow encountered in exp\n",
      "  return 1 / (1 + np.exp(-z))\n",
      "/tmp/ipykernel_84218/3803969322.py:5: RuntimeWarning: overflow encountered in exp\n",
      "  return 1 / (1 + np.exp(-z))\n",
      "/tmp/ipykernel_84218/3803969322.py:5: RuntimeWarning: overflow encountered in exp\n",
      "  return 1 / (1 + np.exp(-z))\n",
      "/tmp/ipykernel_84218/3803969322.py:5: RuntimeWarning: overflow encountered in exp\n",
      "  return 1 / (1 + np.exp(-z))\n",
      "/tmp/ipykernel_84218/3803969322.py:5: RuntimeWarning: overflow encountered in exp\n",
      "  return 1 / (1 + np.exp(-z))\n",
      "/tmp/ipykernel_84218/3803969322.py:5: RuntimeWarning: overflow encountered in exp\n",
      "  return 1 / (1 + np.exp(-z))\n",
      "/tmp/ipykernel_84218/3803969322.py:5: RuntimeWarning: overflow encountered in exp\n",
      "  return 1 / (1 + np.exp(-z))\n",
      "/tmp/ipykernel_84218/3803969322.py:5: RuntimeWarning: overflow encountered in exp\n",
      "  return 1 / (1 + np.exp(-z))\n",
      "/tmp/ipykernel_84218/3803969322.py:5: RuntimeWarning: overflow encountered in exp\n",
      "  return 1 / (1 + np.exp(-z))\n",
      "/tmp/ipykernel_84218/3803969322.py:5: RuntimeWarning: overflow encountered in exp\n",
      "  return 1 / (1 + np.exp(-z))\n",
      "/tmp/ipykernel_84218/3803969322.py:5: RuntimeWarning: overflow encountered in exp\n",
      "  return 1 / (1 + np.exp(-z))\n",
      "/tmp/ipykernel_84218/3803969322.py:5: RuntimeWarning: overflow encountered in exp\n",
      "  return 1 / (1 + np.exp(-z))\n",
      "/tmp/ipykernel_84218/3803969322.py:5: RuntimeWarning: overflow encountered in exp\n",
      "  return 1 / (1 + np.exp(-z))\n",
      "/tmp/ipykernel_84218/3803969322.py:5: RuntimeWarning: overflow encountered in exp\n",
      "  return 1 / (1 + np.exp(-z))\n",
      "/tmp/ipykernel_84218/3803969322.py:5: RuntimeWarning: overflow encountered in exp\n",
      "  return 1 / (1 + np.exp(-z))\n",
      "/tmp/ipykernel_84218/3803969322.py:5: RuntimeWarning: overflow encountered in exp\n",
      "  return 1 / (1 + np.exp(-z))\n",
      "/tmp/ipykernel_84218/3803969322.py:5: RuntimeWarning: overflow encountered in exp\n",
      "  return 1 / (1 + np.exp(-z))\n",
      "/tmp/ipykernel_84218/3803969322.py:5: RuntimeWarning: overflow encountered in exp\n",
      "  return 1 / (1 + np.exp(-z))\n",
      "/tmp/ipykernel_84218/3803969322.py:5: RuntimeWarning: overflow encountered in exp\n",
      "  return 1 / (1 + np.exp(-z))\n",
      "/tmp/ipykernel_84218/3803969322.py:5: RuntimeWarning: overflow encountered in exp\n",
      "  return 1 / (1 + np.exp(-z))\n",
      "/tmp/ipykernel_84218/3803969322.py:5: RuntimeWarning: overflow encountered in exp\n",
      "  return 1 / (1 + np.exp(-z))\n",
      "/tmp/ipykernel_84218/3803969322.py:5: RuntimeWarning: overflow encountered in exp\n",
      "  return 1 / (1 + np.exp(-z))\n",
      "/tmp/ipykernel_84218/3803969322.py:5: RuntimeWarning: overflow encountered in exp\n",
      "  return 1 / (1 + np.exp(-z))\n",
      "/tmp/ipykernel_84218/3803969322.py:5: RuntimeWarning: overflow encountered in exp\n",
      "  return 1 / (1 + np.exp(-z))\n",
      "/tmp/ipykernel_84218/3803969322.py:5: RuntimeWarning: overflow encountered in exp\n",
      "  return 1 / (1 + np.exp(-z))\n",
      "/tmp/ipykernel_84218/3803969322.py:5: RuntimeWarning: overflow encountered in exp\n",
      "  return 1 / (1 + np.exp(-z))\n",
      "/tmp/ipykernel_84218/3803969322.py:5: RuntimeWarning: overflow encountered in exp\n",
      "  return 1 / (1 + np.exp(-z))\n",
      "/tmp/ipykernel_84218/3803969322.py:5: RuntimeWarning: overflow encountered in exp\n",
      "  return 1 / (1 + np.exp(-z))\n",
      "/tmp/ipykernel_84218/3803969322.py:5: RuntimeWarning: overflow encountered in exp\n",
      "  return 1 / (1 + np.exp(-z))\n",
      "/tmp/ipykernel_84218/3803969322.py:5: RuntimeWarning: overflow encountered in exp\n",
      "  return 1 / (1 + np.exp(-z))\n",
      "/tmp/ipykernel_84218/3803969322.py:5: RuntimeWarning: overflow encountered in exp\n",
      "  return 1 / (1 + np.exp(-z))\n",
      "/tmp/ipykernel_84218/3803969322.py:5: RuntimeWarning: overflow encountered in exp\n",
      "  return 1 / (1 + np.exp(-z))\n",
      "/tmp/ipykernel_84218/3803969322.py:5: RuntimeWarning: overflow encountered in exp\n",
      "  return 1 / (1 + np.exp(-z))\n",
      "/tmp/ipykernel_84218/3803969322.py:5: RuntimeWarning: overflow encountered in exp\n",
      "  return 1 / (1 + np.exp(-z))\n",
      "/tmp/ipykernel_84218/3803969322.py:5: RuntimeWarning: overflow encountered in exp\n",
      "  return 1 / (1 + np.exp(-z))\n",
      "/tmp/ipykernel_84218/3803969322.py:5: RuntimeWarning: overflow encountered in exp\n",
      "  return 1 / (1 + np.exp(-z))\n",
      "/tmp/ipykernel_84218/3803969322.py:5: RuntimeWarning: overflow encountered in exp\n",
      "  return 1 / (1 + np.exp(-z))\n",
      "/tmp/ipykernel_84218/3803969322.py:5: RuntimeWarning: overflow encountered in exp\n",
      "  return 1 / (1 + np.exp(-z))\n",
      "/tmp/ipykernel_84218/3803969322.py:5: RuntimeWarning: overflow encountered in exp\n",
      "  return 1 / (1 + np.exp(-z))\n",
      "/tmp/ipykernel_84218/3803969322.py:5: RuntimeWarning: overflow encountered in exp\n",
      "  return 1 / (1 + np.exp(-z))\n",
      "/tmp/ipykernel_84218/3803969322.py:5: RuntimeWarning: overflow encountered in exp\n",
      "  return 1 / (1 + np.exp(-z))\n",
      "/tmp/ipykernel_84218/3803969322.py:5: RuntimeWarning: overflow encountered in exp\n",
      "  return 1 / (1 + np.exp(-z))\n",
      "/tmp/ipykernel_84218/3803969322.py:5: RuntimeWarning: overflow encountered in exp\n",
      "  return 1 / (1 + np.exp(-z))\n",
      "/tmp/ipykernel_84218/3803969322.py:5: RuntimeWarning: overflow encountered in exp\n",
      "  return 1 / (1 + np.exp(-z))\n",
      "/tmp/ipykernel_84218/3803969322.py:5: RuntimeWarning: overflow encountered in exp\n",
      "  return 1 / (1 + np.exp(-z))\n",
      "/tmp/ipykernel_84218/3803969322.py:5: RuntimeWarning: overflow encountered in exp\n",
      "  return 1 / (1 + np.exp(-z))\n",
      "/tmp/ipykernel_84218/3803969322.py:5: RuntimeWarning: overflow encountered in exp\n",
      "  return 1 / (1 + np.exp(-z))\n",
      "/tmp/ipykernel_84218/3803969322.py:5: RuntimeWarning: overflow encountered in exp\n",
      "  return 1 / (1 + np.exp(-z))\n",
      "/tmp/ipykernel_84218/3803969322.py:5: RuntimeWarning: overflow encountered in exp\n",
      "  return 1 / (1 + np.exp(-z))\n",
      "/tmp/ipykernel_84218/3803969322.py:5: RuntimeWarning: overflow encountered in exp\n",
      "  return 1 / (1 + np.exp(-z))\n",
      "/tmp/ipykernel_84218/3803969322.py:5: RuntimeWarning: overflow encountered in exp\n",
      "  return 1 / (1 + np.exp(-z))\n",
      "/tmp/ipykernel_84218/3803969322.py:5: RuntimeWarning: overflow encountered in exp\n",
      "  return 1 / (1 + np.exp(-z))\n",
      "/tmp/ipykernel_84218/3803969322.py:5: RuntimeWarning: overflow encountered in exp\n",
      "  return 1 / (1 + np.exp(-z))\n",
      "/tmp/ipykernel_84218/3803969322.py:5: RuntimeWarning: overflow encountered in exp\n",
      "  return 1 / (1 + np.exp(-z))\n",
      "/tmp/ipykernel_84218/3803969322.py:5: RuntimeWarning: overflow encountered in exp\n",
      "  return 1 / (1 + np.exp(-z))\n",
      "/tmp/ipykernel_84218/3803969322.py:5: RuntimeWarning: overflow encountered in exp\n",
      "  return 1 / (1 + np.exp(-z))\n",
      "/tmp/ipykernel_84218/3803969322.py:5: RuntimeWarning: overflow encountered in exp\n",
      "  return 1 / (1 + np.exp(-z))\n",
      "/tmp/ipykernel_84218/3803969322.py:5: RuntimeWarning: overflow encountered in exp\n",
      "  return 1 / (1 + np.exp(-z))\n",
      "/tmp/ipykernel_84218/3803969322.py:5: RuntimeWarning: overflow encountered in exp\n",
      "  return 1 / (1 + np.exp(-z))\n",
      "/tmp/ipykernel_84218/3803969322.py:5: RuntimeWarning: overflow encountered in exp\n",
      "  return 1 / (1 + np.exp(-z))\n",
      "/tmp/ipykernel_84218/3803969322.py:5: RuntimeWarning: overflow encountered in exp\n",
      "  return 1 / (1 + np.exp(-z))\n",
      "/tmp/ipykernel_84218/3803969322.py:5: RuntimeWarning: overflow encountered in exp\n",
      "  return 1 / (1 + np.exp(-z))\n",
      "/tmp/ipykernel_84218/3803969322.py:5: RuntimeWarning: overflow encountered in exp\n",
      "  return 1 / (1 + np.exp(-z))\n",
      "/tmp/ipykernel_84218/3803969322.py:5: RuntimeWarning: overflow encountered in exp\n",
      "  return 1 / (1 + np.exp(-z))\n",
      "/tmp/ipykernel_84218/3803969322.py:5: RuntimeWarning: overflow encountered in exp\n",
      "  return 1 / (1 + np.exp(-z))\n",
      "/tmp/ipykernel_84218/3803969322.py:5: RuntimeWarning: overflow encountered in exp\n",
      "  return 1 / (1 + np.exp(-z))\n",
      "/tmp/ipykernel_84218/3803969322.py:5: RuntimeWarning: overflow encountered in exp\n",
      "  return 1 / (1 + np.exp(-z))\n",
      "/tmp/ipykernel_84218/3803969322.py:5: RuntimeWarning: overflow encountered in exp\n",
      "  return 1 / (1 + np.exp(-z))\n",
      "/tmp/ipykernel_84218/3803969322.py:5: RuntimeWarning: overflow encountered in exp\n",
      "  return 1 / (1 + np.exp(-z))\n",
      "/tmp/ipykernel_84218/3803969322.py:5: RuntimeWarning: overflow encountered in exp\n",
      "  return 1 / (1 + np.exp(-z))\n",
      "/tmp/ipykernel_84218/3803969322.py:5: RuntimeWarning: overflow encountered in exp\n",
      "  return 1 / (1 + np.exp(-z))\n",
      "/tmp/ipykernel_84218/3803969322.py:5: RuntimeWarning: overflow encountered in exp\n",
      "  return 1 / (1 + np.exp(-z))\n",
      "/tmp/ipykernel_84218/3803969322.py:5: RuntimeWarning: overflow encountered in exp\n",
      "  return 1 / (1 + np.exp(-z))\n",
      "/tmp/ipykernel_84218/3803969322.py:5: RuntimeWarning: overflow encountered in exp\n",
      "  return 1 / (1 + np.exp(-z))\n",
      "/tmp/ipykernel_84218/3803969322.py:5: RuntimeWarning: overflow encountered in exp\n",
      "  return 1 / (1 + np.exp(-z))\n",
      "/tmp/ipykernel_84218/3803969322.py:5: RuntimeWarning: overflow encountered in exp\n",
      "  return 1 / (1 + np.exp(-z))\n",
      "/tmp/ipykernel_84218/3803969322.py:5: RuntimeWarning: overflow encountered in exp\n",
      "  return 1 / (1 + np.exp(-z))\n",
      "/tmp/ipykernel_84218/3803969322.py:5: RuntimeWarning: overflow encountered in exp\n",
      "  return 1 / (1 + np.exp(-z))\n",
      "/tmp/ipykernel_84218/3803969322.py:5: RuntimeWarning: overflow encountered in exp\n",
      "  return 1 / (1 + np.exp(-z))\n",
      "/tmp/ipykernel_84218/3803969322.py:5: RuntimeWarning: overflow encountered in exp\n",
      "  return 1 / (1 + np.exp(-z))\n",
      "/tmp/ipykernel_84218/3803969322.py:5: RuntimeWarning: overflow encountered in exp\n",
      "  return 1 / (1 + np.exp(-z))\n",
      "/tmp/ipykernel_84218/3803969322.py:5: RuntimeWarning: overflow encountered in exp\n",
      "  return 1 / (1 + np.exp(-z))\n",
      "/tmp/ipykernel_84218/3803969322.py:5: RuntimeWarning: overflow encountered in exp\n",
      "  return 1 / (1 + np.exp(-z))\n",
      "/tmp/ipykernel_84218/3803969322.py:5: RuntimeWarning: overflow encountered in exp\n",
      "  return 1 / (1 + np.exp(-z))\n",
      "/tmp/ipykernel_84218/3803969322.py:5: RuntimeWarning: overflow encountered in exp\n",
      "  return 1 / (1 + np.exp(-z))\n",
      "/tmp/ipykernel_84218/3803969322.py:5: RuntimeWarning: overflow encountered in exp\n",
      "  return 1 / (1 + np.exp(-z))\n",
      "/tmp/ipykernel_84218/3803969322.py:5: RuntimeWarning: overflow encountered in exp\n",
      "  return 1 / (1 + np.exp(-z))\n",
      "/tmp/ipykernel_84218/3803969322.py:5: RuntimeWarning: overflow encountered in exp\n",
      "  return 1 / (1 + np.exp(-z))\n",
      "/tmp/ipykernel_84218/3803969322.py:5: RuntimeWarning: overflow encountered in exp\n",
      "  return 1 / (1 + np.exp(-z))\n",
      "/tmp/ipykernel_84218/3803969322.py:5: RuntimeWarning: overflow encountered in exp\n",
      "  return 1 / (1 + np.exp(-z))\n",
      "/tmp/ipykernel_84218/3803969322.py:5: RuntimeWarning: overflow encountered in exp\n",
      "  return 1 / (1 + np.exp(-z))\n",
      "/tmp/ipykernel_84218/3803969322.py:5: RuntimeWarning: overflow encountered in exp\n",
      "  return 1 / (1 + np.exp(-z))\n",
      "/tmp/ipykernel_84218/3803969322.py:5: RuntimeWarning: overflow encountered in exp\n",
      "  return 1 / (1 + np.exp(-z))\n",
      "/tmp/ipykernel_84218/3803969322.py:5: RuntimeWarning: overflow encountered in exp\n",
      "  return 1 / (1 + np.exp(-z))\n",
      "/tmp/ipykernel_84218/3803969322.py:5: RuntimeWarning: overflow encountered in exp\n",
      "  return 1 / (1 + np.exp(-z))\n",
      "/tmp/ipykernel_84218/3803969322.py:5: RuntimeWarning: overflow encountered in exp\n",
      "  return 1 / (1 + np.exp(-z))\n",
      "/tmp/ipykernel_84218/3803969322.py:5: RuntimeWarning: overflow encountered in exp\n",
      "  return 1 / (1 + np.exp(-z))\n",
      "/tmp/ipykernel_84218/3803969322.py:5: RuntimeWarning: overflow encountered in exp\n",
      "  return 1 / (1 + np.exp(-z))\n",
      "/tmp/ipykernel_84218/3803969322.py:5: RuntimeWarning: overflow encountered in exp\n",
      "  return 1 / (1 + np.exp(-z))\n",
      "/tmp/ipykernel_84218/3803969322.py:5: RuntimeWarning: overflow encountered in exp\n",
      "  return 1 / (1 + np.exp(-z))\n",
      "/tmp/ipykernel_84218/3803969322.py:5: RuntimeWarning: overflow encountered in exp\n",
      "  return 1 / (1 + np.exp(-z))\n",
      "/tmp/ipykernel_84218/3803969322.py:5: RuntimeWarning: overflow encountered in exp\n",
      "  return 1 / (1 + np.exp(-z))\n",
      "/tmp/ipykernel_84218/3803969322.py:5: RuntimeWarning: overflow encountered in exp\n",
      "  return 1 / (1 + np.exp(-z))\n",
      "/tmp/ipykernel_84218/3803969322.py:5: RuntimeWarning: overflow encountered in exp\n",
      "  return 1 / (1 + np.exp(-z))\n",
      "/tmp/ipykernel_84218/3803969322.py:5: RuntimeWarning: overflow encountered in exp\n",
      "  return 1 / (1 + np.exp(-z))\n",
      "/tmp/ipykernel_84218/3803969322.py:5: RuntimeWarning: overflow encountered in exp\n",
      "  return 1 / (1 + np.exp(-z))\n",
      "/tmp/ipykernel_84218/3803969322.py:5: RuntimeWarning: overflow encountered in exp\n",
      "  return 1 / (1 + np.exp(-z))\n",
      "/tmp/ipykernel_84218/3803969322.py:5: RuntimeWarning: overflow encountered in exp\n",
      "  return 1 / (1 + np.exp(-z))\n",
      "/tmp/ipykernel_84218/3803969322.py:5: RuntimeWarning: overflow encountered in exp\n",
      "  return 1 / (1 + np.exp(-z))\n",
      "/tmp/ipykernel_84218/3803969322.py:5: RuntimeWarning: overflow encountered in exp\n",
      "  return 1 / (1 + np.exp(-z))\n",
      "/tmp/ipykernel_84218/3803969322.py:5: RuntimeWarning: overflow encountered in exp\n",
      "  return 1 / (1 + np.exp(-z))\n",
      "/tmp/ipykernel_84218/3803969322.py:5: RuntimeWarning: overflow encountered in exp\n",
      "  return 1 / (1 + np.exp(-z))\n",
      "/tmp/ipykernel_84218/3803969322.py:5: RuntimeWarning: overflow encountered in exp\n",
      "  return 1 / (1 + np.exp(-z))\n",
      "/tmp/ipykernel_84218/3803969322.py:5: RuntimeWarning: overflow encountered in exp\n",
      "  return 1 / (1 + np.exp(-z))\n",
      "/tmp/ipykernel_84218/3803969322.py:5: RuntimeWarning: overflow encountered in exp\n",
      "  return 1 / (1 + np.exp(-z))\n",
      "/tmp/ipykernel_84218/3803969322.py:5: RuntimeWarning: overflow encountered in exp\n",
      "  return 1 / (1 + np.exp(-z))\n",
      "/tmp/ipykernel_84218/3803969322.py:5: RuntimeWarning: overflow encountered in exp\n",
      "  return 1 / (1 + np.exp(-z))\n",
      "/tmp/ipykernel_84218/3803969322.py:5: RuntimeWarning: overflow encountered in exp\n",
      "  return 1 / (1 + np.exp(-z))\n",
      "/tmp/ipykernel_84218/3803969322.py:5: RuntimeWarning: overflow encountered in exp\n",
      "  return 1 / (1 + np.exp(-z))\n",
      "/tmp/ipykernel_84218/3803969322.py:5: RuntimeWarning: overflow encountered in exp\n",
      "  return 1 / (1 + np.exp(-z))\n",
      "/tmp/ipykernel_84218/3803969322.py:5: RuntimeWarning: overflow encountered in exp\n",
      "  return 1 / (1 + np.exp(-z))\n",
      "/tmp/ipykernel_84218/3803969322.py:5: RuntimeWarning: overflow encountered in exp\n",
      "  return 1 / (1 + np.exp(-z))\n",
      "/tmp/ipykernel_84218/3803969322.py:5: RuntimeWarning: overflow encountered in exp\n",
      "  return 1 / (1 + np.exp(-z))\n",
      "/tmp/ipykernel_84218/3803969322.py:5: RuntimeWarning: overflow encountered in exp\n",
      "  return 1 / (1 + np.exp(-z))\n",
      "/tmp/ipykernel_84218/3803969322.py:5: RuntimeWarning: overflow encountered in exp\n",
      "  return 1 / (1 + np.exp(-z))\n",
      "/tmp/ipykernel_84218/3803969322.py:5: RuntimeWarning: overflow encountered in exp\n",
      "  return 1 / (1 + np.exp(-z))\n",
      "/tmp/ipykernel_84218/3803969322.py:5: RuntimeWarning: overflow encountered in exp\n",
      "  return 1 / (1 + np.exp(-z))\n",
      "/tmp/ipykernel_84218/3803969322.py:5: RuntimeWarning: overflow encountered in exp\n",
      "  return 1 / (1 + np.exp(-z))\n",
      "/tmp/ipykernel_84218/3803969322.py:5: RuntimeWarning: overflow encountered in exp\n",
      "  return 1 / (1 + np.exp(-z))\n",
      "/tmp/ipykernel_84218/3803969322.py:5: RuntimeWarning: overflow encountered in exp\n",
      "  return 1 / (1 + np.exp(-z))\n",
      "/tmp/ipykernel_84218/3803969322.py:5: RuntimeWarning: overflow encountered in exp\n",
      "  return 1 / (1 + np.exp(-z))\n",
      "/tmp/ipykernel_84218/3803969322.py:5: RuntimeWarning: overflow encountered in exp\n",
      "  return 1 / (1 + np.exp(-z))\n",
      "/tmp/ipykernel_84218/3803969322.py:5: RuntimeWarning: overflow encountered in exp\n",
      "  return 1 / (1 + np.exp(-z))\n",
      "/tmp/ipykernel_84218/3803969322.py:5: RuntimeWarning: overflow encountered in exp\n",
      "  return 1 / (1 + np.exp(-z))\n",
      "/tmp/ipykernel_84218/3803969322.py:5: RuntimeWarning: overflow encountered in exp\n",
      "  return 1 / (1 + np.exp(-z))\n",
      "/tmp/ipykernel_84218/3803969322.py:5: RuntimeWarning: overflow encountered in exp\n",
      "  return 1 / (1 + np.exp(-z))\n",
      "/tmp/ipykernel_84218/3803969322.py:5: RuntimeWarning: overflow encountered in exp\n",
      "  return 1 / (1 + np.exp(-z))\n",
      "/tmp/ipykernel_84218/3803969322.py:5: RuntimeWarning: overflow encountered in exp\n",
      "  return 1 / (1 + np.exp(-z))\n",
      "/tmp/ipykernel_84218/3803969322.py:5: RuntimeWarning: overflow encountered in exp\n",
      "  return 1 / (1 + np.exp(-z))\n",
      "/tmp/ipykernel_84218/3803969322.py:5: RuntimeWarning: overflow encountered in exp\n",
      "  return 1 / (1 + np.exp(-z))\n",
      "/tmp/ipykernel_84218/3803969322.py:5: RuntimeWarning: overflow encountered in exp\n",
      "  return 1 / (1 + np.exp(-z))\n",
      "/tmp/ipykernel_84218/3803969322.py:5: RuntimeWarning: overflow encountered in exp\n",
      "  return 1 / (1 + np.exp(-z))\n",
      "/tmp/ipykernel_84218/3803969322.py:5: RuntimeWarning: overflow encountered in exp\n",
      "  return 1 / (1 + np.exp(-z))\n",
      "/tmp/ipykernel_84218/3803969322.py:5: RuntimeWarning: overflow encountered in exp\n",
      "  return 1 / (1 + np.exp(-z))\n",
      "/tmp/ipykernel_84218/3803969322.py:5: RuntimeWarning: overflow encountered in exp\n",
      "  return 1 / (1 + np.exp(-z))\n",
      "/tmp/ipykernel_84218/3803969322.py:5: RuntimeWarning: overflow encountered in exp\n",
      "  return 1 / (1 + np.exp(-z))\n",
      "/tmp/ipykernel_84218/3803969322.py:5: RuntimeWarning: overflow encountered in exp\n",
      "  return 1 / (1 + np.exp(-z))\n",
      "/tmp/ipykernel_84218/3803969322.py:5: RuntimeWarning: overflow encountered in exp\n",
      "  return 1 / (1 + np.exp(-z))\n",
      "/tmp/ipykernel_84218/3803969322.py:5: RuntimeWarning: overflow encountered in exp\n",
      "  return 1 / (1 + np.exp(-z))\n",
      "/tmp/ipykernel_84218/3803969322.py:5: RuntimeWarning: overflow encountered in exp\n",
      "  return 1 / (1 + np.exp(-z))\n",
      "/tmp/ipykernel_84218/3803969322.py:5: RuntimeWarning: overflow encountered in exp\n",
      "  return 1 / (1 + np.exp(-z))\n",
      "/tmp/ipykernel_84218/3803969322.py:5: RuntimeWarning: overflow encountered in exp\n",
      "  return 1 / (1 + np.exp(-z))\n",
      "/tmp/ipykernel_84218/3803969322.py:5: RuntimeWarning: overflow encountered in exp\n",
      "  return 1 / (1 + np.exp(-z))\n",
      "/tmp/ipykernel_84218/3803969322.py:5: RuntimeWarning: overflow encountered in exp\n",
      "  return 1 / (1 + np.exp(-z))\n",
      "/tmp/ipykernel_84218/3803969322.py:5: RuntimeWarning: overflow encountered in exp\n",
      "  return 1 / (1 + np.exp(-z))\n",
      "/tmp/ipykernel_84218/3803969322.py:5: RuntimeWarning: overflow encountered in exp\n",
      "  return 1 / (1 + np.exp(-z))\n",
      "/tmp/ipykernel_84218/3803969322.py:5: RuntimeWarning: overflow encountered in exp\n",
      "  return 1 / (1 + np.exp(-z))\n",
      "/tmp/ipykernel_84218/3803969322.py:5: RuntimeWarning: overflow encountered in exp\n",
      "  return 1 / (1 + np.exp(-z))\n",
      "/tmp/ipykernel_84218/3803969322.py:5: RuntimeWarning: overflow encountered in exp\n",
      "  return 1 / (1 + np.exp(-z))\n",
      "/tmp/ipykernel_84218/3803969322.py:5: RuntimeWarning: overflow encountered in exp\n",
      "  return 1 / (1 + np.exp(-z))\n",
      "/tmp/ipykernel_84218/3803969322.py:5: RuntimeWarning: overflow encountered in exp\n",
      "  return 1 / (1 + np.exp(-z))\n",
      "/tmp/ipykernel_84218/3803969322.py:5: RuntimeWarning: overflow encountered in exp\n",
      "  return 1 / (1 + np.exp(-z))\n",
      "/tmp/ipykernel_84218/3803969322.py:5: RuntimeWarning: overflow encountered in exp\n",
      "  return 1 / (1 + np.exp(-z))\n",
      "/tmp/ipykernel_84218/3803969322.py:5: RuntimeWarning: overflow encountered in exp\n",
      "  return 1 / (1 + np.exp(-z))\n",
      "/tmp/ipykernel_84218/3803969322.py:5: RuntimeWarning: overflow encountered in exp\n",
      "  return 1 / (1 + np.exp(-z))\n",
      "/tmp/ipykernel_84218/3803969322.py:5: RuntimeWarning: overflow encountered in exp\n",
      "  return 1 / (1 + np.exp(-z))\n",
      "/tmp/ipykernel_84218/3803969322.py:5: RuntimeWarning: overflow encountered in exp\n",
      "  return 1 / (1 + np.exp(-z))\n",
      "/tmp/ipykernel_84218/3803969322.py:5: RuntimeWarning: overflow encountered in exp\n",
      "  return 1 / (1 + np.exp(-z))\n",
      "/tmp/ipykernel_84218/3803969322.py:5: RuntimeWarning: overflow encountered in exp\n",
      "  return 1 / (1 + np.exp(-z))\n",
      "/tmp/ipykernel_84218/3803969322.py:5: RuntimeWarning: overflow encountered in exp\n",
      "  return 1 / (1 + np.exp(-z))\n",
      "/tmp/ipykernel_84218/3803969322.py:5: RuntimeWarning: overflow encountered in exp\n",
      "  return 1 / (1 + np.exp(-z))\n",
      "/tmp/ipykernel_84218/3803969322.py:5: RuntimeWarning: overflow encountered in exp\n",
      "  return 1 / (1 + np.exp(-z))\n",
      "/tmp/ipykernel_84218/3803969322.py:5: RuntimeWarning: overflow encountered in exp\n",
      "  return 1 / (1 + np.exp(-z))\n",
      "/tmp/ipykernel_84218/3803969322.py:5: RuntimeWarning: overflow encountered in exp\n",
      "  return 1 / (1 + np.exp(-z))\n",
      "/tmp/ipykernel_84218/3803969322.py:5: RuntimeWarning: overflow encountered in exp\n",
      "  return 1 / (1 + np.exp(-z))\n",
      "/tmp/ipykernel_84218/3803969322.py:5: RuntimeWarning: overflow encountered in exp\n",
      "  return 1 / (1 + np.exp(-z))\n",
      "/tmp/ipykernel_84218/3803969322.py:5: RuntimeWarning: overflow encountered in exp\n",
      "  return 1 / (1 + np.exp(-z))\n",
      "/tmp/ipykernel_84218/3803969322.py:5: RuntimeWarning: overflow encountered in exp\n",
      "  return 1 / (1 + np.exp(-z))\n",
      "/tmp/ipykernel_84218/3803969322.py:5: RuntimeWarning: overflow encountered in exp\n",
      "  return 1 / (1 + np.exp(-z))\n",
      "/tmp/ipykernel_84218/3803969322.py:5: RuntimeWarning: overflow encountered in exp\n",
      "  return 1 / (1 + np.exp(-z))\n",
      "/tmp/ipykernel_84218/3803969322.py:5: RuntimeWarning: overflow encountered in exp\n",
      "  return 1 / (1 + np.exp(-z))\n",
      "/tmp/ipykernel_84218/3803969322.py:5: RuntimeWarning: overflow encountered in exp\n",
      "  return 1 / (1 + np.exp(-z))\n",
      "/tmp/ipykernel_84218/3803969322.py:5: RuntimeWarning: overflow encountered in exp\n",
      "  return 1 / (1 + np.exp(-z))\n",
      "/tmp/ipykernel_84218/3803969322.py:5: RuntimeWarning: overflow encountered in exp\n",
      "  return 1 / (1 + np.exp(-z))\n",
      "/tmp/ipykernel_84218/3803969322.py:5: RuntimeWarning: overflow encountered in exp\n",
      "  return 1 / (1 + np.exp(-z))\n",
      "/tmp/ipykernel_84218/3803969322.py:5: RuntimeWarning: overflow encountered in exp\n",
      "  return 1 / (1 + np.exp(-z))\n",
      "/tmp/ipykernel_84218/3803969322.py:5: RuntimeWarning: overflow encountered in exp\n",
      "  return 1 / (1 + np.exp(-z))\n",
      "/tmp/ipykernel_84218/3803969322.py:5: RuntimeWarning: overflow encountered in exp\n",
      "  return 1 / (1 + np.exp(-z))\n",
      "/tmp/ipykernel_84218/3803969322.py:5: RuntimeWarning: overflow encountered in exp\n",
      "  return 1 / (1 + np.exp(-z))\n",
      "/tmp/ipykernel_84218/3803969322.py:5: RuntimeWarning: overflow encountered in exp\n",
      "  return 1 / (1 + np.exp(-z))\n",
      "/tmp/ipykernel_84218/3803969322.py:5: RuntimeWarning: overflow encountered in exp\n",
      "  return 1 / (1 + np.exp(-z))\n",
      "/tmp/ipykernel_84218/3803969322.py:5: RuntimeWarning: overflow encountered in exp\n",
      "  return 1 / (1 + np.exp(-z))\n",
      "/tmp/ipykernel_84218/3803969322.py:5: RuntimeWarning: overflow encountered in exp\n",
      "  return 1 / (1 + np.exp(-z))\n",
      "/tmp/ipykernel_84218/3803969322.py:5: RuntimeWarning: overflow encountered in exp\n",
      "  return 1 / (1 + np.exp(-z))\n",
      "/tmp/ipykernel_84218/3803969322.py:5: RuntimeWarning: overflow encountered in exp\n",
      "  return 1 / (1 + np.exp(-z))\n",
      "/tmp/ipykernel_84218/3803969322.py:5: RuntimeWarning: overflow encountered in exp\n",
      "  return 1 / (1 + np.exp(-z))\n",
      "/tmp/ipykernel_84218/3803969322.py:5: RuntimeWarning: overflow encountered in exp\n",
      "  return 1 / (1 + np.exp(-z))\n",
      "/tmp/ipykernel_84218/3803969322.py:5: RuntimeWarning: overflow encountered in exp\n",
      "  return 1 / (1 + np.exp(-z))\n",
      "/tmp/ipykernel_84218/3803969322.py:5: RuntimeWarning: overflow encountered in exp\n",
      "  return 1 / (1 + np.exp(-z))\n",
      "/tmp/ipykernel_84218/3803969322.py:5: RuntimeWarning: overflow encountered in exp\n",
      "  return 1 / (1 + np.exp(-z))\n",
      "/tmp/ipykernel_84218/3803969322.py:5: RuntimeWarning: overflow encountered in exp\n",
      "  return 1 / (1 + np.exp(-z))\n",
      "/tmp/ipykernel_84218/3803969322.py:5: RuntimeWarning: overflow encountered in exp\n",
      "  return 1 / (1 + np.exp(-z))\n",
      "/tmp/ipykernel_84218/3803969322.py:5: RuntimeWarning: overflow encountered in exp\n",
      "  return 1 / (1 + np.exp(-z))\n",
      "/tmp/ipykernel_84218/3803969322.py:5: RuntimeWarning: overflow encountered in exp\n",
      "  return 1 / (1 + np.exp(-z))\n",
      "/tmp/ipykernel_84218/3803969322.py:5: RuntimeWarning: overflow encountered in exp\n",
      "  return 1 / (1 + np.exp(-z))\n",
      "/tmp/ipykernel_84218/3803969322.py:5: RuntimeWarning: overflow encountered in exp\n",
      "  return 1 / (1 + np.exp(-z))\n",
      "/tmp/ipykernel_84218/3803969322.py:5: RuntimeWarning: overflow encountered in exp\n",
      "  return 1 / (1 + np.exp(-z))\n",
      "/tmp/ipykernel_84218/3803969322.py:5: RuntimeWarning: overflow encountered in exp\n",
      "  return 1 / (1 + np.exp(-z))\n",
      "/tmp/ipykernel_84218/3803969322.py:5: RuntimeWarning: overflow encountered in exp\n",
      "  return 1 / (1 + np.exp(-z))\n",
      "/tmp/ipykernel_84218/3803969322.py:5: RuntimeWarning: overflow encountered in exp\n",
      "  return 1 / (1 + np.exp(-z))\n",
      "/tmp/ipykernel_84218/3803969322.py:5: RuntimeWarning: overflow encountered in exp\n",
      "  return 1 / (1 + np.exp(-z))\n",
      "/tmp/ipykernel_84218/3803969322.py:5: RuntimeWarning: overflow encountered in exp\n",
      "  return 1 / (1 + np.exp(-z))\n",
      "/tmp/ipykernel_84218/3803969322.py:5: RuntimeWarning: overflow encountered in exp\n",
      "  return 1 / (1 + np.exp(-z))\n",
      "/tmp/ipykernel_84218/3803969322.py:5: RuntimeWarning: overflow encountered in exp\n",
      "  return 1 / (1 + np.exp(-z))\n",
      "/tmp/ipykernel_84218/3803969322.py:5: RuntimeWarning: overflow encountered in exp\n",
      "  return 1 / (1 + np.exp(-z))\n",
      "/tmp/ipykernel_84218/3803969322.py:5: RuntimeWarning: overflow encountered in exp\n",
      "  return 1 / (1 + np.exp(-z))\n",
      "/tmp/ipykernel_84218/3803969322.py:5: RuntimeWarning: overflow encountered in exp\n",
      "  return 1 / (1 + np.exp(-z))\n",
      "/tmp/ipykernel_84218/3803969322.py:5: RuntimeWarning: overflow encountered in exp\n",
      "  return 1 / (1 + np.exp(-z))\n",
      "/tmp/ipykernel_84218/3803969322.py:5: RuntimeWarning: overflow encountered in exp\n",
      "  return 1 / (1 + np.exp(-z))\n",
      "/tmp/ipykernel_84218/3803969322.py:5: RuntimeWarning: overflow encountered in exp\n",
      "  return 1 / (1 + np.exp(-z))\n",
      "/tmp/ipykernel_84218/3803969322.py:5: RuntimeWarning: overflow encountered in exp\n",
      "  return 1 / (1 + np.exp(-z))\n",
      "/tmp/ipykernel_84218/3803969322.py:5: RuntimeWarning: overflow encountered in exp\n",
      "  return 1 / (1 + np.exp(-z))\n",
      "/tmp/ipykernel_84218/3803969322.py:5: RuntimeWarning: overflow encountered in exp\n",
      "  return 1 / (1 + np.exp(-z))\n",
      "/tmp/ipykernel_84218/3803969322.py:5: RuntimeWarning: overflow encountered in exp\n",
      "  return 1 / (1 + np.exp(-z))\n",
      "/tmp/ipykernel_84218/3803969322.py:5: RuntimeWarning: overflow encountered in exp\n",
      "  return 1 / (1 + np.exp(-z))\n",
      "/tmp/ipykernel_84218/3803969322.py:5: RuntimeWarning: overflow encountered in exp\n",
      "  return 1 / (1 + np.exp(-z))\n",
      "/tmp/ipykernel_84218/3803969322.py:5: RuntimeWarning: overflow encountered in exp\n",
      "  return 1 / (1 + np.exp(-z))\n",
      "/tmp/ipykernel_84218/3803969322.py:5: RuntimeWarning: overflow encountered in exp\n",
      "  return 1 / (1 + np.exp(-z))\n",
      "/tmp/ipykernel_84218/3803969322.py:5: RuntimeWarning: overflow encountered in exp\n",
      "  return 1 / (1 + np.exp(-z))\n",
      "/tmp/ipykernel_84218/3803969322.py:5: RuntimeWarning: overflow encountered in exp\n",
      "  return 1 / (1 + np.exp(-z))\n",
      "/tmp/ipykernel_84218/3803969322.py:5: RuntimeWarning: overflow encountered in exp\n",
      "  return 1 / (1 + np.exp(-z))\n",
      "/tmp/ipykernel_84218/3803969322.py:5: RuntimeWarning: overflow encountered in exp\n",
      "  return 1 / (1 + np.exp(-z))\n",
      "/tmp/ipykernel_84218/3803969322.py:5: RuntimeWarning: overflow encountered in exp\n",
      "  return 1 / (1 + np.exp(-z))\n",
      "/tmp/ipykernel_84218/3803969322.py:5: RuntimeWarning: overflow encountered in exp\n",
      "  return 1 / (1 + np.exp(-z))\n",
      "/tmp/ipykernel_84218/3803969322.py:5: RuntimeWarning: overflow encountered in exp\n",
      "  return 1 / (1 + np.exp(-z))\n",
      "/tmp/ipykernel_84218/3803969322.py:5: RuntimeWarning: overflow encountered in exp\n",
      "  return 1 / (1 + np.exp(-z))\n",
      "/tmp/ipykernel_84218/3803969322.py:5: RuntimeWarning: overflow encountered in exp\n",
      "  return 1 / (1 + np.exp(-z))\n",
      "/tmp/ipykernel_84218/3803969322.py:5: RuntimeWarning: overflow encountered in exp\n",
      "  return 1 / (1 + np.exp(-z))\n",
      "/tmp/ipykernel_84218/3803969322.py:5: RuntimeWarning: overflow encountered in exp\n",
      "  return 1 / (1 + np.exp(-z))\n",
      "/tmp/ipykernel_84218/3803969322.py:5: RuntimeWarning: overflow encountered in exp\n",
      "  return 1 / (1 + np.exp(-z))\n",
      "/tmp/ipykernel_84218/3803969322.py:5: RuntimeWarning: overflow encountered in exp\n",
      "  return 1 / (1 + np.exp(-z))\n",
      "/tmp/ipykernel_84218/3803969322.py:5: RuntimeWarning: overflow encountered in exp\n",
      "  return 1 / (1 + np.exp(-z))\n",
      "/tmp/ipykernel_84218/3803969322.py:5: RuntimeWarning: overflow encountered in exp\n",
      "  return 1 / (1 + np.exp(-z))\n",
      "/tmp/ipykernel_84218/3803969322.py:5: RuntimeWarning: overflow encountered in exp\n",
      "  return 1 / (1 + np.exp(-z))\n",
      "/tmp/ipykernel_84218/3803969322.py:5: RuntimeWarning: overflow encountered in exp\n",
      "  return 1 / (1 + np.exp(-z))\n",
      "/tmp/ipykernel_84218/3803969322.py:5: RuntimeWarning: overflow encountered in exp\n",
      "  return 1 / (1 + np.exp(-z))\n",
      "/tmp/ipykernel_84218/3803969322.py:5: RuntimeWarning: overflow encountered in exp\n",
      "  return 1 / (1 + np.exp(-z))\n",
      "/tmp/ipykernel_84218/3803969322.py:5: RuntimeWarning: overflow encountered in exp\n",
      "  return 1 / (1 + np.exp(-z))\n",
      "/tmp/ipykernel_84218/3803969322.py:5: RuntimeWarning: overflow encountered in exp\n",
      "  return 1 / (1 + np.exp(-z))\n",
      "/tmp/ipykernel_84218/3803969322.py:5: RuntimeWarning: overflow encountered in exp\n",
      "  return 1 / (1 + np.exp(-z))\n",
      "/tmp/ipykernel_84218/3803969322.py:5: RuntimeWarning: overflow encountered in exp\n",
      "  return 1 / (1 + np.exp(-z))\n",
      "/tmp/ipykernel_84218/3803969322.py:5: RuntimeWarning: overflow encountered in exp\n",
      "  return 1 / (1 + np.exp(-z))\n",
      "/tmp/ipykernel_84218/3803969322.py:5: RuntimeWarning: overflow encountered in exp\n",
      "  return 1 / (1 + np.exp(-z))\n",
      "/tmp/ipykernel_84218/3803969322.py:5: RuntimeWarning: overflow encountered in exp\n",
      "  return 1 / (1 + np.exp(-z))\n",
      "/tmp/ipykernel_84218/3803969322.py:5: RuntimeWarning: overflow encountered in exp\n",
      "  return 1 / (1 + np.exp(-z))\n",
      "/tmp/ipykernel_84218/3803969322.py:5: RuntimeWarning: overflow encountered in exp\n",
      "  return 1 / (1 + np.exp(-z))\n",
      "/tmp/ipykernel_84218/3803969322.py:5: RuntimeWarning: overflow encountered in exp\n",
      "  return 1 / (1 + np.exp(-z))\n",
      "/tmp/ipykernel_84218/3803969322.py:5: RuntimeWarning: overflow encountered in exp\n",
      "  return 1 / (1 + np.exp(-z))\n",
      "/tmp/ipykernel_84218/3803969322.py:5: RuntimeWarning: overflow encountered in exp\n",
      "  return 1 / (1 + np.exp(-z))\n",
      "/tmp/ipykernel_84218/3803969322.py:5: RuntimeWarning: overflow encountered in exp\n",
      "  return 1 / (1 + np.exp(-z))\n",
      "/tmp/ipykernel_84218/3803969322.py:5: RuntimeWarning: overflow encountered in exp\n",
      "  return 1 / (1 + np.exp(-z))\n",
      "/tmp/ipykernel_84218/3803969322.py:5: RuntimeWarning: overflow encountered in exp\n",
      "  return 1 / (1 + np.exp(-z))\n",
      "/tmp/ipykernel_84218/3803969322.py:5: RuntimeWarning: overflow encountered in exp\n",
      "  return 1 / (1 + np.exp(-z))\n",
      "/tmp/ipykernel_84218/3803969322.py:5: RuntimeWarning: overflow encountered in exp\n",
      "  return 1 / (1 + np.exp(-z))\n",
      "/tmp/ipykernel_84218/3803969322.py:5: RuntimeWarning: overflow encountered in exp\n",
      "  return 1 / (1 + np.exp(-z))\n",
      "/tmp/ipykernel_84218/3803969322.py:5: RuntimeWarning: overflow encountered in exp\n",
      "  return 1 / (1 + np.exp(-z))\n",
      "/tmp/ipykernel_84218/3803969322.py:5: RuntimeWarning: overflow encountered in exp\n",
      "  return 1 / (1 + np.exp(-z))\n",
      "/tmp/ipykernel_84218/3803969322.py:5: RuntimeWarning: overflow encountered in exp\n",
      "  return 1 / (1 + np.exp(-z))\n",
      "/tmp/ipykernel_84218/3803969322.py:5: RuntimeWarning: overflow encountered in exp\n",
      "  return 1 / (1 + np.exp(-z))\n",
      "/tmp/ipykernel_84218/3803969322.py:5: RuntimeWarning: overflow encountered in exp\n",
      "  return 1 / (1 + np.exp(-z))\n",
      "/tmp/ipykernel_84218/3803969322.py:5: RuntimeWarning: overflow encountered in exp\n",
      "  return 1 / (1 + np.exp(-z))\n",
      "/tmp/ipykernel_84218/3803969322.py:5: RuntimeWarning: overflow encountered in exp\n",
      "  return 1 / (1 + np.exp(-z))\n",
      "/tmp/ipykernel_84218/3803969322.py:5: RuntimeWarning: overflow encountered in exp\n",
      "  return 1 / (1 + np.exp(-z))\n",
      "/tmp/ipykernel_84218/3803969322.py:5: RuntimeWarning: overflow encountered in exp\n",
      "  return 1 / (1 + np.exp(-z))\n",
      "/tmp/ipykernel_84218/3803969322.py:5: RuntimeWarning: overflow encountered in exp\n",
      "  return 1 / (1 + np.exp(-z))\n",
      "/tmp/ipykernel_84218/3803969322.py:5: RuntimeWarning: overflow encountered in exp\n",
      "  return 1 / (1 + np.exp(-z))\n",
      "/tmp/ipykernel_84218/3803969322.py:5: RuntimeWarning: overflow encountered in exp\n",
      "  return 1 / (1 + np.exp(-z))\n",
      "/tmp/ipykernel_84218/3803969322.py:5: RuntimeWarning: overflow encountered in exp\n",
      "  return 1 / (1 + np.exp(-z))\n",
      "/tmp/ipykernel_84218/3803969322.py:5: RuntimeWarning: overflow encountered in exp\n",
      "  return 1 / (1 + np.exp(-z))\n",
      "/tmp/ipykernel_84218/3803969322.py:5: RuntimeWarning: overflow encountered in exp\n",
      "  return 1 / (1 + np.exp(-z))\n",
      "/tmp/ipykernel_84218/3803969322.py:5: RuntimeWarning: overflow encountered in exp\n",
      "  return 1 / (1 + np.exp(-z))\n",
      "/tmp/ipykernel_84218/3803969322.py:5: RuntimeWarning: overflow encountered in exp\n",
      "  return 1 / (1 + np.exp(-z))\n",
      "/tmp/ipykernel_84218/3803969322.py:5: RuntimeWarning: overflow encountered in exp\n",
      "  return 1 / (1 + np.exp(-z))\n",
      "/tmp/ipykernel_84218/3803969322.py:5: RuntimeWarning: overflow encountered in exp\n",
      "  return 1 / (1 + np.exp(-z))\n",
      "/tmp/ipykernel_84218/3803969322.py:5: RuntimeWarning: overflow encountered in exp\n",
      "  return 1 / (1 + np.exp(-z))\n",
      "/tmp/ipykernel_84218/3803969322.py:5: RuntimeWarning: overflow encountered in exp\n",
      "  return 1 / (1 + np.exp(-z))\n",
      "/tmp/ipykernel_84218/3803969322.py:5: RuntimeWarning: overflow encountered in exp\n",
      "  return 1 / (1 + np.exp(-z))\n",
      "/tmp/ipykernel_84218/3803969322.py:5: RuntimeWarning: overflow encountered in exp\n",
      "  return 1 / (1 + np.exp(-z))\n",
      "/tmp/ipykernel_84218/3803969322.py:5: RuntimeWarning: overflow encountered in exp\n",
      "  return 1 / (1 + np.exp(-z))\n",
      "/tmp/ipykernel_84218/3803969322.py:5: RuntimeWarning: overflow encountered in exp\n",
      "  return 1 / (1 + np.exp(-z))\n",
      "/tmp/ipykernel_84218/3803969322.py:5: RuntimeWarning: overflow encountered in exp\n",
      "  return 1 / (1 + np.exp(-z))\n",
      "/tmp/ipykernel_84218/3803969322.py:5: RuntimeWarning: overflow encountered in exp\n",
      "  return 1 / (1 + np.exp(-z))\n",
      "/tmp/ipykernel_84218/3803969322.py:5: RuntimeWarning: overflow encountered in exp\n",
      "  return 1 / (1 + np.exp(-z))\n",
      "/tmp/ipykernel_84218/3803969322.py:5: RuntimeWarning: overflow encountered in exp\n",
      "  return 1 / (1 + np.exp(-z))\n",
      "/tmp/ipykernel_84218/3803969322.py:5: RuntimeWarning: overflow encountered in exp\n",
      "  return 1 / (1 + np.exp(-z))\n",
      "/tmp/ipykernel_84218/3803969322.py:5: RuntimeWarning: overflow encountered in exp\n",
      "  return 1 / (1 + np.exp(-z))\n",
      "/tmp/ipykernel_84218/3803969322.py:5: RuntimeWarning: overflow encountered in exp\n",
      "  return 1 / (1 + np.exp(-z))\n",
      "/tmp/ipykernel_84218/3803969322.py:5: RuntimeWarning: overflow encountered in exp\n",
      "  return 1 / (1 + np.exp(-z))\n",
      "/tmp/ipykernel_84218/3803969322.py:5: RuntimeWarning: overflow encountered in exp\n",
      "  return 1 / (1 + np.exp(-z))\n",
      "/tmp/ipykernel_84218/3803969322.py:5: RuntimeWarning: overflow encountered in exp\n",
      "  return 1 / (1 + np.exp(-z))\n",
      "/tmp/ipykernel_84218/3803969322.py:5: RuntimeWarning: overflow encountered in exp\n",
      "  return 1 / (1 + np.exp(-z))\n",
      "/tmp/ipykernel_84218/3803969322.py:5: RuntimeWarning: overflow encountered in exp\n",
      "  return 1 / (1 + np.exp(-z))\n",
      "/tmp/ipykernel_84218/3803969322.py:5: RuntimeWarning: overflow encountered in exp\n",
      "  return 1 / (1 + np.exp(-z))\n",
      "/tmp/ipykernel_84218/3803969322.py:5: RuntimeWarning: overflow encountered in exp\n",
      "  return 1 / (1 + np.exp(-z))\n",
      "/tmp/ipykernel_84218/3803969322.py:5: RuntimeWarning: overflow encountered in exp\n",
      "  return 1 / (1 + np.exp(-z))\n",
      "/tmp/ipykernel_84218/3803969322.py:5: RuntimeWarning: overflow encountered in exp\n",
      "  return 1 / (1 + np.exp(-z))\n",
      "/tmp/ipykernel_84218/3803969322.py:5: RuntimeWarning: overflow encountered in exp\n",
      "  return 1 / (1 + np.exp(-z))\n",
      "/tmp/ipykernel_84218/3803969322.py:5: RuntimeWarning: overflow encountered in exp\n",
      "  return 1 / (1 + np.exp(-z))\n",
      "/tmp/ipykernel_84218/3803969322.py:5: RuntimeWarning: overflow encountered in exp\n",
      "  return 1 / (1 + np.exp(-z))\n",
      "/tmp/ipykernel_84218/3803969322.py:5: RuntimeWarning: overflow encountered in exp\n",
      "  return 1 / (1 + np.exp(-z))\n",
      "/tmp/ipykernel_84218/3803969322.py:5: RuntimeWarning: overflow encountered in exp\n",
      "  return 1 / (1 + np.exp(-z))\n",
      "/tmp/ipykernel_84218/3803969322.py:5: RuntimeWarning: overflow encountered in exp\n",
      "  return 1 / (1 + np.exp(-z))\n",
      "/tmp/ipykernel_84218/3803969322.py:5: RuntimeWarning: overflow encountered in exp\n",
      "  return 1 / (1 + np.exp(-z))\n",
      "/tmp/ipykernel_84218/3803969322.py:5: RuntimeWarning: overflow encountered in exp\n",
      "  return 1 / (1 + np.exp(-z))\n",
      "/tmp/ipykernel_84218/3803969322.py:5: RuntimeWarning: overflow encountered in exp\n",
      "  return 1 / (1 + np.exp(-z))\n",
      "/tmp/ipykernel_84218/3803969322.py:5: RuntimeWarning: overflow encountered in exp\n",
      "  return 1 / (1 + np.exp(-z))\n",
      "/tmp/ipykernel_84218/3803969322.py:5: RuntimeWarning: overflow encountered in exp\n",
      "  return 1 / (1 + np.exp(-z))\n",
      "/tmp/ipykernel_84218/3803969322.py:5: RuntimeWarning: overflow encountered in exp\n",
      "  return 1 / (1 + np.exp(-z))\n",
      "/tmp/ipykernel_84218/3803969322.py:5: RuntimeWarning: overflow encountered in exp\n",
      "  return 1 / (1 + np.exp(-z))\n",
      "/tmp/ipykernel_84218/3803969322.py:5: RuntimeWarning: overflow encountered in exp\n",
      "  return 1 / (1 + np.exp(-z))\n",
      "/tmp/ipykernel_84218/3803969322.py:5: RuntimeWarning: overflow encountered in exp\n",
      "  return 1 / (1 + np.exp(-z))\n",
      "/tmp/ipykernel_84218/3803969322.py:5: RuntimeWarning: overflow encountered in exp\n",
      "  return 1 / (1 + np.exp(-z))\n",
      "/tmp/ipykernel_84218/3803969322.py:5: RuntimeWarning: overflow encountered in exp\n",
      "  return 1 / (1 + np.exp(-z))\n",
      "/tmp/ipykernel_84218/3803969322.py:5: RuntimeWarning: overflow encountered in exp\n",
      "  return 1 / (1 + np.exp(-z))\n",
      "/tmp/ipykernel_84218/3803969322.py:5: RuntimeWarning: overflow encountered in exp\n",
      "  return 1 / (1 + np.exp(-z))\n",
      "/tmp/ipykernel_84218/3803969322.py:5: RuntimeWarning: overflow encountered in exp\n",
      "  return 1 / (1 + np.exp(-z))\n",
      "/tmp/ipykernel_84218/3803969322.py:5: RuntimeWarning: overflow encountered in exp\n",
      "  return 1 / (1 + np.exp(-z))\n",
      "/tmp/ipykernel_84218/3803969322.py:5: RuntimeWarning: overflow encountered in exp\n",
      "  return 1 / (1 + np.exp(-z))\n",
      "/tmp/ipykernel_84218/3803969322.py:5: RuntimeWarning: overflow encountered in exp\n",
      "  return 1 / (1 + np.exp(-z))\n",
      "/tmp/ipykernel_84218/3803969322.py:5: RuntimeWarning: overflow encountered in exp\n",
      "  return 1 / (1 + np.exp(-z))\n",
      "/tmp/ipykernel_84218/3803969322.py:5: RuntimeWarning: overflow encountered in exp\n",
      "  return 1 / (1 + np.exp(-z))\n",
      "/tmp/ipykernel_84218/3803969322.py:5: RuntimeWarning: overflow encountered in exp\n",
      "  return 1 / (1 + np.exp(-z))\n",
      "/tmp/ipykernel_84218/3803969322.py:5: RuntimeWarning: overflow encountered in exp\n",
      "  return 1 / (1 + np.exp(-z))\n",
      "/tmp/ipykernel_84218/3803969322.py:5: RuntimeWarning: overflow encountered in exp\n",
      "  return 1 / (1 + np.exp(-z))\n",
      "/tmp/ipykernel_84218/3803969322.py:5: RuntimeWarning: overflow encountered in exp\n",
      "  return 1 / (1 + np.exp(-z))\n",
      "/tmp/ipykernel_84218/3803969322.py:5: RuntimeWarning: overflow encountered in exp\n",
      "  return 1 / (1 + np.exp(-z))\n",
      "/tmp/ipykernel_84218/3803969322.py:5: RuntimeWarning: overflow encountered in exp\n",
      "  return 1 / (1 + np.exp(-z))\n",
      "/tmp/ipykernel_84218/3803969322.py:5: RuntimeWarning: overflow encountered in exp\n",
      "  return 1 / (1 + np.exp(-z))\n",
      "/tmp/ipykernel_84218/3803969322.py:5: RuntimeWarning: overflow encountered in exp\n",
      "  return 1 / (1 + np.exp(-z))\n",
      "/tmp/ipykernel_84218/3803969322.py:5: RuntimeWarning: overflow encountered in exp\n",
      "  return 1 / (1 + np.exp(-z))\n",
      "/tmp/ipykernel_84218/3803969322.py:5: RuntimeWarning: overflow encountered in exp\n",
      "  return 1 / (1 + np.exp(-z))\n",
      "/tmp/ipykernel_84218/3803969322.py:5: RuntimeWarning: overflow encountered in exp\n",
      "  return 1 / (1 + np.exp(-z))\n",
      "/tmp/ipykernel_84218/3803969322.py:5: RuntimeWarning: overflow encountered in exp\n",
      "  return 1 / (1 + np.exp(-z))\n",
      "/tmp/ipykernel_84218/3803969322.py:5: RuntimeWarning: overflow encountered in exp\n",
      "  return 1 / (1 + np.exp(-z))\n",
      "/tmp/ipykernel_84218/3803969322.py:5: RuntimeWarning: overflow encountered in exp\n",
      "  return 1 / (1 + np.exp(-z))\n",
      "/tmp/ipykernel_84218/3803969322.py:5: RuntimeWarning: overflow encountered in exp\n",
      "  return 1 / (1 + np.exp(-z))\n",
      "/tmp/ipykernel_84218/3803969322.py:5: RuntimeWarning: overflow encountered in exp\n",
      "  return 1 / (1 + np.exp(-z))\n",
      "/tmp/ipykernel_84218/3803969322.py:5: RuntimeWarning: overflow encountered in exp\n",
      "  return 1 / (1 + np.exp(-z))\n",
      "/tmp/ipykernel_84218/3803969322.py:5: RuntimeWarning: overflow encountered in exp\n",
      "  return 1 / (1 + np.exp(-z))\n",
      "/tmp/ipykernel_84218/3803969322.py:5: RuntimeWarning: overflow encountered in exp\n",
      "  return 1 / (1 + np.exp(-z))\n",
      "/tmp/ipykernel_84218/3803969322.py:5: RuntimeWarning: overflow encountered in exp\n",
      "  return 1 / (1 + np.exp(-z))\n",
      "/tmp/ipykernel_84218/3803969322.py:5: RuntimeWarning: overflow encountered in exp\n",
      "  return 1 / (1 + np.exp(-z))\n",
      "/tmp/ipykernel_84218/3803969322.py:5: RuntimeWarning: overflow encountered in exp\n",
      "  return 1 / (1 + np.exp(-z))\n",
      "/tmp/ipykernel_84218/3803969322.py:5: RuntimeWarning: overflow encountered in exp\n",
      "  return 1 / (1 + np.exp(-z))\n",
      "/tmp/ipykernel_84218/3803969322.py:5: RuntimeWarning: overflow encountered in exp\n",
      "  return 1 / (1 + np.exp(-z))\n",
      "/tmp/ipykernel_84218/3803969322.py:5: RuntimeWarning: overflow encountered in exp\n",
      "  return 1 / (1 + np.exp(-z))\n",
      "/tmp/ipykernel_84218/3803969322.py:5: RuntimeWarning: overflow encountered in exp\n",
      "  return 1 / (1 + np.exp(-z))\n",
      "/tmp/ipykernel_84218/3803969322.py:5: RuntimeWarning: overflow encountered in exp\n",
      "  return 1 / (1 + np.exp(-z))\n",
      "/tmp/ipykernel_84218/3803969322.py:5: RuntimeWarning: overflow encountered in exp\n",
      "  return 1 / (1 + np.exp(-z))\n",
      "/tmp/ipykernel_84218/3803969322.py:5: RuntimeWarning: overflow encountered in exp\n",
      "  return 1 / (1 + np.exp(-z))\n",
      "/tmp/ipykernel_84218/3803969322.py:5: RuntimeWarning: overflow encountered in exp\n",
      "  return 1 / (1 + np.exp(-z))\n",
      "/tmp/ipykernel_84218/3803969322.py:5: RuntimeWarning: overflow encountered in exp\n",
      "  return 1 / (1 + np.exp(-z))\n",
      "/tmp/ipykernel_84218/3803969322.py:5: RuntimeWarning: overflow encountered in exp\n",
      "  return 1 / (1 + np.exp(-z))\n",
      "/tmp/ipykernel_84218/3803969322.py:5: RuntimeWarning: overflow encountered in exp\n",
      "  return 1 / (1 + np.exp(-z))\n",
      "/tmp/ipykernel_84218/3803969322.py:5: RuntimeWarning: overflow encountered in exp\n",
      "  return 1 / (1 + np.exp(-z))\n",
      "/tmp/ipykernel_84218/3803969322.py:5: RuntimeWarning: overflow encountered in exp\n",
      "  return 1 / (1 + np.exp(-z))\n",
      "/tmp/ipykernel_84218/3803969322.py:5: RuntimeWarning: overflow encountered in exp\n",
      "  return 1 / (1 + np.exp(-z))\n",
      "/tmp/ipykernel_84218/3803969322.py:5: RuntimeWarning: overflow encountered in exp\n",
      "  return 1 / (1 + np.exp(-z))\n",
      "/tmp/ipykernel_84218/3803969322.py:5: RuntimeWarning: overflow encountered in exp\n",
      "  return 1 / (1 + np.exp(-z))\n",
      "/tmp/ipykernel_84218/3803969322.py:5: RuntimeWarning: overflow encountered in exp\n",
      "  return 1 / (1 + np.exp(-z))\n",
      "/tmp/ipykernel_84218/3803969322.py:5: RuntimeWarning: overflow encountered in exp\n",
      "  return 1 / (1 + np.exp(-z))\n",
      "/tmp/ipykernel_84218/3803969322.py:5: RuntimeWarning: overflow encountered in exp\n",
      "  return 1 / (1 + np.exp(-z))\n",
      "/tmp/ipykernel_84218/3803969322.py:5: RuntimeWarning: overflow encountered in exp\n",
      "  return 1 / (1 + np.exp(-z))\n",
      "/tmp/ipykernel_84218/3803969322.py:5: RuntimeWarning: overflow encountered in exp\n",
      "  return 1 / (1 + np.exp(-z))\n",
      "/tmp/ipykernel_84218/3803969322.py:5: RuntimeWarning: overflow encountered in exp\n",
      "  return 1 / (1 + np.exp(-z))\n",
      "/tmp/ipykernel_84218/3803969322.py:5: RuntimeWarning: overflow encountered in exp\n",
      "  return 1 / (1 + np.exp(-z))\n",
      "/tmp/ipykernel_84218/3803969322.py:5: RuntimeWarning: overflow encountered in exp\n",
      "  return 1 / (1 + np.exp(-z))\n",
      "/tmp/ipykernel_84218/3803969322.py:5: RuntimeWarning: overflow encountered in exp\n",
      "  return 1 / (1 + np.exp(-z))\n",
      "/tmp/ipykernel_84218/3803969322.py:5: RuntimeWarning: overflow encountered in exp\n",
      "  return 1 / (1 + np.exp(-z))\n",
      "/tmp/ipykernel_84218/3803969322.py:5: RuntimeWarning: overflow encountered in exp\n",
      "  return 1 / (1 + np.exp(-z))\n",
      "/tmp/ipykernel_84218/3803969322.py:5: RuntimeWarning: overflow encountered in exp\n",
      "  return 1 / (1 + np.exp(-z))\n",
      "/tmp/ipykernel_84218/3803969322.py:5: RuntimeWarning: overflow encountered in exp\n",
      "  return 1 / (1 + np.exp(-z))\n",
      "/tmp/ipykernel_84218/3803969322.py:5: RuntimeWarning: overflow encountered in exp\n",
      "  return 1 / (1 + np.exp(-z))\n",
      "/tmp/ipykernel_84218/3803969322.py:5: RuntimeWarning: overflow encountered in exp\n",
      "  return 1 / (1 + np.exp(-z))\n",
      "/tmp/ipykernel_84218/3803969322.py:5: RuntimeWarning: overflow encountered in exp\n",
      "  return 1 / (1 + np.exp(-z))\n",
      "/tmp/ipykernel_84218/3803969322.py:5: RuntimeWarning: overflow encountered in exp\n",
      "  return 1 / (1 + np.exp(-z))\n",
      "/tmp/ipykernel_84218/3803969322.py:5: RuntimeWarning: overflow encountered in exp\n",
      "  return 1 / (1 + np.exp(-z))\n",
      "/tmp/ipykernel_84218/3803969322.py:5: RuntimeWarning: overflow encountered in exp\n",
      "  return 1 / (1 + np.exp(-z))\n",
      "/tmp/ipykernel_84218/3803969322.py:5: RuntimeWarning: overflow encountered in exp\n",
      "  return 1 / (1 + np.exp(-z))\n",
      "/tmp/ipykernel_84218/3803969322.py:5: RuntimeWarning: overflow encountered in exp\n",
      "  return 1 / (1 + np.exp(-z))\n",
      "/tmp/ipykernel_84218/3803969322.py:5: RuntimeWarning: overflow encountered in exp\n",
      "  return 1 / (1 + np.exp(-z))\n",
      "/tmp/ipykernel_84218/3803969322.py:5: RuntimeWarning: overflow encountered in exp\n",
      "  return 1 / (1 + np.exp(-z))\n",
      "/tmp/ipykernel_84218/3803969322.py:5: RuntimeWarning: overflow encountered in exp\n",
      "  return 1 / (1 + np.exp(-z))\n",
      "/tmp/ipykernel_84218/3803969322.py:5: RuntimeWarning: overflow encountered in exp\n",
      "  return 1 / (1 + np.exp(-z))\n",
      "/tmp/ipykernel_84218/3803969322.py:5: RuntimeWarning: overflow encountered in exp\n",
      "  return 1 / (1 + np.exp(-z))\n",
      "/tmp/ipykernel_84218/3803969322.py:5: RuntimeWarning: overflow encountered in exp\n",
      "  return 1 / (1 + np.exp(-z))\n",
      "/tmp/ipykernel_84218/3803969322.py:5: RuntimeWarning: overflow encountered in exp\n",
      "  return 1 / (1 + np.exp(-z))\n",
      "/tmp/ipykernel_84218/3803969322.py:5: RuntimeWarning: overflow encountered in exp\n",
      "  return 1 / (1 + np.exp(-z))\n",
      "/tmp/ipykernel_84218/3803969322.py:5: RuntimeWarning: overflow encountered in exp\n",
      "  return 1 / (1 + np.exp(-z))\n",
      "/tmp/ipykernel_84218/3803969322.py:5: RuntimeWarning: overflow encountered in exp\n",
      "  return 1 / (1 + np.exp(-z))\n",
      "/tmp/ipykernel_84218/3803969322.py:5: RuntimeWarning: overflow encountered in exp\n",
      "  return 1 / (1 + np.exp(-z))\n",
      "/tmp/ipykernel_84218/3803969322.py:5: RuntimeWarning: overflow encountered in exp\n",
      "  return 1 / (1 + np.exp(-z))\n",
      "/tmp/ipykernel_84218/3803969322.py:5: RuntimeWarning: overflow encountered in exp\n",
      "  return 1 / (1 + np.exp(-z))\n",
      "/tmp/ipykernel_84218/3803969322.py:5: RuntimeWarning: overflow encountered in exp\n",
      "  return 1 / (1 + np.exp(-z))\n",
      "/tmp/ipykernel_84218/3803969322.py:5: RuntimeWarning: overflow encountered in exp\n",
      "  return 1 / (1 + np.exp(-z))\n",
      "/tmp/ipykernel_84218/3803969322.py:5: RuntimeWarning: overflow encountered in exp\n",
      "  return 1 / (1 + np.exp(-z))\n",
      "/tmp/ipykernel_84218/3803969322.py:5: RuntimeWarning: overflow encountered in exp\n",
      "  return 1 / (1 + np.exp(-z))\n",
      "/tmp/ipykernel_84218/3803969322.py:5: RuntimeWarning: overflow encountered in exp\n",
      "  return 1 / (1 + np.exp(-z))\n",
      "/tmp/ipykernel_84218/3803969322.py:5: RuntimeWarning: overflow encountered in exp\n",
      "  return 1 / (1 + np.exp(-z))\n",
      "/tmp/ipykernel_84218/3803969322.py:5: RuntimeWarning: overflow encountered in exp\n",
      "  return 1 / (1 + np.exp(-z))\n",
      "/tmp/ipykernel_84218/3803969322.py:5: RuntimeWarning: overflow encountered in exp\n",
      "  return 1 / (1 + np.exp(-z))\n",
      "/tmp/ipykernel_84218/3803969322.py:5: RuntimeWarning: overflow encountered in exp\n",
      "  return 1 / (1 + np.exp(-z))\n",
      "/tmp/ipykernel_84218/3803969322.py:5: RuntimeWarning: overflow encountered in exp\n",
      "  return 1 / (1 + np.exp(-z))\n",
      "/tmp/ipykernel_84218/3803969322.py:5: RuntimeWarning: overflow encountered in exp\n",
      "  return 1 / (1 + np.exp(-z))\n",
      "/tmp/ipykernel_84218/3803969322.py:5: RuntimeWarning: overflow encountered in exp\n",
      "  return 1 / (1 + np.exp(-z))\n",
      "/tmp/ipykernel_84218/3803969322.py:5: RuntimeWarning: overflow encountered in exp\n",
      "  return 1 / (1 + np.exp(-z))\n",
      "/tmp/ipykernel_84218/3803969322.py:5: RuntimeWarning: overflow encountered in exp\n",
      "  return 1 / (1 + np.exp(-z))\n",
      "/tmp/ipykernel_84218/3803969322.py:5: RuntimeWarning: overflow encountered in exp\n",
      "  return 1 / (1 + np.exp(-z))\n",
      "/tmp/ipykernel_84218/3803969322.py:5: RuntimeWarning: overflow encountered in exp\n",
      "  return 1 / (1 + np.exp(-z))\n",
      "/tmp/ipykernel_84218/3803969322.py:5: RuntimeWarning: overflow encountered in exp\n",
      "  return 1 / (1 + np.exp(-z))\n",
      "/tmp/ipykernel_84218/3803969322.py:5: RuntimeWarning: overflow encountered in exp\n",
      "  return 1 / (1 + np.exp(-z))\n",
      "/tmp/ipykernel_84218/3803969322.py:5: RuntimeWarning: overflow encountered in exp\n",
      "  return 1 / (1 + np.exp(-z))\n",
      "/tmp/ipykernel_84218/3803969322.py:5: RuntimeWarning: overflow encountered in exp\n",
      "  return 1 / (1 + np.exp(-z))\n",
      "/tmp/ipykernel_84218/3803969322.py:5: RuntimeWarning: overflow encountered in exp\n",
      "  return 1 / (1 + np.exp(-z))\n",
      "/tmp/ipykernel_84218/3803969322.py:5: RuntimeWarning: overflow encountered in exp\n",
      "  return 1 / (1 + np.exp(-z))\n",
      "/tmp/ipykernel_84218/3803969322.py:5: RuntimeWarning: overflow encountered in exp\n",
      "  return 1 / (1 + np.exp(-z))\n",
      "/tmp/ipykernel_84218/3803969322.py:5: RuntimeWarning: overflow encountered in exp\n",
      "  return 1 / (1 + np.exp(-z))\n",
      "/tmp/ipykernel_84218/3803969322.py:5: RuntimeWarning: overflow encountered in exp\n",
      "  return 1 / (1 + np.exp(-z))\n",
      "/tmp/ipykernel_84218/3803969322.py:5: RuntimeWarning: overflow encountered in exp\n",
      "  return 1 / (1 + np.exp(-z))\n",
      "/tmp/ipykernel_84218/3803969322.py:5: RuntimeWarning: overflow encountered in exp\n",
      "  return 1 / (1 + np.exp(-z))\n",
      "/tmp/ipykernel_84218/3803969322.py:5: RuntimeWarning: overflow encountered in exp\n",
      "  return 1 / (1 + np.exp(-z))\n",
      "/tmp/ipykernel_84218/3803969322.py:5: RuntimeWarning: overflow encountered in exp\n",
      "  return 1 / (1 + np.exp(-z))\n",
      "/tmp/ipykernel_84218/3803969322.py:5: RuntimeWarning: overflow encountered in exp\n",
      "  return 1 / (1 + np.exp(-z))\n",
      "/tmp/ipykernel_84218/3803969322.py:5: RuntimeWarning: overflow encountered in exp\n",
      "  return 1 / (1 + np.exp(-z))\n",
      "/tmp/ipykernel_84218/3803969322.py:5: RuntimeWarning: overflow encountered in exp\n",
      "  return 1 / (1 + np.exp(-z))\n",
      "/tmp/ipykernel_84218/3803969322.py:5: RuntimeWarning: overflow encountered in exp\n",
      "  return 1 / (1 + np.exp(-z))\n",
      "/tmp/ipykernel_84218/3803969322.py:5: RuntimeWarning: overflow encountered in exp\n",
      "  return 1 / (1 + np.exp(-z))\n",
      "/tmp/ipykernel_84218/3803969322.py:5: RuntimeWarning: overflow encountered in exp\n",
      "  return 1 / (1 + np.exp(-z))\n",
      "/tmp/ipykernel_84218/3803969322.py:5: RuntimeWarning: overflow encountered in exp\n",
      "  return 1 / (1 + np.exp(-z))\n",
      "/tmp/ipykernel_84218/3803969322.py:5: RuntimeWarning: overflow encountered in exp\n",
      "  return 1 / (1 + np.exp(-z))\n",
      "/tmp/ipykernel_84218/3803969322.py:5: RuntimeWarning: overflow encountered in exp\n",
      "  return 1 / (1 + np.exp(-z))\n",
      "/tmp/ipykernel_84218/3803969322.py:5: RuntimeWarning: overflow encountered in exp\n",
      "  return 1 / (1 + np.exp(-z))\n",
      "/tmp/ipykernel_84218/3803969322.py:5: RuntimeWarning: overflow encountered in exp\n",
      "  return 1 / (1 + np.exp(-z))\n",
      "/tmp/ipykernel_84218/3803969322.py:5: RuntimeWarning: overflow encountered in exp\n",
      "  return 1 / (1 + np.exp(-z))\n",
      "/tmp/ipykernel_84218/3803969322.py:5: RuntimeWarning: overflow encountered in exp\n",
      "  return 1 / (1 + np.exp(-z))\n",
      "/tmp/ipykernel_84218/3803969322.py:5: RuntimeWarning: overflow encountered in exp\n",
      "  return 1 / (1 + np.exp(-z))\n",
      "/tmp/ipykernel_84218/3803969322.py:5: RuntimeWarning: overflow encountered in exp\n",
      "  return 1 / (1 + np.exp(-z))\n",
      "/tmp/ipykernel_84218/3803969322.py:5: RuntimeWarning: overflow encountered in exp\n",
      "  return 1 / (1 + np.exp(-z))\n",
      "/tmp/ipykernel_84218/3803969322.py:5: RuntimeWarning: overflow encountered in exp\n",
      "  return 1 / (1 + np.exp(-z))\n",
      "/tmp/ipykernel_84218/3803969322.py:5: RuntimeWarning: overflow encountered in exp\n",
      "  return 1 / (1 + np.exp(-z))\n",
      "/tmp/ipykernel_84218/3803969322.py:5: RuntimeWarning: overflow encountered in exp\n",
      "  return 1 / (1 + np.exp(-z))\n",
      "/tmp/ipykernel_84218/3803969322.py:5: RuntimeWarning: overflow encountered in exp\n",
      "  return 1 / (1 + np.exp(-z))\n",
      "/tmp/ipykernel_84218/3803969322.py:5: RuntimeWarning: overflow encountered in exp\n",
      "  return 1 / (1 + np.exp(-z))\n",
      "/tmp/ipykernel_84218/3803969322.py:5: RuntimeWarning: overflow encountered in exp\n",
      "  return 1 / (1 + np.exp(-z))\n",
      "/tmp/ipykernel_84218/3803969322.py:5: RuntimeWarning: overflow encountered in exp\n",
      "  return 1 / (1 + np.exp(-z))\n",
      "/tmp/ipykernel_84218/3803969322.py:5: RuntimeWarning: overflow encountered in exp\n",
      "  return 1 / (1 + np.exp(-z))\n",
      "/tmp/ipykernel_84218/3803969322.py:5: RuntimeWarning: overflow encountered in exp\n",
      "  return 1 / (1 + np.exp(-z))\n",
      "/tmp/ipykernel_84218/3803969322.py:5: RuntimeWarning: overflow encountered in exp\n",
      "  return 1 / (1 + np.exp(-z))\n",
      "/tmp/ipykernel_84218/3803969322.py:5: RuntimeWarning: overflow encountered in exp\n",
      "  return 1 / (1 + np.exp(-z))\n",
      "/tmp/ipykernel_84218/3803969322.py:5: RuntimeWarning: overflow encountered in exp\n",
      "  return 1 / (1 + np.exp(-z))\n",
      "/tmp/ipykernel_84218/3803969322.py:5: RuntimeWarning: overflow encountered in exp\n",
      "  return 1 / (1 + np.exp(-z))\n",
      "/tmp/ipykernel_84218/3803969322.py:5: RuntimeWarning: overflow encountered in exp\n",
      "  return 1 / (1 + np.exp(-z))\n",
      "/tmp/ipykernel_84218/3803969322.py:5: RuntimeWarning: overflow encountered in exp\n",
      "  return 1 / (1 + np.exp(-z))\n",
      "/tmp/ipykernel_84218/3803969322.py:5: RuntimeWarning: overflow encountered in exp\n",
      "  return 1 / (1 + np.exp(-z))\n",
      "/tmp/ipykernel_84218/3803969322.py:5: RuntimeWarning: overflow encountered in exp\n",
      "  return 1 / (1 + np.exp(-z))\n",
      "/tmp/ipykernel_84218/3803969322.py:5: RuntimeWarning: overflow encountered in exp\n",
      "  return 1 / (1 + np.exp(-z))\n",
      "/tmp/ipykernel_84218/3803969322.py:5: RuntimeWarning: overflow encountered in exp\n",
      "  return 1 / (1 + np.exp(-z))\n",
      "/tmp/ipykernel_84218/3803969322.py:5: RuntimeWarning: overflow encountered in exp\n",
      "  return 1 / (1 + np.exp(-z))\n",
      "/tmp/ipykernel_84218/3803969322.py:5: RuntimeWarning: overflow encountered in exp\n",
      "  return 1 / (1 + np.exp(-z))\n",
      "/tmp/ipykernel_84218/3803969322.py:5: RuntimeWarning: overflow encountered in exp\n",
      "  return 1 / (1 + np.exp(-z))\n",
      "/tmp/ipykernel_84218/3803969322.py:5: RuntimeWarning: overflow encountered in exp\n",
      "  return 1 / (1 + np.exp(-z))\n",
      "/tmp/ipykernel_84218/3803969322.py:5: RuntimeWarning: overflow encountered in exp\n",
      "  return 1 / (1 + np.exp(-z))\n",
      "/tmp/ipykernel_84218/3803969322.py:5: RuntimeWarning: overflow encountered in exp\n",
      "  return 1 / (1 + np.exp(-z))\n",
      "/tmp/ipykernel_84218/3803969322.py:5: RuntimeWarning: overflow encountered in exp\n",
      "  return 1 / (1 + np.exp(-z))\n",
      "/tmp/ipykernel_84218/3803969322.py:5: RuntimeWarning: overflow encountered in exp\n",
      "  return 1 / (1 + np.exp(-z))\n",
      "/tmp/ipykernel_84218/3803969322.py:5: RuntimeWarning: overflow encountered in exp\n",
      "  return 1 / (1 + np.exp(-z))\n",
      "/tmp/ipykernel_84218/3803969322.py:5: RuntimeWarning: overflow encountered in exp\n",
      "  return 1 / (1 + np.exp(-z))\n",
      "/tmp/ipykernel_84218/3803969322.py:5: RuntimeWarning: overflow encountered in exp\n",
      "  return 1 / (1 + np.exp(-z))\n",
      "/tmp/ipykernel_84218/3803969322.py:5: RuntimeWarning: overflow encountered in exp\n",
      "  return 1 / (1 + np.exp(-z))\n",
      "/tmp/ipykernel_84218/3803969322.py:5: RuntimeWarning: overflow encountered in exp\n",
      "  return 1 / (1 + np.exp(-z))\n",
      "/tmp/ipykernel_84218/3803969322.py:5: RuntimeWarning: overflow encountered in exp\n",
      "  return 1 / (1 + np.exp(-z))\n",
      "/tmp/ipykernel_84218/3803969322.py:5: RuntimeWarning: overflow encountered in exp\n",
      "  return 1 / (1 + np.exp(-z))\n",
      "/tmp/ipykernel_84218/3803969322.py:5: RuntimeWarning: overflow encountered in exp\n",
      "  return 1 / (1 + np.exp(-z))\n",
      "/tmp/ipykernel_84218/3803969322.py:5: RuntimeWarning: overflow encountered in exp\n",
      "  return 1 / (1 + np.exp(-z))\n",
      "/tmp/ipykernel_84218/3803969322.py:5: RuntimeWarning: overflow encountered in exp\n",
      "  return 1 / (1 + np.exp(-z))\n",
      "/tmp/ipykernel_84218/3803969322.py:5: RuntimeWarning: overflow encountered in exp\n",
      "  return 1 / (1 + np.exp(-z))\n",
      "/tmp/ipykernel_84218/3803969322.py:5: RuntimeWarning: overflow encountered in exp\n",
      "  return 1 / (1 + np.exp(-z))\n",
      "/tmp/ipykernel_84218/3803969322.py:5: RuntimeWarning: overflow encountered in exp\n",
      "  return 1 / (1 + np.exp(-z))\n",
      "/tmp/ipykernel_84218/3803969322.py:5: RuntimeWarning: overflow encountered in exp\n",
      "  return 1 / (1 + np.exp(-z))\n",
      "/tmp/ipykernel_84218/3803969322.py:5: RuntimeWarning: overflow encountered in exp\n",
      "  return 1 / (1 + np.exp(-z))\n",
      "/tmp/ipykernel_84218/3803969322.py:5: RuntimeWarning: overflow encountered in exp\n",
      "  return 1 / (1 + np.exp(-z))\n",
      "/tmp/ipykernel_84218/3803969322.py:5: RuntimeWarning: overflow encountered in exp\n",
      "  return 1 / (1 + np.exp(-z))\n",
      "/tmp/ipykernel_84218/3803969322.py:5: RuntimeWarning: overflow encountered in exp\n",
      "  return 1 / (1 + np.exp(-z))\n",
      "/tmp/ipykernel_84218/3803969322.py:5: RuntimeWarning: overflow encountered in exp\n",
      "  return 1 / (1 + np.exp(-z))\n",
      "/tmp/ipykernel_84218/3803969322.py:5: RuntimeWarning: overflow encountered in exp\n",
      "  return 1 / (1 + np.exp(-z))\n",
      "/tmp/ipykernel_84218/3803969322.py:5: RuntimeWarning: overflow encountered in exp\n",
      "  return 1 / (1 + np.exp(-z))\n",
      "/tmp/ipykernel_84218/3803969322.py:5: RuntimeWarning: overflow encountered in exp\n",
      "  return 1 / (1 + np.exp(-z))\n",
      "/tmp/ipykernel_84218/3803969322.py:5: RuntimeWarning: overflow encountered in exp\n",
      "  return 1 / (1 + np.exp(-z))\n",
      "/tmp/ipykernel_84218/3803969322.py:5: RuntimeWarning: overflow encountered in exp\n",
      "  return 1 / (1 + np.exp(-z))\n",
      "/tmp/ipykernel_84218/2340279699.py:23: RuntimeWarning: invalid value encountered in multiply\n",
      "  delta = np.dot(delta, weights.T) * self.f_prime_z\n"
     ]
    },
    {
     "ename": "ValueError",
     "evalue": "Input contains NaN.",
     "output_type": "error",
     "traceback": [
      "\u001b[0;31m---------------------------------------------------------------------------\u001b[0m",
      "\u001b[0;31mValueError\u001b[0m                                Traceback (most recent call last)",
      "\u001b[1;32m/home/prakhar/Desktop/assignment-3-prakharjain3/Task 1 2 3.ipynb Cell 70\u001b[0m line \u001b[0;36m7\n\u001b[1;32m     <a href='vscode-notebook-cell:/home/prakhar/Desktop/assignment-3-prakharjain3/Task%201%202%203.ipynb#Y126sZmlsZQ%3D%3D?line=69'>70</a>\u001b[0m \u001b[39mfor\u001b[39;00m epochs \u001b[39min\u001b[39;00m epochs_values:\n\u001b[1;32m     <a href='vscode-notebook-cell:/home/prakhar/Desktop/assignment-3-prakharjain3/Task%201%202%203.ipynb#Y126sZmlsZQ%3D%3D?line=70'>71</a>\u001b[0m     \u001b[39mfor\u001b[39;00m hidden_layer_neurons \u001b[39min\u001b[39;00m [[\u001b[39m32\u001b[39m, \u001b[39m32\u001b[39m], [\u001b[39m64\u001b[39m, \u001b[39m64\u001b[39m], [\u001b[39m32\u001b[39m, \u001b[39m64\u001b[39m]]:\n\u001b[0;32m---> <a href='vscode-notebook-cell:/home/prakhar/Desktop/assignment-3-prakharjain3/Task%201%202%203.ipynb#Y126sZmlsZQ%3D%3D?line=71'>72</a>\u001b[0m         run_experiment(activation_function, optimizer, learning_rate, epochs, hidden_layer_neurons)\n",
      "\u001b[1;32m/home/prakhar/Desktop/assignment-3-prakharjain3/Task 1 2 3.ipynb Cell 70\u001b[0m line \u001b[0;36m2\n\u001b[1;32m     <a href='vscode-notebook-cell:/home/prakhar/Desktop/assignment-3-prakharjain3/Task%201%202%203.ipynb#Y126sZmlsZQ%3D%3D?line=9'>10</a>\u001b[0m wandb\u001b[39m.\u001b[39minit(project\u001b[39m=\u001b[39m\u001b[39m\"\u001b[39m\u001b[39mmulti-layer-regression\u001b[39m\u001b[39m\"\u001b[39m, config\u001b[39m=\u001b[39m{\n\u001b[1;32m     <a href='vscode-notebook-cell:/home/prakhar/Desktop/assignment-3-prakharjain3/Task%201%202%203.ipynb#Y126sZmlsZQ%3D%3D?line=10'>11</a>\u001b[0m     \u001b[39m\"\u001b[39m\u001b[39mactivation_function\u001b[39m\u001b[39m\"\u001b[39m: activation_function,\n\u001b[1;32m     <a href='vscode-notebook-cell:/home/prakhar/Desktop/assignment-3-prakharjain3/Task%201%202%203.ipynb#Y126sZmlsZQ%3D%3D?line=11'>12</a>\u001b[0m     \u001b[39m\"\u001b[39m\u001b[39moptimizer\u001b[39m\u001b[39m\"\u001b[39m: optimizer,\n\u001b[0;32m   (...)\u001b[0m\n\u001b[1;32m     <a href='vscode-notebook-cell:/home/prakhar/Desktop/assignment-3-prakharjain3/Task%201%202%203.ipynb#Y126sZmlsZQ%3D%3D?line=14'>15</a>\u001b[0m     \u001b[39m\"\u001b[39m\u001b[39mhidden_layer_neurons\u001b[39m\u001b[39m\"\u001b[39m: hidden_layer_neurons\n\u001b[1;32m     <a href='vscode-notebook-cell:/home/prakhar/Desktop/assignment-3-prakharjain3/Task%201%202%203.ipynb#Y126sZmlsZQ%3D%3D?line=15'>16</a>\u001b[0m })\n\u001b[1;32m     <a href='vscode-notebook-cell:/home/prakhar/Desktop/assignment-3-prakharjain3/Task%201%202%203.ipynb#Y126sZmlsZQ%3D%3D?line=17'>18</a>\u001b[0m mlp \u001b[39m=\u001b[39m MLP(\\\n\u001b[1;32m     <a href='vscode-notebook-cell:/home/prakhar/Desktop/assignment-3-prakharjain3/Task%201%202%203.ipynb#Y126sZmlsZQ%3D%3D?line=18'>19</a>\u001b[0m     input_size\u001b[39m=\u001b[39minput_size, \\\n\u001b[1;32m     <a href='vscode-notebook-cell:/home/prakhar/Desktop/assignment-3-prakharjain3/Task%201%202%203.ipynb#Y126sZmlsZQ%3D%3D?line=19'>20</a>\u001b[0m         hidden_layer_sizes\u001b[39m=\u001b[39mhidden_layer_neurons, \\\n\u001b[0;32m   (...)\u001b[0m\n\u001b[1;32m     <a href='vscode-notebook-cell:/home/prakhar/Desktop/assignment-3-prakharjain3/Task%201%202%203.ipynb#Y126sZmlsZQ%3D%3D?line=24'>25</a>\u001b[0m                             loss\u001b[39m=\u001b[39mMSELoss(), \\\n\u001b[1;32m     <a href='vscode-notebook-cell:/home/prakhar/Desktop/assignment-3-prakharjain3/Task%201%202%203.ipynb#Y126sZmlsZQ%3D%3D?line=25'>26</a>\u001b[0m                                 learning_rate\u001b[39m=\u001b[39mlearning_rate)\n\u001b[0;32m---> <a href='vscode-notebook-cell:/home/prakhar/Desktop/assignment-3-prakharjain3/Task%201%202%203.ipynb#Y126sZmlsZQ%3D%3D?line=27'>28</a>\u001b[0m mlp\u001b[39m.\u001b[39;49mtrain(X_train, y_train, X_val, y_val, epochs\u001b[39m=\u001b[39;49mepochs)\n\u001b[1;32m     <a href='vscode-notebook-cell:/home/prakhar/Desktop/assignment-3-prakharjain3/Task%201%202%203.ipynb#Y126sZmlsZQ%3D%3D?line=29'>30</a>\u001b[0m y_pred_val \u001b[39m=\u001b[39m mlp\u001b[39m.\u001b[39mpredict(X_val)\n\u001b[1;32m     <a href='vscode-notebook-cell:/home/prakhar/Desktop/assignment-3-prakharjain3/Task%201%202%203.ipynb#Y126sZmlsZQ%3D%3D?line=30'>31</a>\u001b[0m y_pred_train \u001b[39m=\u001b[39m mlp\u001b[39m.\u001b[39mpredict(X_train)\n",
      "\u001b[1;32m/home/prakhar/Desktop/assignment-3-prakharjain3/Task 1 2 3.ipynb Cell 70\u001b[0m line \u001b[0;36m1\n\u001b[1;32m    <a href='vscode-notebook-cell:/home/prakhar/Desktop/assignment-3-prakharjain3/Task%201%202%203.ipynb#Y126sZmlsZQ%3D%3D?line=134'>135</a>\u001b[0m     \u001b[39mself\u001b[39m\u001b[39m.\u001b[39mtrain_bgd(X_train, y_train, X_val, y_val, epochs)\n\u001b[1;32m    <a href='vscode-notebook-cell:/home/prakhar/Desktop/assignment-3-prakharjain3/Task%201%202%203.ipynb#Y126sZmlsZQ%3D%3D?line=135'>136</a>\u001b[0m \u001b[39mif\u001b[39;00m \u001b[39mself\u001b[39m\u001b[39m.\u001b[39moptimizer \u001b[39m==\u001b[39m \u001b[39m\"\u001b[39m\u001b[39msgd\u001b[39m\u001b[39m\"\u001b[39m:\n\u001b[0;32m--> <a href='vscode-notebook-cell:/home/prakhar/Desktop/assignment-3-prakharjain3/Task%201%202%203.ipynb#Y126sZmlsZQ%3D%3D?line=136'>137</a>\u001b[0m     \u001b[39mself\u001b[39;49m\u001b[39m.\u001b[39;49mtrain_sgd(X_train, y_train, X_val, y_val, epochs)\n\u001b[1;32m    <a href='vscode-notebook-cell:/home/prakhar/Desktop/assignment-3-prakharjain3/Task%201%202%203.ipynb#Y126sZmlsZQ%3D%3D?line=137'>138</a>\u001b[0m \u001b[39mif\u001b[39;00m \u001b[39mself\u001b[39m\u001b[39m.\u001b[39moptimizer \u001b[39m==\u001b[39m \u001b[39m\"\u001b[39m\u001b[39mmbgd\u001b[39m\u001b[39m\"\u001b[39m:            \n\u001b[1;32m    <a href='vscode-notebook-cell:/home/prakhar/Desktop/assignment-3-prakharjain3/Task%201%202%203.ipynb#Y126sZmlsZQ%3D%3D?line=138'>139</a>\u001b[0m     \u001b[39mself\u001b[39m\u001b[39m.\u001b[39mtrain_mbgd(X_train, y_train, X_val, y_val, epochs, batch_size)\n",
      "\u001b[1;32m/home/prakhar/Desktop/assignment-3-prakharjain3/Task 1 2 3.ipynb Cell 70\u001b[0m line \u001b[0;36m1\n\u001b[1;32m    <a href='vscode-notebook-cell:/home/prakhar/Desktop/assignment-3-prakharjain3/Task%201%202%203.ipynb#Y126sZmlsZQ%3D%3D?line=162'>163</a>\u001b[0m     \u001b[39mself\u001b[39m\u001b[39m.\u001b[39mtrain_accuracies\u001b[39m.\u001b[39mappend(acc_train)\n\u001b[1;32m    <a href='vscode-notebook-cell:/home/prakhar/Desktop/assignment-3-prakharjain3/Task%201%202%203.ipynb#Y126sZmlsZQ%3D%3D?line=163'>164</a>\u001b[0m \u001b[39melif\u001b[39;00m \u001b[39mself\u001b[39m\u001b[39m.\u001b[39moutput_activation_function \u001b[39m==\u001b[39m \u001b[39m\"\u001b[39m\u001b[39midentity\u001b[39m\u001b[39m\"\u001b[39m:\n\u001b[1;32m    <a href='vscode-notebook-cell:/home/prakhar/Desktop/assignment-3-prakharjain3/Task%201%202%203.ipynb#Y126sZmlsZQ%3D%3D?line=164'>165</a>\u001b[0m     \u001b[39m# calculate RMSE MSE and R-Square\u001b[39;00m\n\u001b[1;32m    <a href='vscode-notebook-cell:/home/prakhar/Desktop/assignment-3-prakharjain3/Task%201%202%203.ipynb#Y126sZmlsZQ%3D%3D?line=165'>166</a>\u001b[0m     \u001b[39m# print(y_pred_train)\u001b[39;00m\n\u001b[0;32m--> <a href='vscode-notebook-cell:/home/prakhar/Desktop/assignment-3-prakharjain3/Task%201%202%203.ipynb#Y126sZmlsZQ%3D%3D?line=166'>167</a>\u001b[0m     \u001b[39mself\u001b[39m\u001b[39m.\u001b[39mtrain_mse\u001b[39m.\u001b[39mappend(mean_squared_error(y_train, y_pred_train))\n\u001b[1;32m    <a href='vscode-notebook-cell:/home/prakhar/Desktop/assignment-3-prakharjain3/Task%201%202%203.ipynb#Y126sZmlsZQ%3D%3D?line=167'>168</a>\u001b[0m     \u001b[39mself\u001b[39m\u001b[39m.\u001b[39mtrain_rmse\u001b[39m.\u001b[39mappend(np\u001b[39m.\u001b[39msqrt(mean_squared_error(y_train, y_pred_train)))\n\u001b[1;32m    <a href='vscode-notebook-cell:/home/prakhar/Desktop/assignment-3-prakharjain3/Task%201%202%203.ipynb#Y126sZmlsZQ%3D%3D?line=168'>169</a>\u001b[0m     \u001b[39mself\u001b[39m\u001b[39m.\u001b[39mtrain_r2_score\u001b[39m.\u001b[39mappend(r2_score(y_train, y_pred_train))\n",
      "File \u001b[0;32m~/miniconda3/lib/python3.11/site-packages/sklearn/metrics/_regression.py:442\u001b[0m, in \u001b[0;36mmean_squared_error\u001b[0;34m(y_true, y_pred, sample_weight, multioutput, squared)\u001b[0m\n\u001b[1;32m    382\u001b[0m \u001b[39mdef\u001b[39;00m \u001b[39mmean_squared_error\u001b[39m(\n\u001b[1;32m    383\u001b[0m     y_true, y_pred, \u001b[39m*\u001b[39m, sample_weight\u001b[39m=\u001b[39m\u001b[39mNone\u001b[39;00m, multioutput\u001b[39m=\u001b[39m\u001b[39m\"\u001b[39m\u001b[39muniform_average\u001b[39m\u001b[39m\"\u001b[39m, squared\u001b[39m=\u001b[39m\u001b[39mTrue\u001b[39;00m\n\u001b[1;32m    384\u001b[0m ):\n\u001b[1;32m    385\u001b[0m \u001b[39m    \u001b[39m\u001b[39m\"\"\"Mean squared error regression loss.\u001b[39;00m\n\u001b[1;32m    386\u001b[0m \n\u001b[1;32m    387\u001b[0m \u001b[39m    Read more in the :ref:`User Guide <mean_squared_error>`.\u001b[39;00m\n\u001b[0;32m   (...)\u001b[0m\n\u001b[1;32m    440\u001b[0m \u001b[39m    0.825...\u001b[39;00m\n\u001b[1;32m    441\u001b[0m \u001b[39m    \"\"\"\u001b[39;00m\n\u001b[0;32m--> 442\u001b[0m     y_type, y_true, y_pred, multioutput \u001b[39m=\u001b[39m _check_reg_targets(\n\u001b[1;32m    443\u001b[0m         y_true, y_pred, multioutput\n\u001b[1;32m    444\u001b[0m     )\n\u001b[1;32m    445\u001b[0m     check_consistent_length(y_true, y_pred, sample_weight)\n\u001b[1;32m    446\u001b[0m     output_errors \u001b[39m=\u001b[39m np\u001b[39m.\u001b[39maverage((y_true \u001b[39m-\u001b[39m y_pred) \u001b[39m*\u001b[39m\u001b[39m*\u001b[39m \u001b[39m2\u001b[39m, axis\u001b[39m=\u001b[39m\u001b[39m0\u001b[39m, weights\u001b[39m=\u001b[39msample_weight)\n",
      "File \u001b[0;32m~/miniconda3/lib/python3.11/site-packages/sklearn/metrics/_regression.py:102\u001b[0m, in \u001b[0;36m_check_reg_targets\u001b[0;34m(y_true, y_pred, multioutput, dtype)\u001b[0m\n\u001b[1;32m    100\u001b[0m check_consistent_length(y_true, y_pred)\n\u001b[1;32m    101\u001b[0m y_true \u001b[39m=\u001b[39m check_array(y_true, ensure_2d\u001b[39m=\u001b[39m\u001b[39mFalse\u001b[39;00m, dtype\u001b[39m=\u001b[39mdtype)\n\u001b[0;32m--> 102\u001b[0m y_pred \u001b[39m=\u001b[39m check_array(y_pred, ensure_2d\u001b[39m=\u001b[39;49m\u001b[39mFalse\u001b[39;49;00m, dtype\u001b[39m=\u001b[39;49mdtype)\n\u001b[1;32m    104\u001b[0m \u001b[39mif\u001b[39;00m y_true\u001b[39m.\u001b[39mndim \u001b[39m==\u001b[39m \u001b[39m1\u001b[39m:\n\u001b[1;32m    105\u001b[0m     y_true \u001b[39m=\u001b[39m y_true\u001b[39m.\u001b[39mreshape((\u001b[39m-\u001b[39m\u001b[39m1\u001b[39m, \u001b[39m1\u001b[39m))\n",
      "File \u001b[0;32m~/miniconda3/lib/python3.11/site-packages/sklearn/utils/validation.py:921\u001b[0m, in \u001b[0;36mcheck_array\u001b[0;34m(array, accept_sparse, accept_large_sparse, dtype, order, copy, force_all_finite, ensure_2d, allow_nd, ensure_min_samples, ensure_min_features, estimator, input_name)\u001b[0m\n\u001b[1;32m    915\u001b[0m         \u001b[39mraise\u001b[39;00m \u001b[39mValueError\u001b[39;00m(\n\u001b[1;32m    916\u001b[0m             \u001b[39m\"\u001b[39m\u001b[39mFound array with dim \u001b[39m\u001b[39m%d\u001b[39;00m\u001b[39m. \u001b[39m\u001b[39m%s\u001b[39;00m\u001b[39m expected <= 2.\u001b[39m\u001b[39m\"\u001b[39m\n\u001b[1;32m    917\u001b[0m             \u001b[39m%\u001b[39m (array\u001b[39m.\u001b[39mndim, estimator_name)\n\u001b[1;32m    918\u001b[0m         )\n\u001b[1;32m    920\u001b[0m     \u001b[39mif\u001b[39;00m force_all_finite:\n\u001b[0;32m--> 921\u001b[0m         _assert_all_finite(\n\u001b[1;32m    922\u001b[0m             array,\n\u001b[1;32m    923\u001b[0m             input_name\u001b[39m=\u001b[39;49minput_name,\n\u001b[1;32m    924\u001b[0m             estimator_name\u001b[39m=\u001b[39;49mestimator_name,\n\u001b[1;32m    925\u001b[0m             allow_nan\u001b[39m=\u001b[39;49mforce_all_finite \u001b[39m==\u001b[39;49m \u001b[39m\"\u001b[39;49m\u001b[39mallow-nan\u001b[39;49m\u001b[39m\"\u001b[39;49m,\n\u001b[1;32m    926\u001b[0m         )\n\u001b[1;32m    928\u001b[0m \u001b[39mif\u001b[39;00m ensure_min_samples \u001b[39m>\u001b[39m \u001b[39m0\u001b[39m:\n\u001b[1;32m    929\u001b[0m     n_samples \u001b[39m=\u001b[39m _num_samples(array)\n",
      "File \u001b[0;32m~/miniconda3/lib/python3.11/site-packages/sklearn/utils/validation.py:161\u001b[0m, in \u001b[0;36m_assert_all_finite\u001b[0;34m(X, allow_nan, msg_dtype, estimator_name, input_name)\u001b[0m\n\u001b[1;32m    144\u001b[0m \u001b[39mif\u001b[39;00m estimator_name \u001b[39mand\u001b[39;00m input_name \u001b[39m==\u001b[39m \u001b[39m\"\u001b[39m\u001b[39mX\u001b[39m\u001b[39m\"\u001b[39m \u001b[39mand\u001b[39;00m has_nan_error:\n\u001b[1;32m    145\u001b[0m     \u001b[39m# Improve the error message on how to handle missing values in\u001b[39;00m\n\u001b[1;32m    146\u001b[0m     \u001b[39m# scikit-learn.\u001b[39;00m\n\u001b[1;32m    147\u001b[0m     msg_err \u001b[39m+\u001b[39m\u001b[39m=\u001b[39m (\n\u001b[1;32m    148\u001b[0m         \u001b[39mf\u001b[39m\u001b[39m\"\u001b[39m\u001b[39m\\n\u001b[39;00m\u001b[39m{\u001b[39;00mestimator_name\u001b[39m}\u001b[39;00m\u001b[39m does not accept missing values\u001b[39m\u001b[39m\"\u001b[39m\n\u001b[1;32m    149\u001b[0m         \u001b[39m\"\u001b[39m\u001b[39m encoded as NaN natively. For supervised learning, you might want\u001b[39m\u001b[39m\"\u001b[39m\n\u001b[0;32m   (...)\u001b[0m\n\u001b[1;32m    159\u001b[0m         \u001b[39m\"\u001b[39m\u001b[39m#estimators-that-handle-nan-values\u001b[39m\u001b[39m\"\u001b[39m\n\u001b[1;32m    160\u001b[0m     )\n\u001b[0;32m--> 161\u001b[0m \u001b[39mraise\u001b[39;00m \u001b[39mValueError\u001b[39;00m(msg_err)\n",
      "\u001b[0;31mValueError\u001b[0m: Input contains NaN."
     ]
    }
   ],
   "source": [
    "import numpy as np\n",
    "import wandb\n",
    "from sklearn.metrics import f1_score, precision_score, recall_score\n",
    "\n",
    "# Import your custom classes and functions (e.g., MLP, loss functions) here\n",
    "\n",
    "# Define a function to perform an experiment with given hyperparameters\n",
    "def run_experiment(activation_function, optimizer, learning_rate, epochs, hidden_layer_neurons):\n",
    "    # Initialize Weights & Biases for the experiment\n",
    "    wandb.init(project=\"multi-layer-regression\", config={\n",
    "        \"activation_function\": activation_function,\n",
    "        \"optimizer\": optimizer,\n",
    "        \"learning_rate\": learning_rate,\n",
    "        \"epochs\": epochs,\n",
    "        \"hidden_layer_neurons\": hidden_layer_neurons\n",
    "    })\n",
    "\n",
    "    mlp = MLP(\\\n",
    "        input_size=input_size, \\\n",
    "            hidden_layer_sizes=hidden_layer_neurons, \\\n",
    "                output_size=output_size, \\\n",
    "                    activation_function=[activation_function, activation_function], \\\n",
    "                        output_activation_function=\"identity\", \\\n",
    "                            optimizer=optimizer, \\\n",
    "                                loss=MSELoss(), \\\n",
    "                                    learning_rate=learning_rate)\n",
    "    \n",
    "    mlp.train(X_train, y_train, X_val, y_val, epochs=epochs)\n",
    "\n",
    "    y_pred_val = mlp.predict(X_val)\n",
    "    y_pred_train = mlp.predict(X_train)\n",
    "    \n",
    "\n",
    "    for epochs in range(len(mlp.train_losses)):\n",
    "        wandb.log({\n",
    "            # \"Training Loss\": mlp.train_losses[epochs],\n",
    "            \"Validation Loss\": mlp.val_losses[epochs],\n",
    "            # \"Training Accuracy\": mlp.train_accuracies[epochs],\n",
    "            # \"Validation Accuracy\": mlp.val_accuracies[epochs],\n",
    "        })\n",
    "    \n",
    "    # Log metrics using W&B\n",
    "    # wandb.log({\n",
    "    #     \"Training Loss\": mlp.train_losses[-1],\n",
    "    #     \"Training Accuracy\": mlp.train_accuracies[-1],\n",
    "    #     \"Validation Loss\": mlp.val_losses[-1],\n",
    "    #     \"Validation Accuracy\": mlp.val_accuracies[-1],\n",
    "    #     \"Training F1 Score\": f1_train,\n",
    "    #     \"Training Precision\": precision_train,\n",
    "    #     \"Training Recall\": recall_train,\n",
    "    #     \"Validation F1 Score\": f1_val,\n",
    "    #     \"Validation Precision\": precision_val,\n",
    "    #     \"Validation Recall\": recall_val\n",
    "    # })\n",
    "\n",
    "    # Finish the W&B run\n",
    "    wandb.finish()\n",
    "\n",
    "# Define hyperparameter search space\n",
    "activation_functions = [\"sigmoid\", \"tanh\", \"relu\"]\n",
    "optimizers = [\"sgd\", \"bgd\", \"mbgd\"]\n",
    "learning_rates = [0.001, 0.01, 0.1]\n",
    "epochs_values = [1000, 2000]\n",
    "# hidden_layer_neurons_values = [[32, 32], [64, 64]]\n",
    "\n",
    "# Loop over hyperparameter combinations\n",
    "for activation_function in activation_functions:\n",
    "    for optimizer in optimizers:\n",
    "        for learning_rate in learning_rates:\n",
    "            for epochs in epochs_values:\n",
    "                for hidden_layer_neurons in [[32, 32], [64, 64], [32, 64]]:\n",
    "                    run_experiment(activation_function, optimizer, learning_rate, epochs, hidden_layer_neurons)"
   ]
  },
  {
   "cell_type": "markdown",
   "metadata": {},
   "source": [
    "# For multi-label classification"
   ]
  },
  {
   "cell_type": "code",
   "execution_count": 6,
   "metadata": {},
   "outputs": [],
   "source": [
    "from sklearn.preprocessing import MultiLabelBinarizer\n",
    "from sklearn.preprocessing import StandardScaler"
   ]
  },
  {
   "cell_type": "code",
   "execution_count": 7,
   "metadata": {},
   "outputs": [],
   "source": [
    "class MLP:\n",
    "    def __init__(self, input_size, hidden_layer_sizes, output_size,\\\n",
    "                 activation_function, output_activation_function, optimizer, loss, learning_rate = 0.001) -> None:\n",
    "        \"\"\"\n",
    "        input_size: number of features in the input\n",
    "        \n",
    "        hidden_layer_sizes: list of number of neurons in each hidden layer\n",
    "        \n",
    "        output_size: number of classes in the output\n",
    "        \n",
    "        activation_function: list of activation function for each layer\n",
    "        \n",
    "        learning_rate: learning rate for gradient \n",
    "        \"\"\"\n",
    "        \n",
    "        self.act_dict = {\n",
    "            \"sigmoid\": Sigmoid(),\n",
    "            \"tanh\": Tanh(),\n",
    "            \"relu\": ReLU(),\n",
    "            \"identity\": Identity(),\n",
    "            \"softmax\": Softmax()\n",
    "        }\n",
    "        \n",
    "        \n",
    "        # # initial plan was to implement classes for the optimizers\n",
    "        # self.opt_dict = {\n",
    "        #     \"sgd\": SGD(),\n",
    "        #     \"bgd\": BGD(),\n",
    "        #     \"mbsgd\" : MBGD()\n",
    "        # }\n",
    "        \n",
    "                \n",
    "        for act in activation_function:\n",
    "            act = act.lower()\n",
    "            \n",
    "        self.optimizer = optimizer\n",
    "        self.output_activation_function = output_activation_function\n",
    "        \n",
    "        self.layers = []\n",
    "        # self.activation_function = []\n",
    "        self.learning_rate = learning_rate\n",
    "        self.loss = loss\n",
    "        \n",
    "        self.train_losses = []\n",
    "        self.val_losses = []\n",
    "        self.train_accuracies = []\n",
    "        self.val_accuracies = []\n",
    "        \n",
    "        self.train_rmse = []\n",
    "        self.val_rmse = []\n",
    "        self.train_mse = []\n",
    "        self.val_mse = []\n",
    "        self.train_r2_score = []\n",
    "        self.val_r2_score = []\n",
    "        \n",
    "        # self.y_pred = None\n",
    "\n",
    "        # initialize the input layer\n",
    "        self.layers.append(InputLayer(input_size))\n",
    "        \n",
    "        hidden_layer_sizes.insert(0, input_size)\n",
    "        # +1 for the ones we are inserting in X\n",
    "        activation_function.insert(0, None)\n",
    "        # ic(hidden_layer_sizes)\n",
    "        \n",
    "        self.hidden_layer_sizes = hidden_layer_sizes\n",
    "        self.activation_function = activation_function\n",
    "        \n",
    "        for i in range(1, len(hidden_layer_sizes)):\n",
    "            ic(i)\n",
    "            self.layers.append(Layer(no_of_inputs=hidden_layer_sizes[i-1],no_of_neurons= hidden_layer_sizes[i], activation=self.act_dict[activation_function[i]]))\n",
    "\n",
    "        self.layers.append(OutputLayer(hidden_layer_sizes[-1], output_size, self.act_dict[output_activation_function]))\n",
    "        # print(len(self.layers))\n",
    "    \n",
    "    def forward_propagation(self, x)-> None:\n",
    "        # Forward propagation\n",
    "        for layer in self.layers:\n",
    "            x = layer.forward(x)\n",
    "        return x\n",
    "        # return Softmax().activation(x)\n",
    "        # return x\n",
    "    \n",
    "    # def backward_propagation(self, x, y)-> None:\n",
    "    \n",
    "    def backward_propagation(self, y_pred, y_true)-> None:\n",
    "        # Forward propagation\n",
    "        # self.forward_propagation(x)\n",
    "        \n",
    "        # calculate the loss gradient with respect to the output of the last layer\n",
    "        # which is basically dj_dz for the output layer\n",
    "        # delta_L represents delta for the last layer\n",
    "        \n",
    "        delta_L = self.loss.gradient(y_pred, y_true)\n",
    "        # print(delta_L)\n",
    "        # grad is dj_dz for the output layer\n",
    "        # Backpropagation\n",
    "        delta = delta_L\n",
    "        # for layer in reversed(self.layers):\n",
    "        #     delta = layer.backward(delta)\n",
    "        # do the backword propagation for output layer explicitly and then the hidden layers and then for the input layer\n",
    "        delta = self.layers[-1].backward(delta)\n",
    "        # do the backword propagation for hidden layers\n",
    "        for i in range(len(self.layers) - 2, 0, -1):\n",
    "            delta = self.layers[i].backward(delta, self.layers[i+1].weights)\n",
    "        # do the backword propagation for input layer\n",
    "        delta = self.layers[0].backward(delta)\n",
    "    \n",
    "    def predict(self, x):\n",
    "        # Forward propagation\n",
    "        return self.forward_propagation(x)\n",
    "    \n",
    "    def update_weights(self):\n",
    "        for layer in self.layers:\n",
    "            layer.update_weights(self.learning_rate)\n",
    "        \n",
    "    \n",
    "    # Working version of train\n",
    "    # def train(self, X_train, y_train, X_val, y_val, epochs, batch_size):\n",
    "    #     self.train_losses = []\n",
    "    #     for epoch in range(epochs):\n",
    "    #         loss = []\n",
    "    #         for i in range(0, X_train.shape[0], batch_size):\n",
    "    #             X_batch = X_train[i:i+batch_size]\n",
    "    #             y_batch = y_train[i:i+batch_size]\n",
    "    #             y_pred = self.forward_propagation(X_batch)\n",
    "    #             self.backward_propagation(y_pred=y_pred, y_true=y_batch)\n",
    "    #             self.update_weights()\n",
    "    #             # calculate the loss\n",
    "    #             loss.append(self.loss.loss(y_pred, y_batch))\n",
    "    #         self.train_losses.append(np.mean(loss))\n",
    "    \n",
    "    def train(self, X_train, y_train, X_val, y_val, epochs, batch_size=None):\n",
    "        if self.optimizer == \"bgd\":\n",
    "            self.train_bgd(X_train, y_train, X_val, y_val, epochs)\n",
    "        if self.optimizer == \"sgd\":\n",
    "            self.train_sgd(X_train, y_train, X_val, y_val, epochs)\n",
    "        if self.optimizer == \"mbgd\":            \n",
    "            self.train_mbgd(X_train, y_train, X_val, y_val, epochs, batch_size)\n",
    "            \n",
    "    def accuracy_helper(self, y_pred, y_true):\n",
    "        return accuracy_score(y_true = np.argmax(y_true , axis=1), y_pred= np.argmax(y_pred, axis=1))\n",
    "        \n",
    "            \n",
    "    def train_sgd(self, X_train, y_train, X_val, y_val, epochs):\n",
    "        for epoch in range(epochs):\n",
    "            # generate a random index\n",
    "            for i in range(X_train.shape[0]):\n",
    "                k = np.random.randint(0, X_train.shape[0])\n",
    "                X_batch = X_train[k:k+1]\n",
    "                y_batch = y_train[k:k+1]\n",
    "                y_pred = self.forward_propagation(X_batch)\n",
    "                self.backward_propagation(y_pred=y_pred, y_true=y_batch)\n",
    "                self.update_weights()\n",
    "            # calculate the loss for the entire training set\n",
    "            y_pred_train = self.forward_propagation(X_train)\n",
    "            \n",
    "            loss_train = self.loss.loss(y_pred_train, y_train)\n",
    "            self.train_losses.append(loss_train)\n",
    "            if self.output_activation_function == \"softmax\":\n",
    "                acc_train = self.accuracy_helper(y_pred_train, y_train)\n",
    "                self.train_accuracies.append(acc_train)\n",
    "            elif self.output_activation_function == \"identity\":\n",
    "                # calculate RMSE MSE and R-Square\n",
    "                self.train_mse(mean_squared_error(y_train, y_pred_train))\n",
    "                self.train_rmse(np.sqrt(mean_squared_error(y_train, y_pred_train)))\n",
    "                self.train_r2_score(r2_score(y_train, y_pred_train))\n",
    "            \n",
    "            if X_val is not None and y_val is not None:\n",
    "                y_pred_val = self.forward_propagation(X_val)\n",
    "                \n",
    "                loss_val = self.loss.loss(y_pred_val, y_val)\n",
    "                self.val_losses.append(loss_val)\n",
    "                if self.output_activation_function == \"softmax\":\n",
    "                    val_acc = self.accuracy_helper(y_pred_val, y_val)\n",
    "                    self.val_accuracies.append(val_acc)\n",
    "                elif self.output_activation_function == \"identity\":\n",
    "                    self.val_mse(mean_squared_error(y_val, y_pred_val))\n",
    "                    self.val_rmse(np.sqrt(mean_squared_error(y_val, y_pred_val)))\n",
    "                    self.vaval_r2_score(r2_score(y_val, y_pred_val))\n",
    "                    \n",
    "        \n",
    "            \n",
    "    def train_bgd(self, X_train, y_train, X_val, y_val, epochs):\n",
    "        for epoch in range(epochs):\n",
    "            y_pred = self.forward_propagation(X_train)\n",
    "            self.backward_propagation(y_pred=y_pred, y_true=y_train)\n",
    "            self.update_weights()\n",
    "            # calculate the loss for the entire training set\n",
    "            y_pred_train = self.forward_propagation(X_train)\n",
    "            \n",
    "            loss_train = self.loss.loss(y_pred_train, y_train)\n",
    "            self.train_losses.append(loss_train)\n",
    "            if self.output_activation_function == \"softmax\":\n",
    "                train_acc = self.accuracy_helper(y_pred_train, y_train)\n",
    "                self.train_accuracies.append(train_acc)\n",
    "            elif self.output_activation_function == \"identity\":\n",
    "                # calculate RMSE MSE and R-Square\n",
    "                self.train_mse(mean_squared_error(y_train, y_pred_train))\n",
    "                self.train_rmse(np.sqrt(mean_squared_error(y_train, y_pred_train)))\n",
    "                self.train_r2_score(r2_score(y_train, y_pred_train))\n",
    "            \n",
    "            if X_val is not None and y_val is not None:\n",
    "                y_pred_val = self.forward_propagation(X_val)\n",
    "                \n",
    "                loss_val = self.loss.loss(y_pred_val, y_val)\n",
    "                self.val_losses.append(loss_val)\n",
    "                if self.output_activation_function == \"softmax\":\n",
    "                    val_acc = self.accuracy_helper(y_pred_val, y_val)\n",
    "                    self.val_accuracies.append(val_acc)\n",
    "                elif self.output_activation_function == \"identity\":\n",
    "                    self.val_mse(mean_squared_error(y_val, y_pred_val))\n",
    "                    self.val_rmse(np.sqrt(mean_squared_error(y_val, y_pred_val)))\n",
    "                    self.val_r2_score(r2_score(y_val, y_pred_val))\n",
    "            \n",
    "    \n",
    "    def train_mbgd(self, X_train, y_train, X_val, y_val, epochs, batch_size):\n",
    "        for epoch in range(epochs):\n",
    "            for i in range(0, X_train.shape[0], batch_size):\n",
    "                X_batch = X_train[i:i+batch_size]\n",
    "                y_batch = y_train[i:i+batch_size]\n",
    "                y_pred = self.forward_propagation(X_batch)\n",
    "                self.backward_propagation(y_pred=y_pred, y_true=y_batch)\n",
    "                self.update_weights()\n",
    "            # calculate the loss for the entire training set\n",
    "            y_pred_train = self.forward_propagation(X_train)\n",
    "            \n",
    "            loss_train = self.loss.loss(y_pred_train, y_train)\n",
    "            self.train_losses.append(loss_train)\n",
    "            if self.output_activation_function == \"softmax\":\n",
    "                train_acc = self.accuracy_helper(y_pred_train, y_train)\n",
    "                self.train_accuracies.append(train_acc)\n",
    "            elif self.output_activation_function == \"identity\":\n",
    "                # calculate RMSE MSE and R-Square\n",
    "                self.train_mse(mean_squared_error(y_train, y_pred_train))\n",
    "                self.train_rmse(np.sqrt(mean_squared_error(y_train, y_pred_train)))\n",
    "                self.train_r2_score(r2_score(y_train, y_pred_train))\n",
    "            \n",
    "            if X_val is not None and y_val is not None:\n",
    "                y_pred_val = self.forward_propagation(X_val)\n",
    "                loss_val = self.loss.loss(y_pred_val, y_val)\n",
    "                self.val_losses.append(loss_val)\n",
    "                if self.output_activation_function == \"softmax\":\n",
    "                    val_acc = self.accuracy_helper(y_pred_val, y_val)\n",
    "                    self.val_accuracies.append(val_acc)           \n",
    "                elif self.output_activation_function == \"identity\":\n",
    "                    self.val_mse(mean_squared_error(y_val, y_pred_val))\n",
    "                    self.val_rmse(np.sqrt(mean_squared_error(y_val, y_pred_val)))\n",
    "                    self.val_r2_score(r2_score(y_val, y_pred_val))\n",
    "            \n",
    "            \n"
   ]
  },
  {
   "cell_type": "code",
   "execution_count": 8,
   "metadata": {},
   "outputs": [
    {
     "data": {
      "text/html": [
       "<div>\n",
       "<style scoped>\n",
       "    .dataframe tbody tr th:only-of-type {\n",
       "        vertical-align: middle;\n",
       "    }\n",
       "\n",
       "    .dataframe tbody tr th {\n",
       "        vertical-align: top;\n",
       "    }\n",
       "\n",
       "    .dataframe thead th {\n",
       "        text-align: right;\n",
       "    }\n",
       "</style>\n",
       "<table border=\"1\" class=\"dataframe\">\n",
       "  <thead>\n",
       "    <tr style=\"text-align: right;\">\n",
       "      <th></th>\n",
       "      <th>age</th>\n",
       "      <th>gender</th>\n",
       "      <th>income</th>\n",
       "      <th>education</th>\n",
       "      <th>married</th>\n",
       "      <th>children</th>\n",
       "      <th>city</th>\n",
       "      <th>occupation</th>\n",
       "      <th>purchase_amount</th>\n",
       "      <th>most bought item</th>\n",
       "      <th>labels</th>\n",
       "    </tr>\n",
       "  </thead>\n",
       "  <tbody>\n",
       "    <tr>\n",
       "      <th>0</th>\n",
       "      <td>45</td>\n",
       "      <td>Male</td>\n",
       "      <td>61271.953359</td>\n",
       "      <td>Master</td>\n",
       "      <td>False</td>\n",
       "      <td>3</td>\n",
       "      <td>Lake Sheila</td>\n",
       "      <td>Doctor</td>\n",
       "      <td>87.697118</td>\n",
       "      <td>monitor</td>\n",
       "      <td>electronics clothing sports</td>\n",
       "    </tr>\n",
       "    <tr>\n",
       "      <th>1</th>\n",
       "      <td>24</td>\n",
       "      <td>Female</td>\n",
       "      <td>53229.101074</td>\n",
       "      <td>High School</td>\n",
       "      <td>False</td>\n",
       "      <td>1</td>\n",
       "      <td>Crystalburgh</td>\n",
       "      <td>Businessman</td>\n",
       "      <td>115.135586</td>\n",
       "      <td>lipstick</td>\n",
       "      <td>furniture beauty</td>\n",
       "    </tr>\n",
       "    <tr>\n",
       "      <th>2</th>\n",
       "      <td>45</td>\n",
       "      <td>Female</td>\n",
       "      <td>30066.046684</td>\n",
       "      <td>Bachelor</td>\n",
       "      <td>True</td>\n",
       "      <td>3</td>\n",
       "      <td>Margaretburgh</td>\n",
       "      <td>Engineer</td>\n",
       "      <td>101.694559</td>\n",
       "      <td>biscuits</td>\n",
       "      <td>clothing electronics food sports</td>\n",
       "    </tr>\n",
       "    <tr>\n",
       "      <th>3</th>\n",
       "      <td>19</td>\n",
       "      <td>Male</td>\n",
       "      <td>48950.246384</td>\n",
       "      <td>PhD</td>\n",
       "      <td>False</td>\n",
       "      <td>0</td>\n",
       "      <td>Williamshaven</td>\n",
       "      <td>Lawyer</td>\n",
       "      <td>97.964887</td>\n",
       "      <td>maggi</td>\n",
       "      <td>food</td>\n",
       "    </tr>\n",
       "    <tr>\n",
       "      <th>4</th>\n",
       "      <td>29</td>\n",
       "      <td>Female</td>\n",
       "      <td>44792.627094</td>\n",
       "      <td>Master</td>\n",
       "      <td>False</td>\n",
       "      <td>0</td>\n",
       "      <td>New Paul</td>\n",
       "      <td>Businessman</td>\n",
       "      <td>86.847281</td>\n",
       "      <td>carpet</td>\n",
       "      <td>home</td>\n",
       "    </tr>\n",
       "  </tbody>\n",
       "</table>\n",
       "</div>"
      ],
      "text/plain": [
       "   age  gender        income    education  married  children           city  \\\n",
       "0   45    Male  61271.953359       Master    False         3    Lake Sheila   \n",
       "1   24  Female  53229.101074  High School    False         1   Crystalburgh   \n",
       "2   45  Female  30066.046684     Bachelor     True         3  Margaretburgh   \n",
       "3   19    Male  48950.246384          PhD    False         0  Williamshaven   \n",
       "4   29  Female  44792.627094       Master    False         0       New Paul   \n",
       "\n",
       "    occupation  purchase_amount most bought item  \\\n",
       "0       Doctor        87.697118          monitor   \n",
       "1  Businessman       115.135586         lipstick   \n",
       "2     Engineer       101.694559         biscuits   \n",
       "3       Lawyer        97.964887            maggi   \n",
       "4  Businessman        86.847281           carpet   \n",
       "\n",
       "                             labels  \n",
       "0       electronics clothing sports  \n",
       "1                  furniture beauty  \n",
       "2  clothing electronics food sports  \n",
       "3                              food  \n",
       "4                              home  "
      ]
     },
     "execution_count": 8,
     "metadata": {},
     "output_type": "execute_result"
    }
   ],
   "source": [
    "df = pd.read_csv(\"./dataset/advertisement.csv\")\n",
    "df.head()"
   ]
  },
  {
   "cell_type": "code",
   "execution_count": 9,
   "metadata": {},
   "outputs": [],
   "source": [
    "# no point in using city the number of dimensions will increase exponentially"
   ]
  },
  {
   "cell_type": "code",
   "execution_count": 10,
   "metadata": {},
   "outputs": [
    {
     "name": "stdout",
     "output_type": "stream",
     "text": [
      "city\n",
      "Michaelberg     3\n",
      "East John       3\n",
      "West Robert     2\n",
      "New Kathryn     2\n",
      "North Andrew    2\n",
      "               ..\n",
      "Rosstown        1\n",
      "Kevintown       1\n",
      "Kirkland        1\n",
      "New Monica      1\n",
      "Port Jose       1\n",
      "Name: count, Length: 969, dtype: int64\n"
     ]
    }
   ],
   "source": [
    "print(df.city.value_counts())"
   ]
  },
  {
   "cell_type": "code",
   "execution_count": 11,
   "metadata": {},
   "outputs": [],
   "source": [
    "mlb = MultiLabelBinarizer()\n",
    "\n",
    "df_multioutput = df.copy()\n",
    "# X_dt = df_multioutput.drop(['labels', 'city'], axis=1).apply(lambda col: le_multioutput.transform(col) if col.name not in ['income'] else col)\n",
    "# X_dt = df_multioutput['gender', 'education', 'married', 'occupation', 'most bought item'].get_dummies()\n",
    "X_dt = df_multioutput[['age', 'gender', 'income', 'education', 'married',\n",
    "                       'children',  'occupation', 'purchase_amount', 'most bought item']]\n",
    "columnx = ['gender', 'education', 'married', 'occupation', 'most bought item']\n",
    "X_dt = pd.get_dummies(X_dt, columns=columnx)\n",
    "y_dt = mlb.fit_transform(\n",
    "    df_multioutput['labels'].apply(lambda x: np.sort(x.split())))\n",
    "\n",
    "\n",
    "# replace true and false values with 1 and zero\n",
    "X_dt = X_dt.replace(True, 1)\n",
    "X_dt = X_dt.replace(False, 0)\n",
    "\n",
    "y_dt = y_dt.astype(float)\n",
    "\n",
    "scaler = StandardScaler()\n",
    "\n",
    "X_dt[\"income\"] = scaler.fit_transform(df[\"income\"].values.reshape(-1, 1))\n",
    "X_dt[\"age\"] = scaler.fit_transform(df[\"age\"].values.reshape(-1, 1))\n",
    "X_dt[\"purchase_amount\"] = scaler.fit_transform(df[\"purchase_amount\"].values.reshape(-1, 1))\n",
    "\n",
    "\n",
    "\n",
    "X_train, X_test, y_train, y_test = train_test_split(\n",
    "    X_dt, y_dt, test_size=0.3, random_state=42)\n",
    "X_test, X_val, y_test, y_val = train_test_split(X_test, y_test, test_size=0.5)"
   ]
  },
  {
   "cell_type": "code",
   "execution_count": 14,
   "metadata": {},
   "outputs": [],
   "source": [
    "input_size = X_train.shape[1]\n",
    "output_size = y_train.shape[1]"
   ]
  },
  {
   "cell_type": "code",
   "execution_count": 17,
   "metadata": {},
   "outputs": [
    {
     "data": {
      "text/html": [
       "Finishing last run (ID:44avwksu) before initializing another..."
      ],
      "text/plain": [
       "<IPython.core.display.HTML object>"
      ]
     },
     "metadata": {},
     "output_type": "display_data"
    },
    {
     "data": {
      "text/html": [
       "Waiting for W&B process to finish... <strong style=\"color:green\">(success).</strong>"
      ],
      "text/plain": [
       "<IPython.core.display.HTML object>"
      ]
     },
     "metadata": {},
     "output_type": "display_data"
    },
    {
     "name": "stderr",
     "output_type": "stream",
     "text": [
      "wandb: WARNING Source type is set to 'repo' but some required information is missing from the environment. A job will not be created from this run. See https://docs.wandb.ai/guides/launch/create-job\n"
     ]
    },
    {
     "data": {
      "application/vnd.jupyter.widget-view+json": {
       "model_id": "875b06ac70544a5bb438af3f3a53cd97",
       "version_major": 2,
       "version_minor": 0
      },
      "text/plain": [
       "VBox(children=(Label(value='0.003 MB of 0.003 MB uploaded (0.000 MB deduped)\\r'), FloatProgress(value=1.0, max…"
      ]
     },
     "metadata": {},
     "output_type": "display_data"
    },
    {
     "data": {
      "text/html": [
       " View run <strong style=\"color:#cdcd00\">cosmic-cherry-208</strong> at: <a href='https://wandb.ai/prakhar-jain/multi-layer-perceptron/runs/44avwksu' target=\"_blank\">https://wandb.ai/prakhar-jain/multi-layer-perceptron/runs/44avwksu</a><br/>Synced 6 W&B file(s), 0 media file(s), 0 artifact file(s) and 0 other file(s)"
      ],
      "text/plain": [
       "<IPython.core.display.HTML object>"
      ]
     },
     "metadata": {},
     "output_type": "display_data"
    },
    {
     "data": {
      "text/html": [
       "Find logs at: <code>./wandb/run-20231023_184336-44avwksu/logs</code>"
      ],
      "text/plain": [
       "<IPython.core.display.HTML object>"
      ]
     },
     "metadata": {},
     "output_type": "display_data"
    },
    {
     "data": {
      "text/html": [
       "Successfully finished last run (ID:44avwksu). Initializing new run:<br/>"
      ],
      "text/plain": [
       "<IPython.core.display.HTML object>"
      ]
     },
     "metadata": {},
     "output_type": "display_data"
    },
    {
     "data": {
      "application/vnd.jupyter.widget-view+json": {
       "model_id": "62e14e0e921b4ecd9bdbf6107ca11fbb",
       "version_major": 2,
       "version_minor": 0
      },
      "text/plain": [
       "VBox(children=(Label(value='Waiting for wandb.init()...\\r'), FloatProgress(value=0.01111266309999337, max=1.0)…"
      ]
     },
     "metadata": {},
     "output_type": "display_data"
    },
    {
     "data": {
      "text/html": [
       "wandb version 0.15.12 is available!  To upgrade, please run:\n",
       " $ pip install wandb --upgrade"
      ],
      "text/plain": [
       "<IPython.core.display.HTML object>"
      ]
     },
     "metadata": {},
     "output_type": "display_data"
    },
    {
     "data": {
      "text/html": [
       "Tracking run with wandb version 0.15.11"
      ],
      "text/plain": [
       "<IPython.core.display.HTML object>"
      ]
     },
     "metadata": {},
     "output_type": "display_data"
    },
    {
     "data": {
      "text/html": [
       "Run data is saved locally in <code>/home/prakhar/Desktop/assignment-3-prakharjain3/wandb/run-20231023_184831-zepufnvc</code>"
      ],
      "text/plain": [
       "<IPython.core.display.HTML object>"
      ]
     },
     "metadata": {},
     "output_type": "display_data"
    },
    {
     "data": {
      "text/html": [
       "Syncing run <strong><a href='https://wandb.ai/prakhar-jain/multi-layer-multi-label/runs/zepufnvc' target=\"_blank\">colorful-valley-4</a></strong> to <a href='https://wandb.ai/prakhar-jain/multi-layer-multi-label' target=\"_blank\">Weights & Biases</a> (<a href='https://wandb.me/run' target=\"_blank\">docs</a>)<br/>"
      ],
      "text/plain": [
       "<IPython.core.display.HTML object>"
      ]
     },
     "metadata": {},
     "output_type": "display_data"
    },
    {
     "data": {
      "text/html": [
       " View project at <a href='https://wandb.ai/prakhar-jain/multi-layer-multi-label' target=\"_blank\">https://wandb.ai/prakhar-jain/multi-layer-multi-label</a>"
      ],
      "text/plain": [
       "<IPython.core.display.HTML object>"
      ]
     },
     "metadata": {},
     "output_type": "display_data"
    },
    {
     "data": {
      "text/html": [
       " View run at <a href='https://wandb.ai/prakhar-jain/multi-layer-multi-label/runs/zepufnvc' target=\"_blank\">https://wandb.ai/prakhar-jain/multi-layer-multi-label/runs/zepufnvc</a>"
      ],
      "text/plain": [
       "<IPython.core.display.HTML object>"
      ]
     },
     "metadata": {},
     "output_type": "display_data"
    },
    {
     "name": "stderr",
     "output_type": "stream",
     "text": [
      "ic| i: 1\n",
      "ic| i: 2\n"
     ]
    }
   ],
   "source": [
    "import numpy as np\n",
    "import wandb\n",
    "from sklearn.metrics import f1_score, precision_score, recall_score\n",
    "\n",
    "# Import your custom classes and functions (e.g., MLP, loss functions) here\n",
    "\n",
    "# Define a function to perform an experiment with given hyperparameters\n",
    "def run_experiment(activation_function, optimizer, learning_rate, epochs, hidden_layer_neurons):\n",
    "    # Initialize Weights & Biases for the experiment\n",
    "    wandb.init(project=\"multi-layer-multi-label\", config={\n",
    "        \"activation_function\": activation_function,\n",
    "        \"optimizer\": optimizer,\n",
    "        \"learning_rate\": learning_rate,\n",
    "        \"epochs\": epochs,\n",
    "        \"hidden_layer_neurons\": hidden_layer_neurons\n",
    "    })\n",
    "\n",
    "    mlp = MLP(\\\n",
    "        input_size=input_size, \\\n",
    "            hidden_layer_sizes=hidden_layer_neurons, \\\n",
    "                output_size=output_size, \\\n",
    "                    activation_function=[activation_function, activation_function], \\\n",
    "                        output_activation_function=\"softmax\", \\\n",
    "                            optimizer=optimizer, \\\n",
    "                                loss=CrossEntropyLoss(), \\\n",
    "                                    learning_rate=learning_rate)\n",
    "    \n",
    "    mlp.train(X_train, y_train, X_val, y_val, epochs=epochs)\n",
    "\n",
    "    y_pred_val = mlp.predict(X_val)\n",
    "    y_pred_train = mlp.predict(X_train)\n",
    "    \n",
    "    f1_train = f1_score(y_true = np.argmax(y_train , axis=1), y_pred= np.argmax(y_pred_train, axis=1), average='macro')\n",
    "    precision_train = precision_score(y_true = np.argmax(y_train , axis=1), y_pred= np.argmax(y_pred_train, axis=1), average='macro', zero_division=0)\n",
    "    recall_train = recall_score(y_true = np.argmax(y_train , axis=1), y_pred= np.argmax(y_pred_train, axis=1), average='macro')\n",
    "    \n",
    "    f1_val = f1_score(y_true = np.argmax(y_val , axis=1), y_pred= np.argmax(y_pred_val, axis=1), average='macro')\n",
    "    precision_val = precision_score(y_true = np.argmax(y_val , axis=1), y_pred= np.argmax(y_pred_val, axis  = 1), average='macro', zero_division=0)\n",
    "    recall_val = recall_score(y_true = np.argmax(y_val , axis=1), y_pred= np.argmax(y_pred_val, axis=1), average='macro')\n",
    "    \n",
    "    for epochs in range(len(mlp.train_losses)):\n",
    "        wandb.log({\n",
    "            \"Training Loss\": mlp.train_losses[epochs],\n",
    "            \"Validation Loss\": mlp.val_losses[epochs],\n",
    "            \"Training Accuracy\": mlp.train_accuracies[epochs],\n",
    "            \"Validation Accuracy\": mlp.val_accuracies[epochs],\n",
    "        })\n",
    "    \n",
    "    # Log metrics using W&B\n",
    "    wandb.log({\n",
    "        \"Training Loss\": mlp.train_losses[-1],\n",
    "        \"Training Accuracy\": mlp.train_accuracies[-1],\n",
    "        \"Validation Loss\": mlp.val_losses[-1],\n",
    "        \"Validation Accuracy\": mlp.val_accuracies[-1],\n",
    "        \"Training F1 Score\": f1_train,\n",
    "        \"Training Precision\": precision_train,\n",
    "        \"Training Recall\": recall_train,\n",
    "        \"Validation F1 Score\": f1_val,\n",
    "        \"Validation Precision\": precision_val,\n",
    "        \"Validation Recall\": recall_val\n",
    "    })\n",
    "\n",
    "    # Finish the W&B run\n",
    "    wandb.finish()\n",
    "\n",
    "# Define hyperparameter search space\n",
    "activation_functions = [\"sigmoid\", \"tanh\", \"relu\"]\n",
    "optimizers = [\"sgd\", \"bgd\", \"mbgd\"]\n",
    "learning_rates = [0.001, 0.01, 0.1]\n",
    "epochs_values = [1000, 2000]\n",
    "# hidden_layer_neurons_values = [[32, 32], [64, 64]]\n",
    "\n",
    "# Loop over hyperparameter combinations\n",
    "for activation_function in activation_functions:\n",
    "    for optimizer in optimizers:\n",
    "        for learning_rate in learning_rates:\n",
    "            for epochs in epochs_values:\n",
    "                for hidden_layer_neurons in [[32, 32], [64, 64], [32, 64]]:\n",
    "                    run_experiment(activation_function, optimizer, learning_rate, epochs, hidden_layer_neurons)"
   ]
  },
  {
   "cell_type": "code",
   "execution_count": null,
   "metadata": {},
   "outputs": [],
   "source": []
  }
 ],
 "metadata": {
  "kernelspec": {
   "display_name": "base",
   "language": "python",
   "name": "python3"
  },
  "language_info": {
   "codemirror_mode": {
    "name": "ipython",
    "version": 3
   },
   "file_extension": ".py",
   "mimetype": "text/x-python",
   "name": "python",
   "nbconvert_exporter": "python",
   "pygments_lexer": "ipython3",
   "version": "3.11.6"
  },
  "orig_nbformat": 4
 },
 "nbformat": 4,
 "nbformat_minor": 2
}
