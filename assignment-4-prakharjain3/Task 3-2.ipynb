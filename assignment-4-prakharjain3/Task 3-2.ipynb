{
 "cells": [
  {
   "cell_type": "markdown",
   "metadata": {},
   "source": [
    "# Stacking"
   ]
  },
  {
   "cell_type": "code",
   "execution_count": 6,
   "metadata": {},
   "outputs": [],
   "source": [
    "import numpy as np\n",
    "import pandas as pd\n",
    "import matplotlib.pyplot as plt\n",
    "import seaborn as sns\n",
    "import os\n",
    "from sklearn.preprocessing import StandardScaler\n",
    "from sklearn.model_selection import train_test_split\n",
    "from icecream import ic\n",
    "from sklearn.metrics import accuracy_score\n",
    "from tqdm.notebook import tqdm\n",
    "import copy\n",
    "from sklearn.model_selection import KFold, StratifiedKFold"
   ]
  },
  {
   "cell_type": "markdown",
   "metadata": {},
   "source": [
    "## For Classification"
   ]
  },
  {
   "cell_type": "code",
   "execution_count": 62,
   "metadata": {},
   "outputs": [],
   "source": [
    "from MultiLayerPerceptron import MLP, CrossEntropyLoss\n",
    "from MLR import MLR\n",
    "from DecisionTrees import DecisionTree"
   ]
  },
  {
   "cell_type": "code",
   "execution_count": 181,
   "metadata": {},
   "outputs": [],
   "source": [
    "class StackingForClassification:\n",
    "    def __init__(self, level0_estimators, level1_estimators, method) -> None:\n",
    "        self.level0_estimators = level0_estimators\n",
    "        self.level1_estimators = level1_estimators\n",
    "        self.method = method\n",
    "        self.level0_predictions = None\n",
    "        self.level0_estimators_object = []\n",
    "        self.base_estimator = None\n",
    "        \n",
    "    def fit_level0(self, X, y):\n",
    "        self.level0_estimators_object = []\n",
    "        for i, estimator in enumerate(copy.deepcopy(self.level0_estimators)):\n",
    "            estimator.fit(X, y, epochs = 1000)\n",
    "            self.level0_estimators_object.append(estimator)\n",
    "\n",
    "    def predict_level0(self, X):\n",
    "        self.level0_predictions = np.zeros((X.shape[0], 1))\n",
    "        for estimator in self.level0_estimators_object:\n",
    "            self.level0_predictions = np.c_[self.level0_predictions, estimator.predict(X)]\n",
    "        return self.level0_predictions[:, 1:]\n",
    "    \n",
    "    def train_base_estimator(self, X, y):\n",
    "        for estimator in self.level0_estimators:\n",
    "            estimator.fit(X, y, epochs = 1000)\n",
    "    def base_estimator_predict(self, X):\n",
    "        predictions = np.zeros((X.shape[0], 1))\n",
    "        for estimator in self.level0_estimators:\n",
    "            predictions = np.c_[predictions, estimator.predict(X)]\n",
    "        return predictions[:, 1:]\n",
    "            \n",
    "    def stacking(self, X_, y_, no_of_folds=5):\n",
    "        # do k-fold cross validation\n",
    "        X, X_test, y, y_test = train_test_split(X_, y_, test_size=0.2, random_state= 42)\n",
    "        kf = KFold(n_splits=no_of_folds, shuffle=True, random_state=42)\n",
    "           # 6    *    3\n",
    "        predictions = np.zeros((1, y.shape[1] * len(self.level0_estimators)))\n",
    "        # need to do the first rows in both the predictions, new_y\n",
    "        new_y = np.zeros((1, y.shape[1]))\n",
    "        for train_ind, val_ind in kf.split(X, y):\n",
    "            X_train, y_train = X[train_ind], y[train_ind]\n",
    "            X_val, y_val = X[val_ind], y[val_ind]\n",
    "            \n",
    "            new_y = np.vstack((new_y, y_val))\n",
    "            \n",
    "            self.fit_level0(X_train, y_train)\n",
    "\n",
    "            predictions = np.vstack((predictions, self.predict_level0(X_val)))\n",
    "\n",
    "        X_level1 =  predictions[1:]\n",
    "        y_level1 = new_y[1:]\n",
    "        ic(X_level1.shape, y_level1.shape)\n",
    "        self.level1_estimators.fit(X_level1, y_level1, epochs = 1000)\n",
    "        \n",
    "        self.train_base_estimator(X, y)\n",
    "        X_pred_test = self.base_estimator_predict(X_test)\n",
    "        \n",
    "        y_pred_test = self.level1_estimators.predict(X_pred_test)\n",
    "        print(\"Accuracy on test data: \", accuracy_score(y_true=np.argmax(y_test, axis=1), y_pred = np.argmax(y_pred_test, axis=1)))\n",
    "\n",
    "        \n",
    "    def blending(self, X_, y_, no_of_folds=None):\n",
    "        X_train, X_test, y_train, y_test = train_test_split(X_, y_, test_size=0.3)\n",
    "        X_test, X_val, y_test, y_val = train_test_split(X_test, y_test, test_size=0.5)\n",
    "        \n",
    "        \n",
    "        self.train_base_estimator(X_train, y_train)\n",
    "        X_level1 = self.base_estimator_predict(X_val)\n",
    "\n",
    "        self.level1_estimators.fit(X_level1, y_val, epochs = 1000)\n",
    "        \n",
    "        X_pred_test = self.base_estimator_predict(X_test)\n",
    "        y_pred_test = self.level1_estimators.predict(X_pred_test)\n",
    "        \n",
    "        print(\"Accuracy on test data:\",accuracy_score(y_true=np.argmax(y_test, axis=1), y_pred = np.argmax(y_pred_test, axis=1)))\n",
    "        "
   ]
  },
  {
   "cell_type": "code",
   "execution_count": 170,
   "metadata": {},
   "outputs": [],
   "source": [
    "df = pd.read_csv('./Dataset/WineQT.csv')"
   ]
  },
  {
   "cell_type": "code",
   "execution_count": 171,
   "metadata": {},
   "outputs": [],
   "source": [
    "y = df.quality\n",
    "df = df.drop('Id', axis=1)\n",
    "X = df.drop('quality', axis=1)\n"
   ]
  },
  {
   "cell_type": "code",
   "execution_count": 172,
   "metadata": {},
   "outputs": [],
   "source": [
    "X = StandardScaler().fit_transform(X.values)\n",
    "y = pd.get_dummies(y).values\n",
    "input_size = X.shape[1]\n",
    "output_size = y.shape[1]"
   ]
  },
  {
   "cell_type": "code",
   "execution_count": 173,
   "metadata": {},
   "outputs": [
    {
     "name": "stderr",
     "output_type": "stream",
     "text": [
      "ic| X_level1.shape: (914, 18), y_level1.shape: (914, 6)\n"
     ]
    },
    {
     "name": "stdout",
     "output_type": "stream",
     "text": [
      "Accuracy on test data:  0.6157205240174672\n"
     ]
    }
   ],
   "source": [
    "stacking_for_classification = StackingForClassification(\n",
    "    level0_estimators=[ DecisionTree(),\n",
    "                        MLP(\n",
    "                        input_size=input_size,\n",
    "                        hidden_layer_sizes=[32, 32],\n",
    "                        output_size=output_size,\n",
    "                        activation_function=[\"relu\", \"relu\"],\n",
    "                        output_activation_function=\"softmax\",\n",
    "                        optimizer=\"bgd\",\n",
    "                        loss=CrossEntropyLoss(),\n",
    "                        learning_rate=0.001),\n",
    "                        MLR()],\n",
    "        level1_estimators=MLR(), method=\"stacking\")\n",
    "stacking_for_classification.stacking(X_=X, y_=y, no_of_folds=5)"
   ]
  },
  {
   "cell_type": "code",
   "execution_count": 174,
   "metadata": {},
   "outputs": [
    {
     "name": "stderr",
     "output_type": "stream",
     "text": [
      "ic| X_level1.shape: (914, 18), y_level1.shape: (914, 6)\n"
     ]
    },
    {
     "name": "stdout",
     "output_type": "stream",
     "text": [
      "Accuracy on test data:  0.5109170305676856\n"
     ]
    }
   ],
   "source": [
    "stacking_for_classification = StackingForClassification(\n",
    "    level0_estimators=[ DecisionTree(),\n",
    "                        MLP(\n",
    "                        input_size=input_size,\n",
    "                        hidden_layer_sizes=[32, 32],\n",
    "                        output_size=output_size,\n",
    "                        activation_function=[\"relu\", \"relu\"],\n",
    "                        output_activation_function=\"softmax\",\n",
    "                        optimizer=\"bgd\",\n",
    "                        loss=CrossEntropyLoss(),\n",
    "                        learning_rate=0.001),\n",
    "                        MLR()],\n",
    "        level1_estimators=DecisionTree(), method=\"stacking\")\n",
    "stacking_for_classification.stacking(X_=X, y_=y, no_of_folds=5)"
   ]
  },
  {
   "cell_type": "code",
   "execution_count": 182,
   "metadata": {},
   "outputs": [
    {
     "name": "stdout",
     "output_type": "stream",
     "text": [
      "Accuracy on test data: 0.5146198830409356\n"
     ]
    }
   ],
   "source": [
    "stacking_for_classification = StackingForClassification(\n",
    "    level0_estimators=[ DecisionTree(),\n",
    "                        MLP(\n",
    "                        input_size=input_size,\n",
    "                        hidden_layer_sizes=[32, 32],\n",
    "                        output_size=output_size,\n",
    "                        activation_function=[\"relu\", \"relu\"],\n",
    "                        output_activation_function=\"softmax\",\n",
    "                        optimizer=\"bgd\",\n",
    "                        loss=CrossEntropyLoss(),\n",
    "                        learning_rate=0.001),\n",
    "                        MLR()],\n",
    "        level1_estimators=DecisionTree(), method=\"stacking\")\n",
    "stacking_for_classification.blending(X_=X, y_=y, no_of_folds=5)"
   ]
  },
  {
   "cell_type": "code",
   "execution_count": 183,
   "metadata": {},
   "outputs": [
    {
     "name": "stdout",
     "output_type": "stream",
     "text": [
      "Accuracy on test data: 0.6257309941520468\n"
     ]
    }
   ],
   "source": [
    "stacking_for_classification = StackingForClassification(\n",
    "    level0_estimators=[ DecisionTree(),\n",
    "                        MLP(\n",
    "                        input_size=input_size,\n",
    "                        hidden_layer_sizes=[32, 32],\n",
    "                        output_size=output_size,\n",
    "                        activation_function=[\"relu\", \"relu\"],\n",
    "                        output_activation_function=\"softmax\",\n",
    "                        optimizer=\"bgd\",\n",
    "                        loss=CrossEntropyLoss(),\n",
    "                        learning_rate=0.001),\n",
    "                        MLR()],\n",
    "        level1_estimators=MLR(), method=\"stacking\")\n",
    "stacking_for_classification.blending(X_=X, y_=y, no_of_folds=5)"
   ]
  },
  {
   "cell_type": "markdown",
   "metadata": {},
   "source": [
    "# For Regression"
   ]
  },
  {
   "cell_type": "code",
   "execution_count": 104,
   "metadata": {},
   "outputs": [],
   "source": [
    "import numpy as np\n",
    "import pandas as pd\n",
    "import matplotlib.pyplot as plt\n",
    "import seaborn as sns\n",
    "import os\n",
    "from sklearn.preprocessing import StandardScaler\n",
    "from sklearn.model_selection import train_test_split\n",
    "from icecream import ic\n",
    "from sklearn.metrics import mean_squared_error\n",
    "from tqdm.notebook import tqdm\n",
    "import copy\n",
    "from sklearn.model_selection import KFold, StratifiedKFold"
   ]
  },
  {
   "cell_type": "code",
   "execution_count": 105,
   "metadata": {},
   "outputs": [],
   "source": [
    "from DecisionTreeRegression import DecisionTreeRegressorWrapper\n",
    "from MultiLayerRegression import MultiLayerRegression, MSELoss\n",
    "from LinearRegression import LinearRegression"
   ]
  },
  {
   "cell_type": "code",
   "execution_count": 106,
   "metadata": {},
   "outputs": [],
   "source": [
    "class StackingForRegression:\n",
    "    def __init__(self, level0_estimators, level1_estimators, method) -> None:\n",
    "        self.level0_estimators = level0_estimators\n",
    "        self.level1_estimators = level1_estimators\n",
    "        self.method = method\n",
    "        self.level0_predictions = None\n",
    "        self.level0_estimators_object = []\n",
    "        self.base_estimator = None\n",
    "        \n",
    "    def fit_level0(self, X, y):\n",
    "        self.level0_estimators_object = []\n",
    "        for i, estimator in enumerate(copy.deepcopy(self.level0_estimators)):\n",
    "            estimator.fit(X, y, epochs = 1000)\n",
    "            self.level0_estimators_object.append(estimator)\n",
    "\n",
    "    def predict_level0(self, X):\n",
    "        self.level0_predictions = np.zeros((X.shape[0], 1))\n",
    "        for estimator in self.level0_estimators_object:\n",
    "            self.level0_predictions = np.c_[self.level0_predictions, estimator.predict(X)]\n",
    "        return self.level0_predictions[:, 1:]\n",
    "    \n",
    "    def train_base_estimator(self, X, y):\n",
    "        for estimator in self.level0_estimators:\n",
    "            estimator.fit(X, y, epochs = 1000)\n",
    "    def base_estimator_predict(self, X):\n",
    "        predictions = np.zeros((X.shape[0], 1))\n",
    "        for estimator in self.level0_estimators:\n",
    "            predictions = np.c_[predictions, estimator.predict(X)]\n",
    "        return predictions[:, 1:]\n",
    "            \n",
    "    def stacking(self, X_, y_, no_of_folds=5):\n",
    "        # do k-fold cross validation\n",
    "        X, X_test, y, y_test = train_test_split(X_, y_, test_size=0.2, random_state=42)\n",
    "        kf = KFold(n_splits=no_of_folds, shuffle=True, random_state=42)\n",
    "        \n",
    "        # Initialize predictions and new_y with the correct shape\n",
    "        num_estimators = len(self.level0_estimators)\n",
    "        predictions = np.zeros((1, num_estimators))\n",
    "        new_y = np.zeros((1, y.shape[1]))\n",
    "\n",
    "        # ic(predictions)\n",
    "        # ic(predictions.shape)\n",
    "        # ic(new_y)\n",
    "        # ic(new_y.shape)\n",
    "\n",
    "        for train_ind, val_ind in kf.split(X, y):\n",
    "            X_train, y_train = X[train_ind], y[train_ind]\n",
    "            X_val, y_val = X[val_ind], y[val_ind]\n",
    "            # ic(X_train.shape, y_train.shape, X_val.shape, y_val.shape)\n",
    "            \n",
    "            # Ensure that y_val has the same shape as the predictions\n",
    "            # y_val_reshaped = y_val.reshape((-1, num_estimators))\n",
    "            # ic(y_val.shape)\n",
    "            new_y = np.vstack((new_y, y_val))\n",
    "\n",
    "            self.fit_level0(X_train, y_train)\n",
    "\n",
    "            predictions = np.vstack((predictions, self.predict_level0(X_val)))\n",
    "\n",
    "        # Remove the first row of zeros used for initialization\n",
    "        predictions = predictions[1:]\n",
    "        new_y = new_y[1:]\n",
    "        \n",
    "        # ic(predictions.shape, new_y.shape)\n",
    "        \n",
    "        X_level1 = predictions\n",
    "        y_level1 = new_y\n",
    "        \n",
    "        self.level1_estimators.fit(X_level1, y_level1, epochs=1000)\n",
    "        \n",
    "        self.train_base_estimator(X, y)\n",
    "        X_pred_test = self.base_estimator_predict(X_test)\n",
    "\n",
    "        y_pred_test = self.level1_estimators.predict(X_pred_test)\n",
    "        print(\"MSE on test data: \", mean_squared_error(y_true=y_test, y_pred=y_pred_test))\n",
    "            \n",
    "    def blending(self, X_, y_, no_of_folds=None):\n",
    "        X_train, X_test, y_train, y_test = train_test_split(X_, y_, test_size=0.3)\n",
    "        X_test, X_val, y_test, y_val = train_test_split(X_test, y_test, test_size=0.5)\n",
    "        \n",
    "        \n",
    "        self.train_base_estimator(X_train, y_train)\n",
    "        X_level1 = self.base_estimator_predict(X_val)\n",
    "\n",
    "        self.level1_estimators.fit(X_level1, y_val, epochs = 1000)\n",
    "        \n",
    "        X_pred_test = self.base_estimator_predict(X_test)\n",
    "        y_pred_test = self.level1_estimators.predict(X_pred_test)\n",
    "        # ic(y_test, y_pred_test)\n",
    "        # ic(y_test.shape, y_pred_test.shape)\n",
    "        print(\"MSE on test data:\", mean_squared_error(y_true=y_test, y_pred = y_pred_test))\n",
    "        "
   ]
  },
  {
   "cell_type": "code",
   "execution_count": 107,
   "metadata": {},
   "outputs": [],
   "source": [
    "PATH_TO_BOSTON_HOUSING_DATASET = \"./Dataset/HousingData.csv\""
   ]
  },
  {
   "cell_type": "code",
   "execution_count": 108,
   "metadata": {},
   "outputs": [],
   "source": [
    "df = pd.read_csv(PATH_TO_BOSTON_HOUSING_DATASET)"
   ]
  },
  {
   "cell_type": "code",
   "execution_count": 109,
   "metadata": {},
   "outputs": [
    {
     "data": {
      "text/plain": [
       "CRIM       20\n",
       "ZN         20\n",
       "INDUS      20\n",
       "CHAS       20\n",
       "NOX         0\n",
       "RM          0\n",
       "AGE        20\n",
       "DIS         0\n",
       "RAD         0\n",
       "TAX         0\n",
       "PTRATIO     0\n",
       "B           0\n",
       "LSTAT      20\n",
       "MEDV        0\n",
       "dtype: int64"
      ]
     },
     "execution_count": 109,
     "metadata": {},
     "output_type": "execute_result"
    }
   ],
   "source": [
    "df.isnull().sum()"
   ]
  },
  {
   "cell_type": "code",
   "execution_count": 110,
   "metadata": {},
   "outputs": [],
   "source": [
    "# fill the nan values \n",
    "# except for the CHAS column it is a categorical variable\n",
    "df[\"CHAS\"] = df.CHAS.fillna(df.CHAS.mode()[0])\n",
    "df = df.fillna(df.mean())"
   ]
  },
  {
   "cell_type": "code",
   "execution_count": 111,
   "metadata": {},
   "outputs": [
    {
     "data": {
      "text/plain": [
       "CRIM       0\n",
       "ZN         0\n",
       "INDUS      0\n",
       "CHAS       0\n",
       "NOX        0\n",
       "RM         0\n",
       "AGE        0\n",
       "DIS        0\n",
       "RAD        0\n",
       "TAX        0\n",
       "PTRATIO    0\n",
       "B          0\n",
       "LSTAT      0\n",
       "MEDV       0\n",
       "dtype: int64"
      ]
     },
     "execution_count": 111,
     "metadata": {},
     "output_type": "execute_result"
    }
   ],
   "source": [
    "df.isnull().sum()"
   ]
  },
  {
   "cell_type": "code",
   "execution_count": 112,
   "metadata": {},
   "outputs": [],
   "source": [
    "# standardize the data except the target column 'MEDV' and \"CHAS\"\n",
    "scaler = StandardScaler()\n",
    "df_scaled = scaler.fit_transform(df.drop(['MEDV', 'CHAS'], axis=1))\n",
    "df_scaled = pd.DataFrame(df_scaled, columns=df.drop([\"CHAS\", \"MEDV\"], axis=1).columns)\n",
    "df_scaled[\"CHAS\"] = df[\"CHAS\"]"
   ]
  },
  {
   "cell_type": "code",
   "execution_count": 113,
   "metadata": {},
   "outputs": [],
   "source": [
    "X = df_scaled.values\n",
    "y = df[\"MEDV\"].values\n",
    "\n",
    "input_size = X.shape[1]\n",
    "\n",
    "# because it's regression\n",
    "output_size = 1"
   ]
  },
  {
   "cell_type": "code",
   "execution_count": 114,
   "metadata": {},
   "outputs": [],
   "source": [
    "# split into train test and validation test\n",
    "X_train, X_test, y_train, y_test = train_test_split(X, y, test_size=0.2)\n",
    "X_test, X_val, y_test, y_val = train_test_split(X_test, y_test, test_size = 0.5)\n",
    "# y_train.shape, y_test.shape, y_val.shape\n",
    "y_test = y_test.reshape(-1, 1)\n",
    "y_train = y_train.reshape(-1, 1)\n",
    "y_val = y_val.reshape(-1, 1)"
   ]
  },
  {
   "cell_type": "code",
   "execution_count": 115,
   "metadata": {},
   "outputs": [],
   "source": [
    "input_size = X_train.shape[1]\n",
    "output_size = 1"
   ]
  },
  {
   "cell_type": "code",
   "execution_count": 116,
   "metadata": {},
   "outputs": [
    {
     "name": "stdout",
     "output_type": "stream",
     "text": [
      "MSE on test data:  22.023895817943473\n"
     ]
    }
   ],
   "source": [
    "stacking_for_regression = StackingForRegression(\n",
    "        level0_estimators=[     DecisionTreeRegressorWrapper(),\n",
    "                                MultiLayerRegression(\n",
    "                                input_size=input_size,\\\n",
    "                                hidden_layer_sizes=[32, 32],\\\n",
    "                                output_size=output_size,\n",
    "                                activation_function=[\"relu\", \"relu\"],\\\n",
    "                                output_activation_function=\"identity\",\\\n",
    "                                optimizer=\"bgd\",\\\n",
    "                                loss = MSELoss(),\\\n",
    "                                learning_rate=0.001),\n",
    "                                LinearRegression()],\n",
    "        level1_estimators=LinearRegression(), method=\"stacking\")\n",
    "stacking_for_regression.stacking(X_=X_train, y_=y_train, no_of_folds=5)"
   ]
  },
  {
   "cell_type": "code",
   "execution_count": 117,
   "metadata": {},
   "outputs": [
    {
     "name": "stdout",
     "output_type": "stream",
     "text": [
      "MSE on test data:  17.227654320987654\n"
     ]
    }
   ],
   "source": [
    "stacking_for_regression = StackingForRegression(\n",
    "        level0_estimators=[     DecisionTreeRegressorWrapper(),\n",
    "                                MultiLayerRegression(\n",
    "                                input_size=input_size,\\\n",
    "                                hidden_layer_sizes=[32, 32],\\\n",
    "                                output_size=output_size,\n",
    "                                activation_function=[\"relu\", \"relu\"],\\\n",
    "                                output_activation_function=\"identity\",\\\n",
    "                                optimizer=\"bgd\",\\\n",
    "                                loss = MSELoss(),\\\n",
    "                                learning_rate=0.001),\n",
    "                                LinearRegression()],\n",
    "        level1_estimators=DecisionTreeRegressorWrapper(), method=\"stacking\")\n",
    "stacking_for_regression.stacking(X_=X_train, y_=y_train, no_of_folds=5)\n"
   ]
  },
  {
   "cell_type": "code",
   "execution_count": 118,
   "metadata": {},
   "outputs": [
    {
     "name": "stdout",
     "output_type": "stream",
     "text": [
      "MSE on test data: 15.352236594840074\n"
     ]
    }
   ],
   "source": [
    "stacking_for_regression = StackingForRegression(\n",
    "        level0_estimators=[     DecisionTreeRegressorWrapper(),\n",
    "                                MultiLayerRegression(\n",
    "                                input_size=input_size,\\\n",
    "                                hidden_layer_sizes=[32, 32],\\\n",
    "                                output_size=output_size,\n",
    "                                activation_function=[\"relu\", \"relu\"],\\\n",
    "                                output_activation_function=\"identity\",\\\n",
    "                                optimizer=\"bgd\",\\\n",
    "                                loss = MSELoss(),\\\n",
    "                                learning_rate=0.001),\n",
    "                                LinearRegression()],\n",
    "        level1_estimators=LinearRegression(), method=\"stacking\")\n",
    "stacking_for_regression.blending(X_=X_train, y_=y_train, no_of_folds=5)"
   ]
  },
  {
   "cell_type": "code",
   "execution_count": 119,
   "metadata": {},
   "outputs": [
    {
     "name": "stdout",
     "output_type": "stream",
     "text": [
      "MSE on test data: 15.511311475409837\n"
     ]
    }
   ],
   "source": [
    "stacking_for_regression = StackingForRegression(\n",
    "        level0_estimators=[     DecisionTreeRegressorWrapper(),\n",
    "                                MultiLayerRegression(\n",
    "                                input_size=input_size,\\\n",
    "                                hidden_layer_sizes=[32, 32],\\\n",
    "                                output_size=output_size,\n",
    "                                activation_function=[\"relu\", \"relu\"],\\\n",
    "                                output_activation_function=\"identity\",\\\n",
    "                                optimizer=\"bgd\",\\\n",
    "                                loss = MSELoss(),\\\n",
    "                                learning_rate=0.001),\n",
    "                                LinearRegression()],\n",
    "        level1_estimators=DecisionTreeRegressorWrapper(), method=\"stacking\")\n",
    "stacking_for_regression.blending(X_=X_train, y_=y_train, no_of_folds=5)\n"
   ]
  },
  {
   "cell_type": "code",
   "execution_count": null,
   "metadata": {},
   "outputs": [],
   "source": []
  }
 ],
 "metadata": {
  "kernelspec": {
   "display_name": "base",
   "language": "python",
   "name": "python3"
  },
  "language_info": {
   "codemirror_mode": {
    "name": "ipython",
    "version": 3
   },
   "file_extension": ".py",
   "mimetype": "text/x-python",
   "name": "python",
   "nbconvert_exporter": "python",
   "pygments_lexer": "ipython3",
   "version": "3.11.4"
  }
 },
 "nbformat": 4,
 "nbformat_minor": 2
}
